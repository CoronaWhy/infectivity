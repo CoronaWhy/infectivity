{
  "nbformat": 4,
  "nbformat_minor": 0,
  "metadata": {
    "colab": {
      "name": "Covid-19-Search-Engine.ipynb",
      "provenance": [],
      "collapsed_sections": [],
      "include_colab_link": true
    },
    "kernelspec": {
      "name": "python3",
      "display_name": "Python 3"
    },
    "widgets": {
      "application/vnd.jupyter.widget-state+json": {
        "ec63e4b66095468b930dcbbd6373d6f2": {
          "model_module": "@jupyter-widgets/controls",
          "model_name": "VBoxModel",
          "state": {
            "_view_name": "VBoxView",
            "_dom_classes": [
              "widget-interact"
            ],
            "_model_name": "VBoxModel",
            "_view_module": "@jupyter-widgets/controls",
            "_model_module_version": "1.5.0",
            "_view_count": null,
            "_view_module_version": "1.5.0",
            "box_style": "",
            "layout": "IPY_MODEL_25f0691e9a9241ada084907b210280bf",
            "_model_module": "@jupyter-widgets/controls",
            "children": [
              "IPY_MODEL_686d7923c3f8435689b35efaed583dae",
              "IPY_MODEL_59ae14c9e8ee48a8bd60f37a0dd691c8",
              "IPY_MODEL_b6d7f0fcf57f4b2e8484497f20cdb9cf"
            ]
          }
        },
        "25f0691e9a9241ada084907b210280bf": {
          "model_module": "@jupyter-widgets/base",
          "model_name": "LayoutModel",
          "state": {
            "_view_name": "LayoutView",
            "grid_template_rows": null,
            "right": null,
            "justify_content": null,
            "_view_module": "@jupyter-widgets/base",
            "overflow": null,
            "_model_module_version": "1.2.0",
            "_view_count": null,
            "flex_flow": null,
            "width": null,
            "min_width": null,
            "border": null,
            "align_items": null,
            "bottom": null,
            "_model_module": "@jupyter-widgets/base",
            "top": null,
            "grid_column": null,
            "overflow_y": null,
            "overflow_x": null,
            "grid_auto_flow": null,
            "grid_area": null,
            "grid_template_columns": null,
            "flex": null,
            "_model_name": "LayoutModel",
            "justify_items": null,
            "grid_row": null,
            "max_height": null,
            "align_content": null,
            "visibility": null,
            "align_self": null,
            "height": null,
            "min_height": null,
            "padding": null,
            "grid_auto_rows": null,
            "grid_gap": null,
            "max_width": null,
            "order": null,
            "_view_module_version": "1.2.0",
            "grid_template_areas": null,
            "object_position": null,
            "object_fit": null,
            "grid_auto_columns": null,
            "margin": null,
            "display": null,
            "left": null
          }
        },
        "686d7923c3f8435689b35efaed583dae": {
          "model_module": "@jupyter-widgets/controls",
          "model_name": "IntSliderModel",
          "state": {
            "_view_name": "IntSliderView",
            "style": "IPY_MODEL_cb491ac346c4439f9a63cbd5cdcfed6c",
            "_dom_classes": [],
            "description": "ColumnWidth",
            "step": 50,
            "_model_name": "IntSliderModel",
            "orientation": "horizontal",
            "max": 400,
            "_view_module": "@jupyter-widgets/controls",
            "_model_module_version": "1.5.0",
            "value": 200,
            "_view_count": null,
            "disabled": false,
            "_view_module_version": "1.5.0",
            "min": 50,
            "continuous_update": true,
            "readout_format": "d",
            "description_tooltip": null,
            "readout": true,
            "_model_module": "@jupyter-widgets/controls",
            "layout": "IPY_MODEL_c103b843da4f48ff9218d80d94f8c8c7"
          }
        },
        "59ae14c9e8ee48a8bd60f37a0dd691c8": {
          "model_module": "@jupyter-widgets/controls",
          "model_name": "IntSliderModel",
          "state": {
            "_view_name": "IntSliderView",
            "style": "IPY_MODEL_531121e4a2a54b8c89e70f252993f01f",
            "_dom_classes": [],
            "description": "MaxRows",
            "step": 100,
            "_model_name": "IntSliderModel",
            "orientation": "horizontal",
            "max": 500,
            "_view_module": "@jupyter-widgets/controls",
            "_model_module_version": "1.5.0",
            "value": 50,
            "_view_count": null,
            "disabled": false,
            "_view_module_version": "1.5.0",
            "min": 50,
            "continuous_update": true,
            "readout_format": "d",
            "description_tooltip": null,
            "readout": true,
            "_model_module": "@jupyter-widgets/controls",
            "layout": "IPY_MODEL_e9204056cc784bed91dcb003c5a68f43"
          }
        },
        "b6d7f0fcf57f4b2e8484497f20cdb9cf": {
          "model_module": "@jupyter-widgets/output",
          "model_name": "OutputModel",
          "state": {
            "_view_name": "OutputView",
            "msg_id": "",
            "_dom_classes": [],
            "_model_name": "OutputModel",
            "outputs": [
              {
                "output_type": "stream",
                "metadata": {
                  "tags": []
                },
                "text": "Set pandas dataframe column width to 200 and max rows to 50\n",
                "stream": "stdout"
              }
            ],
            "_view_module": "@jupyter-widgets/output",
            "_model_module_version": "1.0.0",
            "_view_count": null,
            "_view_module_version": "1.0.0",
            "layout": "IPY_MODEL_d720f92c822b4d99a00066868066fca1",
            "_model_module": "@jupyter-widgets/output"
          }
        },
        "cb491ac346c4439f9a63cbd5cdcfed6c": {
          "model_module": "@jupyter-widgets/controls",
          "model_name": "SliderStyleModel",
          "state": {
            "_view_name": "StyleView",
            "handle_color": null,
            "_model_name": "SliderStyleModel",
            "description_width": "",
            "_view_module": "@jupyter-widgets/base",
            "_model_module_version": "1.5.0",
            "_view_count": null,
            "_view_module_version": "1.2.0",
            "_model_module": "@jupyter-widgets/controls"
          }
        },
        "c103b843da4f48ff9218d80d94f8c8c7": {
          "model_module": "@jupyter-widgets/base",
          "model_name": "LayoutModel",
          "state": {
            "_view_name": "LayoutView",
            "grid_template_rows": null,
            "right": null,
            "justify_content": null,
            "_view_module": "@jupyter-widgets/base",
            "overflow": null,
            "_model_module_version": "1.2.0",
            "_view_count": null,
            "flex_flow": null,
            "width": null,
            "min_width": null,
            "border": null,
            "align_items": null,
            "bottom": null,
            "_model_module": "@jupyter-widgets/base",
            "top": null,
            "grid_column": null,
            "overflow_y": null,
            "overflow_x": null,
            "grid_auto_flow": null,
            "grid_area": null,
            "grid_template_columns": null,
            "flex": null,
            "_model_name": "LayoutModel",
            "justify_items": null,
            "grid_row": null,
            "max_height": null,
            "align_content": null,
            "visibility": null,
            "align_self": null,
            "height": null,
            "min_height": null,
            "padding": null,
            "grid_auto_rows": null,
            "grid_gap": null,
            "max_width": null,
            "order": null,
            "_view_module_version": "1.2.0",
            "grid_template_areas": null,
            "object_position": null,
            "object_fit": null,
            "grid_auto_columns": null,
            "margin": null,
            "display": null,
            "left": null
          }
        },
        "531121e4a2a54b8c89e70f252993f01f": {
          "model_module": "@jupyter-widgets/controls",
          "model_name": "SliderStyleModel",
          "state": {
            "_view_name": "StyleView",
            "handle_color": null,
            "_model_name": "SliderStyleModel",
            "description_width": "",
            "_view_module": "@jupyter-widgets/base",
            "_model_module_version": "1.5.0",
            "_view_count": null,
            "_view_module_version": "1.2.0",
            "_model_module": "@jupyter-widgets/controls"
          }
        },
        "e9204056cc784bed91dcb003c5a68f43": {
          "model_module": "@jupyter-widgets/base",
          "model_name": "LayoutModel",
          "state": {
            "_view_name": "LayoutView",
            "grid_template_rows": null,
            "right": null,
            "justify_content": null,
            "_view_module": "@jupyter-widgets/base",
            "overflow": null,
            "_model_module_version": "1.2.0",
            "_view_count": null,
            "flex_flow": null,
            "width": null,
            "min_width": null,
            "border": null,
            "align_items": null,
            "bottom": null,
            "_model_module": "@jupyter-widgets/base",
            "top": null,
            "grid_column": null,
            "overflow_y": null,
            "overflow_x": null,
            "grid_auto_flow": null,
            "grid_area": null,
            "grid_template_columns": null,
            "flex": null,
            "_model_name": "LayoutModel",
            "justify_items": null,
            "grid_row": null,
            "max_height": null,
            "align_content": null,
            "visibility": null,
            "align_self": null,
            "height": null,
            "min_height": null,
            "padding": null,
            "grid_auto_rows": null,
            "grid_gap": null,
            "max_width": null,
            "order": null,
            "_view_module_version": "1.2.0",
            "grid_template_areas": null,
            "object_position": null,
            "object_fit": null,
            "grid_auto_columns": null,
            "margin": null,
            "display": null,
            "left": null
          }
        }
      }
    }
  },
  "cells": [
    {
      "cell_type": "markdown",
      "metadata": {
        "id": "view-in-github",
        "colab_type": "text"
      },
      "source": [
        "<a href=\"https://colab.research.google.com/github/antonpolishko/colab-notebooks-sink/blob/master/task-ties/Covid_19_Search_Engine.ipynb\" target=\"_parent\"><img src=\"https://colab.research.google.com/assets/colab-badge.svg\" alt=\"Open In Colab\"/></a>"
      ]
    },
    {
      "cell_type": "markdown",
      "metadata": {
        "id": "n0lEvLow9h90",
        "colab_type": "text"
      },
      "source": [
        "taks-ties\n",
        "\n",
        "https://trello.com/c/4NGSHn76\n",
        "\n"
      ]
    },
    {
      "cell_type": "code",
      "metadata": {
        "id": "VFpprpq47EQM",
        "colab_type": "code",
        "outputId": "c09d83d3-060d-483e-b59f-2c815d8165cd",
        "colab": {
          "base_uri": "https://localhost:8080/",
          "height": 122
        }
      },
      "source": [
        "!pip install whoosh\n",
        "import pandas as pd\n",
        "import numpy as np\n",
        "import os\n",
        "from pathlib import Path, PurePath\n",
        "from ipywidgets import interact\n",
        "import ipywidgets as widgets\n",
        "from collections import defaultdict\n",
        "import requests\n",
        "from requests.exceptions import HTTPError, ConnectionError"
      ],
      "execution_count": 0,
      "outputs": [
        {
          "output_type": "stream",
          "text": [
            "Collecting whoosh\n",
            "\u001b[?25l  Downloading https://files.pythonhosted.org/packages/ba/19/24d0f1f454a2c1eb689ca28d2f178db81e5024f42d82729a4ff6771155cf/Whoosh-2.7.4-py2.py3-none-any.whl (468kB)\n",
            "\r\u001b[K     |▊                               | 10kB 17.3MB/s eta 0:00:01\r\u001b[K     |█▍                              | 20kB 1.7MB/s eta 0:00:01\r\u001b[K     |██                              | 30kB 2.5MB/s eta 0:00:01\r\u001b[K     |██▉                             | 40kB 1.7MB/s eta 0:00:01\r\u001b[K     |███▌                            | 51kB 2.1MB/s eta 0:00:01\r\u001b[K     |████▏                           | 61kB 2.5MB/s eta 0:00:01\r\u001b[K     |█████                           | 71kB 2.9MB/s eta 0:00:01\r\u001b[K     |█████▋                          | 81kB 3.3MB/s eta 0:00:01\r\u001b[K     |██████▎                         | 92kB 3.6MB/s eta 0:00:01\r\u001b[K     |███████                         | 102kB 2.8MB/s eta 0:00:01\r\u001b[K     |███████▊                        | 112kB 2.8MB/s eta 0:00:01\r\u001b[K     |████████▍                       | 122kB 2.8MB/s eta 0:00:01\r\u001b[K     |█████████                       | 133kB 2.8MB/s eta 0:00:01\r\u001b[K     |█████████▉                      | 143kB 2.8MB/s eta 0:00:01\r\u001b[K     |██████████▌                     | 153kB 2.8MB/s eta 0:00:01\r\u001b[K     |███████████▏                    | 163kB 2.8MB/s eta 0:00:01\r\u001b[K     |███████████▉                    | 174kB 2.8MB/s eta 0:00:01\r\u001b[K     |████████████▋                   | 184kB 2.8MB/s eta 0:00:01\r\u001b[K     |█████████████▎                  | 194kB 2.8MB/s eta 0:00:01\r\u001b[K     |██████████████                  | 204kB 2.8MB/s eta 0:00:01\r\u001b[K     |██████████████▊                 | 215kB 2.8MB/s eta 0:00:01\r\u001b[K     |███████████████▍                | 225kB 2.8MB/s eta 0:00:01\r\u001b[K     |████████████████                | 235kB 2.8MB/s eta 0:00:01\r\u001b[K     |████████████████▊               | 245kB 2.8MB/s eta 0:00:01\r\u001b[K     |█████████████████▌              | 256kB 2.8MB/s eta 0:00:01\r\u001b[K     |██████████████████▏             | 266kB 2.8MB/s eta 0:00:01\r\u001b[K     |██████████████████▉             | 276kB 2.8MB/s eta 0:00:01\r\u001b[K     |███████████████████▋            | 286kB 2.8MB/s eta 0:00:01\r\u001b[K     |████████████████████▎           | 296kB 2.8MB/s eta 0:00:01\r\u001b[K     |█████████████████████           | 307kB 2.8MB/s eta 0:00:01\r\u001b[K     |█████████████████████▊          | 317kB 2.8MB/s eta 0:00:01\r\u001b[K     |██████████████████████▍         | 327kB 2.8MB/s eta 0:00:01\r\u001b[K     |███████████████████████         | 337kB 2.8MB/s eta 0:00:01\r\u001b[K     |███████████████████████▊        | 348kB 2.8MB/s eta 0:00:01\r\u001b[K     |████████████████████████▌       | 358kB 2.8MB/s eta 0:00:01\r\u001b[K     |█████████████████████████▏      | 368kB 2.8MB/s eta 0:00:01\r\u001b[K     |█████████████████████████▉      | 378kB 2.8MB/s eta 0:00:01\r\u001b[K     |██████████████████████████▋     | 389kB 2.8MB/s eta 0:00:01\r\u001b[K     |███████████████████████████▎    | 399kB 2.8MB/s eta 0:00:01\r\u001b[K     |████████████████████████████    | 409kB 2.8MB/s eta 0:00:01\r\u001b[K     |████████████████████████████▋   | 419kB 2.8MB/s eta 0:00:01\r\u001b[K     |█████████████████████████████▍  | 430kB 2.8MB/s eta 0:00:01\r\u001b[K     |██████████████████████████████  | 440kB 2.8MB/s eta 0:00:01\r\u001b[K     |██████████████████████████████▊ | 450kB 2.8MB/s eta 0:00:01\r\u001b[K     |███████████████████████████████▌| 460kB 2.8MB/s eta 0:00:01\r\u001b[K     |████████████████████████████████| 471kB 2.8MB/s \n",
            "\u001b[?25hInstalling collected packages: whoosh\n",
            "Successfully installed whoosh-2.7.4\n"
          ],
          "name": "stdout"
        }
      ]
    },
    {
      "cell_type": "code",
      "metadata": {
        "id": "gUF-vAOSRSWL",
        "colab_type": "code",
        "outputId": "dfa2eee8-478c-4072-9868-be072522b558",
        "colab": {
          "base_uri": "https://localhost:8080/",
          "height": 170
        }
      },
      "source": [
        "#set data paths\n",
        "from google.colab import drive\n",
        "drive.mount('/content/drive')\n",
        "\n",
        "drive_path=PurePath('/content/drive/My Drive')\n",
        "\n",
        "input_dir = drive_path/'COVID-19'/'CORD-19-research-challenge-v5'\n",
        "\n",
        "list(Path(input_dir).glob('*'))"
      ],
      "execution_count": 0,
      "outputs": [
        {
          "output_type": "stream",
          "text": [
            "Drive already mounted at /content/drive; to attempt to forcibly remount, call drive.mount(\"/content/drive\", force_remount=True).\n"
          ],
          "name": "stdout"
        },
        {
          "output_type": "execute_result",
          "data": {
            "text/plain": [
              "[PosixPath('/content/drive/My Drive/COVID-19/CORD-19-research-challenge-v5/comm_use_subset'),\n",
              " PosixPath('/content/drive/My Drive/COVID-19/CORD-19-research-challenge-v5/noncomm_use_subset'),\n",
              " PosixPath('/content/drive/My Drive/COVID-19/CORD-19-research-challenge-v5/biorxiv_medrxiv'),\n",
              " PosixPath('/content/drive/My Drive/COVID-19/CORD-19-research-challenge-v5/custom_license'),\n",
              " PosixPath('/content/drive/My Drive/COVID-19/CORD-19-research-challenge-v5/json_schema.txt'),\n",
              " PosixPath('/content/drive/My Drive/COVID-19/CORD-19-research-challenge-v5/COVID.DATA.LIC.AGMT.pdf'),\n",
              " PosixPath('/content/drive/My Drive/COVID-19/CORD-19-research-challenge-v5/metadata.readme'),\n",
              " PosixPath('/content/drive/My Drive/COVID-19/CORD-19-research-challenge-v5/metadata.csv')]"
            ]
          },
          "metadata": {
            "tags": []
          },
          "execution_count": 3
        }
      ]
    },
    {
      "cell_type": "code",
      "metadata": {
        "id": "YUHP1sNGTROb",
        "colab_type": "code",
        "outputId": "c6add6e2-7f5f-4530-8050-77d986eef584",
        "colab": {
          "base_uri": "https://localhost:8080/",
          "height": 98,
          "referenced_widgets": [
            "ec63e4b66095468b930dcbbd6373d6f2",
            "25f0691e9a9241ada084907b210280bf",
            "686d7923c3f8435689b35efaed583dae",
            "59ae14c9e8ee48a8bd60f37a0dd691c8",
            "b6d7f0fcf57f4b2e8484497f20cdb9cf",
            "cb491ac346c4439f9a63cbd5cdcfed6c",
            "c103b843da4f48ff9218d80d94f8c8c7",
            "531121e4a2a54b8c89e70f252993f01f",
            "e9204056cc784bed91dcb003c5a68f43"
          ]
        }
      },
      "source": [
        "def set_column_width(ColumnWidth, MaxRows):\n",
        "    pd.options.display.max_colwidth = ColumnWidth\n",
        "    pd.options.display.max_rows = MaxRows\n",
        "    print('Set pandas dataframe column width to', ColumnWidth, 'and max rows to', MaxRows)\n",
        "    \n",
        "interact(set_column_width, \n",
        "         ColumnWidth=widgets.IntSlider(min=50, max=400, step=50, value=200),\n",
        "         MaxRows=widgets.IntSlider(min=50, max=500, step=100, value=100));"
      ],
      "execution_count": 0,
      "outputs": [
        {
          "output_type": "display_data",
          "data": {
            "application/vnd.jupyter.widget-view+json": {
              "model_id": "ec63e4b66095468b930dcbbd6373d6f2",
              "version_minor": 0,
              "version_major": 2
            },
            "text/plain": [
              "interactive(children=(IntSlider(value=200, description='ColumnWidth', max=400, min=50, step=50), IntSlider(val…"
            ]
          },
          "metadata": {
            "tags": []
          }
        }
      ]
    },
    {
      "cell_type": "code",
      "metadata": {
        "id": "RbSed9lsbJTR",
        "colab_type": "code",
        "colab": {}
      },
      "source": [
        "def get(url, timeout=6):\n",
        "    try:\n",
        "        r = requests.get(url, timeout=timeout)\n",
        "        return r.text\n",
        "    except ConnectionError:\n",
        "        print(f'Cannot connect to {url}')\n",
        "        print(f'Remember to turn Internet ON in the Kaggle notebook settings')\n",
        "    except HTTPError:\n",
        "        print('Got http error', r.status, r.text)\n",
        "\n",
        "# Convert the doi to a url\n",
        "def doi_url(d): \n",
        "    return f'http://{d}' if d.startswith('doi.org') else f'http://doi.org/{d}'"
      ],
      "execution_count": 0,
      "outputs": []
    },
    {
      "cell_type": "code",
      "metadata": {
        "id": "wcGzXRkJRp4Q",
        "colab_type": "code",
        "colab": {}
      },
      "source": [
        "#read the metadata file into df\n",
        "metadata_path = input_dir / 'metadata.csv'\n",
        "metadata = pd.read_csv(metadata_path,\n",
        "                               dtype={'publish_time': str, #to do: extract year from 'pubblish time' as int\n",
        "                                      'authors':str,\n",
        "                                      'title': str,\n",
        "                                      'abstract':str,\n",
        "                                      'doi': str},\n",
        "                       parse_dates = ['publish_time']\n",
        "                       )\n",
        "\n",
        "#set the abstract to the paper title if it is null\n",
        "metadata['abstract'] = metadata['abstract'] .fillna(metadata['title'])\n",
        "\n",
        "#extract year from datetime\n",
        "metadata['publish_year'] = pd.DatetimeIndex(metadata['publish_time']).year\n",
        "metadata['publish_year'] = metadata['publish_year'].fillna(9999)"
      ],
      "execution_count": 0,
      "outputs": []
    },
    {
      "cell_type": "code",
      "metadata": {
        "id": "pX1x-YTWR-Gg",
        "colab_type": "code",
        "outputId": "455209a0-6b4a-4ddd-f37e-be235b66a900",
        "colab": {
          "base_uri": "https://localhost:8080/",
          "height": 408
        }
      },
      "source": [
        "metadata.info()"
      ],
      "execution_count": 0,
      "outputs": [
        {
          "output_type": "stream",
          "text": [
            "<class 'pandas.core.frame.DataFrame'>\n",
            "RangeIndex: 45774 entries, 0 to 45773\n",
            "Data columns (total 18 columns):\n",
            "cord_uid                       45774 non-null object\n",
            "sha                            31753 non-null object\n",
            "source_x                       45774 non-null object\n",
            "title                          45617 non-null object\n",
            "doi                            42440 non-null object\n",
            "pmcid                          26243 non-null object\n",
            "pubmed_id                      34641 non-null float64\n",
            "license                        45774 non-null object\n",
            "abstract                       45766 non-null object\n",
            "publish_time                   45765 non-null datetime64[ns]\n",
            "authors                        43774 non-null object\n",
            "journal                        41707 non-null object\n",
            "Microsoft Academic Paper ID    964 non-null float64\n",
            "WHO #Covidence                 1768 non-null object\n",
            "has_full_text                  45774 non-null bool\n",
            "full_text_file                 35558 non-null object\n",
            "url                            45472 non-null object\n",
            "publish_year                   45774 non-null float64\n",
            "dtypes: bool(1), datetime64[ns](1), float64(3), object(13)\n",
            "memory usage: 6.0+ MB\n"
          ],
          "name": "stdout"
        }
      ]
    },
    {
      "cell_type": "code",
      "metadata": {
        "id": "f71Q0ALOSnBa",
        "colab_type": "code",
        "colab": {}
      },
      "source": [
        "import whoosh\n",
        "from whoosh.qparser import *\n",
        "from whoosh.fields import Schema, TEXT, KEYWORD, ID, STORED, NUMERIC, NGRAMWORDS\n",
        "from whoosh.analysis import StemmingAnalyzer,StandardAnalyzer, NgramFilter\n",
        "from whoosh import index"
      ],
      "execution_count": 0,
      "outputs": []
    },
    {
      "cell_type": "code",
      "metadata": {
        "id": "Kf7FZ25pU4qi",
        "colab_type": "code",
        "colab": {}
      },
      "source": [
        "#create schema for the index\n",
        "schema = Schema(year=NUMERIC(stored=True),\n",
        "                author=TEXT(stored=True),\n",
        "                title=TEXT(analyzer=StandardAnalyzer(),stored=True),\n",
        "                abstract=TEXT(analyzer=StandardAnalyzer(),stored=True),\n",
        "                doi=TEXT(stored=True))"
      ],
      "execution_count": 0,
      "outputs": []
    },
    {
      "cell_type": "code",
      "metadata": {
        "id": "1evjjEkMWzcR",
        "colab_type": "code",
        "colab": {}
      },
      "source": [
        "#to create an index in a dictionary (only need to run once)\n",
        "if not os.path.exists(drive_path/'indexdir'):\n",
        "    os.mkdir(drive_path/'indexdir')\n",
        "ix = index.create_in(drive_path/'indexdir', schema)\n",
        "#open an existing index object\n",
        "ix = index.open_dir(drive_path/'indexdir')\n",
        "#create a writer object to add documents to the index\n",
        "writer = ix.writer()\n",
        "#now we can add documents to the index\n",
        "# ref_id = metadata['ref_id']\n",
        "year = metadata['publish_year']\n",
        "author = metadata['authors']\n",
        "title = metadata['title']\n",
        "abstract = metadata['abstract']\n",
        "doi = metadata['doi']\n",
        "\n",
        "for YEAR, AUTHOR, TITLE, ABSTRACT, DOI in zip(year,author,title,abstract,doi):\n",
        "\n",
        "  writer.add_document(\n",
        "                  year= YEAR,\n",
        "                  author=str(AUTHOR),\n",
        "                  title=str(TITLE),\n",
        "                  abstract=str(ABSTRACT),\n",
        "                  doi=str(DOI))\n",
        "\n",
        "#close the writer and save the added documents in the index\n",
        "#you should call the commit() function once you finish adding the documents otherwise you will cause an error-\n",
        "#when you try to edit the index next time and open another writer. \n",
        "writer.commit()\n"
      ],
      "execution_count": 0,
      "outputs": []
    },
    {
      "cell_type": "code",
      "metadata": {
        "id": "y0od65DTj83v",
        "colab_type": "code",
        "colab": {}
      },
      "source": [
        "# need to cancel writer if error or need to reset\n",
        "writer.cancel()"
      ],
      "execution_count": 0,
      "outputs": []
    },
    {
      "cell_type": "code",
      "metadata": {
        "id": "zcGjuXBrcaVw",
        "colab_type": "code",
        "colab": {}
      },
      "source": [
        "ix = index.open_dir(drive_path/'indexdir')"
      ],
      "execution_count": 0,
      "outputs": []
    },
    {
      "cell_type": "code",
      "metadata": {
        "id": "cOL5-Ix7c5Po",
        "colab_type": "code",
        "outputId": "8b17d5c7-9cc7-412a-cf0c-3211daf70576",
        "colab": {
          "base_uri": "https://localhost:8080/",
          "height": 68
        }
      },
      "source": [
        "# search in 'title' and 'abstract' fields\n",
        "parser = MultifieldParser([\"title\", \"abstract\"], schema=schema)\n",
        "\n",
        "# use quotation for phrases or words with hyphens e.g., \"risk factors\", \"case fatality\", \"covid-19\"\n",
        "result=parser.parse('\"covid-19\" AND incubation') # use boolean operators in quotation\n",
        "print(result)\n",
        "#searcher object is used for searching the matched documents\n",
        "#you can open the searcher using a with statement so the searcher is automatically closed when you’re done with it\n",
        "#ix is the document index we created before\n",
        "with ix.searcher() as searcher:\n",
        "    results=searcher.search(result)#The Results object acts like a list of the matched documents\n",
        "    print('Total Hits: {}\\n'.format(len(results)))\n",
        "    output_dict = defaultdict(list)\n",
        "    for result in results:\n",
        "      output_dict['title'].append(result['title'])\n",
        "      output_dict['abstract'].append(result['abstract'])\n",
        "      output_dict['publish_year'].append(result['year'])\n",
        "      output_dict['authors'].append(result['author'])\n",
        "      output_dict['doi'].append(result['doi'])\n",
        "\n",
        "output_df = pd.DataFrame(output_dict)\n",
        "output_df['doi'] = output_df['doi'].apply(lambda x: doi_url(x) if x !='nan' else x)  "
      ],
      "execution_count": 0,
      "outputs": [
        {
          "output_type": "stream",
          "text": [
            "((title:\"covid 19\" OR abstract:\"covid 19\") AND (title:incubation OR abstract:incubation))\n",
            "Total Hits: 78\n",
            "\n"
          ],
          "name": "stdout"
        }
      ]
    },
    {
      "cell_type": "code",
      "metadata": {
        "id": "kYtRxyCcj1LL",
        "colab_type": "code",
        "outputId": "09810282-31e9-4ddb-8a7f-e646405745f2",
        "colab": {
          "base_uri": "https://localhost:8080/",
          "height": 105
        }
      },
      "source": [
        "#GtLtPlugin() lets you use >, <, >=, <=, =>, or =< after a field specifier, \n",
        "#and translates the expression into the equivalent range:\n",
        "parser.add_plugin(GtLtPlugin())\n",
        "#Adds the ability to group arbitrary queries inside double quotes,\n",
        "#to produce a query matching the individual sub-queries in sequence.\n",
        "parser.add_plugin(SequencePlugin())\n",
        "#IMPORTANT!!! Not like phrase query which specify the field outside the double quotation marks,\n",
        "#you need to specify the field inside the double quotation marks for each subquery\n",
        "#the query string below represents the query 'abstract:\"(child OR childr*) ho*sehold\"~3 AND title:tales'  \n",
        "\n",
        "result=parser.parse('abstract:(sars OR \"sars-cov-2\" OR coronavirus* OR ncov OR \"covid-19\" OR mers OR \"mers-cov\") \\\n",
        "NOT abstract:(animal OR equine OR porcine OR calves OR dog*) \\\n",
        "AND abstract:incubation \\\n",
        "AND abstract:(\"symptom onset\" OR characteristics OR exposure)\\\n",
        "AND year:>=2002') #sars outbreak\n",
        "print ('Search Query: {}\\n'.format(result))\n",
        "with ix.searcher() as searcher:\n",
        "    results=searcher.search(result, limit = None)#The Results object acts like a list of the matched documents.)\n",
        "    print('Total Hits: {}\\n'.format(len(results)))\n",
        "    output_dict = defaultdict(list)\n",
        "    for result in results:\n",
        "      output_dict['title'].append(result['title'])\n",
        "      output_dict['abstract'].append(result['abstract'])\n",
        "      output_dict['publish_year'].append(result['year'])\n",
        "      output_dict['authors'].append(result['author'])\n",
        "      output_dict['doi'].append(result['doi'])\n",
        "output_df = pd.DataFrame(output_dict)\n",
        "output_df['publish_year'] = output_df['publish_year'].astype(int)\n",
        "output_df['doi'] = output_df['doi'].apply(lambda x: doi_url(x) if x !='nan' else x)\n"
      ],
      "execution_count": 0,
      "outputs": [
        {
          "output_type": "stream",
          "text": [
            "Search Query: ((abstract:sars OR abstract:\"sars cov\" OR abstract:coronavirus* OR abstract:ncov OR abstract:\"covid 19\" OR abstract:mers OR abstract:\"mers cov\") AND NOT (abstract:animal OR abstract:equine OR abstract:porcine OR abstract:calves OR abstract:dog*) AND abstract:incubation AND (abstract:\"symptom onset\" OR abstract:characteristics OR abstract:exposure) AND year:[2002 TO ])\n",
            "\n",
            "Total Hits: 71\n",
            "\n"
          ],
          "name": "stdout"
        }
      ]
    },
    {
      "cell_type": "code",
      "metadata": {
        "id": "StjEJlaicm8d",
        "colab_type": "code",
        "outputId": "ecef75fe-9eb8-4849-cbc1-e1b6de8d5e68",
        "colab": {
          "base_uri": "https://localhost:8080/",
          "height": 1000
        }
      },
      "source": [
        "output_df"
      ],
      "execution_count": 0,
      "outputs": [
        {
          "output_type": "execute_result",
          "data": {
            "text/html": [
              "<div>\n",
              "<style scoped>\n",
              "    .dataframe tbody tr th:only-of-type {\n",
              "        vertical-align: middle;\n",
              "    }\n",
              "\n",
              "    .dataframe tbody tr th {\n",
              "        vertical-align: top;\n",
              "    }\n",
              "\n",
              "    .dataframe thead th {\n",
              "        text-align: right;\n",
              "    }\n",
              "</style>\n",
              "<table border=\"1\" class=\"dataframe\">\n",
              "  <thead>\n",
              "    <tr style=\"text-align: right;\">\n",
              "      <th></th>\n",
              "      <th>title</th>\n",
              "      <th>abstract</th>\n",
              "      <th>publish_year</th>\n",
              "      <th>authors</th>\n",
              "      <th>doi</th>\n",
              "    </tr>\n",
              "  </thead>\n",
              "  <tbody>\n",
              "    <tr>\n",
              "      <th>0</th>\n",
              "      <td>The Incubation Period of Coronavirus Disease 2019 (COVID-19) From Publicly Reported Confirmed Cases: Estimation and Application</td>\n",
              "      <td>BACKGROUND: A novel human coronavirus, severe acute respiratory syndrome coronavirus 2 (SARS-CoV-2), was identified in China in December 2019. There is limited support for many of its key epidemio...</td>\n",
              "      <td>2020</td>\n",
              "      <td>Lauer, Stephen A.; Grantz, Kyra H.; Bi, Qifang; Jones, Forrest K.; Zheng, Qulu; Meredith, Hannah R.; Azman, Andrew S.; Reich, Nicholas G.; Lessler, Justin</td>\n",
              "      <td>http://doi.org/10.7326/m20-0504</td>\n",
              "    </tr>\n",
              "    <tr>\n",
              "      <th>1</th>\n",
              "      <td>Transmission of corona virus disease 2019 during the incubation period may lead to a quarantine loophole</td>\n",
              "      <td>Background: The ongoing outbreak of novel corona virus disease 2019 (COVID-19) in Wuhan, China, is arousing international concern. This study evaluated whether and when the infected but asymptomat...</td>\n",
              "      <td>2020</td>\n",
              "      <td>Wei Xia; Jiaqiang Liao; Chunhui Li; Yuanyuan Li; Xi Qian; Xiaojie Sun; Hongbo Xu; Gaga Mahai; Xin Zhao; Lisha Shi; Juan Liu; Ling Yu; Meng Wang; Qianqian Wang; Asmagvl Namat; Ying Li; Jingyu Qu; Q...</td>\n",
              "      <td>http://doi.org/10.1101/2020.03.06.20031955</td>\n",
              "    </tr>\n",
              "    <tr>\n",
              "      <th>2</th>\n",
              "      <td>Epidemiological and clinical features of COVID-19 patients with and without pneumonia in Beijing, China</td>\n",
              "      <td>Background:SARS-CoV-2-caused coronavirus disease (COVID-19) is posinga large casualty. The features of COVID-19patients withand without pneumonia,SARS-CoV-2 transmissibility in asymptomatic carrie...</td>\n",
              "      <td>2020</td>\n",
              "      <td>Penghui Yang; Yibo Ding; Zhe Xu; Rui Pu; Ping Li; Jin Yan; Jiluo Liu; Fanping Meng; Lei Huang; Lei Shi; Tianjun Jiang; Enqiang Qin; Min Zhao; Dawei Zhang; Peng Zhao; Lingxiang Yu; Zhaohai Wang; Zh...</td>\n",
              "      <td>http://doi.org/10.1101/2020.02.28.20028068</td>\n",
              "    </tr>\n",
              "    <tr>\n",
              "      <th>3</th>\n",
              "      <td>The outbreak of SARS-CoV-2 pneumonia calls for viral vaccines</td>\n",
              "      <td>The outbreak of 2019-novel coronavirus disease (COVID-19) that is caused by SARS-CoV-2 has spread rapidly in China, and has developed to be a Public Health Emergency of International Concern. Howe...</td>\n",
              "      <td>2020</td>\n",
              "      <td>Shang, Weilong; Yang, Yi; Rao, Yifan; Rao, Xiancai</td>\n",
              "      <td>nan</td>\n",
              "    </tr>\n",
              "    <tr>\n",
              "      <th>4</th>\n",
              "      <td>MERS-CoV outbreak following a single patient exposure in an emergency room in South Korea: an epidemiological outbreak study</td>\n",
              "      <td>Summary Background In 2015, a large outbreak of Middle East respiratory syndrome coronavirus (MERS-CoV) infection occurred following a single patient exposure in an emergency room at the Samsung M...</td>\n",
              "      <td>2016</td>\n",
              "      <td>Cho, Sun Young; Kang, Ji-Man; Ha, Young Eun; Park, Ga Eun; Lee, Ji Yeon; Ko, Jae-Hoon; Lee, Ji Yong; Kim, Jong Min; Kang, Cheol-In; Jo, Ik Joon; Ryu, Jae Geum; Choi, Jong Rim; Kim, Seonwoo; Huh, H...</td>\n",
              "      <td>http://doi.org/10.1016/s0140-6736(16)30623-7</td>\n",
              "    </tr>\n",
              "    <tr>\n",
              "      <th>...</th>\n",
              "      <td>...</td>\n",
              "      <td>...</td>\n",
              "      <td>...</td>\n",
              "      <td>...</td>\n",
              "      <td>...</td>\n",
              "    </tr>\n",
              "    <tr>\n",
              "      <th>66</th>\n",
              "      <td>Identification and containment of an outbreak of SARS in a community hospital</td>\n",
              "      <td>BACKGROUND: Severe acute respiratory syndrome (SARS) is continuing to spread around the world. All hospitals must be prepared to care for patients with SARS. Thus, it is important to understand th...</td>\n",
              "      <td>2003</td>\n",
              "      <td>Dwosh, Hy A.; Hong, Harry H.L.; Austgarden, Douglas; Herman, Stanley; Schabas, Richard</td>\n",
              "      <td>nan</td>\n",
              "    </tr>\n",
              "    <tr>\n",
              "      <th>67</th>\n",
              "      <td>US Federal Travel Restrictions for Persons with Higher-Risk Exposures to Communicable Diseases of Public Health Concern</td>\n",
              "      <td>Published guidance recommends controlled movement for persons with higher-risk exposures (HREs) to communicable diseases of public health concern; US federal public health travel restrictions (PHT...</td>\n",
              "      <td>2017</td>\n",
              "      <td>Vonnahme, Laura A.; Jungerman, M. Robynne; Gulati, Reena K.; Illig, Petra; Alvarado-Ramy, Francisco</td>\n",
              "      <td>http://doi.org/10.3201/eid2313.170386</td>\n",
              "    </tr>\n",
              "    <tr>\n",
              "      <th>68</th>\n",
              "      <td>Analysis of family cluster infection with Novel Coronavirus Pneumonia</td>\n",
              "      <td>Objective To explore the regularity and characteristics of the transmission of Novel Coronavirus Pneumonia(NCP) in crowd, for provide a reference for pre-hospital first aid to identify and screen ...</td>\n",
              "      <td>2020</td>\n",
              "      <td>ZHANG, Wei; TIAN, Sijia; WANG, Ying; CHEN, Hui; ZHANG, Jinjun</td>\n",
              "      <td>nan</td>\n",
              "    </tr>\n",
              "    <tr>\n",
              "      <th>69</th>\n",
              "      <td>Clinical features of 2019 novel coronavirus pneumonia in the early stage from a fever clinic in Beijing</td>\n",
              "      <td>Objective: To summarize and analyze the clinical and imaging characteristics of patients with 2019 novel coronavirus pneumonia in the early stage in Beijing. Methods: A retrospective analysis of c...</td>\n",
              "      <td>2020</td>\n",
              "      <td>Zhang, M. Q.; Wang, X. H.; Chen, Y. L.; Zhao, K. L.; Cai, Y. Q.; An, C. L.; Lin, M. G.; Mu, X. D.</td>\n",
              "      <td>http://doi.org/10.3760/cma.j.issn.1001-0939.2020.0013</td>\n",
              "    </tr>\n",
              "    <tr>\n",
              "      <th>70</th>\n",
              "      <td>Viral infections in workers in hospital and research laboratory settings: a comparative review of infection modes and respective biosafety aspects</td>\n",
              "      <td>Summary Objectives To compare modes and sources of infection and clinical and biosafety aspects of accidental viral infections in hospital workers and research laboratory staff reported in scienti...</td>\n",
              "      <td>2011</td>\n",
              "      <td>Pedrosa, Pedro B.S.; Cardoso, Telma A.O.</td>\n",
              "      <td>http://doi.org/10.1016/j.ijid.2011.03.005</td>\n",
              "    </tr>\n",
              "  </tbody>\n",
              "</table>\n",
              "<p>71 rows × 5 columns</p>\n",
              "</div>"
            ],
            "text/plain": [
              "                                                                                                                                                 title  ...                                                    doi\n",
              "0                      The Incubation Period of Coronavirus Disease 2019 (COVID-19) From Publicly Reported Confirmed Cases: Estimation and Application  ...                        http://doi.org/10.7326/m20-0504\n",
              "1                                             Transmission of corona virus disease 2019 during the incubation period may lead to a quarantine loophole  ...             http://doi.org/10.1101/2020.03.06.20031955\n",
              "2                                              Epidemiological and clinical features of COVID-19 patients with and without pneumonia in Beijing, China  ...             http://doi.org/10.1101/2020.02.28.20028068\n",
              "3                                                                                        The outbreak of SARS-CoV-2 pneumonia calls for viral vaccines  ...                                                    nan\n",
              "4                         MERS-CoV outbreak following a single patient exposure in an emergency room in South Korea: an epidemiological outbreak study  ...           http://doi.org/10.1016/s0140-6736(16)30623-7\n",
              "..                                                                                                                                                 ...  ...                                                    ...\n",
              "66                                                                       Identification and containment of an outbreak of SARS in a community hospital  ...                                                    nan\n",
              "67                             US Federal Travel Restrictions for Persons with Higher-Risk Exposures to Communicable Diseases of Public Health Concern  ...                  http://doi.org/10.3201/eid2313.170386\n",
              "68                                                                               Analysis of family cluster infection with Novel Coronavirus Pneumonia  ...                                                    nan\n",
              "69                                             Clinical features of 2019 novel coronavirus pneumonia in the early stage from a fever clinic in Beijing  ...  http://doi.org/10.3760/cma.j.issn.1001-0939.2020.0013\n",
              "70  Viral infections in workers in hospital and research laboratory settings: a comparative review of infection modes and respective biosafety aspects  ...              http://doi.org/10.1016/j.ijid.2011.03.005\n",
              "\n",
              "[71 rows x 5 columns]"
            ]
          },
          "metadata": {
            "tags": []
          },
          "execution_count": 59
        }
      ]
    },
    {
      "cell_type": "code",
      "metadata": {
        "id": "iYpztJqec_MB",
        "colab_type": "code",
        "colab": {}
      },
      "source": [
        "output_df.to_csv(drive_path/'COVID-19'/'TestSearchResults_Incubation_v5.csv', index = False)"
      ],
      "execution_count": 0,
      "outputs": []
    },
    {
      "cell_type": "code",
      "metadata": {
        "id": "nVsuHm1XeTFo",
        "colab_type": "code",
        "outputId": "fcf88657-a81b-434e-9e52-7e9a8fe8bc66",
        "colab": {
          "base_uri": "https://localhost:8080/",
          "height": 1000
        }
      },
      "source": [
        "result=parser.parse('abstract:(sars OR \"sars-cov-2\" OR coronavirus* OR ncov OR \"covid-19\" OR mers OR \"mers-cov\")\\\n",
        "AND abstract:(predictors OR \"risk factors\" OR characteristics) \\\n",
        "NOT abstract:(animal OR equine OR porcine OR calves OR dog*) \\\n",
        "OR title:(sars OR \"sars-cov-2\" OR coronavirus* OR ncov OR \"covid-19\") \\\n",
        "OR title:(predictors OR \"riskfactors\" OR characteristics)')\n",
        "print (result)\n",
        "with ix.searcher() as searcher:\n",
        "    results=searcher.search(result, limit = None)#The Results object acts like a list of the matched documents.)\n",
        "    print('Total Hits: {}\\n'.format(len(results)))\n",
        "    output_dict = defaultdict(list)\n",
        "    for result in results:\n",
        "      output_dict['title'].append(result['title'])\n",
        "      output_dict['abstract'].append(result['abstract'])\n",
        "      output_dict['publish_time'].append(result['date'])\n",
        "      output_dict['authors'].append(result['author'])\n",
        "      output_dict['doi'].append(result['doi'])\n",
        "pd.DataFrame(output_dict)  "
      ],
      "execution_count": 0,
      "outputs": [
        {
          "output_type": "stream",
          "text": [
            "((abstract:sars OR abstract:\"sars cov\" OR abstract:coronavirus* OR abstract:ncov OR abstract:\"covid 19\" OR abstract:mers OR abstract:\"mers cov\") AND (abstract:predictors OR abstract:\"risk factors\" OR abstract:characteristics) AND (NOT (abstract:animal OR abstract:equine OR abstract:porcine OR abstract:calves OR abstract:dog*) OR title:sars OR title:\"sars cov\" OR title:coronavirus* OR title:ncov OR title:\"covid 19\" OR title:predictors OR title:riskfactors OR title:characteristics))\n",
            "Total Hits: 644\n",
            "\n"
          ],
          "name": "stdout"
        },
        {
          "output_type": "execute_result",
          "data": {
            "text/html": [
              "<div>\n",
              "<style scoped>\n",
              "    .dataframe tbody tr th:only-of-type {\n",
              "        vertical-align: middle;\n",
              "    }\n",
              "\n",
              "    .dataframe tbody tr th {\n",
              "        vertical-align: top;\n",
              "    }\n",
              "\n",
              "    .dataframe thead th {\n",
              "        text-align: right;\n",
              "    }\n",
              "</style>\n",
              "<table border=\"1\" class=\"dataframe\">\n",
              "  <thead>\n",
              "    <tr style=\"text-align: right;\">\n",
              "      <th></th>\n",
              "      <th>title</th>\n",
              "      <th>abstract</th>\n",
              "      <th>publish_time</th>\n",
              "      <th>authors</th>\n",
              "      <th>doi</th>\n",
              "    </tr>\n",
              "  </thead>\n",
              "  <tbody>\n",
              "    <tr>\n",
              "      <th>0</th>\n",
              "      <td>Novel coronavirus 2019-nCoV: prevalence, biological and clinical characteristics comparison with SARS-CoV and MERS-CoV</td>\n",
              "      <td>OBJECTIVE: Human infections with zoonotic coronavirus contain emerging and reemerging pathogenic characteristics which have raised great public health concern. This study aimed at investigating th...</td>\n",
              "      <td>2020</td>\n",
              "      <td>Meo, S. A.; Alhowikan, A. M.; Al-Khlaiwi, T.; Meo, I. M.; Halepoto, D. M.; Iqbal, M.; Usmani, A. M.; Hajjar, W.; Ahmed, N.</td>\n",
              "      <td>10.26355/eurrev_202002_20379</td>\n",
              "    </tr>\n",
              "    <tr>\n",
              "      <th>1</th>\n",
              "      <td>Bat-to-human: spike features determining ‘host jump’ of coronaviruses SARS-CoV, MERS-CoV, and beyond</td>\n",
              "      <td>Both severe acute respiratory syndrome coronavirus (SARS-CoV) and Middle East respiratory syndrome coronavirus (MERS-CoV) are zoonotic pathogens that crossed the species barriers to infect humans....</td>\n",
              "      <td>2015-08-31</td>\n",
              "      <td>Lu, Guangwen; Wang, Qihui; Gao, George F.</td>\n",
              "      <td>10.1016/j.tim.2015.06.003</td>\n",
              "    </tr>\n",
              "    <tr>\n",
              "      <th>2</th>\n",
              "      <td>The origin, transmission and clinical therapies on coronavirus disease 2019 (COVID-19) outbreak – an update on the status</td>\n",
              "      <td>An acute respiratory disease, caused by a novel coronavirus (SARS-CoV-2, previously known as 2019-nCoV), the coronavirus disease 2019 (COVID-19) has spread throughout China and received worldwide ...</td>\n",
              "      <td>2020-03-13</td>\n",
              "      <td>Guo, Yan-Rong; Cao, Qing-Dong; Hong, Zhong-Si; Tan, Yuan-Yang; Chen, Shou-Deng; Jin, Hong-Jun; Tan, Kai-Sen; Wang, De-Yun; Yan, Yan</td>\n",
              "      <td>10.1186/s40779-020-00240-0</td>\n",
              "    </tr>\n",
              "    <tr>\n",
              "      <th>3</th>\n",
              "      <td>Liver injury during highly pathogenic human coronavirus infections</td>\n",
              "      <td>The severe acute respiratory syndrome coronavirus 2 (SARS-Cov-2), the pathogen of 2019 novel coronavirus disease (COVID-19), has posed a serious threat to global public health. The WHO has declare...</td>\n",
              "      <td>2020-03-14</td>\n",
              "      <td>Xu, Ling; Liu, Jia; Lu, Mengji; Yang, Dongliang; Zheng, Xin</td>\n",
              "      <td>10.1111/liv.14435</td>\n",
              "    </tr>\n",
              "    <tr>\n",
              "      <th>4</th>\n",
              "      <td>Imaging and clinical features of patients with 2019 novel coronavirus SARS-CoV-2</td>\n",
              "      <td>The pneumonia caused by the 2019 novel coronavirus (SARS-CoV-2, also called 2019-nCoV) recently break out in Wuhan, China, and was named as COVID-19. With the spread of the disease, similar cases ...</td>\n",
              "      <td>2020-02-28</td>\n",
              "      <td>Xu, Xi; Yu, Chengcheng; Qu, Jing; Zhang, Lieguang; Jiang, Songfeng; Huang, Deyang; Chen, Bihua; Zhang, Zhiping; Guan, Wanhua; Ling, Zhoukun; Jiang, Rui; Hu, Tianli; Ding, Yan; Lin, Lin; Gan, Qingx...</td>\n",
              "      <td>10.1007/s00259-020-04735-9</td>\n",
              "    </tr>\n",
              "    <tr>\n",
              "      <th>...</th>\n",
              "      <td>...</td>\n",
              "      <td>...</td>\n",
              "      <td>...</td>\n",
              "      <td>...</td>\n",
              "      <td>...</td>\n",
              "    </tr>\n",
              "    <tr>\n",
              "      <th>639</th>\n",
              "      <td>The Role of Viral Infection in Pulmonary Exacerbations of Bronchiectasis in Adults A Prospective Study</td>\n",
              "      <td>BACKGROUND Although viral infections are a major cause of exacerbations in patients with chronic airway diseases, their roles in triggering bronchiectasis exacerbations in adults remain unclear. T...</td>\n",
              "      <td>2015-06-30</td>\n",
              "      <td>Gao, Yong-hua; Guan, Wei-jie; Xu, Gang; Lin, Zhi-ya; Tang, Yan; Lin, Zhi-min; Gao, Yang; Li, Hui-min; Zhong, Nan-shan; Zhang, Guo-jun; Chen, Rong-chang</td>\n",
              "      <td>10.1378/chest.14-1961</td>\n",
              "    </tr>\n",
              "    <tr>\n",
              "      <th>640</th>\n",
              "      <td>Viral infection in community acquired pneumonia patients with fever: a prospective observational study</td>\n",
              "      <td>BACKGROUND: Patients with community acquired pneumonia (CAP) caused by viruses can develop severe complications, which result in hospitalization and death. The purpose of this study was to analyse...</td>\n",
              "      <td>nan</td>\n",
              "      <td>Tao, Ru-Jia; Luo, Xiao-Li; Xu, Wen; Mao, Bei; Dai, Ruo-Xuan; Li, Cheng-Wei; Yu, Li; Gu, Fen; Liang, Shuo; Lu, Hai-Wen; Chen, Ke-Bin; Bai, Jiu-Wu; Ji, Xiao-Bin; Gu, Shu-Yi; Sun, Xiao-Li; Dai, Fa-Hu...</td>\n",
              "      <td>10.21037/jtd.2018.06.33</td>\n",
              "    </tr>\n",
              "    <tr>\n",
              "      <th>641</th>\n",
              "      <td>Prevalence and correlates of influenza vaccination among non-institutionalized elderly people: An exploratory cross-sectional survey</td>\n",
              "      <td>Abstract Background Worldwide pandemics of influenza virus caused extensive morbidity and mortality around the world and influenza vaccination is the most effective method for preventing influenza...</td>\n",
              "      <td>2009-06-30</td>\n",
              "      <td>Lau, Lam; Lau, Ying; Lau, Ying Hon</td>\n",
              "      <td>10.1016/j.ijnurstu.2008.12.006</td>\n",
              "    </tr>\n",
              "    <tr>\n",
              "      <th>642</th>\n",
              "      <td>724. Neurologic Complications in Hospitalized Pediatric Patients with Influenza Infection, A Multicenter Retrospective Study in Korea</td>\n",
              "      <td>BACKGROUND: The aim of the study was to evaluate the incidence and characteristics of influenza associated neurologic complications (IANCs) in hospitalized pediatric patients in Korea. METHODS: We...</td>\n",
              "      <td>2018 Nov 26</td>\n",
              "      <td>Choi, Gwang-Jun; Park, Ji Young; Choi, Joon-Sik; Kim, Bitna; Choi, Sae Rom; Kim, Dong Sub; Kang, Ji-Man; Lee, Jun Wha; Woo, Young-Jong; Lee, Jeehun; Kim, Yae-Jean</td>\n",
              "      <td>10.1093/ofid/ofy210.731</td>\n",
              "    </tr>\n",
              "    <tr>\n",
              "      <th>643</th>\n",
              "      <td>2786. The Role of Respiratory Panel PCR in Decreasing Antibiotic Exposure in Patients Diagnosed With a Respiratory Viral Infection</td>\n",
              "      <td>BACKGROUND: Respiratory viral infections (RVI) are becoming increasingly recognized as an important cause of pneumonia. There is limited data regarding the role of rapid PCR testing for RVI and it...</td>\n",
              "      <td>2019 Oct 23</td>\n",
              "      <td>Vostal, Alexander; Gonzalez, Michael Antonio; Darling, Nellie; Papastamelos, Christine; Natarajan, Madhuri; Kumar, Princy; Timpone, Joseph</td>\n",
              "      <td>10.1093/ofid/ofz360.2463</td>\n",
              "    </tr>\n",
              "  </tbody>\n",
              "</table>\n",
              "<p>644 rows × 5 columns</p>\n",
              "</div>"
            ],
            "text/plain": [
              "                                                                                                                                     title  ...                             doi\n",
              "0                   Novel coronavirus 2019-nCoV: prevalence, biological and clinical characteristics comparison with SARS-CoV and MERS-CoV  ...    10.26355/eurrev_202002_20379\n",
              "1                                     Bat-to-human: spike features determining ‘host jump’ of coronaviruses SARS-CoV, MERS-CoV, and beyond  ...       10.1016/j.tim.2015.06.003\n",
              "2                The origin, transmission and clinical therapies on coronavirus disease 2019 (COVID-19) outbreak – an update on the status  ...      10.1186/s40779-020-00240-0\n",
              "3                                                                       Liver injury during highly pathogenic human coronavirus infections  ...               10.1111/liv.14435\n",
              "4                                                         Imaging and clinical features of patients with 2019 novel coronavirus SARS-CoV-2  ...      10.1007/s00259-020-04735-9\n",
              "..                                                                                                                                     ...  ...                             ...\n",
              "639                                 The Role of Viral Infection in Pulmonary Exacerbations of Bronchiectasis in Adults A Prospective Study  ...           10.1378/chest.14-1961\n",
              "640                                 Viral infection in community acquired pneumonia patients with fever: a prospective observational study  ...         10.21037/jtd.2018.06.33\n",
              "641   Prevalence and correlates of influenza vaccination among non-institutionalized elderly people: An exploratory cross-sectional survey  ...  10.1016/j.ijnurstu.2008.12.006\n",
              "642  724. Neurologic Complications in Hospitalized Pediatric Patients with Influenza Infection, A Multicenter Retrospective Study in Korea  ...         10.1093/ofid/ofy210.731\n",
              "643     2786. The Role of Respiratory Panel PCR in Decreasing Antibiotic Exposure in Patients Diagnosed With a Respiratory Viral Infection  ...        10.1093/ofid/ofz360.2463\n",
              "\n",
              "[644 rows x 5 columns]"
            ]
          },
          "metadata": {
            "tags": []
          },
          "execution_count": 49
        }
      ]
    },
    {
      "cell_type": "code",
      "metadata": {
        "id": "7tPtRbLbjWWN",
        "colab_type": "code",
        "colab": {}
      },
      "source": [
        ""
      ],
      "execution_count": 0,
      "outputs": []
    },
    {
      "cell_type": "markdown",
      "metadata": {
        "id": "mbkJc9E8GL3M",
        "colab_type": "text"
      },
      "source": [
        "# References\n",
        "\n",
        "Whoosh tutorial\n",
        "\n",
        "https://drive.google.com/file/d/1fw7yK3orYw4kWFaO0WISZQy-P4WD8QHG/view?usp=sharing \n",
        "\n",
        "\n",
        "Browsing research papers with a BM25 search engine\n",
        "\n",
        "https://www.kaggle.com/dgunning/browsing-research-papers-with-a-bm25-search-engine"
      ]
    },
    {
      "cell_type": "code",
      "metadata": {
        "id": "oBCHbZx3bd9X",
        "colab_type": "code",
        "colab": {}
      },
      "source": [
        ""
      ],
      "execution_count": 0,
      "outputs": []
    }
  ]
}