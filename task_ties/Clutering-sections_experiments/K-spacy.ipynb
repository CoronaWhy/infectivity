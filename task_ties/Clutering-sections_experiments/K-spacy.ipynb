{
 "cells": [
  {
   "cell_type": "code",
   "execution_count": 1,
   "metadata": {},
   "outputs": [],
   "source": [
    "import pandas as pd\n",
    "df_final=pd.read_csv(\"Final_Processed_task.csv\")"
   ]
  },
  {
   "cell_type": "code",
   "execution_count": 2,
   "metadata": {},
   "outputs": [
    {
     "name": "stdout",
     "output_type": "stream",
     "text": [
      "<class 'pandas.core.frame.DataFrame'>\n",
      "RangeIndex: 1838609 entries, 0 to 1838608\n",
      "Data columns (total 5 columns):\n",
      " #   Column        Dtype \n",
      "---  ------        ----- \n",
      " 0   Unnamed: 0    int64 \n",
      " 1   Unnamed: 0.1  int64 \n",
      " 2   cord_uid      object\n",
      " 3   section       object\n",
      " 4   header        object\n",
      "dtypes: int64(2), object(3)\n",
      "memory usage: 70.1+ MB\n"
     ]
    }
   ],
   "source": [
    "df_final.info()"
   ]
  },
  {
   "cell_type": "code",
   "execution_count": 3,
   "metadata": {},
   "outputs": [],
   "source": [
    "from gensim.models import word2vec"
   ]
  },
  {
   "cell_type": "code",
   "execution_count": 23,
   "metadata": {},
   "outputs": [],
   "source": [
    "#Lets not do any prprocessing-\n",
    "#Lets take only unique header\n",
    "df=pd.DataFrame(list(set(df_final['header'])))\n",
    "df.columns=['header']"
   ]
  },
  {
   "cell_type": "code",
   "execution_count": 24,
   "metadata": {},
   "outputs": [],
   "source": [
    "import gensim\n",
    "from gensim.models import Doc2Vec\n",
    "\n",
    "def doc2vec():\n",
    "    document_tagged = []\n",
    "    tagged_count = 0\n",
    "    for _ in df['header'].values:\n",
    "        document_tagged.append(gensim.models.doc2vec.TaggedDocument(_,[tagged_count]))\n",
    "        tagged_count +=1 \n",
    "    d2v = Doc2Vec(document_tagged)\n",
    "    d2v.train(document_tagged,epochs=d2v.epochs,total_examples=d2v.corpus_count)\n",
    "    return d2v.docvecs.vectors_docs"
   ]
  },
  {
   "cell_type": "code",
   "execution_count": 25,
   "metadata": {},
   "outputs": [],
   "source": [
    "doc2vec = doc2vec()"
   ]
  },
  {
   "cell_type": "code",
   "execution_count": 26,
   "metadata": {},
   "outputs": [],
   "source": [
    "from sklearn.cluster import KMeans\n",
    "\n",
    "def kmeans(n_clusters):\n",
    "    kmean_model = KMeans(n_clusters = n_clusters,random_state=0)\n",
    "    return kmean_model"
   ]
  },
  {
   "cell_type": "code",
   "execution_count": 27,
   "metadata": {},
   "outputs": [
    {
     "name": "stdout",
     "output_type": "stream",
     "text": [
      "CPU times: user 2min 16s, sys: 3.53 s, total: 2min 19s\n",
      "Wall time: 1min 15s\n"
     ]
    }
   ],
   "source": [
    "X = doc2vec\n",
    "kmeans4 = KMeans(4)\n",
    "\n",
    "%time km4 = kmeans4.fit_predict(X)"
   ]
  },
  {
   "cell_type": "code",
   "execution_count": 28,
   "metadata": {},
   "outputs": [
    {
     "name": "stdout",
     "output_type": "stream",
     "text": [
      "CPU times: user 2min 31s, sys: 4.11 s, total: 2min 35s\n",
      "Wall time: 1min 16s\n"
     ]
    }
   ],
   "source": [
    "X = doc2vec\n",
    "kmeans5 = KMeans(5)\n",
    "\n",
    "%time km5 = kmeans5.fit_predict(X)"
   ]
  },
  {
   "cell_type": "code",
   "execution_count": 29,
   "metadata": {},
   "outputs": [
    {
     "name": "stdout",
     "output_type": "stream",
     "text": [
      "CPU times: user 1min 21s, sys: 1.77 s, total: 1min 23s\n",
      "Wall time: 49.1 s\n"
     ]
    }
   ],
   "source": [
    "kmeans6 = KMeans(6)\n",
    "%time km6 = kmeans6.fit_predict(X)"
   ]
  },
  {
   "cell_type": "code",
   "execution_count": 30,
   "metadata": {},
   "outputs": [
    {
     "name": "stdout",
     "output_type": "stream",
     "text": [
      "CPU times: user 2min 47s, sys: 3.54 s, total: 2min 50s\n",
      "Wall time: 1min 38s\n"
     ]
    }
   ],
   "source": [
    "kmeans7 = KMeans(7)\n",
    "%time km7 = kmeans7.fit_predict(X)"
   ]
  },
  {
   "cell_type": "code",
   "execution_count": 31,
   "metadata": {},
   "outputs": [
    {
     "name": "stdout",
     "output_type": "stream",
     "text": [
      "CPU times: user 4min 18s, sys: 4.78 s, total: 4min 23s\n",
      "Wall time: 2min 30s\n"
     ]
    }
   ],
   "source": [
    "kmeans8 = KMeans(8)\n",
    "%time km8 = kmeans8.fit_predict(X)"
   ]
  },
  {
   "cell_type": "code",
   "execution_count": 14,
   "metadata": {},
   "outputs": [
    {
     "data": {
      "text/plain": [
       "KMeans(algorithm='auto', copy_x=True, init='k-means++', max_iter=300,\n",
       "       n_clusters=8, n_init=10, n_jobs=None, precompute_distances='auto',\n",
       "       random_state=None, tol=0.0001, verbose=0)"
      ]
     },
     "execution_count": 14,
     "metadata": {},
     "output_type": "execute_result"
    }
   ],
   "source": [
    "kmeans8"
   ]
  },
  {
   "cell_type": "code",
   "execution_count": 32,
   "metadata": {
    "scrolled": true
   },
   "outputs": [
    {
     "data": {
      "image/png": "[encoded data removed]",
      "text/plain": [
       "<Figure size 864x360 with 2 Axes>"
      ]
     },
     "metadata": {
      "needs_background": "light"
     },
     "output_type": "display_data"
    }
   ],
   "source": [
    "models = [kmeans4,kmeans5, kmeans6, kmeans7,kmeans8]\n",
    "import matplotlib.pyplot as plt\n",
    "import numpy as np\n",
    "def plot_WCSS_BCSS(models, data):\n",
    "    fig, ax = plt.subplots(1, 2, figsize=(12,5))\n",
    "    \n",
    "    ## Plot WCSS\n",
    "    wcss = [mod.inertia_ for mod in models]\n",
    "    n_clusts = [4,5,6,7,8]\n",
    "    \n",
    "    ax[0].bar(n_clusts, wcss,color='orange', edgecolor='black', linewidth=1)\n",
    "    ax[0].set_xlabel('Number of clusters')\n",
    "    ax[0].set_ylabel('WCSS')\n",
    "    ax[0].set_title('Within Cluster Analysis')\n",
    "    \n",
    "    \n",
    "    ## Plot BCSS \n",
    "    n_1 = (float(data.shape[0]) * float(data.shape[1])) - 1.0\n",
    "    tss = n_1 * np.var(data)\n",
    "    bcss = [tss - x for x in wcss]\n",
    "    ax[1].bar(n_clusts, bcss,edgecolor='black')\n",
    "    ax[1].set_xlabel('Number of clusters')\n",
    "    ax[1].set_ylabel('BCSS')\n",
    "    ax[1].set_title('Between Cluster Analysis')\n",
    "    plt.show()\n",
    "    \n",
    "\n",
    "plot_WCSS_BCSS(models,X)"
   ]
  },
  {
   "cell_type": "code",
   "execution_count": 33,
   "metadata": {},
   "outputs": [],
   "source": [
    "#Building the Model\n",
    "#KMeans Algorithm to decide the optimum cluster number , KMeans++ using Elbow Mmethod\n",
    "#to figure out K for KMeans, I will use ELBOW Method on KMEANS++ Calculation\n",
    "from sklearn.cluster import KMeans\n",
    "wcss=[]\n",
    "\n",
    "#we always assume the max number of cluster would be 10\n",
    "#you can judge the number of clusters by doing averaging\n",
    "###Static code to get max no of clusters\n",
    "\n",
    "for i in range(1,12):\n",
    "    kmeans = KMeans(n_clusters= i, init='k-means++', random_state=0)\n",
    "    kmeans.fit(X)\n",
    "    wcss.append(kmeans.inertia_)"
   ]
  },
  {
   "cell_type": "code",
   "execution_count": 20,
   "metadata": {},
   "outputs": [
    {
     "data": {
      "image/png": "[encoded data removed]",
      "text/plain": [
       "<Figure size 432x288 with 1 Axes>"
      ]
     },
     "metadata": {
      "needs_background": "light"
     },
     "output_type": "display_data"
    }
   ],
   "source": [
    "#Visualizing the ELBOW method to get the optimal value of K \n",
    "import matplotlib.pyplot as plt\n",
    "plt.plot(range(1,12), wcss)\n",
    "plt.title('The Elbow Method')\n",
    "plt.xlabel('no of clusters')\n",
    "plt.ylabel('wcss')\n",
    "plt.show()"
   ]
  },
  {
   "cell_type": "code",
   "execution_count": 34,
   "metadata": {},
   "outputs": [],
   "source": [
    "#Lets try for 4,5,6 clusters\n",
    "def prepare_df_Kmeans(corpus_df,i):\n",
    "    \n",
    "    km = KMeans(n_clusters=i, random_state=0)\n",
    "    km.fit_transform(X)\n",
    "    cluster_labels = km.labels_\n",
    "    cluster_labels = pd.DataFrame(cluster_labels, columns=['ClusterLabel'])\n",
    "    concat_df=pd.concat([corpus_df, cluster_labels], axis=1)\n",
    "    return concat_df"
   ]
  },
  {
   "cell_type": "code",
   "execution_count": 35,
   "metadata": {},
   "outputs": [],
   "source": [
    "for i in range(4,7):\n",
    "    df_cluster=df.copy()\n",
    "    concat_df=prepare_df_Kmeans(df_cluster,i)\n",
    "    concat_df.to_csv(\"spacy\"+str(i)+\"_13jun.csv\")"
   ]
  },
  {
   "cell_type": "code",
   "execution_count": 1,
   "metadata": {},
   "outputs": [],
   "source": [
    "#lets also see Silhoutte\n",
    "from sklearn.metrics import silhouette_score\n",
    "range_n_clusters = [3,4,5,6,7,8,9]\n",
    "for n_clusters in range_n_clusters:\n",
    "    clusterer = KMeans(n_clusters=n_clusters,random_state=0)\n",
    "    preds = clusterer.fit_predict(X)\n",
    "    centers = clusterer.cluster_centers_\n",
    "\n",
    "    score = silhouette_score(X, preds)\n",
    "    print(\"For n_clusters = {}, silhouette score is {})\".format(n_clusters, score))"
   ]
  }
 ],
 "metadata": {
  "kernelspec": {
   "display_name": "Python 3",
   "language": "python",
   "name": "python3"
  },
  "language_info": {
   "codemirror_mode": {
    "name": "ipython",
    "version": 3
   },
   "file_extension": ".py",
   "mimetype": "text/x-python",
   "name": "python",
   "nbconvert_exporter": "python",
   "pygments_lexer": "ipython3",
   "version": "3.7.3"
  }
 },
 "nbformat": 4,
 "nbformat_minor": 4
}
