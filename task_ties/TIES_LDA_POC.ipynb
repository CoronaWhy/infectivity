{
  "nbformat": 4,
  "nbformat_minor": 0,
  "metadata": {
    "colab": {
      "name": "Copy of TIES_LDA_POC.ipynb",
      "provenance": [],
      "collapsed_sections": [],
      "include_colab_link": true
    },
    "kernelspec": {
      "name": "python3",
      "display_name": "Python 3"
    },
    "widgets": {
      "application/vnd.jupyter.widget-state+json": {
        "f165d5935c43488790e45ae2f65c557a": {
          "model_module": "@jupyter-widgets/controls",
          "model_name": "VBoxModel",
          "state": {
            "_view_name": "VBoxView",
            "_dom_classes": [],
            "_model_name": "VBoxModel",
            "_view_module": "@jupyter-widgets/controls",
            "_model_module_version": "1.5.0",
            "_view_count": null,
            "_view_module_version": "1.5.0",
            "box_style": "",
            "layout": "IPY_MODEL_8449716250864a5d93f998867f3a69aa",
            "_model_module": "@jupyter-widgets/controls",
            "children": [
              "IPY_MODEL_9e90dc9d47f84cdf89bc622061d62eb4",
              "IPY_MODEL_8f8e0b5687104fdea286e36e64552493",
              "IPY_MODEL_90aec8fec85f42459918333526921cfd"
            ]
          }
        },
        "8449716250864a5d93f998867f3a69aa": {
          "model_module": "@jupyter-widgets/base",
          "model_name": "LayoutModel",
          "state": {
            "_view_name": "LayoutView",
            "grid_template_rows": null,
            "right": null,
            "justify_content": null,
            "_view_module": "@jupyter-widgets/base",
            "overflow": null,
            "_model_module_version": "1.2.0",
            "_view_count": null,
            "flex_flow": null,
            "width": null,
            "min_width": null,
            "border": null,
            "align_items": "center",
            "bottom": null,
            "_model_module": "@jupyter-widgets/base",
            "top": null,
            "grid_column": null,
            "overflow_y": null,
            "overflow_x": null,
            "grid_auto_flow": null,
            "grid_area": null,
            "grid_template_columns": null,
            "flex": null,
            "_model_name": "LayoutModel",
            "justify_items": null,
            "grid_row": null,
            "max_height": null,
            "align_content": null,
            "visibility": null,
            "align_self": null,
            "height": null,
            "min_height": null,
            "padding": null,
            "grid_auto_rows": null,
            "grid_gap": null,
            "max_width": null,
            "order": null,
            "_view_module_version": "1.2.0",
            "grid_template_areas": null,
            "object_position": null,
            "object_fit": null,
            "grid_auto_columns": null,
            "margin": null,
            "display": null,
            "left": null
          }
        },
        "9e90dc9d47f84cdf89bc622061d62eb4": {
          "model_module": "@jupyter-widgets/controls",
          "model_name": "HBoxModel",
          "state": {
            "_view_name": "HBoxView",
            "_dom_classes": [],
            "_model_name": "HBoxModel",
            "_view_module": "@jupyter-widgets/controls",
            "_model_module_version": "1.5.0",
            "_view_count": null,
            "_view_module_version": "1.5.0",
            "box_style": "",
            "layout": "IPY_MODEL_5560e78194cd43ef9a5b11fad3b59a7f",
            "_model_module": "@jupyter-widgets/controls",
            "children": [
              "IPY_MODEL_0301cead3a594dd081ec8d0a53813a13",
              "IPY_MODEL_bd943f20677c41ac95dd510a1a5febe3"
            ]
          }
        },
        "8f8e0b5687104fdea286e36e64552493": {
          "model_module": "@jupyter-widgets/controls",
          "model_name": "HBoxModel",
          "state": {
            "_view_name": "HBoxView",
            "_dom_classes": [],
            "_model_name": "HBoxModel",
            "_view_module": "@jupyter-widgets/controls",
            "_model_module_version": "1.5.0",
            "_view_count": null,
            "_view_module_version": "1.5.0",
            "box_style": "",
            "layout": "IPY_MODEL_4316b3b2c42646bf8f0a3c538c450753",
            "_model_module": "@jupyter-widgets/controls",
            "children": [
              "IPY_MODEL_079a29ba32e34c4e90fdb25da247d8a9",
              "IPY_MODEL_b99ec61a251b46b091d9914072e130f4",
              "IPY_MODEL_bd943f20677c41ac95dd510a1a5febe3"
            ]
          }
        },
        "90aec8fec85f42459918333526921cfd": {
          "model_module": "@jupyter-widgets/controls",
          "model_name": "HBoxModel",
          "state": {
            "_view_name": "HBoxView",
            "_dom_classes": [],
            "_model_name": "HBoxModel",
            "_view_module": "@jupyter-widgets/controls",
            "_model_module_version": "1.5.0",
            "_view_count": null,
            "_view_module_version": "1.5.0",
            "box_style": "",
            "layout": "IPY_MODEL_c08800cf3e074838a524ea02cda65e49",
            "_model_module": "@jupyter-widgets/controls",
            "children": [
              "IPY_MODEL_beb60e572ce24afca61108e07b02ddf1",
              "IPY_MODEL_743cccbd0fbb4482920582d47cc35783",
              "IPY_MODEL_bd943f20677c41ac95dd510a1a5febe3"
            ]
          }
        },
        "5560e78194cd43ef9a5b11fad3b59a7f": {
          "model_module": "@jupyter-widgets/base",
          "model_name": "LayoutModel",
          "state": {
            "_view_name": "LayoutView",
            "grid_template_rows": null,
            "right": null,
            "justify_content": null,
            "_view_module": "@jupyter-widgets/base",
            "overflow": null,
            "_model_module_version": "1.2.0",
            "_view_count": null,
            "flex_flow": null,
            "width": null,
            "min_width": null,
            "border": null,
            "align_items": "center",
            "bottom": null,
            "_model_module": "@jupyter-widgets/base",
            "top": null,
            "grid_column": null,
            "overflow_y": null,
            "overflow_x": null,
            "grid_auto_flow": null,
            "grid_area": null,
            "grid_template_columns": null,
            "flex": null,
            "_model_name": "LayoutModel",
            "justify_items": null,
            "grid_row": null,
            "max_height": null,
            "align_content": null,
            "visibility": null,
            "align_self": null,
            "height": null,
            "min_height": null,
            "padding": null,
            "grid_auto_rows": null,
            "grid_gap": null,
            "max_width": null,
            "order": null,
            "_view_module_version": "1.2.0",
            "grid_template_areas": null,
            "object_position": null,
            "object_fit": null,
            "grid_auto_columns": null,
            "margin": null,
            "display": null,
            "left": null
          }
        },
        "0301cead3a594dd081ec8d0a53813a13": {
          "model_module": "@jupyter-widgets/controls",
          "model_name": "TextareaModel",
          "state": {
            "_view_name": "TextareaView",
            "style": "IPY_MODEL_dff0ae29eaeb4992b4f3e41ba1bc17a2",
            "rows": null,
            "_dom_classes": [],
            "description": "",
            "_model_name": "TextareaModel",
            "placeholder": "Type something like \"covid\" or incubation",
            "_view_module": "@jupyter-widgets/controls",
            "_model_module_version": "1.5.0",
            "value": "coronavirus",
            "_view_count": null,
            "disabled": false,
            "_view_module_version": "1.5.0",
            "continuous_update": true,
            "description_tooltip": null,
            "_model_module": "@jupyter-widgets/controls",
            "layout": "IPY_MODEL_c0dbe5ff7b8a4f79882deec281d33af0"
          }
        },
        "bd943f20677c41ac95dd510a1a5febe3": {
          "model_module": "@jupyter-widgets/controls",
          "model_name": "ButtonModel",
          "state": {
            "_view_name": "ButtonView",
            "style": "IPY_MODEL_599430d2279b484ebc50e8c6a8ef68a5",
            "_dom_classes": [],
            "description": "+",
            "_model_name": "ButtonModel",
            "button_style": "",
            "_view_module": "@jupyter-widgets/controls",
            "_model_module_version": "1.5.0",
            "tooltip": "",
            "_view_count": null,
            "disabled": false,
            "_view_module_version": "1.5.0",
            "layout": "IPY_MODEL_073a1006b10440d59272bba8e9591362",
            "_model_module": "@jupyter-widgets/controls",
            "icon": ""
          }
        },
        "4316b3b2c42646bf8f0a3c538c450753": {
          "model_module": "@jupyter-widgets/base",
          "model_name": "LayoutModel",
          "state": {
            "_view_name": "LayoutView",
            "grid_template_rows": null,
            "right": null,
            "justify_content": null,
            "_view_module": "@jupyter-widgets/base",
            "overflow": null,
            "_model_module_version": "1.2.0",
            "_view_count": null,
            "flex_flow": null,
            "width": null,
            "min_width": null,
            "border": null,
            "align_items": "center",
            "bottom": null,
            "_model_module": "@jupyter-widgets/base",
            "top": null,
            "grid_column": null,
            "overflow_y": null,
            "overflow_x": null,
            "grid_auto_flow": null,
            "grid_area": null,
            "grid_template_columns": null,
            "flex": null,
            "_model_name": "LayoutModel",
            "justify_items": null,
            "grid_row": null,
            "max_height": null,
            "align_content": null,
            "visibility": null,
            "align_self": null,
            "height": null,
            "min_height": null,
            "padding": null,
            "grid_auto_rows": null,
            "grid_gap": null,
            "max_width": null,
            "order": null,
            "_view_module_version": "1.2.0",
            "grid_template_areas": null,
            "object_position": null,
            "object_fit": null,
            "grid_auto_columns": null,
            "margin": null,
            "display": null,
            "left": null
          }
        },
        "079a29ba32e34c4e90fdb25da247d8a9": {
          "model_module": "@jupyter-widgets/controls",
          "model_name": "DropdownModel",
          "state": {
            "_options_labels": [
              "AND",
              "OR",
              "NOT"
            ],
            "_view_name": "DropdownView",
            "style": "IPY_MODEL_e55d10d6da6040c7bfe796358d66de49",
            "_dom_classes": [],
            "description": "Operator: ",
            "_model_name": "DropdownModel",
            "index": 0,
            "_view_module": "@jupyter-widgets/controls",
            "_model_module_version": "1.5.0",
            "_view_count": null,
            "disabled": false,
            "_view_module_version": "1.5.0",
            "description_tooltip": null,
            "_model_module": "@jupyter-widgets/controls",
            "layout": "IPY_MODEL_d65a524d486d4e0594dda83c47097214"
          }
        },
        "b99ec61a251b46b091d9914072e130f4": {
          "model_module": "@jupyter-widgets/controls",
          "model_name": "TextareaModel",
          "state": {
            "_view_name": "TextareaView",
            "style": "IPY_MODEL_f0b9d9aa5b644fd1933637692be1a3fc",
            "rows": null,
            "_dom_classes": [],
            "description": "",
            "_model_name": "TextareaModel",
            "placeholder": "Type something like \"covid\" or incubation",
            "_view_module": "@jupyter-widgets/controls",
            "_model_module_version": "1.5.0",
            "value": "incubation",
            "_view_count": null,
            "disabled": false,
            "_view_module_version": "1.5.0",
            "continuous_update": true,
            "description_tooltip": null,
            "_model_module": "@jupyter-widgets/controls",
            "layout": "IPY_MODEL_8427f75439c64b9da136d7471ad5d1fc"
          }
        },
        "c08800cf3e074838a524ea02cda65e49": {
          "model_module": "@jupyter-widgets/base",
          "model_name": "LayoutModel",
          "state": {
            "_view_name": "LayoutView",
            "grid_template_rows": null,
            "right": null,
            "justify_content": null,
            "_view_module": "@jupyter-widgets/base",
            "overflow": null,
            "_model_module_version": "1.2.0",
            "_view_count": null,
            "flex_flow": null,
            "width": null,
            "min_width": null,
            "border": null,
            "align_items": "center",
            "bottom": null,
            "_model_module": "@jupyter-widgets/base",
            "top": null,
            "grid_column": null,
            "overflow_y": null,
            "overflow_x": null,
            "grid_auto_flow": null,
            "grid_area": null,
            "grid_template_columns": null,
            "flex": null,
            "_model_name": "LayoutModel",
            "justify_items": null,
            "grid_row": null,
            "max_height": null,
            "align_content": null,
            "visibility": null,
            "align_self": null,
            "height": null,
            "min_height": null,
            "padding": null,
            "grid_auto_rows": null,
            "grid_gap": null,
            "max_width": null,
            "order": null,
            "_view_module_version": "1.2.0",
            "grid_template_areas": null,
            "object_position": null,
            "object_fit": null,
            "grid_auto_columns": null,
            "margin": null,
            "display": null,
            "left": null
          }
        },
        "beb60e572ce24afca61108e07b02ddf1": {
          "model_module": "@jupyter-widgets/controls",
          "model_name": "DropdownModel",
          "state": {
            "_options_labels": [
              "AND",
              "OR",
              "NOT"
            ],
            "_view_name": "DropdownView",
            "style": "IPY_MODEL_e93d699cccdb4bafa443024f38ff500a",
            "_dom_classes": [],
            "description": "Operator: ",
            "_model_name": "DropdownModel",
            "index": 0,
            "_view_module": "@jupyter-widgets/controls",
            "_model_module_version": "1.5.0",
            "_view_count": null,
            "disabled": false,
            "_view_module_version": "1.5.0",
            "description_tooltip": null,
            "_model_module": "@jupyter-widgets/controls",
            "layout": "IPY_MODEL_492f15cc14f74880ba4aaedcf018a1f4"
          }
        },
        "743cccbd0fbb4482920582d47cc35783": {
          "model_module": "@jupyter-widgets/controls",
          "model_name": "TextareaModel",
          "state": {
            "_view_name": "TextareaView",
            "style": "IPY_MODEL_b1c52966fad54fbd81f4daac664e1e8d",
            "rows": null,
            "_dom_classes": [],
            "description": "",
            "_model_name": "TextareaModel",
            "placeholder": "Type something like \"covid\" or incubation",
            "_view_module": "@jupyter-widgets/controls",
            "_model_module_version": "1.5.0",
            "value": "",
            "_view_count": null,
            "disabled": false,
            "_view_module_version": "1.5.0",
            "continuous_update": true,
            "description_tooltip": null,
            "_model_module": "@jupyter-widgets/controls",
            "layout": "IPY_MODEL_cc79edfc84444b0ca3245677c6178285"
          }
        },
        "dff0ae29eaeb4992b4f3e41ba1bc17a2": {
          "model_module": "@jupyter-widgets/controls",
          "model_name": "DescriptionStyleModel",
          "state": {
            "_view_name": "StyleView",
            "_model_name": "DescriptionStyleModel",
            "description_width": "",
            "_view_module": "@jupyter-widgets/base",
            "_model_module_version": "1.5.0",
            "_view_count": null,
            "_view_module_version": "1.2.0",
            "_model_module": "@jupyter-widgets/controls"
          }
        },
        "c0dbe5ff7b8a4f79882deec281d33af0": {
          "model_module": "@jupyter-widgets/base",
          "model_name": "LayoutModel",
          "state": {
            "_view_name": "LayoutView",
            "grid_template_rows": null,
            "right": null,
            "justify_content": null,
            "_view_module": "@jupyter-widgets/base",
            "overflow": null,
            "_model_module_version": "1.2.0",
            "_view_count": null,
            "flex_flow": null,
            "width": "100%",
            "min_width": null,
            "border": null,
            "align_items": null,
            "bottom": null,
            "_model_module": "@jupyter-widgets/base",
            "top": null,
            "grid_column": null,
            "overflow_y": null,
            "overflow_x": null,
            "grid_auto_flow": null,
            "grid_area": null,
            "grid_template_columns": null,
            "flex": null,
            "_model_name": "LayoutModel",
            "justify_items": null,
            "grid_row": null,
            "max_height": null,
            "align_content": null,
            "visibility": null,
            "align_self": null,
            "height": "50px",
            "min_height": null,
            "padding": null,
            "grid_auto_rows": null,
            "grid_gap": null,
            "max_width": null,
            "order": null,
            "_view_module_version": "1.2.0",
            "grid_template_areas": null,
            "object_position": null,
            "object_fit": null,
            "grid_auto_columns": null,
            "margin": null,
            "display": null,
            "left": null
          }
        },
        "599430d2279b484ebc50e8c6a8ef68a5": {
          "model_module": "@jupyter-widgets/controls",
          "model_name": "ButtonStyleModel",
          "state": {
            "_view_name": "StyleView",
            "_model_name": "ButtonStyleModel",
            "_view_module": "@jupyter-widgets/base",
            "_model_module_version": "1.5.0",
            "_view_count": null,
            "button_color": null,
            "font_weight": "",
            "_view_module_version": "1.2.0",
            "_model_module": "@jupyter-widgets/controls"
          }
        },
        "073a1006b10440d59272bba8e9591362": {
          "model_module": "@jupyter-widgets/base",
          "model_name": "LayoutModel",
          "state": {
            "_view_name": "LayoutView",
            "grid_template_rows": null,
            "right": null,
            "justify_content": null,
            "_view_module": "@jupyter-widgets/base",
            "overflow": null,
            "_model_module_version": "1.2.0",
            "_view_count": null,
            "flex_flow": null,
            "width": null,
            "min_width": null,
            "border": null,
            "align_items": null,
            "bottom": null,
            "_model_module": "@jupyter-widgets/base",
            "top": null,
            "grid_column": null,
            "overflow_y": null,
            "overflow_x": null,
            "grid_auto_flow": null,
            "grid_area": null,
            "grid_template_columns": null,
            "flex": null,
            "_model_name": "LayoutModel",
            "justify_items": null,
            "grid_row": null,
            "max_height": null,
            "align_content": null,
            "visibility": null,
            "align_self": null,
            "height": null,
            "min_height": null,
            "padding": null,
            "grid_auto_rows": null,
            "grid_gap": null,
            "max_width": null,
            "order": null,
            "_view_module_version": "1.2.0",
            "grid_template_areas": null,
            "object_position": null,
            "object_fit": null,
            "grid_auto_columns": null,
            "margin": null,
            "display": null,
            "left": null
          }
        },
        "e55d10d6da6040c7bfe796358d66de49": {
          "model_module": "@jupyter-widgets/controls",
          "model_name": "DescriptionStyleModel",
          "state": {
            "_view_name": "StyleView",
            "_model_name": "DescriptionStyleModel",
            "description_width": "",
            "_view_module": "@jupyter-widgets/base",
            "_model_module_version": "1.5.0",
            "_view_count": null,
            "_view_module_version": "1.2.0",
            "_model_module": "@jupyter-widgets/controls"
          }
        },
        "d65a524d486d4e0594dda83c47097214": {
          "model_module": "@jupyter-widgets/base",
          "model_name": "LayoutModel",
          "state": {
            "_view_name": "LayoutView",
            "grid_template_rows": null,
            "right": null,
            "justify_content": null,
            "_view_module": "@jupyter-widgets/base",
            "overflow": null,
            "_model_module_version": "1.2.0",
            "_view_count": null,
            "flex_flow": null,
            "width": null,
            "min_width": null,
            "border": null,
            "align_items": null,
            "bottom": null,
            "_model_module": "@jupyter-widgets/base",
            "top": null,
            "grid_column": null,
            "overflow_y": null,
            "overflow_x": null,
            "grid_auto_flow": null,
            "grid_area": null,
            "grid_template_columns": null,
            "flex": null,
            "_model_name": "LayoutModel",
            "justify_items": null,
            "grid_row": null,
            "max_height": null,
            "align_content": null,
            "visibility": null,
            "align_self": null,
            "height": null,
            "min_height": null,
            "padding": null,
            "grid_auto_rows": null,
            "grid_gap": null,
            "max_width": null,
            "order": null,
            "_view_module_version": "1.2.0",
            "grid_template_areas": null,
            "object_position": null,
            "object_fit": null,
            "grid_auto_columns": null,
            "margin": null,
            "display": null,
            "left": null
          }
        },
        "f0b9d9aa5b644fd1933637692be1a3fc": {
          "model_module": "@jupyter-widgets/controls",
          "model_name": "DescriptionStyleModel",
          "state": {
            "_view_name": "StyleView",
            "_model_name": "DescriptionStyleModel",
            "description_width": "",
            "_view_module": "@jupyter-widgets/base",
            "_model_module_version": "1.5.0",
            "_view_count": null,
            "_view_module_version": "1.2.0",
            "_model_module": "@jupyter-widgets/controls"
          }
        },
        "8427f75439c64b9da136d7471ad5d1fc": {
          "model_module": "@jupyter-widgets/base",
          "model_name": "LayoutModel",
          "state": {
            "_view_name": "LayoutView",
            "grid_template_rows": null,
            "right": null,
            "justify_content": null,
            "_view_module": "@jupyter-widgets/base",
            "overflow": null,
            "_model_module_version": "1.2.0",
            "_view_count": null,
            "flex_flow": null,
            "width": "100%",
            "min_width": null,
            "border": null,
            "align_items": null,
            "bottom": null,
            "_model_module": "@jupyter-widgets/base",
            "top": null,
            "grid_column": null,
            "overflow_y": null,
            "overflow_x": null,
            "grid_auto_flow": null,
            "grid_area": null,
            "grid_template_columns": null,
            "flex": null,
            "_model_name": "LayoutModel",
            "justify_items": null,
            "grid_row": null,
            "max_height": null,
            "align_content": null,
            "visibility": null,
            "align_self": null,
            "height": "50px",
            "min_height": null,
            "padding": null,
            "grid_auto_rows": null,
            "grid_gap": null,
            "max_width": null,
            "order": null,
            "_view_module_version": "1.2.0",
            "grid_template_areas": null,
            "object_position": null,
            "object_fit": null,
            "grid_auto_columns": null,
            "margin": null,
            "display": null,
            "left": null
          }
        },
        "e93d699cccdb4bafa443024f38ff500a": {
          "model_module": "@jupyter-widgets/controls",
          "model_name": "DescriptionStyleModel",
          "state": {
            "_view_name": "StyleView",
            "_model_name": "DescriptionStyleModel",
            "description_width": "",
            "_view_module": "@jupyter-widgets/base",
            "_model_module_version": "1.5.0",
            "_view_count": null,
            "_view_module_version": "1.2.0",
            "_model_module": "@jupyter-widgets/controls"
          }
        },
        "492f15cc14f74880ba4aaedcf018a1f4": {
          "model_module": "@jupyter-widgets/base",
          "model_name": "LayoutModel",
          "state": {
            "_view_name": "LayoutView",
            "grid_template_rows": null,
            "right": null,
            "justify_content": null,
            "_view_module": "@jupyter-widgets/base",
            "overflow": null,
            "_model_module_version": "1.2.0",
            "_view_count": null,
            "flex_flow": null,
            "width": null,
            "min_width": null,
            "border": null,
            "align_items": null,
            "bottom": null,
            "_model_module": "@jupyter-widgets/base",
            "top": null,
            "grid_column": null,
            "overflow_y": null,
            "overflow_x": null,
            "grid_auto_flow": null,
            "grid_area": null,
            "grid_template_columns": null,
            "flex": null,
            "_model_name": "LayoutModel",
            "justify_items": null,
            "grid_row": null,
            "max_height": null,
            "align_content": null,
            "visibility": null,
            "align_self": null,
            "height": null,
            "min_height": null,
            "padding": null,
            "grid_auto_rows": null,
            "grid_gap": null,
            "max_width": null,
            "order": null,
            "_view_module_version": "1.2.0",
            "grid_template_areas": null,
            "object_position": null,
            "object_fit": null,
            "grid_auto_columns": null,
            "margin": null,
            "display": null,
            "left": null
          }
        },
        "b1c52966fad54fbd81f4daac664e1e8d": {
          "model_module": "@jupyter-widgets/controls",
          "model_name": "DescriptionStyleModel",
          "state": {
            "_view_name": "StyleView",
            "_model_name": "DescriptionStyleModel",
            "description_width": "",
            "_view_module": "@jupyter-widgets/base",
            "_model_module_version": "1.5.0",
            "_view_count": null,
            "_view_module_version": "1.2.0",
            "_model_module": "@jupyter-widgets/controls"
          }
        },
        "cc79edfc84444b0ca3245677c6178285": {
          "model_module": "@jupyter-widgets/base",
          "model_name": "LayoutModel",
          "state": {
            "_view_name": "LayoutView",
            "grid_template_rows": null,
            "right": null,
            "justify_content": null,
            "_view_module": "@jupyter-widgets/base",
            "overflow": null,
            "_model_module_version": "1.2.0",
            "_view_count": null,
            "flex_flow": null,
            "width": "100%",
            "min_width": null,
            "border": null,
            "align_items": null,
            "bottom": null,
            "_model_module": "@jupyter-widgets/base",
            "top": null,
            "grid_column": null,
            "overflow_y": null,
            "overflow_x": null,
            "grid_auto_flow": null,
            "grid_area": null,
            "grid_template_columns": null,
            "flex": null,
            "_model_name": "LayoutModel",
            "justify_items": null,
            "grid_row": null,
            "max_height": null,
            "align_content": null,
            "visibility": null,
            "align_self": null,
            "height": "50px",
            "min_height": null,
            "padding": null,
            "grid_auto_rows": null,
            "grid_gap": null,
            "max_width": null,
            "order": null,
            "_view_module_version": "1.2.0",
            "grid_template_areas": null,
            "object_position": null,
            "object_fit": null,
            "grid_auto_columns": null,
            "margin": null,
            "display": null,
            "left": null
          }
        },
        "45ea27a5d2fc4a5cbac6154e0213dd45": {
          "model_module": "@jupyter-widgets/controls",
          "model_name": "DropdownModel",
          "state": {
            "_options_labels": [
              "What is the range of incubation periods?",
              "What is the range of incubation periods in children/young adults?",
              "What is the range of incubation periods in the elderly?",
              "What is the range of incubation periods in healthcare workers?",
              "How long are individuals contagious?",
              "What is the prevalence of asymptomatic shedding?",
              "What is the prevalence of asymptomatic shedding in children/young adults?",
              "What is the prevalence of asymptomatic shedding in the elderly?",
              "What is the prevalence of asymptomatic shedding in healthcare workers?",
              "what is the prevalence of asymtpmatic shedding in healthcare settings and in community?",
              "How is the persistence of the virus on surfaces of different materials?",
              "How effective are movement control strategies",
              "How effective are movement control strategies in healthcare settings and in community?",
              "How effective are personal protective equipment?",
              "How effective are personal protective equipment in healthcare settings and in community?"
            ],
            "_view_name": "DropdownView",
            "style": "IPY_MODEL_8248d06a42f44551a48636d221ddb22b",
            "_dom_classes": [],
            "description": "Select a question:",
            "_model_name": "DropdownModel",
            "index": 2,
            "_view_module": "@jupyter-widgets/controls",
            "_model_module_version": "1.5.0",
            "_view_count": null,
            "disabled": false,
            "_view_module_version": "1.5.0",
            "description_tooltip": null,
            "_model_module": "@jupyter-widgets/controls",
            "layout": "IPY_MODEL_1e37b9a6c990450bb278fe8155557a95"
          }
        },
        "8248d06a42f44551a48636d221ddb22b": {
          "model_module": "@jupyter-widgets/controls",
          "model_name": "DescriptionStyleModel",
          "state": {
            "_view_name": "StyleView",
            "_model_name": "DescriptionStyleModel",
            "description_width": "",
            "_view_module": "@jupyter-widgets/base",
            "_model_module_version": "1.5.0",
            "_view_count": null,
            "_view_module_version": "1.2.0",
            "_model_module": "@jupyter-widgets/controls"
          }
        },
        "1e37b9a6c990450bb278fe8155557a95": {
          "model_module": "@jupyter-widgets/base",
          "model_name": "LayoutModel",
          "state": {
            "_view_name": "LayoutView",
            "grid_template_rows": null,
            "right": null,
            "justify_content": null,
            "_view_module": "@jupyter-widgets/base",
            "overflow": null,
            "_model_module_version": "1.2.0",
            "_view_count": null,
            "flex_flow": null,
            "width": null,
            "min_width": null,
            "border": null,
            "align_items": null,
            "bottom": null,
            "_model_module": "@jupyter-widgets/base",
            "top": null,
            "grid_column": null,
            "overflow_y": null,
            "overflow_x": null,
            "grid_auto_flow": null,
            "grid_area": null,
            "grid_template_columns": null,
            "flex": null,
            "_model_name": "LayoutModel",
            "justify_items": null,
            "grid_row": null,
            "max_height": null,
            "align_content": null,
            "visibility": null,
            "align_self": null,
            "height": null,
            "min_height": null,
            "padding": null,
            "grid_auto_rows": null,
            "grid_gap": null,
            "max_width": null,
            "order": null,
            "_view_module_version": "1.2.0",
            "grid_template_areas": null,
            "object_position": null,
            "object_fit": null,
            "grid_auto_columns": null,
            "margin": null,
            "display": null,
            "left": null
          }
        }
      }
    }
  },
  "cells": [
    {
      "cell_type": "markdown",
      "metadata": {
        "id": "view-in-github",
        "colab_type": "text"
      },
      "source": [
        "<a href=\"https://colab.research.google.com/github/antonpolishko/task-ties/blob/master/TIES_LDA_POC.ipynb\" target=\"_parent\"><img src=\"https://colab.research.google.com/assets/colab-badge.svg\" alt=\"Open In Colab\"/></a>"
      ]
    },
    {
      "cell_type": "markdown",
      "metadata": {
        "id": "t-3pFoVofHH9",
        "colab_type": "text"
      },
      "source": [
        "#Set-up Code"
      ]
    },
    {
      "cell_type": "code",
      "metadata": {
        "id": "KuCu28XDVapd",
        "colab_type": "code",
        "outputId": "20b32e0d-54d5-43cd-e207-180b8bb198bc",
        "colab": {
          "base_uri": "https://localhost:8080/",
          "height": 170
        }
      },
      "source": [
        "!pip install git+https://github.com/bmabey/pyLDAvis.git@master#egg=pyLDAvis -q\n",
        "!pip install whoosh -q\n",
        "\n",
        "import pyLDAvis.sklearn\n",
        "\n",
        "import pandas as pd\n",
        "import numpy as np\n",
        "import os\n",
        "from pathlib import Path, PurePath\n",
        "from ipywidgets import interact\n",
        "import ipywidgets as widgets\n",
        "from collections import defaultdict\n",
        "import json\n",
        "\n",
        "import whoosh\n",
        "from whoosh.qparser import *\n",
        "from whoosh.fields import Schema, TEXT, KEYWORD, ID, STORED, NUMERIC, NGRAMWORDS\n",
        "from whoosh.analysis import StemmingAnalyzer,StandardAnalyzer, NgramFilter\n",
        "from whoosh import index"
      ],
      "execution_count": 0,
      "outputs": [
        {
          "output_type": "stream",
          "text": [
            "\u001b[K     |████████████████████████████████| 8.9MB 2.8MB/s \n",
            "\u001b[K     |████████████████████████████████| 552kB 37.4MB/s \n",
            "\u001b[?25h  Building wheel for pyLDAvis (setup.py) ... \u001b[?25l\u001b[?25hdone\n",
            "  Building wheel for funcy (setup.py) ... \u001b[?25l\u001b[?25hdone\n",
            "\u001b[31mERROR: xarray 0.15.1 has requirement pandas>=0.25, but you'll have pandas 0.23.4 which is incompatible.\u001b[0m\n",
            "\u001b[31mERROR: plotnine 0.6.0 has requirement pandas>=0.25.0, but you'll have pandas 0.23.4 which is incompatible.\u001b[0m\n",
            "\u001b[31mERROR: mizani 0.6.0 has requirement pandas>=0.25.0, but you'll have pandas 0.23.4 which is incompatible.\u001b[0m\n",
            "\u001b[31mERROR: google-colab 1.0.0 has requirement pandas~=1.0.0; python_version >= \"3.0\", but you'll have pandas 0.23.4 which is incompatible.\u001b[0m\n",
            "\u001b[K     |████████████████████████████████| 471kB 2.8MB/s \n",
            "\u001b[?25h"
          ],
          "name": "stdout"
        }
      ]
    },
    {
      "cell_type": "code",
      "metadata": {
        "id": "43YdREZ7S9ZE",
        "colab_type": "code",
        "colab": {}
      },
      "source": [
        "# set data paths, this requires local drive to have a folder calld \"COVID-19\" with the clean_metadata.csv file\n",
        "# returns a string to the local path setup\n",
        "def setup_local_data():\n",
        "  from google.colab import drive\n",
        "  drive.mount('/content/drive')\n",
        "  drive_path=PurePath('/content/drive/My Drive')\n",
        "  input_dir = drive_path/'COVID-19'\n",
        "  print(list(Path(input_dir).glob('*')))\n",
        "  return input_dir"
      ],
      "execution_count": 0,
      "outputs": []
    },
    {
      "cell_type": "code",
      "metadata": {
        "id": "AO46K-H2Tewn",
        "colab_type": "code",
        "colab": {}
      },
      "source": [
        "#read the metadata file into df\n",
        "def read_metadata_csv(input_dir):\n",
        "  metadata_path = input_dir / 'clean_metadata.csv'\n",
        "  metadata = pd.read_csv(metadata_path,\n",
        "                         dtype={'cord_uid':str,\n",
        "                                'sha':str,\n",
        "                                'publish_time': str, \n",
        "                                'authors':str,\n",
        "                                'title': str,\n",
        "                                'abstract':str,\n",
        "                                'url': str},\n",
        "                         parse_dates = ['publish_time']\n",
        "                         )\n",
        "  #set the abstract to the paper title if it is null\n",
        "  metadata['abstract'] = metadata['abstract'] .fillna(metadata['title'])\n",
        "  metadata['publish_year'] = pd.DatetimeIndex(metadata['publish_time']).year\n",
        "  metadata = metadata.drop('Unnamed: 0', axis=1)\n",
        "  return metadata"
      ],
      "execution_count": 0,
      "outputs": []
    },
    {
      "cell_type": "code",
      "metadata": {
        "id": "ees7qks4TtHY",
        "colab_type": "code",
        "colab": {}
      },
      "source": [
        "def read_full_data_csv(input_dir):\n",
        "  path = input_dir / 'covid_data_full_v5.csv'\n",
        "  full_data = pd.read_csv(path)\n",
        "  return full_data"
      ],
      "execution_count": 0,
      "outputs": []
    },
    {
      "cell_type": "code",
      "metadata": {
        "id": "wsMAPxzCF5ZA",
        "colab_type": "code",
        "colab": {}
      },
      "source": [
        "def read_query_dictionary(input_dir):\n",
        "  path = input_dir / 'covid_query_dictionary.json'\n",
        "  with open(path) as f:\n",
        "    query_dict = json.load(f)\n",
        "  return query_dict"
      ],
      "execution_count": 0,
      "outputs": []
    },
    {
      "cell_type": "code",
      "metadata": {
        "id": "CTuEH1-vaFax",
        "colab_type": "code",
        "outputId": "0fdf4d13-7f3d-4cc6-d5f3-0bf2ff04753e",
        "colab": {
          "base_uri": "https://localhost:8080/",
          "height": 306
        }
      },
      "source": [
        "from sklearn.decomposition import LatentDirichletAllocation\n",
        "from sklearn.feature_extraction.text import CountVectorizer\n",
        "\n",
        "def get_count_vectorizer():\n",
        "  vectorizer = CountVectorizer(min_df =1, max_df=1, #min_df=5, max_df=0.9, \n",
        "                             stop_words='english', lowercase=True, \n",
        "                             token_pattern='[a-zA-Z\\-][a-zA-Z\\-]{2,}')\n",
        "  return vectorizer\n",
        "\n",
        "def get_lda_model(num_topics):\n",
        "  lda_model = LatentDirichletAllocation(n_components=num_topics, max_iter=10, learning_method='online')\n",
        "  return lda_model"
      ],
      "execution_count": 0,
      "outputs": [
        {
          "output_type": "stream",
          "text": [
            "<input>:7: DeprecationWarning: invalid escape sequence \\-\n",
            "<input>:7: DeprecationWarning: invalid escape sequence \\-\n",
            "<input>:7: DeprecationWarning: invalid escape sequence \\-\n",
            "<input>:7: DeprecationWarning: invalid escape sequence \\-\n",
            "<input>:7: DeprecationWarning: invalid escape sequence \\-\n",
            "<input>:7: DeprecationWarning: invalid escape sequence \\-\n",
            "<input>:7: DeprecationWarning: invalid escape sequence \\-\n",
            "<input>:7: DeprecationWarning: invalid escape sequence \\-\n",
            "<input>:7: DeprecationWarning: invalid escape sequence \\-\n",
            "<input>:7: DeprecationWarning: invalid escape sequence \\-\n",
            "<input>:7: DeprecationWarning: invalid escape sequence \\-\n",
            "<input>:7: DeprecationWarning: invalid escape sequence \\-\n",
            "<input>:7: DeprecationWarning: invalid escape sequence \\-\n",
            "<input>:7: DeprecationWarning: invalid escape sequence \\-\n",
            "<input>:7: DeprecationWarning: invalid escape sequence \\-\n",
            "<ipython-input-14-8ad2768132cf>:7: DeprecationWarning: invalid escape sequence \\-\n",
            "  token_pattern='[a-zA-Z\\-][a-zA-Z\\-]{2,}')\n"
          ],
          "name": "stderr"
        }
      ]
    },
    {
      "cell_type": "code",
      "metadata": {
        "id": "XtNFS7DtCh9Z",
        "colab_type": "code",
        "colab": {}
      },
      "source": [
        "#get hardcoded schema for the index\n",
        "def get_search_schema():\n",
        "  schema = Schema(uid = TEXT(stored=True),\n",
        "                  sha = TEXT(stored=True),\n",
        "                  year=NUMERIC(stored=True),\n",
        "                  author=TEXT(stored=True),\n",
        "                  title=TEXT(analyzer=StandardAnalyzer(),stored=True),\n",
        "                  abstract=TEXT(analyzer=StandardAnalyzer(),stored=True),\n",
        "                  url=TEXT(stored=True))\n",
        "  return schema\n",
        "\n",
        "# creates an index in a dictionary (only need to run once)\n",
        "# noop if it's already created\n",
        "def create_search_index(drive_path, search_schema):\n",
        "  if not os.path.exists(drive_path/'indexdir'):\n",
        "      os.mkdir(drive_path/'indexdir')\n",
        "  ix = index.create_in(drive_path/'indexdir', search_schema)\n",
        "  # #open an existing index object\n",
        "  # ix = index.open_dir(drive_path/'indexdir')\n",
        "  return ix\n",
        "\n",
        "\n",
        "def add_documents_to_index(ix, metadata):\n",
        "  #cancel writer in case re-indexing is needed\n",
        "  if 'writer' in locals():\n",
        "    writer.cancel()\n",
        "  #create a writer object to add documents to the index\n",
        "  writer = ix.writer()\n",
        "\n",
        "  #now we can add documents to the index\n",
        "  uid = metadata['cord_uid']\n",
        "  sha = metadata['sha']\n",
        "  year = metadata['publish_year']\n",
        "  author = metadata['authors']\n",
        "  title = metadata['title']\n",
        "  abstract = metadata['abstract']\n",
        "  url = metadata['url']\n",
        "\n",
        "  for UID, SHA, YEAR, AUTHOR, TITLE, ABSTRACT, URL in zip(uid, sha, year,author,title,abstract,url):\n",
        "    writer.add_document(uid = str(UID),\n",
        "                        sha= str(SHA),\n",
        "                        year= int(YEAR),\n",
        "                        author=str(AUTHOR),\n",
        "                        title=str(TITLE),\n",
        "                        abstract=str(ABSTRACT),\n",
        "                        url=str(URL))\n",
        "\n",
        "  #close the writer and save the added documents in the index\n",
        "  #you should call the commit() function once you finish adding the documents otherwise you will cause an error-\n",
        "  #when you try to edit the index next time and open another writer. \n",
        "  writer.commit()\n",
        "\n",
        "  # need to cancel writer if error or need to reset\n",
        "  # writer.cancel()\n",
        "  return\n",
        "\n",
        "# get a multifield parser for the list of inptted fields\n",
        "def get_multifield_parser(fields, search_schema):\n",
        "  parser = MultifieldParser(fields, schema=search_schema)\n",
        "  parser.add_plugin(GtLtPlugin())\n",
        "  parser.add_plugin(SequencePlugin())\n",
        "  parser.add_plugin(PhrasePlugin())\n",
        "  return parser\n",
        "\n",
        "# this takes in a parser and query string to return the actual query that'll be sent to the searcher\n",
        "def get_parser_query(parser, query):\n",
        "  result = parser.parse(query) # use boolean operators in quotation\n",
        "  print(result)\n",
        "  return result\n",
        "\n",
        "# Convert the doi to a url\n",
        "# def doi_url(d): \n",
        "#     return f'http://{d}' if d.startswith('doi.org') else f'http://doi.org/{d}'\n",
        "    \n",
        "# this method takes in a search index and query to return a dataframe of results\n",
        "# ix is the document index we created before\n",
        "# query is the string found from the parser\n",
        "def get_search_results(ix, query):\n",
        "  #you can open the searcher using a with statement so the searcher is automatically closed when you’re done with it\n",
        "  with ix.searcher() as searcher:\n",
        "      results = searcher.search(query, limit=None)#The Results object acts like a list of the matched documents\n",
        "      print('Total Hits: {}\\n'.format(len(results)))\n",
        "      # print(results)\n",
        "      output_dict = defaultdict(list)\n",
        "      num = 0\n",
        "      for result in results:\n",
        "        # print(result)\n",
        "        num = num + 1\n",
        "        output_dict['cord_uid'].append(result['uid'])\n",
        "        output_dict['sha'].append(result['sha'])\n",
        "        output_dict['bm25_score'].append(result.score)\n",
        "        output_dict['title'].append(result['title'])\n",
        "        output_dict['abstract'].append(result['abstract'])\n",
        "        output_dict['publish_year'].append(result['year'])\n",
        "        output_dict['authors'].append(result['author'])\n",
        "        output_dict['url'].append(result['url'])\n",
        "      print(\"Loop ran {} times.\".format(num))\n",
        "\n",
        "  # print(len(output_dict['title']))\n",
        "  output_df = pd.DataFrame(output_dict)\n",
        "  print(output_df.shape)\n",
        "  # output_df['doi'] = output_df['doi'].apply(lambda x: doi_url(x) if x !='nan' else x)  \n",
        "  return output_df"
      ],
      "execution_count": 0,
      "outputs": []
    },
    {
      "cell_type": "code",
      "metadata": {
        "id": "oKBaxm4yEMqw",
        "colab_type": "code",
        "colab": {}
      },
      "source": [
        "from ipywidgets import interact, Layout, HBox, VBox, Box\n",
        "from IPython.display import HTML, display, clear_output\n",
        "import ipywidgets as widgets\n",
        "from IPython.display import update_display\n",
        "\n",
        "def get_new_text_box():\n",
        "  textW = widgets.Textarea(\n",
        "        value='',\n",
        "        placeholder='Type something like \"covid\" or incubation',\n",
        "        description='',\n",
        "        disabled=False,\n",
        "        layout=Layout(width='100%', height='50px')\n",
        "    )\n",
        "  return textW\n",
        "\n",
        "def get_new_plus_button():\n",
        "  button = widgets.Button(description=\"+\")\n",
        "  return button\n",
        "\n",
        "def get_new_dropdown():\n",
        "  dropdown = widgets.Dropdown(\n",
        "      options=['AND', 'OR', 'NOT'],\n",
        "      value='AND',\n",
        "      description='Operator: ',\n",
        "      disabled=False,\n",
        "    )\n",
        "  return dropdown\n",
        "\n",
        "def dynamic_search_query(parser, ix):\n",
        "  textW = widgets.Textarea(\n",
        "        value='',\n",
        "        placeholder='Type something like \"covid\" or incubation',\n",
        "        description='',\n",
        "        disabled=False,\n",
        "        layout=Layout(width='100%', height='50px')\n",
        "    )\n",
        "  \n",
        "  button = widgets.Button(description=\"+\")\n",
        "  search_rows_list = []\n",
        "  search_rows_list.append( HBox([textW, button], layout=Layout(align_items='center')) )\n",
        "  # vboxes = [\n",
        "  #           VBox(search_rows_list, layout=Layout(align_items='center')),\n",
        "  #           VBox([button], layout=Layout(object_position='bottom'))\n",
        "  #           ]\n",
        "  # display_handle = display(vboxes, display_id='disp')\n",
        "  display_handle = display(VBox(search_rows_list, layout=Layout(align_items='center')), display_id='disp')\n",
        "  # display(HBox([textW, button], layout=Layout(align_items='center')))\n",
        "\n",
        "  #search_rows_list is a list of HBox objects\n",
        "  # the first index will just be a text box and '+' button\n",
        "  # subsequent rows will have operator, text box, and '+' button\n",
        "  def on_button_clicked(b):\n",
        "    global STORED_SEARCH_QUERY\n",
        "    # global search_rows_list\n",
        "    clear_output(wait=True)\n",
        "    new_text_box = get_new_text_box()\n",
        "    dropdown = get_new_dropdown()\n",
        "    # new_plus_button = get_new_plus_button()\n",
        "    search_rows_list.append( HBox([dropdown, new_text_box, button], layout=Layout(align_items='center')) )\n",
        "    # print(len(search_rows_list))\n",
        "    # display(VBox(search_rows_list, layout=Layout(align_items='center')))\n",
        "    display_handle.update(VBox(search_rows_list, layout=Layout(align_items='center')))\n",
        "\n",
        "    combined = ''\n",
        "    for i in range(0, len(search_rows_list)-1): #we do len - 1 since newet row has no values\n",
        "      row = search_rows_list[i]\n",
        "      # print(row)\n",
        "      # print(i)\n",
        "      if i == 0:\n",
        "        temp = combined + row.children[0].value\n",
        "        combined = temp\n",
        "      else:\n",
        "        temp = combined + ' ' + row.children[0].value + ' ' + row.children[1].value\n",
        "        combined = temp\n",
        "    \n",
        "    print(\"Current raw search query:\\n\" + combined)\n",
        "    print(\"Current query from parser:\")\n",
        "    query = get_parser_query(parser, combined) #already prints in method\n",
        "    STORED_SEARCH_QUERY = query\n",
        "    # update_display(display_id)\n",
        "\n",
        "  button.on_click(on_button_clicked)\n"
      ],
      "execution_count": 0,
      "outputs": []
    },
    {
      "cell_type": "code",
      "metadata": {
        "id": "JFk3HBQkI55o",
        "colab_type": "code",
        "colab": {}
      },
      "source": [
        "def get_query_dropdown():\n",
        "  query_dictonary = read_query_dictionary(local_dir)\n",
        "  dropdown = widgets.Dropdown(\n",
        "      options=list(query_dictonary.keys()),\n",
        "      value='What is the range of incubation periods?',\n",
        "      description='Select a question:',\n",
        "      disabled=False,\n",
        "  )\n",
        "  return dropdown\n",
        "def precoded_search_query(parser, ix):\n",
        "  query_dictonary = read_query_dictionary(local_dir)\n",
        "  select_question = get_query_dropdown()\n",
        "  def on_change(change):\n",
        "    if change['name'] == 'value' and (change['new'] != change['old']): #### bug to fix \n",
        "      global STORED_PRECODED_QUERY\n",
        "      precoded_query = query_dictonary[select_question.value]\n",
        "      query = get_parser_query(parser, precoded_query) #already prints in method\n",
        "      STORED_PRECODED_QUERY = query\n",
        "  \n",
        "  select_question.observe(on_change)\n",
        "  display(select_question)"
      ],
      "execution_count": 0,
      "outputs": []
    },
    {
      "cell_type": "markdown",
      "metadata": {
        "id": "VTKbBEEzTtr4",
        "colab_type": "text"
      },
      "source": [
        "# Main Code"
      ]
    },
    {
      "cell_type": "markdown",
      "metadata": {
        "id": "kz4mkYfST8Sx",
        "colab_type": "text"
      },
      "source": [
        "##Search Engine"
      ]
    },
    {
      "cell_type": "code",
      "metadata": {
        "id": "GJXe6bvZTvKj",
        "colab_type": "code",
        "outputId": "4a50eebd-df0a-4df1-b418-ded513e7669d",
        "colab": {
          "base_uri": "https://localhost:8080/",
          "height": 71
        }
      },
      "source": [
        "local_dir = setup_local_data()"
      ],
      "execution_count": 0,
      "outputs": [
        {
          "output_type": "stream",
          "text": [
            "Drive already mounted at /content/drive; to attempt to forcibly remount, call drive.mount(\"/content/drive\", force_remount=True).\n",
            "[PosixPath('/content/drive/My Drive/COVID-19/TestSearchResults_Incubation.csv'), PosixPath('/content/drive/My Drive/COVID-19/TestSearchResults_Incubation.gsheet'), PosixPath('/content/drive/My Drive/COVID-19/TestSearchResults_Incubation_v5.csv'), PosixPath('/content/drive/My Drive/COVID-19/TestSearchResults_Incubation_v5_target.csv'), PosixPath('/content/drive/My Drive/COVID-19/CORD-19-research-challenge-v5.zip'), PosixPath('/content/drive/My Drive/COVID-19/data'), PosixPath('/content/drive/My Drive/COVID-19/covid_vectors_part_0.json'), PosixPath('/content/drive/My Drive/COVID-19/covid_vectors_part_1.json'), PosixPath('/content/drive/My Drive/COVID-19/covid_vectors_part_2.json'), PosixPath('/content/drive/My Drive/COVID-19/covid_vectors_part_3.json'), PosixPath('/content/drive/My Drive/COVID-19/covid_vectors_part_4.json'), PosixPath('/content/drive/My Drive/COVID-19/covid_vectors_part_5.json'), PosixPath('/content/drive/My Drive/COVID-19/covid_vectors_part_6.json'), PosixPath('/content/drive/My Drive/COVID-19/covid_vectors_part_7.json'), PosixPath('/content/drive/My Drive/COVID-19/covid_vectors_part_8.json'), PosixPath('/content/drive/My Drive/COVID-19/covid_vectors_part_9.json'), PosixPath('/content/drive/My Drive/COVID-19/covid_abstract_vectors.json'), PosixPath('/content/drive/My Drive/COVID-19/pickall_top20.csv'), PosixPath('/content/drive/My Drive/COVID-19/target_vecs_5.json'), PosixPath('/content/drive/My Drive/COVID-19/target_vecs_10.json'), PosixPath('/content/drive/My Drive/COVID-19/target_vecs_20.json'), PosixPath('/content/drive/My Drive/COVID-19/target_vecs_71.json'), PosixPath('/content/drive/My Drive/COVID-19/pick71_top20.csv'), PosixPath('/content/drive/My Drive/COVID-19/covid_w2v_searchable_71.json'), PosixPath('/content/drive/My Drive/COVID-19/covid_w2v_searchable_5.json'), PosixPath('/content/drive/My Drive/COVID-19/covid_w2v_searchable_10.json'), PosixPath('/content/drive/My Drive/COVID-19/covid_w2v_searchable_20.json'), PosixPath('/content/drive/My Drive/COVID-19/target_vecs.json'), PosixPath('/content/drive/My Drive/COVID-19/covid_w2v_searchable_test.json'), PosixPath('/content/drive/My Drive/COVID-19/pick20_top20.csv'), PosixPath('/content/drive/My Drive/COVID-19/pick10_top20.csv'), PosixPath('/content/drive/My Drive/COVID-19/pick5_top20.csv'), PosixPath('/content/drive/My Drive/COVID-19/TestSearchResults_Incubation_v5_target.gsheet'), PosixPath('/content/drive/My Drive/COVID-19/pick10_hits.csv'), PosixPath('/content/drive/My Drive/COVID-19/pick10_hits.gsheet'), PosixPath('/content/drive/My Drive/COVID-19/covid_data_full_v5.json'), PosixPath('/content/drive/My Drive/COVID-19/metadata_v5.csv'), PosixPath('/content/drive/My Drive/COVID-19/indexdir'), PosixPath('/content/drive/My Drive/COVID-19/SearchResults'), PosixPath('/content/drive/My Drive/COVID-19/indexdir_test'), PosixPath('/content/drive/My Drive/COVID-19/CLQ_covid_comorbid.csv'), PosixPath('/content/drive/My Drive/COVID-19/CLQ_covid_safety.csv'), PosixPath('/content/drive/My Drive/COVID-19/CLQ_covid.csv'), PosixPath('/content/drive/My Drive/COVID-19/AllSearchResults.csv'), PosixPath('/content/drive/My Drive/COVID-19/AllSearchResults.gsheet'), PosixPath('/content/drive/My Drive/COVID-19/AllSearchResults_forViz.csv'), PosixPath('/content/drive/My Drive/COVID-19/AllSearchResults_forViz.gsheet'), PosixPath('/content/drive/My Drive/COVID-19/AnnotationSample_2020_04_02.csv'), PosixPath('/content/drive/My Drive/COVID-19/metadata_v5_summaries.csv'), PosixPath('/content/drive/My Drive/COVID-19/testSummaries.csv'), PosixPath('/content/drive/My Drive/COVID-19/testSummaries.gsheet'), PosixPath('/content/drive/My Drive/COVID-19/SearchResultsSummaries'), PosixPath('/content/drive/My Drive/COVID-19/AnnotationSample_2020_04_02.gsheet'), PosixPath('/content/drive/My Drive/COVID-19/SearchResults_summaries.json'), PosixPath('/content/drive/My Drive/COVID-19/AllSearchResultsSummaries.csv'), PosixPath('/content/drive/My Drive/COVID-19/AllSearchResultsSummaries.gsheet'), PosixPath('/content/drive/My Drive/COVID-19/AllSectionsSample.complete'), PosixPath('/content/drive/My Drive/COVID-19/clean_metadata.csv'), PosixPath('/content/drive/My Drive/COVID-19/AnnotationSample_2020_04_04.csv'), PosixPath('/content/drive/My Drive/COVID-19/abstract_summaries.json'), PosixPath('/content/drive/My Drive/COVID-19/scibert_scivocab_uncased'), PosixPath('/content/drive/My Drive/COVID-19/v6_text'), PosixPath('/content/drive/My Drive/COVID-19/AllSectionText.json'), PosixPath('/content/drive/My Drive/COVID-19/AllSectionText_Processed.json'), PosixPath('/content/drive/My Drive/COVID-19/AbstractSummaries'), PosixPath('/content/drive/My Drive/COVID-19/AbstractEmbeddings'), PosixPath('/content/drive/My Drive/COVID-19/query_dictionary.json'), PosixPath('/content/drive/My Drive/COVID-19/metadata_scibert.json'), PosixPath('/content/drive/My Drive/COVID-19/task-ties-UzairSearchLDAPOC'), PosixPath('/content/drive/My Drive/COVID-19/TopicModelOutput'), PosixPath('/content/drive/My Drive/COVID-19/SearchEngineOutput'), PosixPath('/content/drive/My Drive/COVID-19/TIES_Git'), PosixPath('/content/drive/My Drive/COVID-19/methods_lemma.json'), PosixPath('/content/drive/My Drive/COVID-19/methods_sentences.json'), PosixPath('/content/drive/My Drive/COVID-19/methods_results_demographics.json'), PosixPath('/content/drive/My Drive/COVID-19/PrelimResults'), PosixPath('/content/drive/My Drive/COVID-19/methods_results_demographics.csv'), PosixPath('/content/drive/My Drive/COVID-19/methods_results_demographics.gsheet'), PosixPath('/content/drive/My Drive/COVID-19/covid19_query_dictionary.json'), PosixPath('/content/drive/My Drive/COVID-19/covid_query_dictionary.json'), PosixPath('/content/drive/My Drive/COVID-19/mers_query_dictionary.json'), PosixPath('/content/drive/My Drive/COVID-19/sars_query_dictionary.json'), PosixPath('/content/drive/My Drive/COVID-19/AnnotationSample_2020_04_04.gsheet')]\n"
          ],
          "name": "stdout"
        }
      ]
    },
    {
      "cell_type": "code",
      "metadata": {
        "id": "C1bloKuGVVmg",
        "colab_type": "code",
        "outputId": "33ebce27-6a1d-40cf-9bec-f0143e48d713",
        "colab": {
          "base_uri": "https://localhost:8080/",
          "height": 612
        }
      },
      "source": [
        "metadata = read_metadata_csv(local_dir)\n",
        "print(metadata.info())\n",
        "print(metadata.shape)\n",
        "print(metadata.head(5))\n"
      ],
      "execution_count": 0,
      "outputs": [
        {
          "output_type": "stream",
          "text": [
            "<class 'pandas.core.frame.DataFrame'>\n",
            "RangeIndex: 31745 entries, 0 to 31744\n",
            "Data columns (total 18 columns):\n",
            " #   Column                       Non-Null Count  Dtype         \n",
            "---  ------                       --------------  -----         \n",
            " 0   cord_uid                     31745 non-null  object        \n",
            " 1   sha                          31744 non-null  object        \n",
            " 2   source_x                     31745 non-null  object        \n",
            " 3   title                        31710 non-null  object        \n",
            " 4   doi                          31745 non-null  object        \n",
            " 5   pmcid                        16636 non-null  object        \n",
            " 6   pubmed_id                    24739 non-null  float64       \n",
            " 7   license                      31745 non-null  object        \n",
            " 8   abstract                     31744 non-null  object        \n",
            " 9   publish_time                 31745 non-null  datetime64[ns]\n",
            " 10  authors                      31191 non-null  object        \n",
            " 11  journal                      30623 non-null  object        \n",
            " 12  Microsoft Academic Paper ID  357 non-null    float64       \n",
            " 13  WHO #Covidence               490 non-null    object        \n",
            " 14  has_full_text                31745 non-null  bool          \n",
            " 15  full_text_file               31745 non-null  object        \n",
            " 16  url                          31563 non-null  object        \n",
            " 17  publish_year                 31745 non-null  int64         \n",
            "dtypes: bool(1), datetime64[ns](1), float64(2), int64(1), object(13)\n",
            "memory usage: 4.1+ MB\n",
            "None\n",
            "(31745, 18)\n",
            "   cord_uid  ... publish_year\n",
            "0  vho70jcx  ...         2014\n",
            "1  i9tbix2v  ...         2014\n",
            "2  62gfisc6  ...         2014\n",
            "3  058r9486  ...         2014\n",
            "4  wich35l7  ...         2014\n",
            "\n",
            "[5 rows x 18 columns]\n"
          ],
          "name": "stdout"
        }
      ]
    },
    {
      "cell_type": "code",
      "metadata": {
        "id": "Da3rG8-RFBpo",
        "colab_type": "code",
        "colab": {}
      },
      "source": [
        "search_schema = get_search_schema()\n",
        "##uncomment this line if indexing database for the first time\n",
        "# ix = create_search_index(local_dir, search_schema)\n",
        "# add_documents_to_index(ix, metadata)"
      ],
      "execution_count": 0,
      "outputs": []
    },
    {
      "cell_type": "code",
      "metadata": {
        "id": "aEutjzEs9qCz",
        "colab_type": "code",
        "colab": {}
      },
      "source": [
        "#read saved index from directory\n",
        "ix = index.open_dir(local_dir/'indexdir')\n",
        "\n",
        "#set default search fields to title OR abstract\n",
        "fields = [\"title\", \"abstract\"] \n",
        "parser = get_multifield_parser(fields, search_schema)\n",
        "STORED_SEARCH_QUERY = '' #this is stored as a global so the last search query from the parser can be used in later cells"
      ],
      "execution_count": 0,
      "outputs": []
    },
    {
      "cell_type": "markdown",
      "metadata": {
        "id": "KGzwuY2j9wne",
        "colab_type": "text"
      },
      "source": [
        "\n",
        "##Search Instructions\n",
        "\n",
        "#####The search engine searches in both title and abstract by default. To search keywords in title or abstract separtely, see example below:\n",
        "#####**title:(\"covid-19\") AND abstract:(\"incubation period\" OR exposure)**\n",
        "#####Notes: \n",
        "#####Enclose hyphenated words or phrases with quoatation\n",
        "#####Enclose a group of words to search within a field with parenthesis\")\n"
      ]
    },
    {
      "cell_type": "markdown",
      "metadata": {
        "id": "zkPAHDuoOkTp",
        "colab_type": "text"
      },
      "source": [
        "###Manual dynamic search"
      ]
    },
    {
      "cell_type": "code",
      "metadata": {
        "id": "IddhX3Gn9vRZ",
        "colab_type": "code",
        "outputId": "6e6c1495-1903-4c0a-afaf-0b92ef7ed2bd",
        "colab": {
          "base_uri": "https://localhost:8080/",
          "height": 247,
          "referenced_widgets": [
            "f165d5935c43488790e45ae2f65c557a",
            "8449716250864a5d93f998867f3a69aa",
            "9e90dc9d47f84cdf89bc622061d62eb4",
            "8f8e0b5687104fdea286e36e64552493",
            "90aec8fec85f42459918333526921cfd",
            "5560e78194cd43ef9a5b11fad3b59a7f",
            "0301cead3a594dd081ec8d0a53813a13",
            "bd943f20677c41ac95dd510a1a5febe3",
            "4316b3b2c42646bf8f0a3c538c450753",
            "079a29ba32e34c4e90fdb25da247d8a9",
            "b99ec61a251b46b091d9914072e130f4",
            "c08800cf3e074838a524ea02cda65e49",
            "beb60e572ce24afca61108e07b02ddf1",
            "743cccbd0fbb4482920582d47cc35783",
            "dff0ae29eaeb4992b4f3e41ba1bc17a2",
            "c0dbe5ff7b8a4f79882deec281d33af0",
            "599430d2279b484ebc50e8c6a8ef68a5",
            "073a1006b10440d59272bba8e9591362",
            "e55d10d6da6040c7bfe796358d66de49",
            "d65a524d486d4e0594dda83c47097214",
            "f0b9d9aa5b644fd1933637692be1a3fc",
            "8427f75439c64b9da136d7471ad5d1fc",
            "e93d699cccdb4bafa443024f38ff500a",
            "492f15cc14f74880ba4aaedcf018a1f4",
            "b1c52966fad54fbd81f4daac664e1e8d",
            "cc79edfc84444b0ca3245677c6178285"
          ]
        }
      },
      "source": [
        "#STORED_SEARCH_QUERY\n",
        "dynamic_search_query(parser, ix)"
      ],
      "execution_count": 0,
      "outputs": [
        {
          "output_type": "display_data",
          "data": {
            "application/vnd.jupyter.widget-view+json": {
              "model_id": "f165d5935c43488790e45ae2f65c557a",
              "version_minor": 0,
              "version_major": 2
            },
            "text/plain": [
              "VBox(children=(HBox(children=(Textarea(value='coronavirus', layout=Layout(height='50px', width='100%'), placeh…"
            ]
          },
          "metadata": {
            "tags": []
          }
        },
        {
          "output_type": "stream",
          "text": [
            "Current raw search query:\n",
            "coronavirus AND incubation\n",
            "Current query from parser:\n",
            "((title:coronavirus OR abstract:coronavirus) AND (title:incubation OR abstract:incubation))\n"
          ],
          "name": "stdout"
        }
      ]
    },
    {
      "cell_type": "code",
      "metadata": {
        "id": "I1eS1_VbFOdm",
        "colab_type": "code",
        "outputId": "19d116b6-9637-43dd-bf9d-7b39ee348ad0",
        "colab": {
          "base_uri": "https://localhost:8080/",
          "height": 34
        }
      },
      "source": [
        "print(STORED_SEARCH_QUERY)"
      ],
      "execution_count": 0,
      "outputs": [
        {
          "output_type": "stream",
          "text": [
            "\n"
          ],
          "name": "stdout"
        }
      ]
    },
    {
      "cell_type": "markdown",
      "metadata": {
        "id": "7umW9UX0Mgq7",
        "colab_type": "text"
      },
      "source": [
        "###Select question from list"
      ]
    },
    {
      "cell_type": "code",
      "metadata": {
        "id": "a-HMWvTi_-VF",
        "colab_type": "code",
        "outputId": "d2fc69ad-b67e-435e-d77b-b294b1a4cdd6",
        "colab": {
          "base_uri": "https://localhost:8080/",
          "height": 86,
          "referenced_widgets": [
            "45ea27a5d2fc4a5cbac6154e0213dd45",
            "8248d06a42f44551a48636d221ddb22b",
            "1e37b9a6c990450bb278fe8155557a95"
          ]
        }
      },
      "source": [
        "#STORED_PRECODED_QUERY\n",
        "precoded_search_query(parser, ix)"
      ],
      "execution_count": 0,
      "outputs": [
        {
          "output_type": "display_data",
          "data": {
            "application/vnd.jupyter.widget-view+json": {
              "model_id": "45ea27a5d2fc4a5cbac6154e0213dd45",
              "version_minor": 0,
              "version_major": 2
            },
            "text/plain": [
              "Dropdown(description='Select a question:', options=('What is the range of incubation periods?', 'What is the r…"
            ]
          },
          "metadata": {
            "tags": []
          }
        },
        {
          "output_type": "stream",
          "text": [
            "((abstract:coronavirus* OR abstract:\"corona virus\" OR abstract:\"covid 19\" OR abstract:\"2019 ncov\" OR abstract:ncov OR abstract:\"sars cov\") AND NOT (abstract:animal OR abstract:equine* OR abstract:porcine OR abstract:calves OR abstract:dog* OR abstract:canine* OR abstract:feline* OR abstract:bat* OR abstract:camel*) AND (abstract:elderly OR abstract:\"older adults\" OR abstract:senior* OR abstract:geriatric*))\n"
          ],
          "name": "stdout"
        }
      ]
    },
    {
      "cell_type": "code",
      "metadata": {
        "id": "mtuGYA3CMTZm",
        "colab_type": "code",
        "outputId": "7e351501-fdc8-44e8-c8c0-6996078367b2",
        "colab": {
          "base_uri": "https://localhost:8080/",
          "height": 54
        }
      },
      "source": [
        "print(STORED_PRECODED_QUERY)"
      ],
      "execution_count": 0,
      "outputs": [
        {
          "output_type": "stream",
          "text": [
            "((abstract:coronavirus* OR abstract:\"corona virus\" OR abstract:\"covid 19\" OR abstract:\"2019 ncov\" OR abstract:ncov OR abstract:\"sars cov\") AND NOT (abstract:animal OR abstract:equine* OR abstract:porcine OR abstract:calves OR abstract:dog* OR abstract:canine* OR abstract:feline* OR abstract:bat* OR abstract:camel*) AND (abstract:\"personal protective equipment\" OR abstract:mask OR abstract:facemask OR abstract:n95 OR abstract:n99 OR abstract:gown* OR abstract:gloves OR abstract:\"face shield\" OR abstract:\"eye protection\" OR abstract:goggles OR abstract:footwear) AND (abstract:\"attack rate\" OR abstract:\"viral load\" OR abstract:\"secondary transmission\" OR abstract:\"nosocomial transmission\"))\n"
          ],
          "name": "stdout"
        }
      ]
    },
    {
      "cell_type": "code",
      "metadata": {
        "id": "LniZW-ZvFqOI",
        "colab_type": "code",
        "outputId": "35a7e2b3-0c2b-4685-e58b-b1e75b953891",
        "colab": {
          "base_uri": "https://localhost:8080/",
          "height": 85
        }
      },
      "source": [
        "#plug in STORED_SEARCH_QUERY if using manual search\n",
        "#plug in STORED_PRECODED_QUERY if using a precoded-query\n",
        "output = get_search_results(ix, STORED_PRECODED_QUERY)\n",
        "# print(output.shape)\n",
        "# output"
      ],
      "execution_count": 0,
      "outputs": [
        {
          "output_type": "stream",
          "text": [
            "Total Hits: 58\n",
            "\n",
            "Loop ran 58 times.\n",
            "(58, 8)\n"
          ],
          "name": "stdout"
        }
      ]
    },
    {
      "cell_type": "code",
      "metadata": {
        "id": "E1G_7p1cVdn9",
        "colab_type": "code",
        "outputId": "4f6d9eca-6f71-44fe-e9b6-f0899d533b4c",
        "colab": {
          "base_uri": "https://localhost:8080/",
          "height": 528
        }
      },
      "source": [
        "# data = pd.concat([metadata['title'], metadata['abstract']], axis=1)\n",
        "# metadata = metadata.dropna(subset=['title', 'abstract'])\n",
        "# data = metadata['title'] + ' ' + metadata['abstract'] #space ensures title_last_word and abstract_first_word are stored as separate words\n",
        "\n",
        "# output = output.dropna(subset=['title', 'abstract'])\n",
        "print(output.shape)\n",
        "data = output['title'] + ' ' + output['abstract']\n",
        "\n",
        "print(type(data))\n",
        "print(len(data))\n",
        "data = data.tolist()\n",
        "print(data[0])"
      ],
      "execution_count": 0,
      "outputs": [
        {
          "output_type": "stream",
          "text": [
            "(58, 8)\n"
          ],
          "name": "stdout"
        },
        {
          "output_type": "error",
          "ename": "ImportError",
          "evalue": "ignored",
          "traceback": [
            "\u001b[0;31m---------------------------------------------------------------------------\u001b[0m",
            "\u001b[0;31mImportError\u001b[0m                               Traceback (most recent call last)",
            "\u001b[0;32m<ipython-input-25-5101b9654338>\u001b[0m in \u001b[0;36m<module>\u001b[0;34m()\u001b[0m\n\u001b[1;32m      1\u001b[0m \u001b[0mprint\u001b[0m\u001b[0;34m(\u001b[0m\u001b[0moutput\u001b[0m\u001b[0;34m.\u001b[0m\u001b[0mshape\u001b[0m\u001b[0;34m)\u001b[0m\u001b[0;34m\u001b[0m\u001b[0;34m\u001b[0m\u001b[0m\n\u001b[0;32m----> 2\u001b[0;31m \u001b[0mdata\u001b[0m \u001b[0;34m=\u001b[0m \u001b[0moutput\u001b[0m\u001b[0;34m[\u001b[0m\u001b[0;34m'title'\u001b[0m\u001b[0;34m]\u001b[0m \u001b[0;34m+\u001b[0m \u001b[0;34m' '\u001b[0m \u001b[0;34m+\u001b[0m \u001b[0moutput\u001b[0m\u001b[0;34m[\u001b[0m\u001b[0;34m'abstract'\u001b[0m\u001b[0;34m]\u001b[0m\u001b[0;34m\u001b[0m\u001b[0;34m\u001b[0m\u001b[0m\n\u001b[0m\u001b[1;32m      3\u001b[0m \u001b[0;34m\u001b[0m\u001b[0m\n\u001b[1;32m      4\u001b[0m \u001b[0mprint\u001b[0m\u001b[0;34m(\u001b[0m\u001b[0mtype\u001b[0m\u001b[0;34m(\u001b[0m\u001b[0mdata\u001b[0m\u001b[0;34m)\u001b[0m\u001b[0;34m)\u001b[0m\u001b[0;34m\u001b[0m\u001b[0;34m\u001b[0m\u001b[0m\n\u001b[1;32m      5\u001b[0m \u001b[0mprint\u001b[0m\u001b[0;34m(\u001b[0m\u001b[0mlen\u001b[0m\u001b[0;34m(\u001b[0m\u001b[0mdata\u001b[0m\u001b[0;34m)\u001b[0m\u001b[0;34m)\u001b[0m\u001b[0;34m\u001b[0m\u001b[0;34m\u001b[0m\u001b[0m\n",
            "\u001b[0;32m/usr/local/lib/python3.6/dist-packages/pandas/core/ops/common.py\u001b[0m in \u001b[0;36mnew_method\u001b[0;34m(self, other)\u001b[0m\n",
            "\u001b[0;32m/usr/local/lib/python3.6/dist-packages/pandas/core/ops/__init__.py\u001b[0m in \u001b[0;36mwrapper\u001b[0;34m(left, right)\u001b[0m\n",
            "\u001b[0;32m/usr/local/lib/python3.6/dist-packages/pandas/core/ops/array_ops.py\u001b[0m in \u001b[0;36marithmetic_op\u001b[0;34m(left, right, op, str_rep)\u001b[0m\n",
            "\u001b[0;32m/usr/local/lib/python3.6/dist-packages/pandas/core/ops/array_ops.py\u001b[0m in \u001b[0;36mna_arithmetic_op\u001b[0;34m(left, right, op, str_rep)\u001b[0m\n",
            "\u001b[0;32m/usr/local/lib/python3.6/dist-packages/pandas/core/computation/expressions.py\u001b[0m in \u001b[0;36m<module>\u001b[0;34m()\u001b[0m\n\u001b[1;32m     12\u001b[0m \u001b[0;32mimport\u001b[0m \u001b[0mpandas\u001b[0m\u001b[0;34m.\u001b[0m\u001b[0mcore\u001b[0m\u001b[0;34m.\u001b[0m\u001b[0mcommon\u001b[0m \u001b[0;32mas\u001b[0m \u001b[0mcom\u001b[0m\u001b[0;34m\u001b[0m\u001b[0;34m\u001b[0m\u001b[0m\n\u001b[1;32m     13\u001b[0m \u001b[0;32mfrom\u001b[0m \u001b[0mpandas\u001b[0m\u001b[0;34m.\u001b[0m\u001b[0mcore\u001b[0m\u001b[0;34m.\u001b[0m\u001b[0mcomputation\u001b[0m\u001b[0;34m.\u001b[0m\u001b[0mcheck\u001b[0m \u001b[0;32mimport\u001b[0m \u001b[0m_NUMEXPR_INSTALLED\u001b[0m\u001b[0;34m\u001b[0m\u001b[0;34m\u001b[0m\u001b[0m\n\u001b[0;32m---> 14\u001b[0;31m \u001b[0;32mfrom\u001b[0m \u001b[0mpandas\u001b[0m\u001b[0;34m.\u001b[0m\u001b[0mcore\u001b[0m\u001b[0;34m.\u001b[0m\u001b[0mconfig\u001b[0m \u001b[0;32mimport\u001b[0m \u001b[0mget_option\u001b[0m\u001b[0;34m\u001b[0m\u001b[0;34m\u001b[0m\u001b[0m\n\u001b[0m\u001b[1;32m     15\u001b[0m \u001b[0;34m\u001b[0m\u001b[0m\n\u001b[1;32m     16\u001b[0m \u001b[0;32mif\u001b[0m \u001b[0m_NUMEXPR_INSTALLED\u001b[0m\u001b[0;34m:\u001b[0m\u001b[0;34m\u001b[0m\u001b[0;34m\u001b[0m\u001b[0m\n",
            "\u001b[0;32m/usr/local/lib/python3.6/dist-packages/pandas/core/config.py\u001b[0m in \u001b[0;36m<module>\u001b[0;34m()\u001b[0m\n\u001b[1;32m     54\u001b[0m \u001b[0;32mfrom\u001b[0m \u001b[0mcontextlib\u001b[0m \u001b[0;32mimport\u001b[0m \u001b[0mcontextmanager\u001b[0m\u001b[0;34m\u001b[0m\u001b[0;34m\u001b[0m\u001b[0m\n\u001b[1;32m     55\u001b[0m \u001b[0;32mimport\u001b[0m \u001b[0mwarnings\u001b[0m\u001b[0;34m\u001b[0m\u001b[0;34m\u001b[0m\u001b[0m\n\u001b[0;32m---> 56\u001b[0;31m \u001b[0;32mfrom\u001b[0m \u001b[0mpandas\u001b[0m\u001b[0;34m.\u001b[0m\u001b[0mcompat\u001b[0m \u001b[0;32mimport\u001b[0m \u001b[0mmap\u001b[0m\u001b[0;34m,\u001b[0m \u001b[0mlmap\u001b[0m\u001b[0;34m,\u001b[0m \u001b[0mu\u001b[0m\u001b[0;34m\u001b[0m\u001b[0;34m\u001b[0m\u001b[0m\n\u001b[0m\u001b[1;32m     57\u001b[0m \u001b[0;32mimport\u001b[0m \u001b[0mpandas\u001b[0m\u001b[0;34m.\u001b[0m\u001b[0mcompat\u001b[0m \u001b[0;32mas\u001b[0m \u001b[0mcompat\u001b[0m\u001b[0;34m\u001b[0m\u001b[0;34m\u001b[0m\u001b[0m\n\u001b[1;32m     58\u001b[0m \u001b[0;34m\u001b[0m\u001b[0m\n",
            "\u001b[0;31mImportError\u001b[0m: cannot import name 'map'",
            "",
            "\u001b[0;31m---------------------------------------------------------------------------\u001b[0;32m\nNOTE: If your import is failing due to a missing package, you can\nmanually install dependencies using either !pip or !apt.\n\nTo view examples of installing some common dependencies, click the\n\"Open Examples\" button below.\n\u001b[0;31m---------------------------------------------------------------------------\u001b[0m\n"
          ]
        }
      ]
    },
    {
      "cell_type": "code",
      "metadata": {
        "id": "YhZftFVpsbZs",
        "colab_type": "code",
        "outputId": "f2fedb52-be06-4329-b059-11f75dd9d816",
        "colab": {
          "base_uri": "https://localhost:8080/",
          "height": 131
        }
      },
      "source": [
        "output.head()"
      ],
      "execution_count": 0,
      "outputs": [
        {
          "output_type": "execute_result",
          "data": {
            "text/html": [
              "<div>\n",
              "<style scoped>\n",
              "    .dataframe tbody tr th:only-of-type {\n",
              "        vertical-align: middle;\n",
              "    }\n",
              "\n",
              "    .dataframe tbody tr th {\n",
              "        vertical-align: top;\n",
              "    }\n",
              "\n",
              "    .dataframe thead th {\n",
              "        text-align: right;\n",
              "    }\n",
              "</style>\n",
              "<table border=\"1\" class=\"dataframe\">\n",
              "  <thead>\n",
              "    <tr style=\"text-align: right;\">\n",
              "      <th></th>\n",
              "      <th>cord_uid</th>\n",
              "      <th>sha</th>\n",
              "      <th>bm25_score</th>\n",
              "      <th>title</th>\n",
              "      <th>abstract</th>\n",
              "      <th>publish_year</th>\n",
              "      <th>authors</th>\n",
              "      <th>url</th>\n",
              "    </tr>\n",
              "  </thead>\n",
              "  <tbody>\n",
              "    <tr>\n",
              "      <th>0</th>\n",
              "      <td>xfjexm5b</td>\n",
              "      <td>67ff35bb162142475e1d16e78e56dbcf59ed65bc</td>\n",
              "      <td>45.107886</td>\n",
              "      <td>Impact of self-imposed prevention measures and...</td>\n",
              "      <td>Background: With new cases of COVID-19 surging...</td>\n",
              "      <td>2020</td>\n",
              "      <td>Alexandra Teslya; Thi Mui Pham; Noortje E. God...</td>\n",
              "      <td>https://doi.org/10.1101/2020.03.12.20034827</td>\n",
              "    </tr>\n",
              "  </tbody>\n",
              "</table>\n",
              "</div>"
            ],
            "text/plain": [
              "   cord_uid                     ...                                                               url\n",
              "0  xfjexm5b                     ...                       https://doi.org/10.1101/2020.03.12.20034827\n",
              "\n",
              "[1 rows x 8 columns]"
            ]
          },
          "metadata": {
            "tags": []
          },
          "execution_count": 82
        }
      ]
    },
    {
      "cell_type": "code",
      "metadata": {
        "id": "tKjAWLjvStrG",
        "colab_type": "code",
        "colab": {}
      },
      "source": [
        "#save to csv\n",
        "if not os.path.exists(local_dir/'SearchEngineOutput'):\n",
        "  os.mkdir(local_dir/'SearchEngineOutput')\n",
        "output.to_csv(local_dir/'SearchEngineOutput'/'search_engine_duration_infectiousness.csv', index=False)"
      ],
      "execution_count": 0,
      "outputs": []
    },
    {
      "cell_type": "markdown",
      "metadata": {
        "id": "s7b6eFjNTz9k",
        "colab_type": "text"
      },
      "source": [
        "##Use topic model to find similar articles"
      ]
    },
    {
      "cell_type": "code",
      "metadata": {
        "id": "HaT5l-x0cjFe",
        "colab_type": "code",
        "colab": {}
      },
      "source": [
        "#vectorize search output\n",
        "count_vectorizer = get_count_vectorizer()\n",
        "data_vectorized = count_vectorizer.fit_transform(data)"
      ],
      "execution_count": 0,
      "outputs": []
    },
    {
      "cell_type": "code",
      "metadata": {
        "id": "cmuDRvthgjA9",
        "colab_type": "code",
        "outputId": "97f90abe-d275-4f8c-dd1a-f6088441565b",
        "colab": {
          "base_uri": "https://localhost:8080/",
          "height": 88
        }
      },
      "source": [
        "#train LDA using vectorized search output\n",
        "print(count_vectorizer.get_feature_names())\n",
        "print(len(count_vectorizer.get_feature_names()))\n",
        "lda_model = get_lda_model(num_topics=10)\n",
        "lda_Z = lda_model.fit_transform(data_vectorized)\n",
        "print(lda_Z.shape)  # (NO_DOCUMENTS, NO_TOPICS)"
      ],
      "execution_count": 0,
      "outputs": [
        {
          "output_type": "stream",
          "text": [
            "['activity', 'affect', 'affected', 'attack', 'awareness', 'background', 'burden', 'buy', 'cases', 'containment', 'control', 'countries', 'covid-', 'delay', 'delaying', 'developed', 'diagnoses', 'diminish', 'disease', 'dissemination', 'distancing', 'early', 'early-initiated', 'effective', 'effectiveness', 'efficacy', 'epidemic', 'especially', 'evaluate', 'exceeds', 'fast', 'findings', 'government', 'government-imposed', 'handwashing', 'healthcare', 'impact', 'implementation', 'importance', 'increased', 'increasing', 'influenza', 'information', 'interpretation', 'intervention', 'interventions', 'keywords', 'large', 'mask-wearing', 'mathematical', 'measures', 'methods', 'mitigate', 'mitigating', 'model', 'moving', 'new', 'non-case-based', 'number', 'peak', 'phase', 'population', 'postpone', 'prediction', 'prepare', 'prevented', 'preventing', 'prevention', 'rapid', 'rate', 'reaction', 'reduce', 'sars-cov-', 'seasonal', 'self-imposed', 'short-term', 'significantly', 'slow', 'social', 'spread', 'strategies', 'stress', 'surging', 'systems', 'time', 'timing', 'transmission', 'urgent', 'use', 'world']\n",
            "90\n",
            "(1, 10)\n"
          ],
          "name": "stdout"
        }
      ]
    },
    {
      "cell_type": "code",
      "metadata": {
        "id": "VqyU-YvNg4Ds",
        "colab_type": "code",
        "outputId": "77542d6a-aa0e-4a2b-8eeb-7a726905ffef",
        "colab": {
          "base_uri": "https://localhost:8080/",
          "height": 1000
        }
      },
      "source": [
        "print(lda_Z[0]) #we can see that this adds up to 1 since LDA is a summation of topic probabilities\n",
        "print(lda_model.components_) \n",
        "print(lda_model.components_.shape) # this is num_components/topics by num_features, num_features comes from feature names of count vectorizer"
      ],
      "execution_count": 0,
      "outputs": [
        {
          "output_type": "stream",
          "text": [
            "[6.17305559e-04 6.17305627e-04 6.17307909e-04 6.17306244e-04\n",
            " 6.17305875e-04 6.17305679e-04 6.17306168e-04 6.17306229e-04\n",
            " 9.94444244e-01 6.17307054e-04]\n",
            "[[0.29329012 0.27306565 0.3089743  0.26320958 0.29082012 0.29125081\n",
            "  0.28020646 0.27313928 0.26996816 0.29208697 0.27923722 0.25356407\n",
            "  0.28991256 0.29327835 0.31162978 0.31195942 0.26142973 0.27638028\n",
            "  0.2812661  0.25822519 0.23726487 0.27765377 0.25596306 0.26287333\n",
            "  0.27953855 0.27348177 0.26982021 0.27956333 0.28141922 0.27755235\n",
            "  0.2685208  0.26506778 0.27538361 0.24849985 0.2938771  0.2749859\n",
            "  0.29915028 0.24361572 0.27806391 0.30281972 0.28891482 0.28353083\n",
            "  0.27464767 0.24313674 0.28731214 0.2894859  0.26080701 0.26751695\n",
            "  0.26075271 0.27460909 0.27659312 0.27583983 0.27873792 0.27215158\n",
            "  0.2720165  0.24528604 0.26476565 0.2527197  0.23977534 0.27686315\n",
            "  0.29987662 0.31768227 0.27419653 0.28846663 0.29561231 0.30149295\n",
            "  0.28525188 0.26747028 0.2518046  0.26869794 0.28782225 0.26999371\n",
            "  0.25328713 0.27540325 0.27855983 0.27005276 0.25403975 0.28571424\n",
            "  0.27302184 0.26157149 0.31520479 0.24962766 0.26855022 0.25718887\n",
            "  0.28877031 0.29340247 0.24001287 0.29543847 0.25482454 0.24676416]\n",
            " [0.26306774 0.30819851 0.27415803 0.26499514 0.23501564 0.30489001\n",
            "  0.26760229 0.27099516 0.2614583  0.26428487 0.2856532  0.27552673\n",
            "  0.27168172 0.27320796 0.29357087 0.30415337 0.2885643  0.27273107\n",
            "  0.28277665 0.24605384 0.27326363 0.2745691  0.28824707 0.27094189\n",
            "  0.28922503 0.27645824 0.26483878 0.28058999 0.29047199 0.27202404\n",
            "  0.26358143 0.26937894 0.26265542 0.29107761 0.25765062 0.25862695\n",
            "  0.25092151 0.25652906 0.30908887 0.24209872 0.27792987 0.26280444\n",
            "  0.27285591 0.28855837 0.25181532 0.27890393 0.25798183 0.26101874\n",
            "  0.27212299 0.28020843 0.24521451 0.27235011 0.27145798 0.27127189\n",
            "  0.27338973 0.27499573 0.27818889 0.27717047 0.29241546 0.26683873\n",
            "  0.30413017 0.26404727 0.32068393 0.26772122 0.28804731 0.29592984\n",
            "  0.25222598 0.2843755  0.2572593  0.24841073 0.29886884 0.30480389\n",
            "  0.27927837 0.23129051 0.32674761 0.28149545 0.29554103 0.31517833\n",
            "  0.31078279 0.24959156 0.25294828 0.26719391 0.26839851 0.28914561\n",
            "  0.29008043 0.26962826 0.28564009 0.26588173 0.26838503 0.26240222]\n",
            " [0.2940693  0.28644268 0.29327485 0.31293545 0.29813261 0.26158304\n",
            "  0.29607203 0.31922002 0.26912747 0.24155927 0.27859561 0.32611609\n",
            "  0.31387984 0.27513003 0.29405859 0.24677973 0.28814521 0.24934767\n",
            "  0.26455228 0.27995393 0.34254693 0.26813811 0.28029063 0.31802651\n",
            "  0.28204385 0.297491   0.27763854 0.29899216 0.28455441 0.25122761\n",
            "  0.29123966 0.29020437 0.25549325 0.28053885 0.29432371 0.27557752\n",
            "  0.29951693 0.25644794 0.31202182 0.27841118 0.26558557 0.28834734\n",
            "  0.26658292 0.26061146 0.29171628 0.28712636 0.30152299 0.28082627\n",
            "  0.29971741 0.31348621 0.34990147 0.28136209 0.25645283 0.30166201\n",
            "  0.29531919 0.26124159 0.27395383 0.29400328 0.2757942  0.29897909\n",
            "  0.29752075 0.28493336 0.3146932  0.31155712 0.30873594 0.25080214\n",
            "  0.26689617 0.29511446 0.28569471 0.31054408 0.27482981 0.31062461\n",
            "  0.25543056 0.27111549 0.26406384 0.29383646 0.28648615 0.26888126\n",
            "  0.27900645 0.29719968 0.29793017 0.2750154  0.29904348 0.29836481\n",
            "  0.28361083 0.26998189 0.2594891  0.2765037  0.27447507 0.27992065]\n",
            " [0.29511866 0.27952504 0.28762618 0.26314949 0.24243642 0.29344134\n",
            "  0.27385478 0.27047943 0.30093156 0.27541302 0.26559754 0.27882867\n",
            "  0.3078499  0.24895201 0.28876774 0.25635366 0.32890767 0.30780755\n",
            "  0.24765148 0.27708778 0.26705475 0.25761618 0.26903902 0.28846327\n",
            "  0.30205969 0.27668461 0.28165417 0.25984491 0.29210079 0.26404238\n",
            "  0.29893684 0.25403293 0.31593813 0.2817292  0.24502466 0.28901974\n",
            "  0.28715409 0.27641459 0.27770186 0.27113361 0.25989336 0.23359622\n",
            "  0.27484466 0.29668938 0.29644241 0.28044173 0.29804341 0.28531188\n",
            "  0.24485543 0.26987317 0.25714335 0.27474317 0.28330445 0.25221755\n",
            "  0.26949447 0.28288715 0.27622547 0.27761024 0.26119217 0.25665247\n",
            "  0.27908277 0.29350524 0.30683225 0.29381386 0.27964926 0.27517526\n",
            "  0.28870045 0.2671156  0.30475461 0.27306404 0.25548611 0.22861396\n",
            "  0.30871607 0.25980712 0.27877569 0.24814868 0.30600862 0.28480159\n",
            "  0.28648524 0.27627304 0.24262919 0.26902933 0.27593175 0.25127457\n",
            "  0.26984424 0.28206486 0.30366254 0.27892535 0.32576561 0.29848839]\n",
            " [0.28784615 0.26958871 0.30500673 0.27709105 0.26148877 0.31252709\n",
            "  0.2513102  0.28405642 0.29523434 0.23643884 0.26879831 0.26964715\n",
            "  0.29299825 0.27396279 0.28456544 0.28715495 0.29096831 0.278117\n",
            "  0.29687585 0.28381994 0.29469157 0.25922749 0.30351344 0.28796234\n",
            "  0.29252972 0.27819761 0.23652108 0.29618793 0.28508121 0.26658164\n",
            "  0.27097288 0.26756509 0.27209296 0.28576554 0.27249211 0.27141057\n",
            "  0.26771067 0.27787336 0.28911668 0.2638187  0.26103814 0.29652556\n",
            "  0.2870444  0.26344992 0.26400855 0.25736493 0.27269937 0.29502592\n",
            "  0.23482387 0.30220804 0.27192036 0.2596621  0.31130276 0.29983528\n",
            "  0.27163777 0.22721682 0.26681651 0.26371624 0.26213225 0.27949369\n",
            "  0.2886598  0.25423578 0.27256146 0.27313704 0.26836374 0.26616541\n",
            "  0.26978464 0.25694601 0.28112881 0.28389222 0.26861004 0.28051085\n",
            "  0.29454212 0.27223205 0.25988552 0.2757046  0.28148957 0.29674329\n",
            "  0.31663048 0.2563366  0.29034504 0.27194746 0.2759473  0.28653642\n",
            "  0.27626204 0.27226633 0.28237711 0.28165511 0.26229022 0.27987143]\n",
            " [0.29926112 0.29012453 0.26006309 0.29787678 0.28331912 0.25463098\n",
            "  0.27573587 0.25709571 0.26493738 0.28116865 0.25913836 0.27502926\n",
            "  0.24974477 0.29238313 0.26826288 0.28108156 0.29269384 0.29439298\n",
            "  0.2625311  0.25944944 0.3024138  0.30095953 0.30287255 0.23538098\n",
            "  0.2636726  0.24028785 0.25639322 0.26369715 0.30406399 0.26438523\n",
            "  0.27977079 0.27543958 0.29572282 0.26047201 0.30740444 0.25796216\n",
            "  0.28508374 0.23828777 0.26325897 0.28464691 0.26739784 0.24917394\n",
            "  0.29194436 0.28277252 0.25862288 0.28301003 0.26518453 0.29171376\n",
            "  0.26153387 0.28874331 0.26707921 0.30145424 0.31164452 0.28506273\n",
            "  0.29899507 0.26277283 0.24431646 0.31636911 0.25296396 0.26795598\n",
            "  0.26142398 0.25575892 0.29425558 0.27100249 0.2709162  0.30856622\n",
            "  0.26906266 0.28042848 0.24902952 0.25364307 0.26248564 0.31332963\n",
            "  0.244099   0.27194196 0.26170474 0.27040247 0.26835044 0.28554266\n",
            "  0.30559703 0.24093796 0.30060322 0.28200459 0.29037551 0.28983635\n",
            "  0.26289078 0.25893417 0.27975653 0.29325091 0.3004213  0.25442876]\n",
            " [0.28393359 0.25960903 0.25087082 0.25872414 0.25254814 0.28359286\n",
            "  0.24932485 0.30674729 0.28921134 0.29106898 0.28019539 0.29411087\n",
            "  0.29634738 0.29343126 0.27860811 0.24303716 0.28181021 0.28428223\n",
            "  0.27557823 0.26718962 0.27462026 0.30753389 0.32024779 0.28372259\n",
            "  0.3148295  0.27285111 0.27668309 0.26808908 0.28266184 0.23314632\n",
            "  0.29105384 0.26950562 0.27002854 0.25194838 0.31276719 0.26396045\n",
            "  0.25294918 0.30136134 0.30097881 0.27180971 0.29092032 0.30768491\n",
            "  0.29575296 0.30534012 0.25560997 0.28314994 0.26293847 0.24744562\n",
            "  0.27092669 0.29283407 0.28140863 0.25740436 0.27344091 0.28490117\n",
            "  0.24408319 0.28074706 0.27341748 0.25874136 0.257336   0.25592237\n",
            "  0.26958593 0.27162123 0.31261295 0.28798547 0.28630888 0.28292213\n",
            "  0.2958917  0.2713485  0.30443645 0.23134075 0.26303695 0.24304042\n",
            "  0.28946771 0.28975832 0.26014339 0.29416474 0.25197393 0.26962457\n",
            "  0.2824498  0.2651935  0.29937119 0.29678366 0.29451053 0.26675353\n",
            "  0.27350998 0.27063129 0.28708353 0.2757656  0.26303495 0.27669822]\n",
            " [0.28773678 0.24346636 0.29615624 0.30470258 0.26994443 0.28108519\n",
            "  0.29326081 0.28891428 0.26501961 0.28939141 0.27414722 0.2912781\n",
            "  0.26888391 0.28606724 0.30124264 0.29767366 0.26115069 0.26584372\n",
            "  0.27980036 0.25620352 0.28037052 0.28285963 0.23303259 0.26998342\n",
            "  0.26516025 0.27985869 0.28497764 0.26796989 0.28401741 0.27596501\n",
            "  0.28540112 0.31152621 0.25873941 0.2586009  0.28534291 0.2823019\n",
            "  0.23441625 0.29251564 0.30497091 0.26355774 0.28125399 0.30970961\n",
            "  0.25404824 0.24871655 0.26383851 0.25502017 0.24367878 0.26441853\n",
            "  0.29692328 0.31764678 0.24350489 0.25501941 0.25165319 0.27590084\n",
            "  0.29768776 0.31444884 0.27490125 0.25119994 0.27842647 0.25584559\n",
            "  0.27646664 0.27367591 0.28353016 0.2667416  0.28737454 0.30682897\n",
            "  0.31820744 0.29415669 0.27286639 0.26003091 0.28654906 0.28972351\n",
            "  0.2750558  0.28526942 0.30082833 0.27455942 0.26674703 0.28201632\n",
            "  0.28762223 0.27215576 0.30238837 0.28213858 0.25881568 0.25235541\n",
            "  0.24953168 0.31829894 0.28475154 0.28380861 0.29482968 0.2552566 ]\n",
            " [1.08452239 1.0923083  1.08665326 2.68094356 4.27488234 1.10110451\n",
            "  1.07551071 1.07691168 1.07649115 1.08648615 1.07930334 1.85890919\n",
            "  5.08322837 1.84392444 1.90348561 1.09307087 3.43785876 1.09342705\n",
            "  1.08729748 1.06606317 4.26288354 1.08555353 1.07240897 1.08092085\n",
            "  1.0707803  1.09763491 4.28879157 1.05014283 1.09248064 1.05917105\n",
            "  1.09903216 1.05745038 1.89205917 1.86779763 2.70159557 1.03882312\n",
            "  1.86001591 1.06555713 1.08307342 1.09351137 1.07250419 1.08438662\n",
            "  1.07331595 1.08806648 1.08558284 1.89626275 1.10150624 1.1102527\n",
            "  2.67971518 1.08182914 5.88508499 1.07476855 1.08394883 1.89059061\n",
            "  1.85537078 1.04394271 1.08855221 1.08190254 3.49312845 5.11605891\n",
            "  1.09841334 1.82375611 1.06055827 1.07169413 1.86145136 1.06804035\n",
            "  1.03508919 3.49877409 1.08051075 2.69659523 1.08081886 1.8755638\n",
            "  1.07557592 1.10478817 4.2386456  3.463861   1.04491173 1.05756236\n",
            "  4.27815955 2.65097159 1.06078058 1.06577006 1.08001724 1.09531905\n",
            "  1.90613283 1.10528461 1.10520681 1.03741356 1.07912246 1.09611545]\n",
            " [0.25876908 0.2956079  0.32133329 0.28731482 0.29826415 0.26096302\n",
            "  0.285866   0.26596189 0.30802889 0.25744958 0.30055275 0.2684388\n",
            "  0.29656227 0.26875173 0.31144631 0.29023155 0.29963506 0.30433154\n",
            "  0.28940912 0.27098191 0.27924717 0.27802572 0.27862921 0.28701422\n",
            "  0.27309464 0.2554167  0.27350053 0.27208829 0.28283754 0.30390839\n",
            "  0.26714768 0.30796503 0.2767636  0.26597537 0.28625717 0.25170481\n",
            "  0.3179558  0.27261387 0.26206896 0.28180786 0.27584365 0.30702624\n",
            "  0.27409027 0.28970914 0.30872741 0.26980724 0.28377711 0.30044434\n",
            "  0.25694454 0.26942295 0.28871202 0.26288423 0.29242858 0.30270051\n",
            "  0.26422045 0.24053003 0.28580754 0.26014489 0.27318657 0.28176884\n",
            "  0.28164181 0.33463058 0.30134174 0.2557914  0.32758803 0.27868128\n",
            "  0.2392899  0.28025492 0.27427457 0.3240795  0.25956647 0.28690172\n",
            "  0.28179458 0.27900574 0.25454064 0.27962636 0.29912254 0.26421896\n",
            "  0.28240109 0.3123959  0.22516716 0.27111885 0.28830956 0.28223482\n",
            "  0.28002789 0.29675991 0.29294342 0.2607077  0.27479881 0.28641988]]\n",
            "(10, 90)\n"
          ],
          "name": "stdout"
        }
      ]
    },
    {
      "cell_type": "code",
      "metadata": {
        "id": "f5r3dIC-DxJz",
        "colab_type": "code",
        "outputId": "a39848d2-4109-4dc9-ee13-120947c5bff9",
        "colab": {
          "base_uri": "https://localhost:8080/",
          "height": 85
        }
      },
      "source": [
        "#get average topic distribution of all search output\n",
        "avg_topic = lda_Z.mean(axis=0)\n",
        "print(avg_topic)\n",
        "print(avg_topic.shape)"
      ],
      "execution_count": 0,
      "outputs": [
        {
          "output_type": "stream",
          "text": [
            "[6.17305559e-04 6.17305627e-04 6.17307909e-04 6.17306244e-04\n",
            " 6.17305875e-04 6.17305679e-04 6.17306168e-04 6.17306229e-04\n",
            " 9.94444244e-01 6.17307054e-04]\n",
            "(10,)\n"
          ],
          "name": "stdout"
        }
      ]
    },
    {
      "cell_type": "code",
      "metadata": {
        "id": "x_ApFcDalY6z",
        "colab_type": "code",
        "outputId": "0062ee90-cda3-4d68-a282-7ce9c4c60994",
        "colab": {
          "base_uri": "https://localhost:8080/",
          "height": 394
        }
      },
      "source": [
        "#print topic components\n",
        "def print_topics(model, vectorizer, top_n=10):\n",
        "    for idx, topic in enumerate(model.components_):\n",
        "        print(\"Topic %d:\" % (idx))\n",
        "        print([(vectorizer.get_feature_names()[i], topic[i])\n",
        "                        for i in topic.argsort()[:-top_n - 1:-1]])\n",
        "        \n",
        "print(\"LDA Model:\")\n",
        "print_topics(lda_model, count_vectorizer)"
      ],
      "execution_count": 0,
      "outputs": [
        {
          "output_type": "stream",
          "text": [
            "LDA Model:\n",
            "Topic 0:\n",
            "[('population', 0.3176822681316154), ('strategies', 0.3152047930401017), ('developed', 0.3119594232830865), ('delaying', 0.31162978379343687), ('affected', 0.3089743010846718), ('increased', 0.3028197152888651), ('prevented', 0.3014929511846381), ('phase', 0.2998766153653389), ('impact', 0.29915028179303815), ('prepare', 0.29561231358709983)]\n",
            "Topic 1:\n",
            "[('self-imposed', 0.3267476118704375), ('postpone', 0.3206839254698412), ('slow', 0.31517832978256743), ('social', 0.3107827894689542), ('importance', 0.30908886988533907), ('affect', 0.308198510003177), ('background', 0.3048900079910111), ('reduce', 0.30480388743182424), ('developed', 0.30415336621041533), ('phase', 0.3041301684489805)]\n",
            "Topic 2:\n",
            "[('measures', 0.349901474064611), ('distancing', 0.34254692838154044), ('countries', 0.32611609195248603), ('buy', 0.3192200221830686), ('effective', 0.3180265101953831), ('postpone', 0.31469320294227093), ('covid-', 0.3138798429846301), ('mathematical', 0.3134862114435917), ('attack', 0.3129354478669641), ('importance', 0.31202181946958385)]\n",
            "Topic 3:\n",
            "[('diagnoses', 0.3289076741341267), ('use', 0.3257656091028838), ('government', 0.3159381301240195), ('sars-cov-', 0.3087160713663443), ('covid-', 0.30784989761782894), ('diminish', 0.3078075526001674), ('postpone', 0.3068322513320807), ('significantly', 0.3060086182932512), ('rapid', 0.3047546079775061), ('transmission', 0.30366254438383355)]\n",
            "Topic 4:\n",
            "[('social', 0.3166304830374661), ('background', 0.3125270908278915), ('mitigate', 0.31130276313157534), ('affected', 0.3050067346546396), ('early-initiated', 0.30351344043219247), ('mathematical', 0.3022080365584599), ('mitigating', 0.2998352815517343), ('disease', 0.2968758537717593), ('slow', 0.29674329337430383), ('influenza', 0.2965255642054988)]\n",
            "Topic 5:\n",
            "[('non-case-based', 0.3163691074297925), ('reduce', 0.3133296313087526), ('mitigate', 0.31164451553566064), ('prevented', 0.3085662221224311), ('handwashing', 0.3074044420861155), ('social', 0.30559702527545507), ('evaluate', 0.3040639889656676), ('early-initiated', 0.3028725463050358), ('distancing', 0.30241379502245785), ('methods', 0.30145423979399216)]\n",
            "Topic 6:\n",
            "[('early-initiated', 0.3202477853721925), ('effectiveness', 0.3148294995093386), ('handwashing', 0.3127671879312513), ('postpone', 0.31261294517171023), ('influenza', 0.30768491142186855), ('early', 0.3075338911364387), ('buy', 0.30674729327401473), ('interpretation', 0.3053401208496614), ('rapid', 0.3044364460414437), ('implementation', 0.3013613362989223)]\n",
            "Topic 7:\n",
            "[('timing', 0.31829893954068456), ('preventing', 0.3182074371199078), ('mathematical', 0.31764678107686467), ('moving', 0.31444884028577696), ('findings', 0.31152621207003606), ('influenza', 0.3097096143395077), ('prevented', 0.3068289717432895), ('importance', 0.3049709077455521), ('attack', 0.3047025786130775), ('strategies', 0.30238836551964765)]\n",
            "Topic 8:\n",
            "[('measures', 5.885084993767595), ('peak', 5.116058911238005), ('covid-', 5.083228371632609), ('epidemic', 4.288791574667577), ('social', 4.278159546880187), ('awareness', 4.274882343501374), ('distancing', 4.262883544340335), ('self-imposed', 4.238645600192191), ('prevention', 3.4987740916961276), ('number', 3.493128449344807)]\n",
            "Topic 9:\n",
            "[('population', 0.33463057983098254), ('prepare', 0.3275880282148439), ('rate', 0.32407950236471816), ('affected', 0.32133328776985176), ('impact', 0.3179557983660223), ('spread', 0.31239590381216586), ('delaying', 0.311446314510527), ('intervention', 0.30872741285153565), ('cases', 0.3080288916760559), ('findings', 0.30796502512438817)]\n"
          ],
          "name": "stdout"
        }
      ]
    },
    {
      "cell_type": "code",
      "metadata": {
        "id": "LSnwE69l7L39",
        "colab_type": "code",
        "outputId": "b0c31548-deee-4fdf-aa79-0ff8b02b7ac8",
        "colab": {
          "base_uri": "https://localhost:8080/",
          "height": 861
        }
      },
      "source": [
        "# !pip install --upgrade pandas\n",
        "# visualize topics using pyLDAvis\n",
        "pyLDAvis.enable_notebook()\n",
        "panel = pyLDAvis.sklearn.prepare(lda_model, data_vectorized, count_vectorizer, mds='tsne')\n",
        "panel"
      ],
      "execution_count": 0,
      "outputs": [
        {
          "output_type": "execute_result",
          "data": {
            "text/html": [
              "\n",
              "<link rel=\"stylesheet\" type=\"text/css\" href=\"https://cdn.rawgit.com/bmabey/pyLDAvis/files/ldavis.v1.0.0.css\">\n",
              "\n",
              "\n",
              "<div id=\"ldavis_el5361401088762714321077462773\"></div>\n",
              "<script type=\"text/javascript\">\n",
              "\n",
              "var ldavis_el5361401088762714321077462773_data = {\"mdsDat\": {\"x\": [32.42095184326172, 0.648955225944519, 71.01968383789062, 3.7859814167022705, -42.666500091552734, -3.6216893196105957, -3.632401704788208, -36.58440017700195, 44.391380310058594, 40.235809326171875], \"y\": [8.115229606628418, 71.70709991455078, 9.971006393432617, 33.18513488769531, -9.22206974029541, -43.52651596069336, -4.171707630157471, 35.804412841796875, 50.61538314819336, -31.591665267944336], \"topics\": [1, 2, 3, 4, 5, 6, 7, 8, 9, 10], \"cluster\": [1, 1, 1, 1, 1, 1, 1, 1, 1, 1], \"Freq\": [30.77222666541109, 17.406520316839732, 13.960537491880503, 8.78110427965403, 8.681492117512528, 6.907586878997055, 6.587150376680199, 6.571660615618441, 0.1658616126353229, 0.1658596447710892]}, \"tinfo\": {\"Category\": [\"Default\", \"Default\", \"Default\", \"Default\", \"Default\", \"Default\", \"Default\", \"Default\", \"Default\", \"Default\", \"Default\", \"Default\", \"Default\", \"Default\", \"Default\", \"Default\", \"Default\", \"Default\", \"Default\", \"Default\", \"Default\", \"Default\", \"Default\", \"Default\", \"Default\", \"Default\", \"Default\", \"Default\", \"Default\", \"Default\", \"Topic1\", \"Topic1\", \"Topic1\", \"Topic1\", \"Topic1\", \"Topic1\", \"Topic1\", \"Topic1\", \"Topic1\", \"Topic1\", \"Topic1\", \"Topic1\", \"Topic1\", \"Topic1\", \"Topic1\", \"Topic1\", \"Topic1\", \"Topic1\", \"Topic1\", \"Topic1\", \"Topic1\", \"Topic1\", \"Topic1\", \"Topic1\", \"Topic1\", \"Topic1\", \"Topic1\", \"Topic1\", \"Topic1\", \"Topic1\", \"Topic1\", \"Topic1\", \"Topic1\", \"Topic1\", \"Topic1\", \"Topic1\", \"Topic1\", \"Topic1\", \"Topic2\", \"Topic2\", \"Topic2\", \"Topic2\", \"Topic2\", \"Topic2\", \"Topic2\", \"Topic2\", \"Topic2\", \"Topic2\", \"Topic2\", \"Topic2\", \"Topic2\", \"Topic2\", \"Topic2\", \"Topic2\", \"Topic2\", \"Topic2\", \"Topic2\", \"Topic2\", \"Topic2\", \"Topic2\", \"Topic2\", \"Topic2\", \"Topic2\", \"Topic2\", \"Topic2\", \"Topic2\", \"Topic2\", \"Topic2\", \"Topic2\", \"Topic2\", \"Topic2\", \"Topic2\", \"Topic2\", \"Topic2\", \"Topic2\", \"Topic2\", \"Topic2\", \"Topic3\", \"Topic3\", \"Topic3\", \"Topic3\", \"Topic3\", \"Topic3\", \"Topic3\", \"Topic3\", \"Topic3\", \"Topic3\", \"Topic3\", \"Topic3\", \"Topic3\", \"Topic3\", \"Topic3\", \"Topic3\", \"Topic3\", \"Topic3\", \"Topic3\", \"Topic3\", \"Topic3\", \"Topic3\", \"Topic3\", \"Topic3\", \"Topic3\", \"Topic3\", \"Topic3\", \"Topic3\", \"Topic3\", \"Topic3\", \"Topic3\", \"Topic3\", \"Topic3\", \"Topic3\", \"Topic3\", \"Topic3\", \"Topic3\", \"Topic3\", \"Topic3\", \"Topic3\", \"Topic3\", \"Topic3\", \"Topic3\", \"Topic3\", \"Topic3\", \"Topic3\", \"Topic4\", \"Topic4\", \"Topic4\", \"Topic4\", \"Topic4\", \"Topic4\", \"Topic4\", \"Topic4\", \"Topic4\", \"Topic4\", \"Topic4\", \"Topic4\", \"Topic4\", \"Topic4\", \"Topic4\", \"Topic4\", \"Topic4\", \"Topic4\", \"Topic4\", \"Topic4\", \"Topic4\", \"Topic4\", \"Topic4\", \"Topic4\", \"Topic4\", \"Topic4\", \"Topic4\", \"Topic4\", \"Topic4\", \"Topic4\", \"Topic4\", \"Topic4\", \"Topic4\", \"Topic4\", \"Topic4\", \"Topic4\", \"Topic4\", \"Topic4\", \"Topic4\", \"Topic4\", \"Topic5\", \"Topic5\", \"Topic5\", \"Topic5\", \"Topic5\", \"Topic5\", \"Topic5\", \"Topic5\", \"Topic5\", \"Topic5\", \"Topic5\", \"Topic5\", \"Topic5\", \"Topic5\", \"Topic5\", \"Topic5\", \"Topic5\", \"Topic5\", \"Topic5\", \"Topic5\", \"Topic5\", \"Topic5\", \"Topic5\", \"Topic5\", \"Topic5\", \"Topic5\", \"Topic5\", \"Topic5\", \"Topic5\", \"Topic5\", \"Topic5\", \"Topic5\", \"Topic5\", \"Topic5\", \"Topic5\", \"Topic5\", \"Topic5\", \"Topic5\", \"Topic5\", \"Topic5\", \"Topic5\", \"Topic6\", \"Topic6\", \"Topic6\", \"Topic6\", \"Topic6\", \"Topic6\", \"Topic6\", \"Topic6\", \"Topic6\", \"Topic6\", \"Topic6\", \"Topic6\", \"Topic6\", \"Topic6\", \"Topic6\", \"Topic6\", \"Topic6\", \"Topic6\", \"Topic6\", \"Topic6\", \"Topic6\", \"Topic6\", \"Topic6\", \"Topic6\", \"Topic6\", \"Topic6\", \"Topic6\", \"Topic6\", \"Topic6\", \"Topic6\", \"Topic6\", \"Topic6\", \"Topic6\", \"Topic6\", \"Topic6\", \"Topic6\", \"Topic6\", \"Topic6\", \"Topic6\", \"Topic7\", \"Topic7\", \"Topic7\", \"Topic7\", \"Topic7\", \"Topic7\", \"Topic7\", \"Topic7\", \"Topic7\", \"Topic7\", \"Topic7\", \"Topic7\", \"Topic7\", \"Topic7\", \"Topic7\", \"Topic7\", \"Topic7\", \"Topic7\", \"Topic7\", \"Topic7\", \"Topic7\", \"Topic7\", \"Topic7\", \"Topic7\", \"Topic7\", \"Topic7\", \"Topic7\", \"Topic7\", \"Topic7\", \"Topic7\", \"Topic7\", \"Topic7\", \"Topic7\", \"Topic7\", \"Topic7\", \"Topic7\", \"Topic8\", \"Topic8\", \"Topic8\", \"Topic8\", \"Topic8\", \"Topic8\", \"Topic8\", \"Topic8\", \"Topic8\", \"Topic8\", \"Topic8\", \"Topic8\", \"Topic8\", \"Topic8\", \"Topic8\", \"Topic8\", \"Topic8\", \"Topic8\", \"Topic8\", \"Topic8\", \"Topic8\", \"Topic8\", \"Topic8\", \"Topic8\", \"Topic8\", \"Topic8\", \"Topic8\", \"Topic8\", \"Topic8\", \"Topic8\", \"Topic8\", \"Topic8\", \"Topic8\", \"Topic8\", \"Topic8\", \"Topic8\", \"Topic8\", \"Topic8\", \"Topic9\", \"Topic9\", \"Topic9\", \"Topic9\", \"Topic9\", \"Topic9\", \"Topic9\", \"Topic9\", \"Topic9\", \"Topic9\", \"Topic9\", \"Topic9\", \"Topic9\", \"Topic9\", \"Topic9\", \"Topic9\", \"Topic9\", \"Topic9\", \"Topic9\", \"Topic9\", \"Topic9\", \"Topic9\", \"Topic9\", \"Topic9\", \"Topic9\", \"Topic9\", \"Topic9\", \"Topic9\", \"Topic9\", \"Topic9\", \"Topic9\", \"Topic9\", \"Topic9\", \"Topic9\", \"Topic9\", \"Topic9\", \"Topic9\", \"Topic9\", \"Topic9\", \"Topic9\", \"Topic9\", \"Topic9\", \"Topic9\", \"Topic9\", \"Topic9\", \"Topic9\", \"Topic9\", \"Topic9\", \"Topic9\", \"Topic9\", \"Topic9\", \"Topic9\", \"Topic9\", \"Topic9\", \"Topic10\", \"Topic10\", \"Topic10\", \"Topic10\", \"Topic10\", \"Topic10\", \"Topic10\", \"Topic10\", \"Topic10\", \"Topic10\", \"Topic10\", \"Topic10\", \"Topic10\", \"Topic10\", \"Topic10\", \"Topic10\", \"Topic10\", \"Topic10\", \"Topic10\", \"Topic10\", \"Topic10\", \"Topic10\", \"Topic10\", \"Topic10\", \"Topic10\", \"Topic10\", \"Topic10\", \"Topic10\", \"Topic10\", \"Topic10\", \"Topic10\", \"Topic10\", \"Topic10\", \"Topic10\", \"Topic10\", \"Topic10\", \"Topic10\", \"Topic10\", \"Topic10\", \"Topic10\", \"Topic10\", \"Topic10\", \"Topic10\", \"Topic10\", \"Topic10\", \"Topic10\", \"Topic10\", \"Topic10\", \"Topic10\", \"Topic10\", \"Topic10\", \"Topic10\", \"Topic10\", \"Topic10\", \"Topic10\", \"Topic10\", \"Topic10\", \"Topic10\", \"Topic10\", \"Topic10\", \"Topic10\", \"Topic10\", \"Topic10\", \"Topic10\"], \"Freq\": [40.0, 64.0, 33.0, 44.0, 37.0, 21.0, 26.0, 20.0, 61.0, 24.0, 28.0, 28.0, 17.0, 20.0, 21.0, 25.0, 19.0, 47.0, 63.0, 13.0, 30.0, 27.0, 14.0, 11.0, 17.0, 16.0, 21.0, 13.0, 13.0, 19.0, 54.314735370416166, 14.237693131411492, 7.139613642249297, 12.389146635727684, 10.54446432362801, 7.134099649100848, 6.378608389618784, 4.57683119904547, 17.89839728126906, 16.911249113101757, 6.5255374432826265, 15.732556178092036, 3.9804270333023037, 14.670036741145767, 34.88701067326289, 6.220501958700176, 5.855516865667375, 7.183896574364073, 7.046287936996871, 6.471013356768942, 7.44726239848279, 8.34461171395689, 14.845270680663772, 5.539329127710739, 8.481779937718605, 8.354411849595062, 21.766189380588656, 13.689932509737133, 20.055921625034973, 6.765224806932413, 22.18754543417017, 15.418340804908457, 7.3829972341201175, 9.880466281549058, 7.378641187701224, 7.388570841680922, 6.962402475393718, 6.704666624150873, 19.38529936691099, 10.44303842926092, 7.580694321085035, 10.142741212418033, 16.281399536244095, 3.964619837150903, 6.696557666336197, 20.664656738585634, 4.7307819927901384, 5.5979278563275745, 6.763695409452721, 6.990165471220975, 2.999829870940875, 2.9061300556787644, 4.735753507993816, 11.996292458425994, 11.339602024307347, 9.31452704368232, 3.9062107422462145, 7.66554577902615, 4.1885169977698435, 4.834975750871596, 2.1512814057518472, 2.2016605946281245, 8.395153268789173, 2.1204439865316953, 4.80757554528067, 16.003760088258502, 2.1499696900506438, 3.0514549930079706, 5.607344313766622, 10.680728028057244, 6.674628300873842, 5.854912607476625, 8.397047336487732, 10.416380533604874, 6.713520652128758, 5.1204077171622275, 4.717194471091842, 5.021535051864613, 3.942036678305481, 3.866835219248115, 8.046641813903193, 4.755048088572598, 6.0169482288425735, 3.6602497305075983, 5.35407587658063, 4.336235933371414, 2.4450746124357714, 2.8129558999759663, 4.149639566639825, 2.7023935561760632, 2.222118196185628, 3.5851435117637864, 2.5145601341851314, 5.083821897183414, 10.999209968207673, 3.153320869875752, 1.8735076745553498, 11.545823445256579, 3.0892671619314833, 7.267220942556134, 1.8393385772439272, 4.028613847091987, 1.8791571627204344, 5.178397342325133, 2.6392765400517693, 2.264120288586722, 1.908625356659125, 6.533842617130384, 3.041308517956433, 4.6295909476857116, 9.290710614008892, 10.03334532921964, 7.659846616558183, 5.137342375761068, 4.225879831524843, 6.147555513899159, 4.4180414517159665, 5.95332187407339, 3.5811363400304823, 3.480618293440497, 4.744515919290015, 3.8051497267611234, 3.979596541979247, 10.095063843953382, 8.2971759835887, 2.5114590610828516, 2.4730980393237734, 4.766445309837283, 3.5351555434663173, 4.013022377408425, 1.775141315707011, 2.790133299275284, 2.5046622378052366, 1.763610313980912, 1.7762954477701158, 1.5165438728910277, 2.9560125028660202, 3.1491947939072693, 1.7613096596530233, 1.7544047017851925, 11.487497709198536, 3.4626710440823514, 3.7918926845301395, 1.5842596780650635, 2.5298931314074404, 6.006496495333575, 2.8652085233893376, 2.478017324559053, 5.511706049886339, 1.7664036437927844, 1.0093396195418363, 4.3129309239627185, 3.8610673271637483, 3.6619615469006, 4.7941408658650975, 2.3464080590329264, 4.561340038384333, 3.6270540063172607, 2.687040100371526, 2.2906059115181936, 2.3123888442888285, 2.0076558355001906, 2.1842476757144693, 12.052754413120894, 4.005626783833801, 11.10753167484595, 4.017044538814918, 4.7659515924469344, 3.363506824892287, 6.1333372437557205, 3.193974065707022, 1.6609223837341762, 3.4042153029490634, 3.0532506085304343, 3.4452655104251217, 1.6983830865893708, 2.806151983579312, 2.4733077902954332, 8.310288928933817, 2.678048150475495, 1.688263716805159, 1.6583314841613424, 3.154823788626031, 1.863053812535921, 2.398857308436681, 2.739965173282172, 1.8997094861201043, 3.439833780065071, 5.828343271143544, 1.0449589458475437, 1.0868377526899329, 1.0512771496920417, 1.02949984936462, 1.0483301532881526, 4.888410201217112, 3.868857446817586, 1.8932904999320255, 7.448320181025624, 2.863658233767645, 2.6246060552065593, 2.079127553832092, 1.8760062236160888, 1.986161825916948, 1.8943116657260772, 6.106384407777081, 5.515283776325583, 7.206510364423528, 3.3676431036424077, 2.335362537470148, 1.904792404890825, 2.1990089759629474, 1.9157040102059535, 3.2024536663530654, 2.338961751601744, 3.31990604515182, 1.9088172823099498, 3.5174253331847596, 2.4176498001321964, 1.874919707088621, 1.4072301581174484, 6.523126845240994, 2.7347009492292775, 6.684679669146416, 2.388423167031815, 1.0865568981970501, 1.9319586761443444, 4.173543839743293, 1.1036891404326548, 1.4501795919688936, 1.0781601658058448, 1.2514103128657648, 1.7897757443137983, 1.0886762403571528, 1.0906153260158344, 3.0553316238831747, 2.3900288813680333, 5.067476890057021, 4.919095609170201, 2.1119531431101635, 1.8675252266088627, 1.681912534288519, 2.027387910213654, 1.882603597639443, 9.327839676575906, 5.9534114384951735, 3.074443126027132, 7.215453204579675, 1.8246542854659813, 1.8252687889353332, 3.1262955991479506, 6.7302151051993775, 2.293679563282283, 3.908573227697782, 3.848358342095492, 1.3219647115424575, 2.3753142257036743, 1.4098738025456026, 1.163292238485156, 3.2906316904215855, 2.5529141628548224, 1.1902427203675128, 2.988961152986462, 3.6892859030817107, 1.9665474474215852, 1.6848150515759417, 1.178276594636187, 2.077964154530444, 1.9565778857403922, 3.688130638377467, 0.9330065808576786, 6.198846717213651, 1.1760498648815845, 1.2631437986936018, 3.9572213419212576, 4.890147430792073, 2.2968409883208314, 2.020286927173303, 2.9222099348087824, 1.3061510285385445, 3.732970079580302, 4.682293180863623, 7.169786927867227, 3.0954780397995694, 2.1373729516255744, 1.6385946515397438, 8.540217068985827, 1.9872811087246747, 3.4625229295013886, 1.6241357202055062, 10.483667457075887, 3.015479911602872, 2.3061132651231597, 3.6853226743092216, 1.6533145858841938, 2.360460933873589, 6.6157837485434765, 2.0497652927880954, 2.3447599784193214, 1.1442476815353444, 3.3266074039481217, 0.925042906169882, 0.9239324963115915, 3.2376160961169127, 2.4417419287434696, 0.9289833778224144, 0.9490149320540446, 0.9131399032261115, 2.4286737105313225, 0.9131736194353104, 0.9529389517650917, 1.6314394364041642, 1.565654006783256, 2.3387352660538263, 1.6060983919256813, 1.759349642977601, 1.7781086913640263, 1.6783840440477933, 0.04312235316663576, 0.07332865210837985, 0.03864386307838129, 0.048335059146835675, 0.07179113437690728, 0.029363472227946108, 0.027513280514071446, 0.035088172769405124, 0.035437140685999104, 0.022997812962483884, 0.04240364681295596, 0.024084865228503703, 0.02317838291467353, 0.022437325661770143, 0.023214242987985308, 0.02776263889019749, 0.04031930614260638, 0.021886536377898162, 0.024156070913260573, 0.023656862208445956, 0.023583475851821592, 0.021540165194286212, 0.020356893375342043, 0.02265604183011965, 0.02595038582599336, 0.026794370834359572, 0.02117546054784608, 0.022711899261959934, 0.02146889101140671, 0.021254029182063774, 0.023437720705253434, 0.030363851514899964, 0.024895438781874203, 0.030310926746894035, 0.032925343621622166, 0.0363117244080489, 0.030707296285408758, 0.06827593007080271, 0.029941308759641145, 0.0355611558790967, 0.032420314653021275, 0.028877380552724752, 0.02802951901711557, 0.03860869547860836, 0.035998492104614414, 0.036399155175736386, 0.040778233076821484, 0.032039446171382616, 0.028104768054961485, 0.03532786699199902, 0.030681029599779207, 0.02923395891855358, 0.02897477668416816, 0.028982463912635058, 0.0326777612261855, 0.026132006593270824, 0.024757221370660866, 0.023723279247062995, 0.025300506217029138, 0.025855835047166032, 0.023773172650675915, 0.024376835070313185, 0.02663087111078445, 0.02456878728241556, 0.025796229861169487, 0.02489293038521835, 0.022509850363043073, 0.02372337710958877, 0.02240118964906323, 0.02387186796683805, 0.022514678504556365, 0.023919236252877292, 0.02403807875715805, 0.023726082902505535, 0.02409852918375425, 0.02220450938983273, 0.024499829898012544, 0.026703009580076913, 0.02030291949290249, 0.025588905683260634, 0.028263849212564536, 0.023125299425456432, 0.021725210356118164, 0.0210078230423077, 0.022808966759568332, 0.02523143844606459, 0.025826157108401224, 0.03196479819520717, 0.030131376800418955, 0.05087169663389113, 0.037465383038771546, 0.031695229555979317, 0.030634128213590947, 0.02950387921692469, 0.02653665008739059, 0.029903249207869152, 0.02611031318194299, 0.03807468568640188, 0.03264489322790782, 0.03073195591843521, 0.027657867415914677, 0.03434587556598509, 0.029897618249601205, 0.037757549866486495, 0.03983256280375551, 0.031631215731038276, 0.032672080039508104, 0.03394839584000017, 0.028295994388225987, 0.027718895307188962, 0.026288524134120465, 0.02898972110688523, 0.03049623246673013, 0.0290944616250175, 0.026975485709825935, 0.02666165541564632, 0.026943076726540695, 0.026717558954364326], \"Term\": [\"virus\", \"patients\", \"covid-\", \"transmission\", \"epidemic\", \"feline\", \"mers-cov\", \"asymptomatic\", \"respiratory\", \"viral\", \"infections\", \"acute\", \"contacts\", \"hospital\", \"patient\", \"treatment\", \"china\", \"infection\", \"cases\", \"countries\", \"clinical\", \"syndrome\", \"sars-cov-\", \"cause\", \"rhinovirus\", \"illness\", \"case\", \"viruses\", \"health\", \"mers\", \"patients\", \"rhinovirus\", \"chest\", \"illness\", \"median\", \"medical\", \"mortality\", \"characteristics\", \"acute\", \"syndrome\", \"years\", \"mers-cov\", \"emerging\", \"treatment\", \"respiratory\", \"caused\", \"age\", \"workers\", \"factors\", \"management\", \"severe\", \"associated\", \"infections\", \"hospitalization\", \"east\", \"middle\", \"infection\", \"clinical\", \"days\", \"incubation\", \"cases\", \"coronavirus\", \"data\", \"disease\", \"time\", \"outbreak\", \"transmission\", \"virus\", \"feline\", \"fip\", \"peritonitis\", \"viruses\", \"viral\", \"significantly\", \"development\", \"virus\", \"children\", \"therapy\", \"positive\", \"abstract\", \"reaction\", \"chain\", \"fever\", \"clinical\", \"infectious\", \"study\", \"common\", \"infected\", \"cause\", \"compared\", \"determine\", \"conducted\", \"treatment\", \"samples\", \"potential\", \"coronavirus\", \"studied\", \"test\", \"using\", \"disease\", \"results\", \"control\", \"days\", \"cases\", \"infection\", \"infections\", \"respiratory\", \"daily\", \"absence\", \"syncytial\", \"mers\", \"cause\", \"estimated\", \"initial\", \"model\", \"early\", \"despite\", \"later\", \"strategies\", \"reduction\", \"need\", \"hospitalization\", \"course\", \"rate\", \"epidemic\", \"based\", \"determine\", \"virus\", \"exposure\", \"outbreak\", \"critical\", \"effective\", \"rates\", \"asymptomatic\", \"onset\", \"chronic\", \"remains\", \"acute\", \"diseases\", \"case\", \"coronavirus\", \"respiratory\", \"days\", \"syndrome\", \"patient\", \"transmission\", \"time\", \"infection\", \"period\", \"mean\", \"patients\", \"infectious\", \"cases\", \"hospital\", \"case\", \"assessed\", \"outbreaks\", \"countries\", \"risk\", \"reported\", \"likely\", \"secondary\", \"spread\", \"united\", \"respectively\", \"shorter\", \"higher\", \"potential\", \"february\", \"underlying\", \"cases\", \"mers\", \"infected\", \"conclusion\", \"identified\", \"disease\", \"symptoms\", \"incubation\", \"covid-\", \"based\", \"exposed\", \"infectious\", \"outbreak\", \"time\", \"epidemic\", \"methods\", \"respiratory\", \"days\", \"infections\", \"patient\", \"results\", \"estimated\", \"transmission\", \"asymptomatic\", \"proportion\", \"covid-\", \"sars-cov-\", \"period\", \"novel\", \"time\", \"analysis\", \"lower\", \"incubation\", \"pneumonia\", \"isolation\", \"course\", \"contact\", \"factors\", \"transmission\", \"model\", \"effectiveness\", \"human\", \"symptoms\", \"secondary\", \"higher\", \"number\", \"early\", \"infected\", \"epidemic\", \"shorter\", \"modelling\", \"rates\", \"interpretation\", \"evaluated\", \"disease\", \"infections\", \"severe\", \"cases\", \"coronavirus\", \"infection\", \"infectious\", \"effective\", \"control\", \"contacts\", \"health\", \"measures\", \"china\", \"spread\", \"interpretation\", \"likely\", \"modelling\", \"rates\", \"novel\", \"range\", \"model\", \"february\", \"number\", \"findings\", \"underlying\", \"evaluated\", \"covid-\", \"pneumonia\", \"epidemic\", \"background\", \"unknown\", \"including\", \"outbreak\", \"shorter\", \"children\", \"outbreaks\", \"reduction\", \"strategies\", \"rapidly\", \"significant\", \"control\", \"data\", \"transmission\", \"cases\", \"using\", \"period\", \"effective\", \"coronavirus\", \"disease\", \"contacts\", \"contact\", \"tested\", \"patient\", \"samples\", \"negative\", \"healthcare\", \"mers-cov\", \"test\", \"middle\", \"east\", \"conducted\", \"workers\", \"united\", \"exposed\", \"mers\", \"identified\", \"evaluated\", \"using\", \"control\", \"reported\", \"risk\", \"later\", \"median\", \"measures\", \"syndrome\", \"despite\", \"infection\", \"effectiveness\", \"collected\", \"transmission\", \"respiratory\", \"results\", \"case\", \"coronavirus\", \"methods\", \"pandemic\", \"global\", \"sars-cov-\", \"care\", \"united\", \"rapid\", \"covid-\", \"remains\", \"countries\", \"critical\", \"transmission\", \"analysis\", \"new\", \"china\", \"human\", \"increase\", \"epidemic\", \"strategies\", \"measures\", \"despite\", \"patient\", \"determine\", \"studies\", \"control\", \"data\", \"interpretation\", \"need\", \"outbreaks\", \"using\", \"assessed\", \"rapidly\", \"model\", \"contact\", \"viral\", \"number\", \"infection\", \"cases\", \"patients\", \"shorter\", \"cause\", \"bacterial\", \"mortality\", \"countries\", \"chain\", \"reaction\", \"conclusion\", \"children\", \"rapid\", \"management\", \"conducted\", \"unknown\", \"determine\", \"negative\", \"absence\", \"early\", \"studies\", \"need\", \"despite\", \"evaluated\", \"pandemic\", \"likely\", \"assessed\", \"syncytial\", \"total\", \"critical\", \"lower\", \"studied\", \"characteristics\", \"united\", \"second\", \"course\", \"common\", \"hospitalization\", \"viruses\", \"therapy\", \"virus\", \"fever\", \"illness\", \"background\", \"findings\", \"years\", \"infectious\", \"viral\", \"acute\", \"days\", \"patient\", \"workers\", \"respiratory\", \"infection\", \"disease\", \"infections\", \"clinical\", \"significant\", \"exposed\", \"studies\", \"likely\", \"emerging\", \"characteristics\", \"determine\", \"chain\", \"lower\", \"conducted\", \"evaluated\", \"studied\", \"unknown\", \"significantly\", \"samples\", \"outbreaks\", \"pandemic\", \"proportion\", \"need\", \"rates\", \"modelling\", \"reaction\", \"tested\", \"later\", \"rapid\", \"respectively\", \"human\", \"rapidly\", \"shorter\", \"negative\", \"bacterial\", \"syncytial\", \"total\", \"fever\", \"medical\", \"infections\", \"symptoms\", \"development\", \"new\", \"including\", \"mortality\", \"factors\", \"daily\", \"treatment\", \"rhinovirus\", \"potential\", \"caused\", \"viral\", \"associated\", \"infection\", \"respiratory\", \"infected\", \"clinical\", \"virus\", \"incubation\", \"severe\", \"chest\", \"time\", \"days\", \"acute\", \"illness\", \"hospitalization\", \"mers-cov\", \"coronavirus\"], \"Total\": [40.0, 64.0, 33.0, 44.0, 37.0, 21.0, 26.0, 20.0, 61.0, 24.0, 28.0, 28.0, 17.0, 20.0, 21.0, 25.0, 19.0, 47.0, 63.0, 13.0, 30.0, 27.0, 14.0, 11.0, 17.0, 16.0, 21.0, 13.0, 13.0, 19.0, 64.06404180018541, 17.7527523632881, 9.546992472978484, 16.781098758117974, 14.951856086106826, 10.364942058224685, 9.29713149234588, 6.981368685351488, 28.076403424212884, 27.934750708285623, 11.154112460912234, 26.901809974523065, 6.829546010886884, 25.936115721906642, 61.70683910144876, 11.09447963984679, 10.451603400259238, 12.880812924742022, 12.635201257615151, 11.6410168125071, 13.549644833249026, 15.816829098637424, 28.53012375613989, 11.718856799219719, 17.961598007024104, 18.031327446756436, 47.71601508906227, 30.102215596437457, 44.26821822156671, 15.077096366777337, 63.51406554855511, 51.333254425873804, 18.183322793551163, 36.43335159386537, 24.5449179744764, 25.775803724274137, 44.390293744388394, 40.62969297249634, 21.68630433390737, 12.436488015514097, 9.762621326276461, 13.851894642925101, 24.92520721100008, 6.916790543961758, 12.937788933733767, 40.62969297249634, 9.310049072499117, 11.051192859130142, 14.188962139124424, 15.6130174237286, 6.785174927596021, 6.718947791021469, 11.02703688248887, 30.102215596437457, 28.5309146893999, 24.100030883826246, 10.421165701258314, 21.784326127494655, 11.92160385889557, 13.819531947782112, 6.441553540404622, 6.79639819878956, 25.936115721906642, 6.554885028331934, 15.174769896710615, 51.333254425873804, 7.026411217794406, 9.989615603888137, 18.732223831320173, 36.43335159386537, 22.927611208410475, 23.999368441974607, 44.26821822156671, 63.51406554855511, 47.71601508906227, 28.53012375613989, 61.70683910144876, 8.984206635940794, 8.249129545191824, 8.126294610570943, 19.609040627293965, 11.92160385889557, 15.612257388834173, 9.784071436029967, 14.313546904173316, 11.99527605916499, 7.104623494348803, 8.183943782381737, 12.095681922113277, 8.232686541261538, 7.254084414253151, 11.718856799219719, 8.23544875138315, 16.774210210398454, 37.36190857285714, 10.777505691722236, 6.441553540404622, 40.62969297249634, 10.912593463908118, 25.775803724274137, 6.834799661395685, 15.101323548088823, 7.216158910026906, 20.04482463731393, 10.763723606831165, 9.283898507419156, 7.852123190992045, 28.076403424212884, 13.075383841654142, 21.537836102132292, 51.333254425873804, 61.70683910144876, 44.26821822156671, 27.934750708285623, 21.51922104746997, 44.390293744388394, 24.5449179744764, 47.71601508906227, 16.947504604545887, 16.089952741838694, 64.06404180018541, 28.5309146893999, 63.51406554855511, 20.812114040124364, 21.537836102132292, 7.074535823208813, 6.991584341009054, 13.935939465012302, 11.294097839140573, 12.94193937537444, 6.324935202929161, 10.541294032398463, 10.138635872096078, 7.727829606439483, 8.037616240828642, 6.967037465272981, 14.24298993982072, 15.174769896710615, 8.867396356366848, 9.049039262978118, 63.51406554855511, 19.609040627293965, 21.784326127494655, 9.146130750889835, 15.312272864866785, 36.43335159386537, 17.429433595508005, 15.077096366777337, 33.61250726737471, 10.777505691722236, 6.614196139443861, 28.5309146893999, 25.775803724274137, 24.5449179744764, 37.36190857285714, 17.667786127626083, 61.70683910144876, 44.26821822156671, 28.53012375613989, 21.51922104746997, 22.927611208410475, 15.612257388834173, 44.390293744388394, 20.04482463731393, 7.180102883122717, 33.61250726737471, 14.153972871197519, 16.947504604545887, 12.205693863578174, 24.5449179744764, 13.483289680908461, 7.343701823500837, 15.077096366777337, 14.198678300325746, 16.26985712097571, 8.23544875138315, 13.698082774071217, 12.635201257615151, 44.390293744388394, 14.313546904173316, 9.118143780451815, 8.98754279518646, 17.429433595508005, 10.541294032398463, 14.24298993982072, 16.5886552928738, 11.99527605916499, 21.784326127494655, 37.36190857285714, 6.967037465272981, 7.341826031090918, 7.216158910026906, 7.093106753019154, 7.225722178885213, 36.43335159386537, 28.53012375613989, 13.549644833249026, 63.51406554855511, 51.333254425873804, 47.71601508906227, 28.5309146893999, 15.101323548088823, 23.999368441974607, 17.011617723473954, 13.311467494413096, 14.204755890167304, 19.97780704155035, 10.138635872096078, 7.093106753019154, 6.324935202929161, 7.341826031090918, 7.216158910026906, 12.205693863578174, 9.74649225267643, 14.313546904173316, 8.867396356366848, 16.5886552928738, 11.641154374758287, 9.049039262978118, 7.225722178885213, 33.61250726737471, 14.198678300325746, 37.36190857285714, 14.114062413311347, 6.549684896826468, 11.697099208181406, 25.775803724274137, 6.967037465272981, 9.310049072499117, 6.991584341009054, 8.232686541261538, 12.095681922113277, 7.40722464880171, 7.464573645143466, 23.999368441974607, 18.183322793551163, 44.390293744388394, 63.51406554855511, 18.732223831320173, 16.947504604545887, 15.101323548088823, 51.333254425873804, 36.43335159386537, 17.011617723473954, 13.698082774071217, 7.497904743887056, 21.51922104746997, 6.554885028331934, 6.744771653884152, 11.5952214657043, 26.901809974523065, 9.989615603888137, 18.031327446756436, 17.961598007024104, 6.79639819878956, 12.880812924742022, 7.727829606439483, 6.614196139443861, 19.609040627293965, 15.312272864866785, 7.225722178885213, 18.732223831320173, 23.999368441974607, 12.94193937537444, 11.294097839140573, 8.183943782381737, 14.951856086106826, 14.204755890167304, 27.934750708285623, 7.104623494348803, 47.71601508906227, 9.118143780451815, 10.979835905503935, 44.390293744388394, 61.70683910144876, 22.927611208410475, 21.537836102132292, 51.333254425873804, 17.667786127626083, 6.644194400035447, 8.911320288165884, 14.153972871197519, 10.10238565099809, 7.727829606439483, 6.303560470163261, 33.61250726737471, 7.852123190992045, 13.935939465012302, 6.834799661395685, 44.390293744388394, 13.483289680908461, 12.29628258848953, 19.97780704155035, 8.98754279518646, 12.930141226812811, 37.36190857285714, 12.095681922113277, 14.204755890167304, 7.104623494348803, 21.51922104746997, 6.441553540404622, 6.5666946911716, 23.999368441974607, 18.183322793551163, 7.093106753019154, 7.254084414253151, 6.991584341009054, 18.732223831320173, 7.074535823208813, 7.40722464880171, 14.313546904173316, 13.698082774071217, 24.92520721100008, 16.5886552928738, 47.71601508906227, 63.51406554855511, 64.06404180018541, 6.967037465272981, 11.92160385889557, 7.324360104124364, 9.29713149234588, 13.935939465012302, 6.718947791021469, 6.785174927596021, 9.146130750889835, 9.310049072499117, 6.303560470163261, 11.6410168125071, 6.79639819878956, 6.549684896826468, 6.441553540404622, 6.744771653884152, 8.249129545191824, 11.99527605916499, 6.5666946911716, 7.254084414253151, 7.104623494348803, 7.225722178885213, 6.644194400035447, 6.324935202929161, 7.074535823208813, 8.126294610570943, 8.429630459190394, 6.834799661395685, 7.343701823500837, 7.026411217794406, 6.981368685351488, 7.727829606439483, 10.16647297679145, 8.23544875138315, 10.421165701258314, 11.718856799219719, 13.851894642925101, 11.051192859130142, 40.62969297249634, 11.02703688248887, 16.781098758117974, 14.114062413311347, 11.641154374758287, 11.154112460912234, 28.5309146893999, 24.92520721100008, 28.076403424212884, 44.26821822156671, 21.51922104746997, 12.880812924742022, 61.70683910144876, 47.71601508906227, 36.43335159386537, 28.53012375613989, 30.102215596437457, 7.464573645143466, 6.614196139443861, 6.5666946911716, 6.324935202929161, 6.829546010886884, 6.981368685351488, 6.441553540404622, 6.718947791021469, 7.343701823500837, 6.79639819878956, 7.225722178885213, 7.026411217794406, 6.549684896826468, 6.916790543961758, 6.554885028331934, 6.991584341009054, 6.644194400035447, 7.180102883122717, 7.254084414253151, 7.216158910026906, 7.341826031090918, 6.785174927596021, 7.497904743887056, 8.183943782381737, 6.303560470163261, 8.037616240828642, 8.98754279518646, 7.40722464880171, 6.967037465272981, 6.744771653884152, 7.324360104124364, 8.126294610570943, 8.429630459190394, 11.02703688248887, 10.364942058224685, 28.53012375613989, 17.429433595508005, 12.937788933733767, 12.29628258848953, 11.697099208181406, 9.29713149234588, 12.635201257615151, 8.984206635940794, 25.936115721906642, 17.7527523632881, 15.174769896710615, 11.09447963984679, 24.92520721100008, 15.816829098637424, 47.71601508906227, 61.70683910144876, 21.784326127494655, 30.102215596437457, 40.62969297249634, 15.077096366777337, 13.549644833249026, 9.546992472978484, 24.5449179744764, 44.26821822156671, 28.076403424212884, 16.781098758117974, 11.718856799219719, 26.901809974523065, 51.333254425873804], \"loglift\": [30.0, 29.0, 28.0, 27.0, 26.0, 25.0, 24.0, 23.0, 22.0, 21.0, 20.0, 19.0, 18.0, 17.0, 16.0, 15.0, 14.0, 13.0, 12.0, 11.0, 10.0, 9.0, 8.0, 7.0, 6.0, 5.0, 4.0, 3.0, 2.0, 1.0, 1.0135, 0.9579, 0.888, 0.8751, 0.8293, 0.805, 0.8018, 0.7563, 0.7283, 0.6767, 0.6425, 0.6421, 0.6387, 0.6087, 0.6083, 0.6, 0.5992, 0.5947, 0.5946, 0.5914, 0.58, 0.5391, 0.5253, 0.4292, 0.4282, 0.4092, 0.3936, 0.3906, 0.3868, 0.3772, 0.1268, -0.0242, 0.2772, -0.1264, -0.0234, -0.0709, -0.6739, -0.6231, 1.6362, 1.5736, 1.4954, 1.4367, 1.3225, 1.1918, 1.0898, 1.0723, 1.0713, 1.0682, 1.0074, 0.9447, 0.9321, 0.9102, 0.9031, 0.8283, 0.8256, 0.7977, 0.7671, 0.7039, 0.7023, 0.6981, 0.6516, 0.6211, 0.6203, 0.6197, 0.5989, 0.5828, 0.5641, 0.5624, 0.5422, 0.5213, 0.5143, 0.3376, 0.0859, -0.0596, -0.2128, 0.0306, -0.8229, 1.3872, 1.2305, 1.2263, 1.0782, 1.0498, 1.0155, 0.9857, 0.9856, 0.9514, 0.9023, 0.901, 0.8991, 0.855, 0.7858, 0.7845, 0.7826, 0.7752, 0.7461, 0.7399, 0.734, 0.7108, 0.707, 0.7029, 0.6563, 0.6476, 0.6234, 0.6155, 0.5633, 0.5578, 0.5545, 0.511, 0.5105, 0.4316, 0.2596, 0.1525, 0.2147, 0.2756, 0.3412, -0.008, 0.2541, -0.1124, 0.4145, 0.438, -0.634, -0.0457, -0.8011, 1.7091, 1.4787, 1.3969, 1.3933, 1.3597, 1.271, 1.2616, 1.1619, 1.1034, 1.0344, 0.9551, 0.923, 0.9078, 0.8601, 0.8601, 0.8162, 0.792, 0.7226, 0.6986, 0.6842, 0.6794, 0.6321, 0.6299, 0.627, 0.6268, 0.6245, 0.6241, 0.5526, 0.5432, 0.5341, 0.5301, 0.3793, 0.4137, -0.1722, -0.0693, 0.07, 0.1924, 0.1385, 0.3815, -0.5792, 1.9353, 1.8604, 1.3367, 1.1845, 1.1754, 1.1551, 1.0572, 1.0038, 0.9575, 0.9558, 0.907, 0.8917, 0.8652, 0.8585, 0.813, 0.7685, 0.7679, 0.7574, 0.7539, 0.7347, 0.7109, 0.6627, 0.6432, 0.6012, 0.5982, 0.5861, 0.5468, 0.5337, 0.5177, 0.5139, 0.5135, 0.4354, 0.446, 0.4759, 0.3007, -0.4423, -0.4564, -0.1751, 0.3583, -0.0478, 0.2489, 1.8933, 1.7265, 1.6529, 1.5704, 1.5616, 1.4724, 1.467, 1.3463, 1.3346, 1.2453, 1.2113, 1.1367, 1.1216, 1.1008, 1.0985, 1.0365, 1.033, 1.0254, 0.9517, 0.896, 0.8761, 0.8717, 0.8519, 0.83, 0.8131, 0.8031, 0.7887, 0.7618, 0.7551, 0.7491, 0.6114, 0.6434, 0.5024, 0.1144, 0.4899, 0.467, 0.4777, -0.559, -0.2903, 2.1192, 1.8868, 1.8285, 1.6273, 1.4412, 1.413, 1.4093, 1.3345, 1.2487, 1.1911, 1.1795, 1.0828, 1.0294, 1.0187, 0.9821, 0.9351, 0.9286, 0.9166, 0.8847, 0.8475, 0.8359, 0.8174, 0.7819, 0.7466, 0.7377, 0.6953, 0.69, 0.6791, 0.6719, 0.5576, 0.3026, 0.1849, 0.4192, 0.3535, -0.1459, 0.1154, 2.1459, 2.0789, 2.0423, 1.5396, 1.4372, 1.3751, 1.3523, 1.3484, 1.3299, 1.2854, 1.2792, 1.2247, 1.0487, 1.0321, 1.0293, 1.0217, 0.9912, 0.9473, 0.921, 0.8964, 0.8554, 0.7817, 0.7613, 0.7192, 0.7146, 0.6896, 0.6885, 0.6868, 0.6795, 0.6751, 0.6717, 0.5507, 0.5535, 0.3561, 0.3875, -0.5779, -0.8533, -0.9196, 1.3169, 1.3106, 1.1572, 1.1425, 1.1333, 0.9688, 0.8939, 0.8385, 0.8307, 0.7883, 0.7867, 0.7592, 0.7578, 0.742, 0.73, 0.7076, 0.7063, 0.6979, 0.697, 0.6969, 0.6769, 0.6702, 0.6629, 0.6579, 0.6551, 0.6505, 0.6248, 0.6231, 0.6109, 0.6073, 0.6035, 0.5882, 0.6003, 0.5617, 0.5271, 0.4577, 0.516, 0.0131, 0.4929, 0.245, 0.3256, 0.4025, 0.4155, -0.2035, -0.1384, -0.2464, -0.5881, -0.108, 0.2742, -1.0637, -0.9476, -0.7261, -0.4905, -0.5439, 0.9706, 0.868, 0.8211, 0.816, 0.8036, 0.8033, 0.7998, 0.7827, 0.7823, 0.7791, 0.7666, 0.7589, 0.7286, 0.7265, 0.7229, 0.722, 0.7145, 0.6974, 0.6921, 0.6843, 0.6826, 0.6796, 0.6781, 0.6766, 0.6637, 0.6521, 0.6398, 0.6325, 0.6313, 0.6302, 0.63, 0.627, 0.6137, 0.5583, 0.5612, 0.0724, 0.2593, 0.39, 0.4068, 0.4192, 0.5428, 0.3555, 0.5609, -0.1221, 0.1032, 0.1997, 0.4075, -0.1854, 0.1307, -0.7401, -0.9437, -0.133, -0.424, -0.6856, 0.1236, 0.2098, 0.5069, -0.3395, -0.8786, -0.4704, -0.0313, 0.3161, -0.5044, -1.159], \"logprob\": [30.0, 29.0, 28.0, 27.0, 26.0, 25.0, 24.0, 23.0, 22.0, 21.0, 20.0, 19.0, 18.0, 17.0, 16.0, 15.0, 14.0, 13.0, 12.0, 11.0, 10.0, 9.0, 8.0, 7.0, 6.0, 5.0, 4.0, 3.0, 2.0, 1.0, -2.6198, -3.9587, -4.649, -4.0978, -4.259, -4.6497, -4.7617, -5.0936, -3.7299, -3.7866, -4.7389, -3.8589, -5.2332, -3.9288, -3.0625, -4.7868, -4.8472, -4.6428, -4.6621, -4.7473, -4.6068, -4.493, -3.9169, -4.9027, -4.4767, -4.4918, -3.5343, -3.998, -3.6161, -4.7028, -3.5151, -3.8791, -4.6154, -4.3241, -4.616, -4.6147, -4.6741, -4.7118, -3.0803, -3.6989, -4.0192, -3.7281, -3.2548, -4.6674, -4.1433, -3.0164, -4.4908, -4.3225, -4.1333, -4.1003, -4.9463, -4.978, -4.4897, -3.5603, -3.6165, -3.8133, -4.6823, -4.0081, -4.6125, -4.469, -5.2788, -5.2556, -3.9172, -5.2932, -4.4747, -3.272, -5.2794, -4.9292, -4.3208, -3.6764, -4.1465, -4.2776, -3.917, -3.7015, -4.1407, -4.4116, -4.4936, -4.2105, -4.4525, -4.4718, -3.739, -4.265, -4.0297, -4.5267, -4.1464, -4.3572, -4.9302, -4.79, -4.4012, -4.8301, -5.0258, -4.5474, -4.9021, -4.1982, -3.4264, -4.6758, -5.1964, -3.3779, -4.6963, -3.8409, -5.2148, -4.4308, -5.1934, -4.1797, -4.8537, -5.0071, -5.1779, -3.9472, -4.712, -4.2918, -3.5952, -3.5183, -3.7882, -4.1877, -4.383, -4.0082, -4.3385, -4.0403, -4.5486, -4.577, -4.2672, -4.4879, -4.4431, -3.0486, -3.2447, -4.4397, -4.4551, -3.799, -4.0978, -3.9711, -4.7867, -4.3345, -4.4425, -4.7932, -4.7861, -4.9442, -4.2768, -4.2135, -4.7945, -4.7985, -2.9193, -4.1186, -4.0277, -4.9005, -4.4324, -3.5678, -4.308, -4.4531, -3.6537, -4.7917, -5.3513, -3.899, -4.0097, -4.0626, -3.7932, -4.5077, -3.843, -4.0722, -4.3722, -4.5318, -4.5223, -4.6636, -4.5793, -2.8599, -3.9615, -2.9416, -3.9587, -3.7877, -4.1362, -3.5355, -4.1879, -4.8418, -4.1242, -4.233, -4.1122, -4.8195, -4.3174, -4.4436, -3.2317, -4.3641, -4.8255, -4.8434, -4.2003, -4.727, -4.4742, -4.3413, -4.7075, -4.1138, -3.5865, -5.3052, -5.2659, -5.2992, -5.3201, -5.302, -3.7623, -3.9962, -4.7109, -3.3412, -4.2971, -4.3843, -4.6172, -4.7201, -4.663, -4.7103, -3.3113, -3.4131, -3.1456, -3.9064, -4.2725, -4.4763, -4.3326, -4.4705, -3.9567, -4.2709, -3.9207, -4.4741, -3.8629, -4.2378, -4.4921, -4.779, -3.2453, -4.1146, -3.2208, -4.25, -5.0376, -4.4621, -3.6919, -5.022, -4.7489, -5.0454, -4.8964, -4.5385, -5.0357, -5.0339, -4.0037, -4.2493, -3.4978, -3.5275, -4.373, -4.496, -4.6007, -4.4139, -4.488, -2.8401, -3.2892, -3.95, -3.0969, -4.4717, -4.4714, -3.9333, -3.1665, -4.243, -3.71, -3.7255, -4.794, -4.208, -4.7296, -4.9219, -3.882, -4.1359, -4.899, -3.9782, -3.7677, -4.3968, -4.5515, -4.9091, -4.3417, -4.4019, -3.768, -5.1425, -3.2488, -4.911, -4.8395, -3.6976, -3.4859, -4.2416, -4.3699, -4.0008, -4.806, -3.7536, -3.527, -3.1009, -3.9408, -4.3112, -4.5769, -2.926, -4.384, -3.8288, -4.5858, -2.721, -3.967, -4.2352, -3.7664, -4.568, -4.2119, -3.1813, -4.353, -4.2186, -4.936, -3.8688, -5.1487, -5.1499, -3.8959, -4.1781, -5.1444, -5.1231, -5.1616, -4.1834, -5.1616, -5.119, -4.5813, -4.6225, -4.2212, -4.597, -4.5058, -4.4952, -4.5529, -4.5351, -4.0042, -4.6448, -4.421, -4.0254, -4.9194, -4.9845, -4.7413, -4.7314, -5.1638, -4.5519, -5.1176, -5.1559, -5.1884, -5.1544, -4.9755, -4.6023, -5.2133, -5.1146, -5.1355, -5.1386, -5.2292, -5.2857, -5.1787, -5.043, -5.011, -5.2463, -5.1763, -5.2326, -5.2426, -5.1448, -4.8859, -5.0845, -4.8876, -4.8049, -4.707, -4.8747, -4.0756, -4.8999, -4.7279, -4.8204, -4.9361, -4.9659, -4.6457, -4.7157, -4.7046, -4.591, -4.8322, -4.9632, -4.7345, -4.8755, -4.9238, -4.9327, -4.9325, -4.8125, -5.036, -5.09, -5.1327, -5.0683, -5.0466, -5.1306, -5.1055, -5.0171, -5.0977, -5.0489, -5.0846, -5.1852, -5.1327, -5.19, -5.1264, -5.185, -5.1245, -5.1195, -5.1326, -5.117, -5.1989, -5.1005, -5.0144, -5.2884, -5.057, -4.9576, -5.1582, -5.2207, -5.2543, -5.172, -5.0711, -5.0478, -4.8345, -4.8936, -4.3698, -4.6757, -4.843, -4.877, -4.9146, -5.0206, -4.9012, -5.0368, -4.6596, -4.8135, -4.8738, -4.9792, -4.7627, -4.9014, -4.668, -4.6145, -4.845, -4.8126, -4.7743, -4.9564, -4.977, -5.03, -4.9322, -4.8815, -4.9286, -5.0042, -5.0159, -5.0054, -5.0138]}, \"token.table\": {\"Topic\": [1, 2, 3, 1, 2, 3, 4, 5, 1, 2, 3, 1, 2, 4, 7, 1, 3, 5, 6, 8, 1, 3, 4, 8, 1, 2, 3, 5, 2, 3, 5, 1, 2, 3, 4, 5, 6, 8, 1, 2, 3, 4, 1, 2, 3, 4, 5, 6, 1, 3, 5, 7, 8, 1, 3, 4, 5, 6, 7, 1, 2, 3, 4, 5, 6, 7, 8, 1, 2, 3, 5, 1, 2, 3, 4, 1, 2, 1, 5, 1, 3, 1, 2, 3, 6, 1, 3, 4, 5, 6, 8, 1, 2, 3, 5, 1, 2, 4, 5, 8, 1, 2, 3, 4, 5, 7, 1, 2, 3, 1, 2, 3, 5, 7, 8, 1, 2, 4, 5, 1, 2, 3, 7, 3, 5, 6, 7, 8, 3, 4, 5, 7, 8, 1, 2, 3, 5, 6, 7, 8, 1, 2, 3, 4, 5, 6, 7, 8, 2, 3, 4, 6, 8, 1, 2, 3, 5, 1, 3, 4, 5, 6, 8, 3, 4, 5, 8, 2, 3, 1, 2, 3, 4, 6, 8, 1, 2, 3, 4, 5, 6, 7, 1, 3, 7, 8, 2, 3, 8, 1, 2, 3, 4, 5, 1, 2, 3, 4, 5, 6, 8, 1, 2, 3, 4, 5, 7, 8, 1, 2, 3, 4, 5, 8, 1, 3, 4, 7, 8, 1, 2, 3, 5, 6, 7, 1, 3, 5, 7, 1, 2, 1, 2, 3, 4, 5, 6, 8, 1, 3, 4, 5, 6, 1, 3, 4, 5, 6, 7, 1, 3, 4, 7, 1, 3, 4, 5, 1, 4, 5, 8, 2, 3, 4, 5, 6, 2, 3, 1, 2, 5, 1, 2, 3, 5, 6, 8, 2, 2, 4, 7, 8, 1, 3, 4, 6, 7, 1, 3, 4, 7, 8, 1, 2, 4, 5, 1, 3, 4, 5, 8, 1, 3, 8, 1, 2, 5, 8, 1, 2, 4, 7, 8, 1, 2, 4, 1, 2, 3, 4, 5, 6, 1, 2, 3, 4, 5, 8, 1, 3, 4, 5, 1, 2, 3, 4, 5, 6, 1, 2, 3, 4, 5, 6, 7, 8, 1, 2, 4, 5, 6, 1, 2, 3, 4, 5, 6, 7, 8, 1, 3, 6, 8, 1, 3, 5, 6, 8, 1, 2, 3, 4, 5, 1, 2, 3, 6, 7, 2, 4, 6, 1, 3, 4, 5, 1, 2, 3, 8, 1, 2, 3, 5, 6, 7, 3, 4, 6, 7, 8, 1, 4, 7, 1, 3, 5, 1, 3, 4, 7, 1, 3, 4, 7, 8, 1, 2, 3, 4, 5, 6, 7, 8, 1, 3, 4, 7, 3, 5, 6, 8, 2, 3, 5, 6, 1, 2, 4, 1, 3, 8, 1, 2, 7, 1, 2, 5, 6, 8, 1, 3, 5, 6, 8, 1, 2, 3, 5, 6, 8, 1, 3, 4, 5, 1, 3, 4, 5, 6, 7, 1, 4, 6, 8, 3, 8, 1, 2, 3, 4, 7, 8, 1, 2, 3, 5, 8, 1, 2, 3, 4, 5, 6, 7, 8, 2, 1, 3, 4, 5, 6, 1, 2, 3, 5, 1, 2, 4, 5, 2, 4, 5, 1, 2, 3, 4, 5, 6, 8, 1, 2, 4, 8, 1, 2, 5, 6, 8, 1, 2, 3, 4, 5, 6, 2, 3, 5, 6, 1, 2, 1, 2, 3, 6, 1, 2, 3, 6, 8, 2, 3, 4, 5, 6, 7, 1, 4, 5, 6, 8, 1, 2, 3, 4, 5, 7, 8, 1, 2, 3, 4, 5, 6, 7, 8, 1, 2, 3, 1, 4, 5, 7, 8, 2, 4, 7, 1, 5, 6, 8, 1, 2, 4, 6, 8, 1, 4, 5, 7, 1, 3, 4, 5, 1, 2, 4, 5, 6, 1, 2, 4, 6, 1, 2, 3, 4, 6, 8, 1, 3, 5, 6, 8, 1, 2, 1, 2, 3, 8, 1, 2, 3, 4, 5, 7, 8, 1, 2, 3, 4, 5, 1, 2, 3, 1, 3, 4, 7, 1, 2, 3, 5, 7, 2, 3, 7, 1, 2, 3, 4, 5, 1, 3, 4, 5, 6, 8, 1, 2, 3, 4, 6, 1, 2, 3, 4, 5, 6, 7, 8, 1, 2, 3, 1, 3, 4, 6, 1, 4, 7, 8, 1, 2, 3, 5, 6, 2, 3, 4, 6, 7, 8, 1, 2, 3, 4, 8, 1, 2, 3, 2, 3, 4, 1, 3, 7, 1, 2, 7, 8], \"Freq\": [0.12122491161299202, 0.12122491161299202, 0.4848996464519681, 0.2561964732019588, 0.4483438281034279, 0.1280982366009794, 0.0640491183004897, 0.0640491183004897, 0.641107756147888, 0.0712341951275431, 0.24931968294640086, 0.5740745960424769, 0.09567909934041281, 0.09567909934041281, 0.09567909934041281, 0.22249763010341772, 0.22249763010341772, 0.22249763010341772, 0.07416587670113924, 0.22249763010341772, 0.1413520300115503, 0.1413520300115503, 0.42405609003465095, 0.1413520300115503, 0.505790379987679, 0.1896713924953796, 0.06322379749845987, 0.12644759499691974, 0.04988818900108887, 0.24944094500544436, 0.5986582680130664, 0.35425661681107257, 0.14170264672442903, 0.07085132336221452, 0.14170264672442903, 0.14170264672442903, 0.14170264672442903, 0.07085132336221452, 0.409592095056972, 0.136530698352324, 0.136530698352324, 0.136530698352324, 0.09278584754244754, 0.2783575426273426, 0.2783575426273426, 0.18557169508489507, 0.09278584754244754, 0.09278584754244754, 0.2969595602107714, 0.09898652007025713, 0.09898652007025713, 0.09898652007025713, 0.2969595602107714, 0.13928975899779428, 0.23214959832965715, 0.3714393573274514, 0.04642991966593143, 0.09285983933186286, 0.09285983933186286, 0.34637996812188765, 0.15744544005540348, 0.06297817602216138, 0.17318998406094382, 0.11021180803878243, 0.07872272002770174, 0.015744544005540345, 0.03148908801108069, 0.08388133105545423, 0.3355253242218169, 0.4194066552772711, 0.08388133105545423, 0.5408095011910677, 0.09013491686517797, 0.18026983373035593, 0.09013491686517797, 0.297665655725529, 0.44649848358829347, 0.716191942489894, 0.1432383884979788, 0.7332152004741374, 0.10474502863916248, 0.10741081945033913, 0.5370540972516957, 0.10741081945033913, 0.10741081945033913, 0.20022217612176846, 0.15016663209132633, 0.050055544030442115, 0.050055544030442115, 0.3503888082130948, 0.20022217612176846, 0.3231401116247203, 0.21542674108314686, 0.21542674108314686, 0.10771337054157343, 0.4650820453779779, 0.39864175318112394, 0.033220146098426995, 0.033220146098426995, 0.033220146098426995, 0.2732281270702935, 0.2732281270702935, 0.182152084713529, 0.0910760423567645, 0.0910760423567645, 0.0910760423567645, 0.38383421919075866, 0.38383421919075866, 0.09595855479768967, 0.3618067543020114, 0.3618067543020114, 0.07236135086040228, 0.07236135086040228, 0.07236135086040228, 0.07236135086040228, 0.4373434088082369, 0.21867170440411846, 0.21867170440411846, 0.10933585220205923, 0.14713675843450436, 0.2942735168690087, 0.14713675843450436, 0.14713675843450436, 0.07300291701353102, 0.21900875104059309, 0.14600583402706205, 0.43801750208118617, 0.14600583402706205, 0.11756671426023431, 0.11756671426023431, 0.11756671426023431, 0.5290502141710544, 0.058783357130117155, 0.08333552630085149, 0.25000657890255445, 0.12500328945127723, 0.08333552630085149, 0.12500328945127723, 0.16667105260170298, 0.12500328945127723, 0.2922082413781165, 0.3116887908033243, 0.17532494482686992, 0.038961098850415536, 0.0584416482756233, 0.038961098850415536, 0.0584416482756233, 0.019480549425207768, 0.14351382660790243, 0.07175691330395122, 0.35878456651975604, 0.07175691330395122, 0.21527073991185364, 0.12142629141272347, 0.24285258282544694, 0.36427887423817046, 0.24285258282544694, 0.02975083030984212, 0.02975083030984212, 0.17850498185905272, 0.3272591334082633, 0.20825581216889483, 0.2677574727885791, 0.2926201350562475, 0.14631006752812376, 0.14631006752812376, 0.2926201350562475, 0.22261286733979568, 0.5565321683494893, 0.3849681424828798, 0.054995448926125685, 0.10999089785225137, 0.10999089785225137, 0.10999089785225137, 0.10999089785225137, 0.451791393543288, 0.1807165574173152, 0.1807165574173152, 0.0903582787086576, 0.0451791393543288, 0.0225895696771644, 0.0225895696771644, 0.14075341230895982, 0.28150682461791965, 0.14075341230895982, 0.14075341230895982, 0.3104841072041095, 0.3104841072041095, 0.15524205360205476, 0.23187887941020988, 0.541050718623823, 0.0772929598034033, 0.0772929598034033, 0.0772929598034033, 0.2744737874097698, 0.30192116615074677, 0.05489475748195396, 0.16468427244586187, 0.1372368937048849, 0.05489475748195396, 0.02744737874097698, 0.2294387710778268, 0.0764795903592756, 0.2294387710778268, 0.1529591807185512, 0.0764795903592756, 0.0764795903592756, 0.0764795903592756, 0.16673230279447385, 0.08336615139723692, 0.3334646055889477, 0.08336615139723692, 0.16673230279447385, 0.08336615139723692, 0.4453946690529151, 0.16702300089484315, 0.055674333631614385, 0.22269733452645754, 0.055674333631614385, 0.26487744516315775, 0.13243872258157888, 0.26487744516315775, 0.13243872258157888, 0.13243872258157888, 0.06621936129078944, 0.32901433364448945, 0.21934288909632632, 0.21934288909632632, 0.10967144454816316, 0.585690468096072, 0.146422617024018, 0.026765227960717317, 0.026765227960717317, 0.29441750756789054, 0.1338261398035866, 0.1605913677643039, 0.18735659572502122, 0.18735659572502122, 0.3202611816774159, 0.3843134180128991, 0.12810447267096636, 0.06405223633548318, 0.06405223633548318, 0.1383944712020855, 0.1383944712020855, 0.1383944712020855, 0.1383944712020855, 0.1383944712020855, 0.1383944712020855, 0.3023799049551871, 0.15118995247759354, 0.15118995247759354, 0.15118995247759354, 0.45818622461624753, 0.2749117347697485, 0.09163724492324951, 0.09163724492324951, 0.5540077959408163, 0.07914397084868804, 0.1582879416973761, 0.07914397084868804, 0.11277267416630063, 0.22554534833260126, 0.22554534833260126, 0.11277267416630063, 0.22554534833260126, 0.8761289940164111, 0.04611205231665322, 0.2720585803756631, 0.4534309672927719, 0.18137238691710875, 0.2577064012229707, 0.2577064012229707, 0.08590213374099025, 0.08590213374099025, 0.1718042674819805, 0.08590213374099025, 0.8040855253931286, 0.11221681722381664, 0.11221681722381664, 0.11221681722381664, 0.5610840861190832, 0.22536959213994387, 0.07512319737998129, 0.07512319737998129, 0.45073918427988774, 0.07512319737998129, 0.3449696939235682, 0.1724848469617841, 0.08624242348089205, 0.2587272704426761, 0.08624242348089205, 0.4212598636487925, 0.1404199545495975, 0.21062993182439624, 0.1404199545495975, 0.28829363458380064, 0.09609787819460021, 0.4804893909730011, 0.048048939097300104, 0.048048939097300104, 0.5119953339134156, 0.3413302226089437, 0.08533255565223592, 0.22253023385559378, 0.22253023385559378, 0.22253023385559378, 0.22253023385559378, 0.32653545584811516, 0.26122836467849214, 0.1959212735088691, 0.1959212735088691, 0.06530709116962304, 0.7150902436704222, 0.11918170727840369, 0.05959085363920184, 0.170982562805069, 0.2564738442076035, 0.170982562805069, 0.0854912814025345, 0.0854912814025345, 0.170982562805069, 0.3093547030797568, 0.0773386757699392, 0.1546773515398784, 0.0773386757699392, 0.1546773515398784, 0.1546773515398784, 0.4642803779794517, 0.06632576828277882, 0.13265153656555764, 0.19897730484833645, 0.13771369297550176, 0.367236514601338, 0.0918091286503345, 0.183618257300669, 0.13771369297550176, 0.04590456432516725, 0.4610611334357416, 0.14670126972955416, 0.125743945482475, 0.020957324247079166, 0.0628719727412375, 0.020957324247079166, 0.125743945482475, 0.04191464849415833, 0.525760074797148, 0.17525335826571603, 0.10515201495942962, 0.14020268661257282, 0.035050671653143205, 0.14019879991741455, 0.38554669977288997, 0.14019879991741455, 0.14019879991741455, 0.07009939995870727, 0.035049699979353637, 0.035049699979353637, 0.035049699979353637, 0.30662081931990626, 0.40882775909320834, 0.10220693977330209, 0.10220693977330209, 0.1409819469549579, 0.1409819469549579, 0.1409819469549579, 0.2819638939099158, 0.1409819469549579, 0.36878012851536196, 0.12292670950512066, 0.18439006425768098, 0.06146335475256033, 0.18439006425768098, 0.12219047767077579, 0.12219047767077579, 0.36657143301232736, 0.12219047767077579, 0.12219047767077579, 0.15810438651401312, 0.31620877302802625, 0.31620877302802625, 0.27234221215242294, 0.13617110607621147, 0.13617110607621147, 0.27234221215242294, 0.5154188930947685, 0.08590314884912809, 0.17180629769825617, 0.08590314884912809, 0.31075293260486114, 0.18645175956291668, 0.18645175956291668, 0.12430117304194445, 0.062150586520972224, 0.062150586520972224, 0.14079791412567835, 0.07039895706283918, 0.4223937423770351, 0.14079791412567835, 0.14079791412567835, 0.735694614544955, 0.0668813285949959, 0.1337626571899918, 0.6753535100030231, 0.09647907285757473, 0.09647907285757473, 0.20398754207446393, 0.40797508414892786, 0.15299065655584795, 0.15299065655584795, 0.5947555207308559, 0.037172220045678495, 0.07434444009135699, 0.26020554031974946, 0.037172220045678495, 0.33960112244160295, 0.16980056122080148, 0.113200374147201, 0.113200374147201, 0.0566001870736005, 0.0566001870736005, 0.0566001870736005, 0.0566001870736005, 0.44367227114158364, 0.16637710167809386, 0.055459033892697955, 0.22183613557079182, 0.34931942679715394, 0.20959165607829236, 0.20959165607829236, 0.13972777071886158, 0.13620589697511679, 0.27241179395023357, 0.13620589697511679, 0.27241179395023357, 0.6453603463541057, 0.10756005772568428, 0.10756005772568428, 0.41356011712594154, 0.2757067447506277, 0.13785337237531384, 0.29652597636100075, 0.14826298818050038, 0.29652597636100075, 0.32530156746270406, 0.16265078373135203, 0.16265078373135203, 0.08132539186567601, 0.16265078373135203, 0.24578692809525632, 0.0819289760317521, 0.24578692809525632, 0.24578692809525632, 0.0819289760317521, 0.3014108082737673, 0.12056432330950692, 0.06028216165475346, 0.1808464849642604, 0.24112864661901384, 0.12056432330950692, 0.4645232618967255, 0.27871395713803526, 0.0929046523793451, 0.0929046523793451, 0.27157252106974306, 0.27157252106974306, 0.1551842977541389, 0.03879607443853472, 0.1551842977541389, 0.03879607443853472, 0.14302909773032588, 0.28605819546065175, 0.14302909773032588, 0.14302909773032588, 0.1505073361481815, 0.602029344592726, 0.09294016709936355, 0.09294016709936355, 0.1858803341987271, 0.09294016709936355, 0.3252905848477724, 0.13941025064904533, 0.842906542931291, 0.015609380424653537, 0.07804690212326768, 0.015609380424653537, 0.031218760849307074, 0.11801147405875512, 0.05900573702937756, 0.23602294811751023, 0.05900573702937756, 0.2950286851468878, 0.11801147405875512, 0.05900573702937756, 0.05900573702937756, 0.8194520439369803, 0.4225745434250981, 0.07042909057084969, 0.07042909057084969, 0.21128727171254905, 0.21128727171254905, 0.3523865911385497, 0.4933412275939696, 0.07047731822770995, 0.07047731822770995, 0.26359543025868665, 0.32949428782335827, 0.19769657269401497, 0.13179771512934332, 0.1392737703453474, 0.1392737703453474, 0.5570950813813896, 0.10260101522426138, 0.20520203044852275, 0.10260101522426138, 0.10260101522426138, 0.10260101522426138, 0.20520203044852275, 0.10260101522426138, 0.15864050241658112, 0.15864050241658112, 0.15864050241658112, 0.31728100483316224, 0.1350033308577691, 0.2700066617155382, 0.1350033308577691, 0.1350033308577691, 0.1350033308577691, 0.2980766269937683, 0.11923065079750733, 0.2980766269937683, 0.059615325398753666, 0.059615325398753666, 0.059615325398753666, 0.1385778795157203, 0.2771557590314406, 0.1385778795157203, 0.2771557590314406, 0.2947602709350631, 0.4421404064025946, 0.2429340641084981, 0.12146703205424905, 0.3644010961627472, 0.12146703205424905, 0.12735408954704122, 0.12735408954704122, 0.25470817909408244, 0.12735408954704122, 0.25470817909408244, 0.2318045165401034, 0.07726817218003447, 0.3090726887201379, 0.07726817218003447, 0.07726817218003447, 0.15453634436006894, 0.3732449908171671, 0.24882999387811142, 0.12441499693905571, 0.12441499693905571, 0.12441499693905571, 0.5671980692846454, 0.08102829561209221, 0.16205659122418442, 0.08102829561209221, 0.01620565912241844, 0.08102829561209221, 0.01620565912241844, 0.2616932023777094, 0.3053087361073276, 0.1308466011888547, 0.08723106745923645, 0.043615533729618225, 0.043615533729618225, 0.08723106745923645, 0.043615533729618225, 0.7886101103371089, 0.056329293595507784, 0.056329293595507784, 0.26562546586087354, 0.3541672878144981, 0.08854182195362452, 0.17708364390724904, 0.08854182195362452, 0.30511595418614895, 0.15255797709307448, 0.30511595418614895, 0.07065154137994285, 0.2826061655197714, 0.07065154137994285, 0.49456078965959993, 0.39345011875125296, 0.2950875890634397, 0.09836252968781324, 0.09836252968781324, 0.09836252968781324, 0.3794600537378122, 0.28459504030335914, 0.1897300268689061, 0.09486501343445305, 0.516618707438215, 0.14760534498234715, 0.07380267249117357, 0.14760534498234715, 0.2870660607136029, 0.14353303035680146, 0.2870660607136029, 0.14353303035680146, 0.14353303035680146, 0.4018983725817794, 0.13396612419392648, 0.13396612419392648, 0.13396612419392648, 0.14457572390608, 0.57830289562432, 0.19726519674155304, 0.29589779511232955, 0.29589779511232955, 0.09863259837077652, 0.2480223950429295, 0.330696526723906, 0.0826741316809765, 0.165348263361953, 0.165348263361953, 0.42696049334580527, 0.28464032889720353, 0.3045672281199309, 0.15228361405996546, 0.15228361405996546, 0.15228361405996546, 0.24896233655976996, 0.37344350483965494, 0.12448116827988498, 0.08298744551992332, 0.04149372275996166, 0.04149372275996166, 0.04149372275996166, 0.4016194767111694, 0.11474842191747696, 0.11474842191747696, 0.17212263287621543, 0.17212263287621543, 0.2461146310642413, 0.12305731553212065, 0.4922292621284826, 0.6085610062364971, 0.17898853124602856, 0.03579770624920572, 0.14319082499682287, 0.1001039519088985, 0.3003118557266955, 0.200207903817797, 0.1001039519088985, 0.200207903817797, 0.26674118547992676, 0.13337059273996338, 0.40011177821989014, 0.09048796928503804, 0.5429278157102283, 0.09048796928503804, 0.09048796928503804, 0.09048796928503804, 0.2851914195549201, 0.16296652545995435, 0.16296652545995435, 0.24444978818993154, 0.04074163136498859, 0.04074163136498859, 0.3558874869454395, 0.11862916231514649, 0.11862916231514649, 0.11862916231514649, 0.11862916231514649, 0.15769213063351054, 0.022527447233358647, 0.1351646834001519, 0.045054894466717295, 0.18021957786686918, 0.11263723616679323, 0.09010978893343459, 0.22527447233358647, 0.5783441190976188, 0.3084501968520634, 0.03855627460650792, 0.3315269072014915, 0.11050896906716384, 0.22101793813432768, 0.22101793813432768, 0.12940243909709334, 0.2588048781941867, 0.12940243909709334, 0.2588048781941867, 0.15267910071284987, 0.15267910071284987, 0.30535820142569975, 0.15267910071284987, 0.15267910071284987, 0.32030366784151026, 0.16015183392075513, 0.10676788928050343, 0.10676788928050343, 0.16015183392075513, 0.10676788928050343, 0.12036008265062804, 0.6419204408033495, 0.08024005510041869, 0.040120027550209346, 0.08024005510041869, 0.17228778973886277, 0.5168633692165883, 0.2953504966951933, 0.7219229035291235, 0.07219229035291234, 0.07219229035291234, 0.5434439612545026, 0.15526970321557218, 0.15526970321557218, 0.6275712231278245, 0.08965303187540351, 0.08965303187540351, 0.08965303187540351], \"Term\": [\"absence\", \"absence\", \"absence\", \"abstract\", \"abstract\", \"abstract\", \"abstract\", \"abstract\", \"acute\", \"acute\", \"acute\", \"age\", \"age\", \"age\", \"age\", \"analysis\", \"analysis\", \"analysis\", \"analysis\", \"analysis\", \"assessed\", \"assessed\", \"assessed\", \"assessed\", \"associated\", \"associated\", \"associated\", \"associated\", \"asymptomatic\", \"asymptomatic\", \"asymptomatic\", \"background\", \"background\", \"background\", \"background\", \"background\", \"background\", \"background\", \"bacterial\", \"bacterial\", \"bacterial\", \"bacterial\", \"based\", \"based\", \"based\", \"based\", \"based\", \"based\", \"care\", \"care\", \"care\", \"care\", \"care\", \"case\", \"case\", \"case\", \"case\", \"case\", \"case\", \"cases\", \"cases\", \"cases\", \"cases\", \"cases\", \"cases\", \"cases\", \"cases\", \"cause\", \"cause\", \"cause\", \"cause\", \"caused\", \"caused\", \"caused\", \"caused\", \"chain\", \"chain\", \"characteristics\", \"characteristics\", \"chest\", \"chest\", \"children\", \"children\", \"children\", \"children\", \"china\", \"china\", \"china\", \"china\", \"china\", \"china\", \"chronic\", \"chronic\", \"chronic\", \"chronic\", \"clinical\", \"clinical\", \"clinical\", \"clinical\", \"clinical\", \"collected\", \"collected\", \"collected\", \"collected\", \"collected\", \"collected\", \"common\", \"common\", \"common\", \"compared\", \"compared\", \"compared\", \"compared\", \"compared\", \"compared\", \"conclusion\", \"conclusion\", \"conclusion\", \"conclusion\", \"conducted\", \"conducted\", \"conducted\", \"conducted\", \"contact\", \"contact\", \"contact\", \"contact\", \"contact\", \"contacts\", \"contacts\", \"contacts\", \"contacts\", \"contacts\", \"control\", \"control\", \"control\", \"control\", \"control\", \"control\", \"control\", \"coronavirus\", \"coronavirus\", \"coronavirus\", \"coronavirus\", \"coronavirus\", \"coronavirus\", \"coronavirus\", \"coronavirus\", \"countries\", \"countries\", \"countries\", \"countries\", \"countries\", \"course\", \"course\", \"course\", \"course\", \"covid-\", \"covid-\", \"covid-\", \"covid-\", \"covid-\", \"covid-\", \"critical\", \"critical\", \"critical\", \"critical\", \"daily\", \"daily\", \"data\", \"data\", \"data\", \"data\", \"data\", \"data\", \"days\", \"days\", \"days\", \"days\", \"days\", \"days\", \"days\", \"despite\", \"despite\", \"despite\", \"despite\", \"determine\", \"determine\", \"determine\", \"development\", \"development\", \"development\", \"development\", \"development\", \"disease\", \"disease\", \"disease\", \"disease\", \"disease\", \"disease\", \"disease\", \"diseases\", \"diseases\", \"diseases\", \"diseases\", \"diseases\", \"diseases\", \"diseases\", \"early\", \"early\", \"early\", \"early\", \"early\", \"early\", \"east\", \"east\", \"east\", \"east\", \"east\", \"effective\", \"effective\", \"effective\", \"effective\", \"effective\", \"effective\", \"effectiveness\", \"effectiveness\", \"effectiveness\", \"effectiveness\", \"emerging\", \"emerging\", \"epidemic\", \"epidemic\", \"epidemic\", \"epidemic\", \"epidemic\", \"epidemic\", \"epidemic\", \"estimated\", \"estimated\", \"estimated\", \"estimated\", \"estimated\", \"evaluated\", \"evaluated\", \"evaluated\", \"evaluated\", \"evaluated\", \"evaluated\", \"exposed\", \"exposed\", \"exposed\", \"exposed\", \"exposure\", \"exposure\", \"exposure\", \"exposure\", \"factors\", \"factors\", \"factors\", \"factors\", \"february\", \"february\", \"february\", \"february\", \"february\", \"feline\", \"feline\", \"fever\", \"fever\", \"fever\", \"findings\", \"findings\", \"findings\", \"findings\", \"findings\", \"findings\", \"fip\", \"global\", \"global\", \"global\", \"global\", \"health\", \"health\", \"health\", \"health\", \"health\", \"healthcare\", \"healthcare\", \"healthcare\", \"healthcare\", \"healthcare\", \"higher\", \"higher\", \"higher\", \"higher\", \"hospital\", \"hospital\", \"hospital\", \"hospital\", \"hospital\", \"hospitalization\", \"hospitalization\", \"hospitalization\", \"human\", \"human\", \"human\", \"human\", \"identified\", \"identified\", \"identified\", \"identified\", \"identified\", \"illness\", \"illness\", \"illness\", \"including\", \"including\", \"including\", \"including\", \"including\", \"including\", \"increase\", \"increase\", \"increase\", \"increase\", \"increase\", \"increase\", \"incubation\", \"incubation\", \"incubation\", \"incubation\", \"infected\", \"infected\", \"infected\", \"infected\", \"infected\", \"infected\", \"infection\", \"infection\", \"infection\", \"infection\", \"infection\", \"infection\", \"infection\", \"infection\", \"infections\", \"infections\", \"infections\", \"infections\", \"infections\", \"infectious\", \"infectious\", \"infectious\", \"infectious\", \"infectious\", \"infectious\", \"infectious\", \"infectious\", \"initial\", \"initial\", \"initial\", \"initial\", \"interpretation\", \"interpretation\", \"interpretation\", \"interpretation\", \"interpretation\", \"isolation\", \"isolation\", \"isolation\", \"isolation\", \"isolation\", \"later\", \"later\", \"later\", \"later\", \"later\", \"likely\", \"likely\", \"likely\", \"lower\", \"lower\", \"lower\", \"lower\", \"management\", \"management\", \"management\", \"management\", \"mean\", \"mean\", \"mean\", \"mean\", \"mean\", \"mean\", \"measures\", \"measures\", \"measures\", \"measures\", \"measures\", \"median\", \"median\", \"median\", \"medical\", \"medical\", \"medical\", \"mers\", \"mers\", \"mers\", \"mers\", \"mers-cov\", \"mers-cov\", \"mers-cov\", \"mers-cov\", \"mers-cov\", \"methods\", \"methods\", \"methods\", \"methods\", \"methods\", \"methods\", \"methods\", \"methods\", \"middle\", \"middle\", \"middle\", \"middle\", \"model\", \"model\", \"model\", \"model\", \"modelling\", \"modelling\", \"modelling\", \"modelling\", \"mortality\", \"mortality\", \"mortality\", \"need\", \"need\", \"need\", \"negative\", \"negative\", \"negative\", \"new\", \"new\", \"new\", \"new\", \"new\", \"novel\", \"novel\", \"novel\", \"novel\", \"novel\", \"number\", \"number\", \"number\", \"number\", \"number\", \"number\", \"onset\", \"onset\", \"onset\", \"onset\", \"outbreak\", \"outbreak\", \"outbreak\", \"outbreak\", \"outbreak\", \"outbreak\", \"outbreaks\", \"outbreaks\", \"outbreaks\", \"outbreaks\", \"pandemic\", \"pandemic\", \"patient\", \"patient\", \"patient\", \"patient\", \"patient\", \"patient\", \"patients\", \"patients\", \"patients\", \"patients\", \"patients\", \"period\", \"period\", \"period\", \"period\", \"period\", \"period\", \"period\", \"period\", \"peritonitis\", \"pneumonia\", \"pneumonia\", \"pneumonia\", \"pneumonia\", \"pneumonia\", \"positive\", \"positive\", \"positive\", \"positive\", \"potential\", \"potential\", \"potential\", \"potential\", \"proportion\", \"proportion\", \"proportion\", \"range\", \"range\", \"range\", \"range\", \"range\", \"range\", \"range\", \"rapid\", \"rapid\", \"rapid\", \"rapid\", \"rapidly\", \"rapidly\", \"rapidly\", \"rapidly\", \"rapidly\", \"rate\", \"rate\", \"rate\", \"rate\", \"rate\", \"rate\", \"rates\", \"rates\", \"rates\", \"rates\", \"reaction\", \"reaction\", \"reduction\", \"reduction\", \"reduction\", \"reduction\", \"remains\", \"remains\", \"remains\", \"remains\", \"remains\", \"reported\", \"reported\", \"reported\", \"reported\", \"reported\", \"reported\", \"respectively\", \"respectively\", \"respectively\", \"respectively\", \"respectively\", \"respiratory\", \"respiratory\", \"respiratory\", \"respiratory\", \"respiratory\", \"respiratory\", \"respiratory\", \"results\", \"results\", \"results\", \"results\", \"results\", \"results\", \"results\", \"results\", \"rhinovirus\", \"rhinovirus\", \"rhinovirus\", \"risk\", \"risk\", \"risk\", \"risk\", \"risk\", \"samples\", \"samples\", \"samples\", \"sars-cov-\", \"sars-cov-\", \"sars-cov-\", \"sars-cov-\", \"second\", \"second\", \"second\", \"second\", \"second\", \"secondary\", \"secondary\", \"secondary\", \"secondary\", \"severe\", \"severe\", \"severe\", \"severe\", \"shorter\", \"shorter\", \"shorter\", \"shorter\", \"shorter\", \"significant\", \"significant\", \"significant\", \"significant\", \"significantly\", \"significantly\", \"spread\", \"spread\", \"spread\", \"spread\", \"strategies\", \"strategies\", \"strategies\", \"strategies\", \"strategies\", \"studied\", \"studied\", \"studies\", \"studies\", \"studies\", \"studies\", \"study\", \"study\", \"study\", \"study\", \"study\", \"study\", \"study\", \"symptoms\", \"symptoms\", \"symptoms\", \"symptoms\", \"symptoms\", \"syncytial\", \"syncytial\", \"syncytial\", \"syndrome\", \"syndrome\", \"syndrome\", \"syndrome\", \"test\", \"test\", \"test\", \"test\", \"test\", \"tested\", \"tested\", \"tested\", \"therapy\", \"therapy\", \"therapy\", \"therapy\", \"therapy\", \"time\", \"time\", \"time\", \"time\", \"time\", \"time\", \"total\", \"total\", \"total\", \"total\", \"total\", \"transmission\", \"transmission\", \"transmission\", \"transmission\", \"transmission\", \"transmission\", \"transmission\", \"transmission\", \"treatment\", \"treatment\", \"treatment\", \"underlying\", \"underlying\", \"underlying\", \"underlying\", \"united\", \"united\", \"united\", \"united\", \"unknown\", \"unknown\", \"unknown\", \"unknown\", \"unknown\", \"using\", \"using\", \"using\", \"using\", \"using\", \"using\", \"viral\", \"viral\", \"viral\", \"viral\", \"viral\", \"virus\", \"virus\", \"virus\", \"viruses\", \"viruses\", \"viruses\", \"workers\", \"workers\", \"workers\", \"years\", \"years\", \"years\", \"years\"]}, \"R\": 30, \"lambda.step\": 0.01, \"plot.opts\": {\"xlab\": \"PC1\", \"ylab\": \"PC2\"}, \"topic.order\": [7, 4, 2, 1, 9, 5, 8, 3, 6, 10]};\n",
              "\n",
              "function LDAvis_load_lib(url, callback){\n",
              "  var s = document.createElement('script');\n",
              "  s.src = url;\n",
              "  s.async = true;\n",
              "  s.onreadystatechange = s.onload = callback;\n",
              "  s.onerror = function(){console.warn(\"failed to load library \" + url);};\n",
              "  document.getElementsByTagName(\"head\")[0].appendChild(s);\n",
              "}\n",
              "\n",
              "if(typeof(LDAvis) !== \"undefined\"){\n",
              "   // already loaded: just create the visualization\n",
              "   !function(LDAvis){\n",
              "       new LDAvis(\"#\" + \"ldavis_el5361401088762714321077462773\", ldavis_el5361401088762714321077462773_data);\n",
              "   }(LDAvis);\n",
              "}else if(typeof define === \"function\" && define.amd){\n",
              "   // require.js is available: use it to load d3/LDAvis\n",
              "   require.config({paths: {d3: \"https://cdnjs.cloudflare.com/ajax/libs/d3/3.5.5/d3.min\"}});\n",
              "   require([\"d3\"], function(d3){\n",
              "      window.d3 = d3;\n",
              "      LDAvis_load_lib(\"https://cdn.rawgit.com/bmabey/pyLDAvis/files/ldavis.v1.0.0.js\", function(){\n",
              "        new LDAvis(\"#\" + \"ldavis_el5361401088762714321077462773\", ldavis_el5361401088762714321077462773_data);\n",
              "      });\n",
              "    });\n",
              "}else{\n",
              "    // require.js not available: dynamically load d3 & LDAvis\n",
              "    LDAvis_load_lib(\"https://cdnjs.cloudflare.com/ajax/libs/d3/3.5.5/d3.min.js\", function(){\n",
              "         LDAvis_load_lib(\"https://cdn.rawgit.com/bmabey/pyLDAvis/files/ldavis.v1.0.0.js\", function(){\n",
              "                 new LDAvis(\"#\" + \"ldavis_el5361401088762714321077462773\", ldavis_el5361401088762714321077462773_data);\n",
              "            })\n",
              "         });\n",
              "}\n",
              "</script>"
            ],
            "text/plain": [
              "PreparedData(topic_coordinates=               x          y  topics  cluster       Freq\n",
              "topic                                                  \n",
              "6      32.420952   8.115230       1        1  30.772227\n",
              "3       0.648955  71.707100       2        1  17.406520\n",
              "1      71.019684   9.971006       3        1  13.960537\n",
              "0       3.785981  33.185135       4        1   8.781104\n",
              "8     -42.666500  -9.222070       5        1   8.681492\n",
              "4      -3.621689 -43.526516       6        1   6.907587\n",
              "7      -3.632402  -4.171708       7        1   6.587150\n",
              "2     -36.584400  35.804413       8        1   6.571661\n",
              "5      44.391380  50.615383       9        1   0.165862\n",
              "9      40.235809 -31.591665      10        1   0.165860, topic_info=     Category       Freq             Term      Total  loglift  logprob\n",
              "term                                                                  \n",
              "155   Default  40.000000            virus  40.000000  30.0000  30.0000\n",
              "105   Default  64.000000         patients  64.000000  29.0000  29.0000\n",
              "35    Default  33.000000           covid-  33.000000  28.0000  28.0000\n",
              "148   Default  44.000000     transmission  44.000000  27.0000  27.0000\n",
              "50    Default  37.000000         epidemic  37.000000  26.0000  26.0000\n",
              "57    Default  21.000000           feline  21.000000  25.0000  25.0000\n",
              "89    Default  26.000000         mers-cov  26.000000  24.0000  24.0000\n",
              "7     Default  20.000000     asymptomatic  20.000000  23.0000  23.0000\n",
              "122   Default  61.000000      respiratory  61.000000  22.0000  22.0000\n",
              "154   Default  24.000000            viral  24.000000  21.0000  21.0000\n",
              "75    Default  28.000000       infections  28.000000  20.0000  20.0000\n",
              "2     Default  28.000000            acute  28.000000  19.0000  19.0000\n",
              "30    Default  17.000000         contacts  17.000000  18.0000  18.0000\n",
              "65    Default  20.000000         hospital  20.000000  17.0000  17.0000\n",
              "104   Default  21.000000          patient  21.000000  16.0000  16.0000\n",
              "149   Default  25.000000        treatment  25.000000  15.0000  15.0000\n",
              "20    Default  19.000000            china  19.000000  14.0000  14.0000\n",
              "74    Default  47.000000        infection  47.000000  13.0000  13.0000\n",
              "13    Default  63.000000            cases  63.000000  12.0000  12.0000\n",
              "33    Default  13.000000        countries  13.000000  11.0000  11.0000\n",
              "22    Default  30.000000         clinical  30.000000  10.0000  10.0000\n",
              "142   Default  27.000000         syndrome  27.000000   9.0000   9.0000\n",
              "127   Default  14.000000        sars-cov-  14.000000   8.0000   8.0000\n",
              "14    Default  11.000000            cause  11.000000   7.0000   7.0000\n",
              "124   Default  17.000000       rhinovirus  17.000000   6.0000   6.0000\n",
              "69    Default  16.000000          illness  16.000000   5.0000   5.0000\n",
              "12    Default  21.000000             case  21.000000   4.0000   4.0000\n",
              "156   Default  13.000000          viruses  13.000000   3.0000   3.0000\n",
              "62    Default  13.000000           health  13.000000   2.0000   2.0000\n",
              "88    Default  19.000000             mers  19.000000   1.0000   1.0000\n",
              "...       ...        ...              ...        ...      ...      ...\n",
              "87    Topic10   0.030131          medical  10.364942   0.5612  -4.8936\n",
              "75    Topic10   0.050872       infections  28.530124   0.0724  -4.3698\n",
              "140   Topic10   0.037465         symptoms  17.429434   0.2593  -4.6757\n",
              "42    Topic10   0.031695      development  12.937789   0.3900  -4.8430\n",
              "97    Topic10   0.030634              new  12.296283   0.4068  -4.8770\n",
              "70    Topic10   0.029504        including  11.697099   0.4192  -4.9146\n",
              "94    Topic10   0.026537        mortality   9.297131   0.5428  -5.0206\n",
              "55    Topic10   0.029903          factors  12.635201   0.3555  -4.9012\n",
              "37    Topic10   0.026110            daily   8.984207   0.5609  -5.0368\n",
              "149   Topic10   0.038075        treatment  25.936116  -0.1221  -4.6596\n",
              "124   Topic10   0.032645       rhinovirus  17.752752   0.1032  -4.8135\n",
              "110   Topic10   0.030732        potential  15.174770   0.1997  -4.8738\n",
              "15    Topic10   0.027658           caused  11.094480   0.4075  -4.9792\n",
              "154   Topic10   0.034346            viral  24.925207  -0.1854  -4.7627\n",
              "6     Topic10   0.029898       associated  15.816829   0.1307  -4.9014\n",
              "74    Topic10   0.037758        infection  47.716015  -0.7401  -4.6680\n",
              "122   Topic10   0.039833      respiratory  61.706839  -0.9437  -4.6145\n",
              "73    Topic10   0.031631         infected  21.784326  -0.1330  -4.8450\n",
              "22    Topic10   0.032672         clinical  30.102216  -0.4240  -4.8126\n",
              "155   Topic10   0.033948            virus  40.629693  -0.6856  -4.7743\n",
              "72    Topic10   0.028296       incubation  15.077096   0.1236  -4.9564\n",
              "130   Topic10   0.027719           severe  13.549645   0.2098  -4.9770\n",
              "18    Topic10   0.026289            chest   9.546992   0.5069  -5.0300\n",
              "146   Topic10   0.028990             time  24.544918  -0.3395  -4.9322\n",
              "39    Topic10   0.030496             days  44.268218  -0.8786  -4.8815\n",
              "2     Topic10   0.029094            acute  28.076403  -0.4704  -4.9286\n",
              "69    Topic10   0.026975          illness  16.781099  -0.0313  -5.0042\n",
              "66    Topic10   0.026662  hospitalization  11.718857   0.3161  -5.0159\n",
              "89    Topic10   0.026943         mers-cov  26.901810  -0.5044  -5.0054\n",
              "32    Topic10   0.026718      coronavirus  51.333254  -1.1590  -5.0138\n",
              "\n",
              "[465 rows x 6 columns], token_table=      Topic      Freq          Term\n",
              "term                               \n",
              "0         1  0.121225       absence\n",
              "0         2  0.121225       absence\n",
              "0         3  0.484900       absence\n",
              "1         1  0.256196      abstract\n",
              "1         2  0.448344      abstract\n",
              "1         3  0.128098      abstract\n",
              "1         4  0.064049      abstract\n",
              "1         5  0.064049      abstract\n",
              "2         1  0.641108         acute\n",
              "2         2  0.071234         acute\n",
              "2         3  0.249320         acute\n",
              "3         1  0.574075           age\n",
              "3         2  0.095679           age\n",
              "3         4  0.095679           age\n",
              "3         7  0.095679           age\n",
              "4         1  0.222498      analysis\n",
              "4         3  0.222498      analysis\n",
              "4         5  0.222498      analysis\n",
              "4         6  0.074166      analysis\n",
              "4         8  0.222498      analysis\n",
              "5         1  0.141352      assessed\n",
              "5         3  0.141352      assessed\n",
              "5         4  0.424056      assessed\n",
              "5         8  0.141352      assessed\n",
              "6         1  0.505790    associated\n",
              "6         2  0.189671    associated\n",
              "6         3  0.063224    associated\n",
              "6         5  0.126448    associated\n",
              "7         2  0.049888  asymptomatic\n",
              "7         3  0.249441  asymptomatic\n",
              "...     ...       ...           ...\n",
              "151       8  0.258805        united\n",
              "152       1  0.152679       unknown\n",
              "152       2  0.152679       unknown\n",
              "152       3  0.305358       unknown\n",
              "152       5  0.152679       unknown\n",
              "152       6  0.152679       unknown\n",
              "153       2  0.320304         using\n",
              "153       3  0.160152         using\n",
              "153       4  0.106768         using\n",
              "153       6  0.106768         using\n",
              "153       7  0.160152         using\n",
              "153       8  0.106768         using\n",
              "154       1  0.120360         viral\n",
              "154       2  0.641920         viral\n",
              "154       3  0.080240         viral\n",
              "154       4  0.040120         viral\n",
              "154       8  0.080240         viral\n",
              "155       1  0.172288         virus\n",
              "155       2  0.516863         virus\n",
              "155       3  0.295350         virus\n",
              "156       2  0.721923       viruses\n",
              "156       3  0.072192       viruses\n",
              "156       4  0.072192       viruses\n",
              "157       1  0.543444       workers\n",
              "157       3  0.155270       workers\n",
              "157       7  0.155270       workers\n",
              "158       1  0.627571         years\n",
              "158       2  0.089653         years\n",
              "158       7  0.089653         years\n",
              "158       8  0.089653         years\n",
              "\n",
              "[720 rows x 3 columns], R=30, lambda_step=0.01, plot_opts={'xlab': 'PC1', 'ylab': 'PC2'}, topic_order=[7, 4, 2, 1, 9, 5, 8, 3, 6, 10])"
            ]
          },
          "metadata": {
            "tags": []
          },
          "execution_count": 55
        }
      ]
    },
    {
      "cell_type": "code",
      "metadata": {
        "id": "NgfK7BfbaZrx",
        "colab_type": "code",
        "colab": {}
      },
      "source": [
        "from scipy.spatial import distance"
      ],
      "execution_count": 0,
      "outputs": []
    },
    {
      "cell_type": "code",
      "metadata": {
        "id": "3hyVSyQ5foNa",
        "colab_type": "code",
        "outputId": "1deeed09-c7c6-41e0-c322-2b132d06380d",
        "colab": {
          "base_uri": "https://localhost:8080/",
          "height": 34
        }
      },
      "source": [
        "print(distance.cosine(avg_topic, lda_Z[0]))\n",
        "\n",
        "# For one d arrays below, it doesn't make sense to transpose as 2d since calc is always 0\n",
        "# Cosine score of 0 means 2 vectors are at 90degrees/orthagonal, have no match\n",
        "# avg_topic = np.array(avg_topic).reshape(-1,1)\n",
        "# print(avg_topic.shape)\n",
        "# distances = distance.cdist(avg_topic, avg_topic, metric='cosine')\n",
        "# print(distances)\n",
        "# print(avg_topic)\n",
        "# print(np.array(lda_Z[0]).reshape(-1, 1))\n",
        "# example = distance.cdist(avg_topic, np.array(lda_Z[0]).reshape(-1, 1), metric='cosine')\n",
        "# print(example)"
      ],
      "execution_count": 0,
      "outputs": [
        {
          "output_type": "stream",
          "text": [
            "0.5916081819765387\n"
          ],
          "name": "stdout"
        }
      ]
    },
    {
      "cell_type": "code",
      "metadata": {
        "id": "3jtf6ekrn6ez",
        "colab_type": "code",
        "outputId": "e3668d26-4d76-4444-815b-4947397a720a",
        "colab": {
          "base_uri": "https://localhost:8080/",
          "height": 88
        }
      },
      "source": [
        "#vectorize all title + abstract in metadata\n",
        "print(data_vectorized.shape)\n",
        "metadata = metadata.dropna(subset=['title', 'abstract'])\n",
        "metadata_condensed = metadata['title'] + ' ' + metadata['abstract'] #space ensures title_last_word and abstract_first_word are stored as separate words\n",
        "metadata_condensed = metadata_condensed.tolist()\n",
        "print(metadata_condensed[0])\n",
        "\n",
        "metadata_condensed_vectorized = count_vectorizer.transform(metadata_condensed)\n",
        "print(metadata_condensed_vectorized.shape)\n",
        "#derive topic distributions for each document in corpus\n",
        "lda_corpus = lda_model.transform(metadata_condensed_vectorized)"
      ],
      "execution_count": 0,
      "outputs": [
        {
          "output_type": "stream",
          "text": [
            "(1, 90)\n",
            "SIANN: Strain Identification by Alignment to Near Neighbors Next-generation sequencing is increasingly being used to study samples composed of mixtures of organisms, such as in clinical applications where the presence of a pathogen at very low abundance may be highly important. We present an analytical method (SIANN: Strain Identification by Alignment to Near Neighbors) specifically designed to rapidly detect a set of target organisms in mixed samples that achieves a high degree of species- and strain-specificity by aligning short sequence reads to the genomes of near neighbor organisms, as well as that of the target. Empirical benchmarking alongside the current state-of-the-art methods shows an extremely high Positive Predictive Value, even at very low abundances of the target organism in a mixed sample. SIANN is available as an Illumina BaseSpace app, as well as through Signature Science, LLC. SIANN results are presented in a streamlined report designed to be comprehensible to the non-specialist user, providing a powerful tool for rapid species detection in a mixed sample. By focusing on a set of (customizable) target organisms and their near neighbors, SIANN can operate quickly and with low computational requirements while delivering highly accurate results.\n",
            "(31710, 90)\n"
          ],
          "name": "stdout"
        }
      ]
    },
    {
      "cell_type": "code",
      "metadata": {
        "id": "0TWgm5S4Z3Qy",
        "colab_type": "code",
        "outputId": "dbad21e1-e2fd-4f4a-8865-6b86eecbfb56",
        "colab": {
          "base_uri": "https://localhost:8080/",
          "height": 802
        }
      },
      "source": [
        "#for each entry in the corpus, add a column of cosine distance compared to the avg topic from search query\n",
        "print(lda_corpus.shape)\n",
        "for entry in lda_corpus[:5]:\n",
        "  print(entry)\n",
        "\n",
        "distances = []\n",
        "for entry in lda_corpus:\n",
        "  distances.append(distance.cosine(avg_topic, entry))\n",
        "print(distances[0])\n",
        "metadata['cosine_dist_from_topic'] = np.asarray(distances)\n",
        "metadata.head(5)"
      ],
      "execution_count": 0,
      "outputs": [
        {
          "output_type": "stream",
          "text": [
            "(31710, 10)\n",
            "[0.03333558 0.0333356  0.0333362  0.03333659 0.0333358  0.03333608\n",
            " 0.03333626 0.03333556 0.69997665 0.03333568]\n",
            "[0.00909148 0.00909142 0.00909145 0.00909138 0.00909151 0.00909139\n",
            " 0.00909151 0.00909152 0.91817683 0.00909152]\n",
            "[0.05000694 0.05000281 0.05000484 0.05000449 0.05000403 0.05000548\n",
            " 0.05000454 0.050004   0.54995775 0.05000515]\n",
            "[0.01250062 0.01250068 0.01250067 0.01250088 0.01250066 0.01250084\n",
            " 0.01250072 0.01250062 0.88749351 0.01250079]\n",
            "[0.00476214 0.00476222 0.00476215 0.00476225 0.00476222 0.00476221\n",
            " 0.00476222 0.00476221 0.95714013 0.00476224]\n",
            "0.009791032576991876\n"
          ],
          "name": "stdout"
        },
        {
          "output_type": "execute_result",
          "data": {
            "text/html": [
              "<div>\n",
              "<style scoped>\n",
              "    .dataframe tbody tr th:only-of-type {\n",
              "        vertical-align: middle;\n",
              "    }\n",
              "\n",
              "    .dataframe tbody tr th {\n",
              "        vertical-align: top;\n",
              "    }\n",
              "\n",
              "    .dataframe thead th {\n",
              "        text-align: right;\n",
              "    }\n",
              "</style>\n",
              "<table border=\"1\" class=\"dataframe\">\n",
              "  <thead>\n",
              "    <tr style=\"text-align: right;\">\n",
              "      <th></th>\n",
              "      <th>cord_uid</th>\n",
              "      <th>sha</th>\n",
              "      <th>source_x</th>\n",
              "      <th>title</th>\n",
              "      <th>doi</th>\n",
              "      <th>pmcid</th>\n",
              "      <th>pubmed_id</th>\n",
              "      <th>license</th>\n",
              "      <th>abstract</th>\n",
              "      <th>publish_time</th>\n",
              "      <th>authors</th>\n",
              "      <th>journal</th>\n",
              "      <th>Microsoft Academic Paper ID</th>\n",
              "      <th>WHO #Covidence</th>\n",
              "      <th>has_full_text</th>\n",
              "      <th>full_text_file</th>\n",
              "      <th>url</th>\n",
              "      <th>publish_year</th>\n",
              "      <th>cosine_dist_from_topic</th>\n",
              "    </tr>\n",
              "  </thead>\n",
              "  <tbody>\n",
              "    <tr>\n",
              "      <th>0</th>\n",
              "      <td>vho70jcx</td>\n",
              "      <td>f056da9c64fbf00a4645ae326e8a4339d015d155</td>\n",
              "      <td>biorxiv</td>\n",
              "      <td>SIANN: Strain Identification by Alignment to N...</td>\n",
              "      <td>http://doi.org/10.1101/001727</td>\n",
              "      <td>NaN</td>\n",
              "      <td>NaN</td>\n",
              "      <td>biorxiv</td>\n",
              "      <td>Next-generation sequencing is increasingly bei...</td>\n",
              "      <td>2014-01-10</td>\n",
              "      <td>Samuel Minot; Stephen D Turner; Krista L Ternu...</td>\n",
              "      <td>NaN</td>\n",
              "      <td>NaN</td>\n",
              "      <td>NaN</td>\n",
              "      <td>True</td>\n",
              "      <td>biorxiv_medrxiv</td>\n",
              "      <td>https://doi.org/10.1101/001727</td>\n",
              "      <td>2014</td>\n",
              "      <td>0.009791</td>\n",
              "    </tr>\n",
              "    <tr>\n",
              "      <th>1</th>\n",
              "      <td>i9tbix2v</td>\n",
              "      <td>daf32e013d325a6feb80e83d15aabc64a48fae33</td>\n",
              "      <td>biorxiv</td>\n",
              "      <td>Spatial epidemiology of networked metapopulati...</td>\n",
              "      <td>http://doi.org/10.1101/003889</td>\n",
              "      <td>NaN</td>\n",
              "      <td>NaN</td>\n",
              "      <td>biorxiv</td>\n",
              "      <td>An emerging disease is one infectious epidemic...</td>\n",
              "      <td>2014-06-04</td>\n",
              "      <td>Lin WANG; Xiang Li</td>\n",
              "      <td>NaN</td>\n",
              "      <td>NaN</td>\n",
              "      <td>NaN</td>\n",
              "      <td>True</td>\n",
              "      <td>biorxiv_medrxiv</td>\n",
              "      <td>https://doi.org/10.1101/003889</td>\n",
              "      <td>2014</td>\n",
              "      <td>0.000387</td>\n",
              "    </tr>\n",
              "    <tr>\n",
              "      <th>2</th>\n",
              "      <td>62gfisc6</td>\n",
              "      <td>f33c6d94b0efaa198f8f3f20e644625fa3fe10d2</td>\n",
              "      <td>biorxiv</td>\n",
              "      <td>Sequencing of the human IG light chain loci fr...</td>\n",
              "      <td>http://doi.org/10.1101/006866</td>\n",
              "      <td>NaN</td>\n",
              "      <td>NaN</td>\n",
              "      <td>biorxiv</td>\n",
              "      <td>Germline variation at immunoglobulin gene (IG)...</td>\n",
              "      <td>2014-07-03</td>\n",
              "      <td>Corey T Watson; Karyn Meltz Steinberg; Tina A ...</td>\n",
              "      <td>NaN</td>\n",
              "      <td>NaN</td>\n",
              "      <td>NaN</td>\n",
              "      <td>True</td>\n",
              "      <td>biorxiv_medrxiv</td>\n",
              "      <td>https://doi.org/10.1101/006866</td>\n",
              "      <td>2014</td>\n",
              "      <td>0.034759</td>\n",
              "    </tr>\n",
              "    <tr>\n",
              "      <th>3</th>\n",
              "      <td>058r9486</td>\n",
              "      <td>4da8a87e614373d56070ed272487451266dce919</td>\n",
              "      <td>biorxiv</td>\n",
              "      <td>Bayesian mixture analysis for metagenomic comm...</td>\n",
              "      <td>http://doi.org/10.1101/007476</td>\n",
              "      <td>NaN</td>\n",
              "      <td>NaN</td>\n",
              "      <td>biorxiv</td>\n",
              "      <td>Deep sequencing of clinical samples is now an ...</td>\n",
              "      <td>2014-07-25</td>\n",
              "      <td>Sofia Morfopoulou; Vincent Plagnol</td>\n",
              "      <td>NaN</td>\n",
              "      <td>NaN</td>\n",
              "      <td>NaN</td>\n",
              "      <td>True</td>\n",
              "      <td>biorxiv_medrxiv</td>\n",
              "      <td>https://doi.org/10.1101/007476</td>\n",
              "      <td>2014</td>\n",
              "      <td>0.000815</td>\n",
              "    </tr>\n",
              "    <tr>\n",
              "      <th>4</th>\n",
              "      <td>wich35l7</td>\n",
              "      <td>eccef80cfbe078235df22398f195d5db462d8000</td>\n",
              "      <td>biorxiv</td>\n",
              "      <td>Mapping a viral phylogeny onto outbreak trees ...</td>\n",
              "      <td>http://doi.org/10.1101/010389</td>\n",
              "      <td>NaN</td>\n",
              "      <td>NaN</td>\n",
              "      <td>biorxiv</td>\n",
              "      <td>Developing methods to reconstruct transmission...</td>\n",
              "      <td>2014-11-11</td>\n",
              "      <td>Stephen P Velsko; Jonathan E Allen</td>\n",
              "      <td>NaN</td>\n",
              "      <td>NaN</td>\n",
              "      <td>NaN</td>\n",
              "      <td>True</td>\n",
              "      <td>biorxiv_medrxiv</td>\n",
              "      <td>https://doi.org/10.1101/010389</td>\n",
              "      <td>2014</td>\n",
              "      <td>0.000085</td>\n",
              "    </tr>\n",
              "  </tbody>\n",
              "</table>\n",
              "</div>"
            ],
            "text/plain": [
              "   cord_uid          ...           cosine_dist_from_topic\n",
              "0  vho70jcx          ...                         0.009791\n",
              "1  i9tbix2v          ...                         0.000387\n",
              "2  62gfisc6          ...                         0.034759\n",
              "3  058r9486          ...                         0.000815\n",
              "4  wich35l7          ...                         0.000085\n",
              "\n",
              "[5 rows x 19 columns]"
            ]
          },
          "metadata": {
            "tags": []
          },
          "execution_count": 89
        }
      ]
    },
    {
      "cell_type": "code",
      "metadata": {
        "id": "9iYl3j-WcrwC",
        "colab_type": "code",
        "outputId": "1835b128-88b2-47c0-f709-b9a3d753b4be",
        "colab": {
          "base_uri": "https://localhost:8080/",
          "height": 374
        }
      },
      "source": [
        "#then display top results from overall corpus\n",
        "metadata_sorted = metadata.sort_values('cosine_dist_from_topic', ascending=True) #ascending because smaller distance is better\n",
        "# metadata_sorted.head(5)\n",
        "metadata_sorted[:20]['title']"
      ],
      "execution_count": 0,
      "outputs": [
        {
          "output_type": "execute_result",
          "data": {
            "text/plain": [
              "558      Impact of self-imposed prevention measures and...\n",
              "7478     XXIV World Allergy Congress 2015: Seoul, Korea...\n",
              "8828     36th International Symposium on Intensive Care...\n",
              "30338    Early dynamics of transmission and control of ...\n",
              "723      The Effectiveness of Social Distancing in Miti...\n",
              "7649     A systematic review of community-based interve...\n",
              "28038    Interventions to mitigate early spread of SARS...\n",
              "663      Chinese Public Attention to COVID-19 Epidemic:...\n",
              "30780    Feasibility of controlling COVID-19 outbreaks ...\n",
              "366      Analysis of epidemiological characteristics of...\n",
              "2900     Analysis of CDC social control measures using ...\n",
              "12918    Are countries’ self-reported assessments of th...\n",
              "196      A spatial model of CoVID-19 transmission in En...\n",
              "644      Modeling and Forecasting Trend of COVID-19 Epi...\n",
              "428      Prediction of New Coronavirus Infection Based ...\n",
              "513      The Impact of School Closure for COVID-19 on t...\n",
              "7691     Visual analytics of geo-social interaction pat...\n",
              "22790                                    Executive summary\n",
              "645      Tracing DAY-ZERO and Forecasting the Fade out ...\n",
              "14428    Neuraminidase inhibitors for preventing and tr...\n",
              "Name: title, dtype: object"
            ]
          },
          "metadata": {
            "tags": []
          },
          "execution_count": 90
        }
      ]
    },
    {
      "cell_type": "code",
      "metadata": {
        "id": "XEjs_fYYJGYf",
        "colab_type": "code",
        "colab": {}
      },
      "source": [
        "metadata_sorted['query'] = 'How effective are personal protective equipment?'"
      ],
      "execution_count": 0,
      "outputs": []
    },
    {
      "cell_type": "code",
      "metadata": {
        "id": "E6iA5IWUQwwe",
        "colab_type": "code",
        "colab": {}
      },
      "source": [
        "#save to csv\n",
        "if not os.path.exists(local_dir/'TopicModelOutput'):\n",
        "  os.mkdir(local_dir/'TopicModelOutput')\n",
        "metadata_sorted[:50].to_csv(local_dir/'TopicModelOutput'/'PPE_top50.csv', index=False)\n"
      ],
      "execution_count": 0,
      "outputs": []
    },
    {
      "cell_type": "code",
      "metadata": {
        "id": "SnmpovxBLvax",
        "colab_type": "code",
        "outputId": "19228bd1-f63d-4623-fd03-51357719a891",
        "colab": {
          "base_uri": "https://localhost:8080/",
          "height": 476
        }
      },
      "source": [
        "frames = []\n",
        "for f in list(Path(local_dir/'TopicModelOutput').glob('*')):\n",
        "  frames.append(pd.read_csv(f))\n",
        "AllOutput = pd.concat(frames).reset_index(drop=True)\n",
        "AllOutput.info()\n",
        "AllOutput = AllOutput[['cord_uid','sha','cosine_dist_from_topic','title','abstract','publish_year','authors','url','query']]\n",
        "AllOutput.to_csv(local_dir/'PrelimResults'/'LDA_baseline_results.csv', index=False)\n",
        "AllOutput.to_json(local_dir/'PrelimResults'/'LDA_baseline_results.json', orient='records')\n"
      ],
      "execution_count": 0,
      "outputs": [
        {
          "output_type": "stream",
          "text": [
            "<class 'pandas.core.frame.DataFrame'>\n",
            "RangeIndex: 250 entries, 0 to 249\n",
            "Data columns (total 20 columns):\n",
            " #   Column                       Non-Null Count  Dtype  \n",
            "---  ------                       --------------  -----  \n",
            " 0   cord_uid                     250 non-null    object \n",
            " 1   sha                          250 non-null    object \n",
            " 2   source_x                     250 non-null    object \n",
            " 3   title                        250 non-null    object \n",
            " 4   doi                          250 non-null    object \n",
            " 5   pmcid                        134 non-null    object \n",
            " 6   pubmed_id                    184 non-null    float64\n",
            " 7   license                      250 non-null    object \n",
            " 8   abstract                     250 non-null    object \n",
            " 9   publish_time                 250 non-null    object \n",
            " 10  authors                      247 non-null    object \n",
            " 11  journal                      217 non-null    object \n",
            " 12  Microsoft Academic Paper ID  12 non-null     float64\n",
            " 13  WHO #Covidence               14 non-null     object \n",
            " 14  has_full_text                250 non-null    bool   \n",
            " 15  full_text_file               250 non-null    object \n",
            " 16  url                          249 non-null    object \n",
            " 17  publish_year                 250 non-null    int64  \n",
            " 18  cosine_dist_from_topic       250 non-null    float64\n",
            " 19  query                        250 non-null    object \n",
            "dtypes: bool(1), float64(3), int64(1), object(15)\n",
            "memory usage: 37.5+ KB\n"
          ],
          "name": "stdout"
        }
      ]
    },
    {
      "cell_type": "markdown",
      "metadata": {
        "id": "RvHKpN-vm1G3",
        "colab_type": "text"
      },
      "source": [
        "TODO:\n",
        "* Get average topic of subset of corpus (start with arbitary random count, use search queries later.\n",
        "* Try this on the full corpus of text\n",
        "* Experiment with different count vecotorizer parameters like ngrams and lda parameters like learning_method\n",
        "* Integrate pyldavis library for better visuation of topics with LDA\n",
        "* Use LDA2vec"
      ]
    },
    {
      "cell_type": "markdown",
      "metadata": {
        "id": "emjRx_d9lL6j",
        "colab_type": "text"
      },
      "source": [
        "# References"
      ]
    },
    {
      "cell_type": "markdown",
      "metadata": {
        "id": "cw9qGMkBlObW",
        "colab_type": "text"
      },
      "source": [
        "* https://nlpforhackers.io/topic-modeling/"
      ]
    }
  ]
}