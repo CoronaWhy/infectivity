{
  "nbformat": 4,
  "nbformat_minor": 0,
  "metadata": {
    "colab": {
      "name": "UzairCovid19LDA_POC.ipynb",
      "provenance": []
    },
    "kernelspec": {
      "name": "python3",
      "display_name": "Python 3"
    },
    "widgets": {
      "application/vnd.jupyter.widget-state+json": {
        "e9badaeef69049cf8ef95874d8fd59ab": {
          "model_module": "@jupyter-widgets/controls",
          "model_name": "VBoxModel",
          "state": {
            "_view_name": "VBoxView",
            "_dom_classes": [],
            "_model_name": "VBoxModel",
            "_view_module": "@jupyter-widgets/controls",
            "_model_module_version": "1.5.0",
            "_view_count": null,
            "_view_module_version": "1.5.0",
            "box_style": "",
            "layout": "IPY_MODEL_9c437d283b2945aba1e9f3596ea53d4e",
            "_model_module": "@jupyter-widgets/controls",
            "children": [
              "IPY_MODEL_776e571f99ff43f8aafb87233892efad",
              "IPY_MODEL_fe1316bde0b34863b9c542f816975938",
              "IPY_MODEL_f960e0b8a73d4d439745e3f11a6a2897"
            ]
          }
        },
        "9c437d283b2945aba1e9f3596ea53d4e": {
          "model_module": "@jupyter-widgets/base",
          "model_name": "LayoutModel",
          "state": {
            "_view_name": "LayoutView",
            "grid_template_rows": null,
            "right": null,
            "justify_content": null,
            "_view_module": "@jupyter-widgets/base",
            "overflow": null,
            "_model_module_version": "1.2.0",
            "_view_count": null,
            "flex_flow": null,
            "width": null,
            "min_width": null,
            "border": null,
            "align_items": "center",
            "bottom": null,
            "_model_module": "@jupyter-widgets/base",
            "top": null,
            "grid_column": null,
            "overflow_y": null,
            "overflow_x": null,
            "grid_auto_flow": null,
            "grid_area": null,
            "grid_template_columns": null,
            "flex": null,
            "_model_name": "LayoutModel",
            "justify_items": null,
            "grid_row": null,
            "max_height": null,
            "align_content": null,
            "visibility": null,
            "align_self": null,
            "height": null,
            "min_height": null,
            "padding": null,
            "grid_auto_rows": null,
            "grid_gap": null,
            "max_width": null,
            "order": null,
            "_view_module_version": "1.2.0",
            "grid_template_areas": null,
            "object_position": null,
            "object_fit": null,
            "grid_auto_columns": null,
            "margin": null,
            "display": null,
            "left": null
          }
        },
        "776e571f99ff43f8aafb87233892efad": {
          "model_module": "@jupyter-widgets/controls",
          "model_name": "HBoxModel",
          "state": {
            "_view_name": "HBoxView",
            "_dom_classes": [],
            "_model_name": "HBoxModel",
            "_view_module": "@jupyter-widgets/controls",
            "_model_module_version": "1.5.0",
            "_view_count": null,
            "_view_module_version": "1.5.0",
            "box_style": "",
            "layout": "IPY_MODEL_7ce10e7844d848659355bfbde121eea3",
            "_model_module": "@jupyter-widgets/controls",
            "children": [
              "IPY_MODEL_af281b7ba0214cbbb31f6b449283e770",
              "IPY_MODEL_ef7f9cd2971d43999a6f66d6eb19bb7d"
            ]
          }
        },
        "fe1316bde0b34863b9c542f816975938": {
          "model_module": "@jupyter-widgets/controls",
          "model_name": "HBoxModel",
          "state": {
            "_view_name": "HBoxView",
            "_dom_classes": [],
            "_model_name": "HBoxModel",
            "_view_module": "@jupyter-widgets/controls",
            "_model_module_version": "1.5.0",
            "_view_count": null,
            "_view_module_version": "1.5.0",
            "box_style": "",
            "layout": "IPY_MODEL_a6094a70cbd0453b8d362159549e8aea",
            "_model_module": "@jupyter-widgets/controls",
            "children": [
              "IPY_MODEL_ab829bab7e9347f98d1a0e22d98d54c5",
              "IPY_MODEL_615e8cfbb9a24d3f834771d141cb4476",
              "IPY_MODEL_ef7f9cd2971d43999a6f66d6eb19bb7d"
            ]
          }
        },
        "f960e0b8a73d4d439745e3f11a6a2897": {
          "model_module": "@jupyter-widgets/controls",
          "model_name": "HBoxModel",
          "state": {
            "_view_name": "HBoxView",
            "_dom_classes": [],
            "_model_name": "HBoxModel",
            "_view_module": "@jupyter-widgets/controls",
            "_model_module_version": "1.5.0",
            "_view_count": null,
            "_view_module_version": "1.5.0",
            "box_style": "",
            "layout": "IPY_MODEL_a1eaee5829ca4bb6b97b946e95675201",
            "_model_module": "@jupyter-widgets/controls",
            "children": [
              "IPY_MODEL_25df930423b64f0298752075ff54a118",
              "IPY_MODEL_cc0d38a4fe734d3db2c61990b42c6213",
              "IPY_MODEL_ef7f9cd2971d43999a6f66d6eb19bb7d"
            ]
          }
        },
        "7ce10e7844d848659355bfbde121eea3": {
          "model_module": "@jupyter-widgets/base",
          "model_name": "LayoutModel",
          "state": {
            "_view_name": "LayoutView",
            "grid_template_rows": null,
            "right": null,
            "justify_content": null,
            "_view_module": "@jupyter-widgets/base",
            "overflow": null,
            "_model_module_version": "1.2.0",
            "_view_count": null,
            "flex_flow": null,
            "width": null,
            "min_width": null,
            "border": null,
            "align_items": "center",
            "bottom": null,
            "_model_module": "@jupyter-widgets/base",
            "top": null,
            "grid_column": null,
            "overflow_y": null,
            "overflow_x": null,
            "grid_auto_flow": null,
            "grid_area": null,
            "grid_template_columns": null,
            "flex": null,
            "_model_name": "LayoutModel",
            "justify_items": null,
            "grid_row": null,
            "max_height": null,
            "align_content": null,
            "visibility": null,
            "align_self": null,
            "height": null,
            "min_height": null,
            "padding": null,
            "grid_auto_rows": null,
            "grid_gap": null,
            "max_width": null,
            "order": null,
            "_view_module_version": "1.2.0",
            "grid_template_areas": null,
            "object_position": null,
            "object_fit": null,
            "grid_auto_columns": null,
            "margin": null,
            "display": null,
            "left": null
          }
        },
        "af281b7ba0214cbbb31f6b449283e770": {
          "model_module": "@jupyter-widgets/controls",
          "model_name": "TextareaModel",
          "state": {
            "_view_name": "TextareaView",
            "style": "IPY_MODEL_131bc02f03da4570a1190d14c6f37131",
            "rows": null,
            "_dom_classes": [],
            "description": "",
            "_model_name": "TextareaModel",
            "placeholder": "Type something like \"covid\" or incubation",
            "_view_module": "@jupyter-widgets/controls",
            "_model_module_version": "1.5.0",
            "value": "\"covid-19\"",
            "_view_count": null,
            "disabled": false,
            "_view_module_version": "1.5.0",
            "continuous_update": true,
            "description_tooltip": null,
            "_model_module": "@jupyter-widgets/controls",
            "layout": "IPY_MODEL_20ced70e91404bc0b8910194d0b55d3a"
          }
        },
        "ef7f9cd2971d43999a6f66d6eb19bb7d": {
          "model_module": "@jupyter-widgets/controls",
          "model_name": "ButtonModel",
          "state": {
            "_view_name": "ButtonView",
            "style": "IPY_MODEL_51cf91234adc45ca81bc2f28989e896e",
            "_dom_classes": [],
            "description": "+",
            "_model_name": "ButtonModel",
            "button_style": "",
            "_view_module": "@jupyter-widgets/controls",
            "_model_module_version": "1.5.0",
            "tooltip": "",
            "_view_count": null,
            "disabled": false,
            "_view_module_version": "1.5.0",
            "layout": "IPY_MODEL_f1ce6a7ff7934cbf81b08260506e15ed",
            "_model_module": "@jupyter-widgets/controls",
            "icon": ""
          }
        },
        "a6094a70cbd0453b8d362159549e8aea": {
          "model_module": "@jupyter-widgets/base",
          "model_name": "LayoutModel",
          "state": {
            "_view_name": "LayoutView",
            "grid_template_rows": null,
            "right": null,
            "justify_content": null,
            "_view_module": "@jupyter-widgets/base",
            "overflow": null,
            "_model_module_version": "1.2.0",
            "_view_count": null,
            "flex_flow": null,
            "width": null,
            "min_width": null,
            "border": null,
            "align_items": "center",
            "bottom": null,
            "_model_module": "@jupyter-widgets/base",
            "top": null,
            "grid_column": null,
            "overflow_y": null,
            "overflow_x": null,
            "grid_auto_flow": null,
            "grid_area": null,
            "grid_template_columns": null,
            "flex": null,
            "_model_name": "LayoutModel",
            "justify_items": null,
            "grid_row": null,
            "max_height": null,
            "align_content": null,
            "visibility": null,
            "align_self": null,
            "height": null,
            "min_height": null,
            "padding": null,
            "grid_auto_rows": null,
            "grid_gap": null,
            "max_width": null,
            "order": null,
            "_view_module_version": "1.2.0",
            "grid_template_areas": null,
            "object_position": null,
            "object_fit": null,
            "grid_auto_columns": null,
            "margin": null,
            "display": null,
            "left": null
          }
        },
        "ab829bab7e9347f98d1a0e22d98d54c5": {
          "model_module": "@jupyter-widgets/controls",
          "model_name": "DropdownModel",
          "state": {
            "_options_labels": [
              "AND",
              "OR",
              "NOT"
            ],
            "_view_name": "DropdownView",
            "style": "IPY_MODEL_d27f1f7a888e49a096091dee98c070ce",
            "_dom_classes": [],
            "description": "Operator: ",
            "_model_name": "DropdownModel",
            "index": 0,
            "_view_module": "@jupyter-widgets/controls",
            "_model_module_version": "1.5.0",
            "_view_count": null,
            "disabled": false,
            "_view_module_version": "1.5.0",
            "description_tooltip": null,
            "_model_module": "@jupyter-widgets/controls",
            "layout": "IPY_MODEL_4bc9f5bcad8c4558927831863abb57dc"
          }
        },
        "615e8cfbb9a24d3f834771d141cb4476": {
          "model_module": "@jupyter-widgets/controls",
          "model_name": "TextareaModel",
          "state": {
            "_view_name": "TextareaView",
            "style": "IPY_MODEL_91d887ea15524200b248034f3060120d",
            "rows": null,
            "_dom_classes": [],
            "description": "",
            "_model_name": "TextareaModel",
            "placeholder": "Type something like \"covid\" or incubation",
            "_view_module": "@jupyter-widgets/controls",
            "_model_module_version": "1.5.0",
            "value": "incubation",
            "_view_count": null,
            "disabled": false,
            "_view_module_version": "1.5.0",
            "continuous_update": true,
            "description_tooltip": null,
            "_model_module": "@jupyter-widgets/controls",
            "layout": "IPY_MODEL_2c2e1c3dfaeb4dfc8a776279b7fe80d1"
          }
        },
        "a1eaee5829ca4bb6b97b946e95675201": {
          "model_module": "@jupyter-widgets/base",
          "model_name": "LayoutModel",
          "state": {
            "_view_name": "LayoutView",
            "grid_template_rows": null,
            "right": null,
            "justify_content": null,
            "_view_module": "@jupyter-widgets/base",
            "overflow": null,
            "_model_module_version": "1.2.0",
            "_view_count": null,
            "flex_flow": null,
            "width": null,
            "min_width": null,
            "border": null,
            "align_items": "center",
            "bottom": null,
            "_model_module": "@jupyter-widgets/base",
            "top": null,
            "grid_column": null,
            "overflow_y": null,
            "overflow_x": null,
            "grid_auto_flow": null,
            "grid_area": null,
            "grid_template_columns": null,
            "flex": null,
            "_model_name": "LayoutModel",
            "justify_items": null,
            "grid_row": null,
            "max_height": null,
            "align_content": null,
            "visibility": null,
            "align_self": null,
            "height": null,
            "min_height": null,
            "padding": null,
            "grid_auto_rows": null,
            "grid_gap": null,
            "max_width": null,
            "order": null,
            "_view_module_version": "1.2.0",
            "grid_template_areas": null,
            "object_position": null,
            "object_fit": null,
            "grid_auto_columns": null,
            "margin": null,
            "display": null,
            "left": null
          }
        },
        "25df930423b64f0298752075ff54a118": {
          "model_module": "@jupyter-widgets/controls",
          "model_name": "DropdownModel",
          "state": {
            "_options_labels": [
              "AND",
              "OR",
              "NOT"
            ],
            "_view_name": "DropdownView",
            "style": "IPY_MODEL_9e2a60ad3765477f9d0c8f0dc52fee53",
            "_dom_classes": [],
            "description": "Operator: ",
            "_model_name": "DropdownModel",
            "index": 0,
            "_view_module": "@jupyter-widgets/controls",
            "_model_module_version": "1.5.0",
            "_view_count": null,
            "disabled": false,
            "_view_module_version": "1.5.0",
            "description_tooltip": null,
            "_model_module": "@jupyter-widgets/controls",
            "layout": "IPY_MODEL_e7c9bff3a5fd40a68704ddb28e81e57e"
          }
        },
        "cc0d38a4fe734d3db2c61990b42c6213": {
          "model_module": "@jupyter-widgets/controls",
          "model_name": "TextareaModel",
          "state": {
            "_view_name": "TextareaView",
            "style": "IPY_MODEL_3276d534f06a457faacf2f2081abaae9",
            "rows": null,
            "_dom_classes": [],
            "description": "",
            "_model_name": "TextareaModel",
            "placeholder": "Type something like \"covid\" or incubation",
            "_view_module": "@jupyter-widgets/controls",
            "_model_module_version": "1.5.0",
            "value": "",
            "_view_count": null,
            "disabled": false,
            "_view_module_version": "1.5.0",
            "continuous_update": true,
            "description_tooltip": null,
            "_model_module": "@jupyter-widgets/controls",
            "layout": "IPY_MODEL_2cd513358977409eb594e82fc99b8ab9"
          }
        },
        "131bc02f03da4570a1190d14c6f37131": {
          "model_module": "@jupyter-widgets/controls",
          "model_name": "DescriptionStyleModel",
          "state": {
            "_view_name": "StyleView",
            "_model_name": "DescriptionStyleModel",
            "description_width": "",
            "_view_module": "@jupyter-widgets/base",
            "_model_module_version": "1.5.0",
            "_view_count": null,
            "_view_module_version": "1.2.0",
            "_model_module": "@jupyter-widgets/controls"
          }
        },
        "20ced70e91404bc0b8910194d0b55d3a": {
          "model_module": "@jupyter-widgets/base",
          "model_name": "LayoutModel",
          "state": {
            "_view_name": "LayoutView",
            "grid_template_rows": null,
            "right": null,
            "justify_content": null,
            "_view_module": "@jupyter-widgets/base",
            "overflow": null,
            "_model_module_version": "1.2.0",
            "_view_count": null,
            "flex_flow": null,
            "width": "100%",
            "min_width": null,
            "border": null,
            "align_items": null,
            "bottom": null,
            "_model_module": "@jupyter-widgets/base",
            "top": null,
            "grid_column": null,
            "overflow_y": null,
            "overflow_x": null,
            "grid_auto_flow": null,
            "grid_area": null,
            "grid_template_columns": null,
            "flex": null,
            "_model_name": "LayoutModel",
            "justify_items": null,
            "grid_row": null,
            "max_height": null,
            "align_content": null,
            "visibility": null,
            "align_self": null,
            "height": "50px",
            "min_height": null,
            "padding": null,
            "grid_auto_rows": null,
            "grid_gap": null,
            "max_width": null,
            "order": null,
            "_view_module_version": "1.2.0",
            "grid_template_areas": null,
            "object_position": null,
            "object_fit": null,
            "grid_auto_columns": null,
            "margin": null,
            "display": null,
            "left": null
          }
        },
        "51cf91234adc45ca81bc2f28989e896e": {
          "model_module": "@jupyter-widgets/controls",
          "model_name": "ButtonStyleModel",
          "state": {
            "_view_name": "StyleView",
            "_model_name": "ButtonStyleModel",
            "_view_module": "@jupyter-widgets/base",
            "_model_module_version": "1.5.0",
            "_view_count": null,
            "button_color": null,
            "font_weight": "",
            "_view_module_version": "1.2.0",
            "_model_module": "@jupyter-widgets/controls"
          }
        },
        "f1ce6a7ff7934cbf81b08260506e15ed": {
          "model_module": "@jupyter-widgets/base",
          "model_name": "LayoutModel",
          "state": {
            "_view_name": "LayoutView",
            "grid_template_rows": null,
            "right": null,
            "justify_content": null,
            "_view_module": "@jupyter-widgets/base",
            "overflow": null,
            "_model_module_version": "1.2.0",
            "_view_count": null,
            "flex_flow": null,
            "width": null,
            "min_width": null,
            "border": null,
            "align_items": null,
            "bottom": null,
            "_model_module": "@jupyter-widgets/base",
            "top": null,
            "grid_column": null,
            "overflow_y": null,
            "overflow_x": null,
            "grid_auto_flow": null,
            "grid_area": null,
            "grid_template_columns": null,
            "flex": null,
            "_model_name": "LayoutModel",
            "justify_items": null,
            "grid_row": null,
            "max_height": null,
            "align_content": null,
            "visibility": null,
            "align_self": null,
            "height": null,
            "min_height": null,
            "padding": null,
            "grid_auto_rows": null,
            "grid_gap": null,
            "max_width": null,
            "order": null,
            "_view_module_version": "1.2.0",
            "grid_template_areas": null,
            "object_position": null,
            "object_fit": null,
            "grid_auto_columns": null,
            "margin": null,
            "display": null,
            "left": null
          }
        },
        "d27f1f7a888e49a096091dee98c070ce": {
          "model_module": "@jupyter-widgets/controls",
          "model_name": "DescriptionStyleModel",
          "state": {
            "_view_name": "StyleView",
            "_model_name": "DescriptionStyleModel",
            "description_width": "",
            "_view_module": "@jupyter-widgets/base",
            "_model_module_version": "1.5.0",
            "_view_count": null,
            "_view_module_version": "1.2.0",
            "_model_module": "@jupyter-widgets/controls"
          }
        },
        "4bc9f5bcad8c4558927831863abb57dc": {
          "model_module": "@jupyter-widgets/base",
          "model_name": "LayoutModel",
          "state": {
            "_view_name": "LayoutView",
            "grid_template_rows": null,
            "right": null,
            "justify_content": null,
            "_view_module": "@jupyter-widgets/base",
            "overflow": null,
            "_model_module_version": "1.2.0",
            "_view_count": null,
            "flex_flow": null,
            "width": null,
            "min_width": null,
            "border": null,
            "align_items": null,
            "bottom": null,
            "_model_module": "@jupyter-widgets/base",
            "top": null,
            "grid_column": null,
            "overflow_y": null,
            "overflow_x": null,
            "grid_auto_flow": null,
            "grid_area": null,
            "grid_template_columns": null,
            "flex": null,
            "_model_name": "LayoutModel",
            "justify_items": null,
            "grid_row": null,
            "max_height": null,
            "align_content": null,
            "visibility": null,
            "align_self": null,
            "height": null,
            "min_height": null,
            "padding": null,
            "grid_auto_rows": null,
            "grid_gap": null,
            "max_width": null,
            "order": null,
            "_view_module_version": "1.2.0",
            "grid_template_areas": null,
            "object_position": null,
            "object_fit": null,
            "grid_auto_columns": null,
            "margin": null,
            "display": null,
            "left": null
          }
        },
        "91d887ea15524200b248034f3060120d": {
          "model_module": "@jupyter-widgets/controls",
          "model_name": "DescriptionStyleModel",
          "state": {
            "_view_name": "StyleView",
            "_model_name": "DescriptionStyleModel",
            "description_width": "",
            "_view_module": "@jupyter-widgets/base",
            "_model_module_version": "1.5.0",
            "_view_count": null,
            "_view_module_version": "1.2.0",
            "_model_module": "@jupyter-widgets/controls"
          }
        },
        "2c2e1c3dfaeb4dfc8a776279b7fe80d1": {
          "model_module": "@jupyter-widgets/base",
          "model_name": "LayoutModel",
          "state": {
            "_view_name": "LayoutView",
            "grid_template_rows": null,
            "right": null,
            "justify_content": null,
            "_view_module": "@jupyter-widgets/base",
            "overflow": null,
            "_model_module_version": "1.2.0",
            "_view_count": null,
            "flex_flow": null,
            "width": "100%",
            "min_width": null,
            "border": null,
            "align_items": null,
            "bottom": null,
            "_model_module": "@jupyter-widgets/base",
            "top": null,
            "grid_column": null,
            "overflow_y": null,
            "overflow_x": null,
            "grid_auto_flow": null,
            "grid_area": null,
            "grid_template_columns": null,
            "flex": null,
            "_model_name": "LayoutModel",
            "justify_items": null,
            "grid_row": null,
            "max_height": null,
            "align_content": null,
            "visibility": null,
            "align_self": null,
            "height": "50px",
            "min_height": null,
            "padding": null,
            "grid_auto_rows": null,
            "grid_gap": null,
            "max_width": null,
            "order": null,
            "_view_module_version": "1.2.0",
            "grid_template_areas": null,
            "object_position": null,
            "object_fit": null,
            "grid_auto_columns": null,
            "margin": null,
            "display": null,
            "left": null
          }
        },
        "9e2a60ad3765477f9d0c8f0dc52fee53": {
          "model_module": "@jupyter-widgets/controls",
          "model_name": "DescriptionStyleModel",
          "state": {
            "_view_name": "StyleView",
            "_model_name": "DescriptionStyleModel",
            "description_width": "",
            "_view_module": "@jupyter-widgets/base",
            "_model_module_version": "1.5.0",
            "_view_count": null,
            "_view_module_version": "1.2.0",
            "_model_module": "@jupyter-widgets/controls"
          }
        },
        "e7c9bff3a5fd40a68704ddb28e81e57e": {
          "model_module": "@jupyter-widgets/base",
          "model_name": "LayoutModel",
          "state": {
            "_view_name": "LayoutView",
            "grid_template_rows": null,
            "right": null,
            "justify_content": null,
            "_view_module": "@jupyter-widgets/base",
            "overflow": null,
            "_model_module_version": "1.2.0",
            "_view_count": null,
            "flex_flow": null,
            "width": null,
            "min_width": null,
            "border": null,
            "align_items": null,
            "bottom": null,
            "_model_module": "@jupyter-widgets/base",
            "top": null,
            "grid_column": null,
            "overflow_y": null,
            "overflow_x": null,
            "grid_auto_flow": null,
            "grid_area": null,
            "grid_template_columns": null,
            "flex": null,
            "_model_name": "LayoutModel",
            "justify_items": null,
            "grid_row": null,
            "max_height": null,
            "align_content": null,
            "visibility": null,
            "align_self": null,
            "height": null,
            "min_height": null,
            "padding": null,
            "grid_auto_rows": null,
            "grid_gap": null,
            "max_width": null,
            "order": null,
            "_view_module_version": "1.2.0",
            "grid_template_areas": null,
            "object_position": null,
            "object_fit": null,
            "grid_auto_columns": null,
            "margin": null,
            "display": null,
            "left": null
          }
        },
        "3276d534f06a457faacf2f2081abaae9": {
          "model_module": "@jupyter-widgets/controls",
          "model_name": "DescriptionStyleModel",
          "state": {
            "_view_name": "StyleView",
            "_model_name": "DescriptionStyleModel",
            "description_width": "",
            "_view_module": "@jupyter-widgets/base",
            "_model_module_version": "1.5.0",
            "_view_count": null,
            "_view_module_version": "1.2.0",
            "_model_module": "@jupyter-widgets/controls"
          }
        },
        "2cd513358977409eb594e82fc99b8ab9": {
          "model_module": "@jupyter-widgets/base",
          "model_name": "LayoutModel",
          "state": {
            "_view_name": "LayoutView",
            "grid_template_rows": null,
            "right": null,
            "justify_content": null,
            "_view_module": "@jupyter-widgets/base",
            "overflow": null,
            "_model_module_version": "1.2.0",
            "_view_count": null,
            "flex_flow": null,
            "width": "100%",
            "min_width": null,
            "border": null,
            "align_items": null,
            "bottom": null,
            "_model_module": "@jupyter-widgets/base",
            "top": null,
            "grid_column": null,
            "overflow_y": null,
            "overflow_x": null,
            "grid_auto_flow": null,
            "grid_area": null,
            "grid_template_columns": null,
            "flex": null,
            "_model_name": "LayoutModel",
            "justify_items": null,
            "grid_row": null,
            "max_height": null,
            "align_content": null,
            "visibility": null,
            "align_self": null,
            "height": "50px",
            "min_height": null,
            "padding": null,
            "grid_auto_rows": null,
            "grid_gap": null,
            "max_width": null,
            "order": null,
            "_view_module_version": "1.2.0",
            "grid_template_areas": null,
            "object_position": null,
            "object_fit": null,
            "grid_auto_columns": null,
            "margin": null,
            "display": null,
            "left": null
          }
        }
      }
    }
  },
  "cells": [
    {
      "cell_type": "code",
      "metadata": {
        "id": "s54IfEA6RUT2",
        "colab_type": "code",
        "outputId": "159a76f3-da99-49b8-a9f5-bc5cce0b802e",
        "colab": {
          "base_uri": "https://localhost:8080/",
          "height": 34
        }
      },
      "source": [
        "import pandas as pd\n",
        "import numpy as np\n",
        "import os\n",
        "from pathlib import Path, PurePath\n",
        "from ipywidgets import interact\n",
        "import ipywidgets as widgets\n",
        "from collections import defaultdict\n",
        "\n",
        "!pip install whoosh\n",
        "import whoosh\n",
        "from whoosh.qparser import *\n",
        "from whoosh.fields import Schema, TEXT, KEYWORD, ID, STORED, NUMERIC, NGRAMWORDS\n",
        "from whoosh.analysis import StemmingAnalyzer,StandardAnalyzer, NgramFilter\n",
        "from whoosh import index"
      ],
      "execution_count": 42,
      "outputs": [
        {
          "output_type": "stream",
          "text": [
            "Requirement already satisfied: whoosh in /usr/local/lib/python3.6/dist-packages (2.7.4)\n"
          ],
          "name": "stdout"
        }
      ]
    },
    {
      "cell_type": "code",
      "metadata": {
        "id": "KuCu28XDVapd",
        "colab_type": "code",
        "colab": {}
      },
      "source": [
        "!pip install git+https://github.com/bmabey/pyLDAvis.git@master#egg=pyLDAvis\n",
        "\n",
        "import pyLDAvis.sklearn"
      ],
      "execution_count": 0,
      "outputs": []
    },
    {
      "cell_type": "code",
      "metadata": {
        "id": "43YdREZ7S9ZE",
        "colab_type": "code",
        "colab": {}
      },
      "source": [
        "def setup_local_data():\n",
        "  from google.colab import drive\n",
        "  drive.mount('/content/drive')\n",
        "  drive_path=PurePath('/content/drive/My Drive')\n",
        "  input_dir = drive_path/'COVID-19'\n",
        "  print(list(Path(input_dir).glob('*')))\n",
        "  return input_dir"
      ],
      "execution_count": 0,
      "outputs": []
    },
    {
      "cell_type": "code",
      "metadata": {
        "id": "AO46K-H2Tewn",
        "colab_type": "code",
        "colab": {}
      },
      "source": [
        "#read the metadata file into df\n",
        "def read_metadata_csv(input_dir):\n",
        "  metadata_path = input_dir / 'metadata.csv'\n",
        "  metadata = pd.read_csv(metadata_path,\n",
        "                         dtype={'publish_time': str, #to do: extract year from 'pubblish time' as int\n",
        "                                'authors':str,\n",
        "                                'title': str,\n",
        "                                'abstract':str,\n",
        "                                'doi': str}\n",
        "                         )\n",
        "  #set the abstract to the paper title if it is null\n",
        "  metadata['abstract'] = metadata['abstract'] .fillna(metadata['title'])\n",
        "\n",
        "  return metadata"
      ],
      "execution_count": 0,
      "outputs": []
    },
    {
      "cell_type": "code",
      "metadata": {
        "id": "ees7qks4TtHY",
        "colab_type": "code",
        "colab": {}
      },
      "source": [
        "def read_full_data_csv(input_dir):\n",
        "  path = input_dir / 'covid_data_full_v5.csv'\n",
        "  full_data = pd.read_csv(path)\n",
        "  return full_data"
      ],
      "execution_count": 0,
      "outputs": []
    },
    {
      "cell_type": "code",
      "metadata": {
        "id": "CTuEH1-vaFax",
        "colab_type": "code",
        "colab": {}
      },
      "source": [
        "from sklearn.decomposition import LatentDirichletAllocation\n",
        "from sklearn.feature_extraction.text import CountVectorizer\n",
        "\n",
        "def get_count_vectorizer():\n",
        "  vectorizer = CountVectorizer(min_df=5, max_df=0.9, \n",
        "                             stop_words='english', lowercase=True, \n",
        "                             token_pattern='[a-zA-Z\\-][a-zA-Z\\-]{2,}')\n",
        "  return vectorizer\n",
        "\n",
        "def get_lda_model(num_topics):\n",
        "  lda_model = LatentDirichletAllocation(n_components=num_topics, max_iter=10, learning_method='online')\n",
        "  return lda_model"
      ],
      "execution_count": 0,
      "outputs": []
    },
    {
      "cell_type": "code",
      "metadata": {
        "id": "XtNFS7DtCh9Z",
        "colab_type": "code",
        "colab": {}
      },
      "source": [
        "#get hardcoded schema for the index\n",
        "def get_search_schema():\n",
        "  schema = Schema(date=TEXT(stored=True),\n",
        "                  author=TEXT(stored=True),\n",
        "                  title=TEXT(analyzer=StandardAnalyzer(),stored=True),\n",
        "                  abstract=TEXT(analyzer=StandardAnalyzer(),stored=True),\n",
        "                  doi=TEXT(stored=True))\n",
        "  return schema\n",
        "\n",
        "# creates an index in a dictionary (only need to run once)\n",
        "# noop if it's already created\n",
        "def create_search_index(drive_path, search_schema):\n",
        "  if not os.path.exists(drive_path/'indexdir'):\n",
        "      os.mkdir(drive_path/'indexdir')\n",
        "  ix = index.create_in(drive_path/'indexdir', search_schema)\n",
        "  #open an existing index object\n",
        "  ix = index.open_dir(drive_path/'indexdir')\n",
        "  return ix\n",
        "\n",
        "\n",
        "def add_documents_to_index(ix, metadata):\n",
        "  #create a writer object to add documents to the index\n",
        "  writer = ix.writer()\n",
        "\n",
        "  #now we can add documents to the index\n",
        "  # ref_id = metadata['ref_id']\n",
        "  date = metadata['publish_time']\n",
        "  author = metadata['authors']\n",
        "  title = metadata['title']\n",
        "  abstract = metadata['abstract']\n",
        "  doi = metadata['doi']\n",
        "\n",
        "  for DATE, AUTHOR, TITLE, ABSTRACT, DOI in zip(date,author,title,abstract,doi):\n",
        "    writer.add_document(date= str(DATE),\n",
        "                        author=str(AUTHOR),\n",
        "                        title=str(TITLE),\n",
        "                        abstract=str(ABSTRACT),\n",
        "                        doi=str(DOI))\n",
        "\n",
        "  #close the writer and save the added documents in the index\n",
        "  #you should call the commit() function once you finish adding the documents otherwise you will cause an error-\n",
        "  #when you try to edit the index next time and open another writer. \n",
        "  writer.commit()\n",
        "\n",
        "  # need to cancel writer if error or need to reset\n",
        "  # writer.cancel()\n",
        "  return\n",
        "\n",
        "# get a multifield parser for the list of inptted fields\n",
        "def get_multifield_parser(fields, search_schema):\n",
        "  parser = MultifieldParser(fields, schema=search_schema)\n",
        "  return parser\n",
        "\n",
        "# this takes in a parser and query string to return the actual query that'll be sent to the searcher\n",
        "def get_parser_query(parser, query):\n",
        "  result = parser.parse(query) # use boolean operators in quotation\n",
        "  print(result)\n",
        "  return result\n",
        "\n",
        "# Convert the doi to a url\n",
        "def doi_url(d): \n",
        "    return f'http://{d}' if d.startswith('doi.org') else f'http://doi.org/{d}'\n",
        "    \n",
        "# this method takes in a search index and query to return a dataframe of results\n",
        "# ix is the document index we created before\n",
        "# query is the string found from the parser\n",
        "def get_search_results(ix, query):\n",
        "  #you can open the searcher using a with statement so the searcher is automatically closed when you’re done with it\n",
        "  with ix.searcher() as searcher:\n",
        "      results = searcher.search(query)#The Results object acts like a list of the matched documents\n",
        "      print('Total Hits: {}\\n'.format(len(results)))\n",
        "      print(results)\n",
        "      output_dict = defaultdict(list)\n",
        "      num = 0\n",
        "      for result in results:\n",
        "        print(result)\n",
        "        num = num + 1\n",
        "        output_dict['title'].append(result['title'])\n",
        "        output_dict['abstract'].append(result['abstract'])\n",
        "        output_dict['publish_time'].append(result['date'])\n",
        "        output_dict['authors'].append(result['author'])\n",
        "        output_dict['doi'].append(result['doi'])\n",
        "      print(\"Loop ran {} times.\".format(num))\n",
        "\n",
        "  print(len(output_dict['title']))\n",
        "  output_df = pd.DataFrame(output_dict)\n",
        "  print(output_df.shape)\n",
        "  output_df['doi'] = output_df['doi'].apply(lambda x: doi_url(x) if x !='nan' else x)  \n",
        "  return output_df"
      ],
      "execution_count": 0,
      "outputs": []
    },
    {
      "cell_type": "code",
      "metadata": {
        "id": "oKBaxm4yEMqw",
        "colab_type": "code",
        "colab": {}
      },
      "source": [
        "from ipywidgets import interact, Layout, HBox, VBox, Box\n",
        "from IPython.display import HTML, display, clear_output\n",
        "import ipywidgets as widgets\n",
        "from IPython.display import update_display\n",
        "\n",
        "def get_new_text_box():\n",
        "  textW = widgets.Textarea(\n",
        "        value='',\n",
        "        placeholder='Type something like \"covid\" or incubation',\n",
        "        description='',\n",
        "        disabled=False,\n",
        "        layout=Layout(width='100%', height='50px')\n",
        "    )\n",
        "  return textW\n",
        "\n",
        "def get_new_plus_button():\n",
        "  button = widgets.Button(description=\"+\")\n",
        "  return button\n",
        "\n",
        "def get_new_dropdown():\n",
        "  dropdown = widgets.Dropdown(\n",
        "      options=['AND', 'OR', 'NOT'],\n",
        "      value='AND',\n",
        "      description='Operator: ',\n",
        "      disabled=False,\n",
        "    )\n",
        "  return dropdown\n",
        "\n",
        "def dynamic_search_query(parser, ix):\n",
        "  textW = widgets.Textarea(\n",
        "        value='',\n",
        "        placeholder='Type something like \"covid\" or incubation',\n",
        "        description='',\n",
        "        disabled=False,\n",
        "        layout=Layout(width='100%', height='50px')\n",
        "    )\n",
        "  \n",
        "  button = widgets.Button(description=\"+\")\n",
        "  search_rows_list = []\n",
        "  search_rows_list.append( HBox([textW, button], layout=Layout(align_items='center')) )\n",
        "  # vboxes = [\n",
        "  #           VBox(search_rows_list, layout=Layout(align_items='center')),\n",
        "  #           VBox([button], layout=Layout(object_position='bottom'))\n",
        "  #           ]\n",
        "  # display_handle = display(vboxes, display_id='disp')\n",
        "  display_handle = display(VBox(search_rows_list, layout=Layout(align_items='center')), display_id='disp')\n",
        "  # display(HBox([textW, button], layout=Layout(align_items='center')))\n",
        "\n",
        "  #search_rows_list is a list of HBox objects\n",
        "  # the first index will just be a text box and '+' button\n",
        "  # subsequent rows will have operator, text box, and '+' button\n",
        "  def on_button_clicked(b):\n",
        "    global STORED_SEARCH_QUERY\n",
        "    # global search_rows_list\n",
        "    clear_output(wait=True)\n",
        "    new_text_box = get_new_text_box()\n",
        "    dropdown = get_new_dropdown()\n",
        "    # new_plus_button = get_new_plus_button()\n",
        "    search_rows_list.append( HBox([dropdown, new_text_box, button], layout=Layout(align_items='center')) )\n",
        "    # print(len(search_rows_list))\n",
        "    # display(VBox(search_rows_list, layout=Layout(align_items='center')))\n",
        "    display_handle.update(VBox(search_rows_list, layout=Layout(align_items='center')))\n",
        "\n",
        "    combined = ''\n",
        "    for i in range(0, len(search_rows_list)-1): #we do len - 1 since newet row has no values\n",
        "      row = search_rows_list[i]\n",
        "      # print(row)\n",
        "      # print(i)\n",
        "      if i == 0:\n",
        "        temp = combined + row.children[0].value\n",
        "        combined = temp\n",
        "      else:\n",
        "        temp = combined + ' ' + row.children[0].value + ' ' + row.children[1].value\n",
        "        combined = temp\n",
        "    \n",
        "    print(\"Current raw search query:\\n\" + combined)\n",
        "    print(\"Current query from parser:\")\n",
        "    query = get_parser_query(parser, combined) #already prints in method\n",
        "    STORED_SEARCH_QUERY = query\n",
        "    # update_display(display_id)\n",
        "\n",
        "  button.on_click(on_button_clicked)\n"
      ],
      "execution_count": 0,
      "outputs": []
    },
    {
      "cell_type": "markdown",
      "metadata": {
        "id": "VTKbBEEzTtr4",
        "colab_type": "text"
      },
      "source": [
        "# Main Code"
      ]
    },
    {
      "cell_type": "code",
      "metadata": {
        "id": "GJXe6bvZTvKj",
        "colab_type": "code",
        "outputId": "fc8f52e9-6e80-42c7-cf75-60425ddda65c",
        "colab": {
          "base_uri": "https://localhost:8080/",
          "height": 51
        }
      },
      "source": [
        "local_dir = setup_local_data()"
      ],
      "execution_count": 50,
      "outputs": [
        {
          "output_type": "stream",
          "text": [
            "Drive already mounted at /content/drive; to attempt to forcibly remount, call drive.mount(\"/content/drive\", force_remount=True).\n",
            "[PosixPath('/content/drive/My Drive/COVID-19/metadata.csv'), PosixPath('/content/drive/My Drive/COVID-19/covid_data_full_v5.json'), PosixPath('/content/drive/My Drive/COVID-19/indexdir')]\n"
          ],
          "name": "stdout"
        }
      ]
    },
    {
      "cell_type": "code",
      "metadata": {
        "id": "C1bloKuGVVmg",
        "colab_type": "code",
        "colab": {
          "base_uri": "https://localhost:8080/",
          "height": 595
        },
        "outputId": "20e4037f-4c78-4b76-a7a1-385ac0babb93"
      },
      "source": [
        "metadata = read_metadata_csv(local_dir)\n",
        "print(metadata.info())\n",
        "print(metadata.shape)\n",
        "print(metadata.head(5))\n"
      ],
      "execution_count": 51,
      "outputs": [
        {
          "output_type": "stream",
          "text": [
            "<class 'pandas.core.frame.DataFrame'>\n",
            "RangeIndex: 45774 entries, 0 to 45773\n",
            "Data columns (total 17 columns):\n",
            " #   Column                       Non-Null Count  Dtype  \n",
            "---  ------                       --------------  -----  \n",
            " 0   cord_uid                     45774 non-null  object \n",
            " 1   sha                          31753 non-null  object \n",
            " 2   source_x                     45774 non-null  object \n",
            " 3   title                        45617 non-null  object \n",
            " 4   doi                          42440 non-null  object \n",
            " 5   pmcid                        26243 non-null  object \n",
            " 6   pubmed_id                    34641 non-null  float64\n",
            " 7   license                      45774 non-null  object \n",
            " 8   abstract                     45766 non-null  object \n",
            " 9   publish_time                 45765 non-null  object \n",
            " 10  authors                      43774 non-null  object \n",
            " 11  journal                      41707 non-null  object \n",
            " 12  Microsoft Academic Paper ID  964 non-null    float64\n",
            " 13  WHO #Covidence               1768 non-null   object \n",
            " 14  has_full_text                45774 non-null  bool   \n",
            " 15  full_text_file               35558 non-null  object \n",
            " 16  url                          45472 non-null  object \n",
            "dtypes: bool(1), float64(2), object(14)\n",
            "memory usage: 5.6+ MB\n",
            "None\n",
            "(45774, 17)\n",
            "   cord_uid  ...                             url\n",
            "0  vho70jcx  ...  https://doi.org/10.1101/001727\n",
            "1  i9tbix2v  ...  https://doi.org/10.1101/003889\n",
            "2  62gfisc6  ...  https://doi.org/10.1101/006866\n",
            "3  058r9486  ...  https://doi.org/10.1101/007476\n",
            "4  wich35l7  ...  https://doi.org/10.1101/010389\n",
            "\n",
            "[5 rows x 17 columns]\n"
          ],
          "name": "stdout"
        }
      ]
    },
    {
      "cell_type": "code",
      "metadata": {
        "id": "Da3rG8-RFBpo",
        "colab_type": "code",
        "colab": {}
      },
      "source": [
        "search_schema = get_search_schema()\n",
        "ix = create_search_index(local_dir, search_schema)\n",
        "add_documents_to_index(ix, metadata)"
      ],
      "execution_count": 0,
      "outputs": []
    },
    {
      "cell_type": "code",
      "metadata": {
        "id": "5dJJ_EqdFI2i",
        "colab_type": "code",
        "outputId": "cb2bdaf7-aa1e-4987-979f-5e438d0183ef",
        "colab": {
          "base_uri": "https://localhost:8080/",
          "height": 247,
          "referenced_widgets": [
            "e9badaeef69049cf8ef95874d8fd59ab",
            "9c437d283b2945aba1e9f3596ea53d4e",
            "776e571f99ff43f8aafb87233892efad",
            "fe1316bde0b34863b9c542f816975938",
            "f960e0b8a73d4d439745e3f11a6a2897",
            "7ce10e7844d848659355bfbde121eea3",
            "af281b7ba0214cbbb31f6b449283e770",
            "ef7f9cd2971d43999a6f66d6eb19bb7d",
            "a6094a70cbd0453b8d362159549e8aea",
            "ab829bab7e9347f98d1a0e22d98d54c5",
            "615e8cfbb9a24d3f834771d141cb4476",
            "a1eaee5829ca4bb6b97b946e95675201",
            "25df930423b64f0298752075ff54a118",
            "cc0d38a4fe734d3db2c61990b42c6213",
            "131bc02f03da4570a1190d14c6f37131",
            "20ced70e91404bc0b8910194d0b55d3a",
            "51cf91234adc45ca81bc2f28989e896e",
            "f1ce6a7ff7934cbf81b08260506e15ed",
            "d27f1f7a888e49a096091dee98c070ce",
            "4bc9f5bcad8c4558927831863abb57dc",
            "91d887ea15524200b248034f3060120d",
            "2c2e1c3dfaeb4dfc8a776279b7fe80d1",
            "9e2a60ad3765477f9d0c8f0dc52fee53",
            "e7c9bff3a5fd40a68704ddb28e81e57e",
            "3276d534f06a457faacf2f2081abaae9",
            "2cd513358977409eb594e82fc99b8ab9"
          ]
        }
      },
      "source": [
        "ix = index.open_dir(local_dir/'indexdir')\n",
        "\n",
        "fields = [\"title\", \"abstract\"]\n",
        "parser = get_multifield_parser(fields, search_schema)\n",
        "STORED_SEARCH_QUERY = '' #this is stored as a global so the last search query from the parser can be used in later cells\n",
        "dynamic_search_query(parser, ix)"
      ],
      "execution_count": 0,
      "outputs": [
        {
          "output_type": "display_data",
          "data": {
            "application/vnd.jupyter.widget-view+json": {
              "model_id": "e9badaeef69049cf8ef95874d8fd59ab",
              "version_minor": 0,
              "version_major": 2
            },
            "text/plain": [
              "VBox(children=(HBox(children=(Textarea(value='\"covid-19\"', layout=Layout(height='50px', width='100%'), placeho…"
            ]
          },
          "metadata": {
            "tags": []
          }
        },
        {
          "output_type": "stream",
          "text": [
            "Current raw search query:\n",
            "\"covid-19\" AND incubation\n",
            "Current query from parser:\n",
            "((title:\"covid 19\" OR abstract:\"covid 19\") AND (title:incubation OR abstract:incubation))\n"
          ],
          "name": "stdout"
        }
      ]
    },
    {
      "cell_type": "code",
      "metadata": {
        "id": "I1eS1_VbFOdm",
        "colab_type": "code",
        "outputId": "4f9102a3-45c6-48c6-cf2b-7f6021e4013c",
        "colab": {
          "base_uri": "https://localhost:8080/",
          "height": 34
        }
      },
      "source": [
        "print(STORED_SEARCH_QUERY)"
      ],
      "execution_count": 54,
      "outputs": [
        {
          "output_type": "stream",
          "text": [
            "((title:\"covid 19\" OR abstract:\"covid 19\") AND (title:incubation OR abstract:incubation))\n"
          ],
          "name": "stdout"
        }
      ]
    },
    {
      "cell_type": "code",
      "metadata": {
        "id": "LniZW-ZvFqOI",
        "colab_type": "code",
        "outputId": "fe68d3b3-5d6b-4cbe-c813-2e61221da235",
        "colab": {
          "base_uri": "https://localhost:8080/",
          "height": 668
        }
      },
      "source": [
        "output = get_search_results(ix, STORED_SEARCH_QUERY)\n",
        "print(output.shape)\n",
        "output"
      ],
      "execution_count": 102,
      "outputs": [
        {
          "output_type": "stream",
          "text": [
            "Total Hits: 78\n",
            "\n",
            "<Top 10 Results for And([Or([Phrase('title', ['covid', '19'], slop=1, boost=1.000000), Phrase('abstract', ['covid', '19'], slop=1, boost=1.000000)]), Or([Term('title', 'incubation'), Term('abstract', 'incubation')])]) runtime=0.03502632799973071>\n",
            "<Hit {'abstract': 'Motivation: Wuhan pneumonia is an acute infectious disease caused by the 2019 novel coronavirus (COVID-19). It is being treated as a Class A infectious disease though it was classified as Class B according to the Infectious Disease Prevention Act of China. Accurate estimation of the incubation period of the coronavirus is essential to the prevention and control. However, it remains unclear about its exact incubation period though it is believed that symptoms of COVID-19 can appear in as few as 2 days or as long as 14 or even more after exposure. The accurate incubation period calculation requires original chain-of-infection data that may not be fully available in the Wuhan regions. In this study, we aim to accurately calculate the incubation period of COVID-19 by taking advantage of the chain-of-infection data, which is well-documented and epidemiologically informative, outside the Wuhan regions. Methods: We acquired and collected officially reported COVID-19 data from 10 regions in China except for Hubei province. To achieve the accurate calculation of the incubation period, we only involved the officially confirmed cases with a clear history of exposure and time of onset. We excluded those without relevant epidemiological descriptions, working or living in Wuhan for a long time, or hard to determine the possible exposure time. We proposed a Monte Caro simulation approach to estimate the incubation of COVID-19 as well as employed nonparametric ways. We also employed manifold learning and related statistical analysis to decipher the incubation relationships between different age/gender groups. Result: The incubation period of COVID-19 did not follow general incubation distributions such as lognormal, Weibull, and Gamma distributions. We estimated that the mean and median of its incubation were 5.84 and 5.0 days via bootstrap and proposed Monte Carlo simulations. We found that the incubation periods of the groups with age>=40 years and age<40 years demonstrated a statistically significant difference. The former group had a longer incubation period and a larger variance than the latter. It further suggested that different quarantine time should be applied to the groups for their different incubation periods. Our machine learning analysis also showed that the two groups were linearly separable. incubation of COVID-19 along with previous statistical analysis. Our results further indicated that the incubation difference between males and females did not demonstrate a statistical significance.', 'author': 'Henry Han', 'date': '2020-02-29', 'doi': '10.1101/2020.02.24.20027474', 'title': 'Estimate the incubation period of coronavirus 2019 (COVID-19)'}>\n",
            "<Hit {'abstract': 'Controversy remains over whether the novel coronavirus 2019 (COVID-19) virus may have infectivity during the incubation period before the onset of symptoms. The author had the opportunity to examine the infectivity of COVID-19 during the incubation period by conducting an epidemiological survey on a confirmed patient who had visited Jeju Island during the incubation period. The epidemiological findings support the claim that the COVID-19 virus does not have infectivity during the incubation period.', 'author': 'Bae, Jong-Myon', 'date': '2020-03-02', 'doi': '10.3961/jpmph.20.048', 'title': 'A Chinese Case of COVID-19 Did Not Show Infectivity During the Incubation Period: Based on an Epidemiological Survey'}>\n",
            "<Hit {'abstract': 'Abstract We report a familial cluster of 2019 novel coronavirus disease (COVID-19) to evidence that a potential transmission of the COVID-19 during the incubation period. The first patient in this familial cluster was identified in presymptomatic period, as a close contact of a confirmed patient. Five family members had close contact with the first patient during his incubation period, four of them were confirmed to the severe acute respiratory syndrome coronavirus 2 (SARS-CoV-2) infection in the subsequent sampling test.', 'author': 'Li, Peng; Fu, Ji-Bo; Li, Ke-Feng; Chen, Yan; Wang, Hong-Ling; Liu, Lei-Jie; Liu, Jie-Nan; Zhang, Yong-Li; Liu, She-Lan; Tang, An; Tong, Zhen-Dong; Yan, Jian-Bo', 'date': '2020-03-16', 'doi': '10.1016/j.ijid.2020.03.027', 'title': 'Transmission of COVID-19 in the terminal stage of incubation period: a familial cluster'}>\n",
            "<Hit {'abstract': 'BACKGROUND: A novel human coronavirus, severe acute respiratory syndrome coronavirus 2 (SARS-CoV-2), was identified in China in December 2019. There is limited support for many of its key epidemiologic features, including the incubation period for clinical disease (coronavirus disease 2019 [COVID-19]), which has important implications for surveillance and control activities. OBJECTIVE: To estimate the length of the incubation period of COVID-19 and describe its public health implications. DESIGN: Pooled analysis of confirmed COVID-19 cases reported between 4 January 2020 and 24 February 2020. SETTING: News reports and press releases from 50 provinces, regions, and countries outside Wuhan, Hubei province, China. PARTICIPANTS: Persons with confirmed SARS-CoV-2 infection outside Hubei province, China. MEASUREMENTS: Patient demographic characteristics and dates and times of possible exposure, symptom onset, fever onset, and hospitalization. RESULTS: There were 181 confirmed cases with identifiable exposure and symptom onset windows to estimate the incubation period of COVID-19. The median incubation period was estimated to be 5.1 days (95% CI, 4.5 to 5.8 days), and 97.5% of those who develop symptoms will do so within 11.5 days (CI, 8.2 to 15.6 days) of infection. These estimates imply that, under conservative assumptions, 101 out of every 10 000 cases (99th percentile, 482) will develop symptoms after 14 days of active monitoring or quarantine. LIMITATION: Publicly reported cases may overrepresent severe cases, the incubation period for which may differ from that of mild cases. CONCLUSION: This work provides additional evidence for a median incubation period for COVID-19 of approximately 5 days, similar to SARS. Our results support current proposals for the length of quarantine or active monitoring of persons potentially exposed to SARS-CoV-2, although longer monitoring periods might be justified in extreme cases. PRIMARY FUNDING SOURCE: U.S. Centers for Disease Control and Prevention, National Institute of Allergy and Infectious Diseases, National Institute of General Medical Sciences, and Alexander von Humboldt Foundation.', 'author': 'Lauer, Stephen A.; Grantz, Kyra H.; Bi, Qifang; Jones, Forrest K.; Zheng, Qulu; Meredith, Hannah R.; Azman, Andrew S.; Reich, Nicholas G.; Lessler, Justin', 'date': '2020-03-10', 'doi': '10.7326/m20-0504', 'title': 'The Incubation Period of Coronavirus Disease 2019 (COVID-19) From Publicly Reported Confirmed Cases: Estimation and Application'}>\n",
            "<Hit {'abstract': 'Objectives: Amid the continuing spread of the novel coronavirus (COVID-19), the incubation period of COVID-19 should be regularly re-assessed as more information is available upon the increase in reported cases. The present work estimated the distribution of incubation periods of patients infected in and outside Hubei province of China. Methods: Clinical data were collected from the individual cases reported by the media as they were not fully available on the official pages of the Chinese health authorities. MLE was used to estimate the distributions of the incubation period. Results: It was found that the incubation period of patients with no travel history to Hubei was longer and more volatile. Conclusion: It is recommended that the duration of quarantine should be extended to at least 3 weeks.', 'author': 'Char Leung', 'date': '2020-02-18', 'doi': '10.1101/2020.02.13.20022822', 'title': 'Estimating the distribution of the incubation period of 2019 novel coronavirus (COVID-19) infection between travelers to Hubei, China and non-travelers'}>\n",
            "<Hit {'abstract': 'At the end of 2019, a coronavirus disease 2019 (COVID-19) outbroke in Wuhan, China, and spread to Guizhou province on January of 2020. To acquire the epidemiologic characteristics of COVID-19 in Guizhou, China, we collected data on 162 laboratory-confirmed cases related to COVID-19. We described the demographic characteristics of the cases and estimated the incubation period, serial interval and basic reproduction number. We also presented two representative case studies in Guizhou province -- Case Study 1 was an example of asymptomatic carrier; and Case Study 2 was an example of a large and complex infection chain that involved four different districts spanning three provinces and eight families. With an estimation of 8 days incubation period and 6 days serial interval, our results indicate that there may exist infectiousness during the incubation period for 2019-nCoV. This increases the difficulty of screening or identifying cases related to COVID-19.', 'author': 'Kaike Ping', 'date': '2020-03-06', 'doi': '10.1101/2020.03.01.20028944', 'title': 'Epidemiologic Characteristics of COVID-19 in Guizhou, China'}>\n",
            "<Hit {'abstract': 'Background: The current outbreak of coronavirus disease 2019 (COVID-19) has quickly spread across countries and become a global crisis. However, one of the most important clinical characteristics in epidemiology, the distribution of the incubation period, remains unclear. Different estimates of the incubation period of COVID-19 were reported in recent published studies, but all have their own limitations. In this study, we propose a novel low-cost and accurate method to estimate the incubation distribution. Methods: We have conducted a cross-sectional and forward follow-up study by identifying those asymptomatic individuals at their time of departure from Wuhan and then following them until their symptoms developed. The renewal process is hence adopted by considering the incubation period as a renewal and the duration between departure and symptom onset as a forward recurrence time. Under mild assumptions, the observations of selected forward times can be used to consistently estimate the parameters in the distribution of the incubation period. Such a method enhances the accuracy of estimation by reducing recall bias and utilizing the abundant and readily available forward time data. Findings: The estimated distribution of forward time fits the observations in the collected data well. The estimated median of incubation period is 8.13 days (95% confidence interval [CI]: 7.37-8.91), the mean is 8.62 days (95% CI: 8.02-9.28), the 90th percentile is 14.65 days (95% CI: 14.00-15.26), and the 99th percentile is 20.59 days (95% CI: 19.47, 21.62). Compared with results in other studies, the incubation period estimated in this study is longer. Interpretation: Based on the estimated incubation distribution in this study, about 10% of patients with COVID-19 would not develop symptoms until 14 days after infection. Further study of the incubation distribution is warranted to directly estimate the proportion with long incubation periods.', 'author': 'Qin Jing; Chong You; Qiushi Lin; Taojun Hu; Shicheng Yu; Xiao-Hua Zhou', 'date': '2020-03-10', 'doi': '10.1101/2020.03.06.20032417', 'title': 'Estimation of incubation period distribution of COVID-19 using disease onset forward time: a novel cross-sectional and forward follow-up study'}>\n",
            "<Hit {'abstract': 'Objective: To understand the possible transmission route of a family cluster of COVID-19 in Zhengzhou and the potential infectivity of COVID-19 in incubation period, and provide scientific evidence for the timely control of infectious source and curb the spread of the epidemic. Methods: Epidemiological investigation was conducted for a family cluster of COVID-19 (8 cases) with descriptive epidemiological method, and respiratory tract samples of the cases were collected for the nucleic acid detection of 2019-nCoV by RT-PCR. Results: Two primary cases, which occurred on 31 January and 1 February, 2020, respectively, had a common exposure history in Wuhan. The other six family members had onsets on 30 January, 31 January, 1 February (three cases) and 3 February, 2020. Conclusions: In this family cluster of COVID-19, six family members were infected through common family exposure to the 2 primary cases. Five secondary cases had onsets earlier than or on the same day as the primary cases, indicating that COVID-19 is contagious in incubation period, and the home isolation in the early phase of the epidemic might lead to the risk of family cluster of COVID-19.', 'author': 'Qiu, Y. Y.; Wang, S. Q.; Wang, X. L.; Lu, W. X.; Qiao, D.; Li, J. B.; Gu, Y. Y.; Zeng, Y.; Chen, Y.; Bai, W. Z.; Xu, B. L.; Han, T. W.', 'date': '2020', 'doi': '10.3760/cma.j.cn112338-20200221-00147', 'title': '[Epidemiological analysis on a family cluster of COVID-19]'}>\n",
            "<Hit {'abstract': 'Objective To understand the possible transmission route of a family cluster of COVID-19 in Zhengzhou and the potential infectivity of COVID-19 in incubation period, and provide scientific evidence for the timely control of infectious source and curb the spread of the epidemic. Methods Epidemiological investigation was conducted for a family cluster of COVID-19 (8 cases) with descriptive epidemiological method, and respiratory tract samples of the cases were collected for the nucleic acid detection of 2019-nCoV by RT-PCR. Results Two primary cases, which occurred on 31 January and 1 February, 2020, respectively, had a common exposure history in Wuhan. The other six family members had onsets on 30 January, 31 January, 1 February (three cases) and 3 February, 2020. Conclusions In this family cluster of COVID-19, six family members were infected through common family exposure to the 2 primary cases. Five secondary cases had onsets earlier than or on the same day as the primary cases, indicating that COVID-19 is contagious in incubation period, and the home isolation in the early phase of the epidemic might lead to the risk of family cluster of COVID-19.', 'author': 'QIU, Yuanying; WANG, Songqiang; WANG, Xiaoli; LU, Weixia; QIAO, Dan; LI, Jianbin; GU, Yuanyuan; ZENG, Yan; CHEN, Ying; BAI, Weizhi; XU, Bianli; HAN, Tongwu', 'date': '2020', 'doi': 'nan', 'title': 'Epidemiological analysis on a family cluster of COVID-19'}>\n",
            "<Hit {'abstract': \"Based on publicly released data for 1212 patients, we investigated the epidemiological characteristics of COVID-19 in Henan of China. The following findings are obtained: 1) COVID-19 patients in Henan show gender (55% vs 45%) and age (81% aged between 21 and 60) preferences, possible causes were explored; 2) Statistical analysis on 483 patients reveals that the estimated average, mode and median incubation periods are 7.4, 4 and 7 days; Incubation periods of 92% patients were no more than 14 days; 3) The epidemic of COVID-19 in Henan has undergone three stages and showed high correlations with the numbers of patients that recently return from Wuhan; 4) Network analysis on the aggregate outbreak phenomena of COVID-19 revealed that 208 cases were clustering infected, and various people's Hospital are the main force in treating patients. The related investigations have potential implications for the prevention and control of COVID-19.\", 'author': 'Pei Wang; Junan Lu; Yanyu Jin; Mengfan Zhu; Lingling Wang; Shunjie Chen', 'date': '2020-02-23', 'doi': '10.1101/2020.02.21.20026112', 'title': 'Epidemiological characteristics of 1212 COVID-19 patients in Henan, China'}>\n",
            "Loop ran 10 times.\n",
            "10\n",
            "(10, 5)\n",
            "(10, 5)\n"
          ],
          "name": "stdout"
        },
        {
          "output_type": "execute_result",
          "data": {
            "text/html": [
              "<div>\n",
              "<style scoped>\n",
              "    .dataframe tbody tr th:only-of-type {\n",
              "        vertical-align: middle;\n",
              "    }\n",
              "\n",
              "    .dataframe tbody tr th {\n",
              "        vertical-align: top;\n",
              "    }\n",
              "\n",
              "    .dataframe thead th {\n",
              "        text-align: right;\n",
              "    }\n",
              "</style>\n",
              "<table border=\"1\" class=\"dataframe\">\n",
              "  <thead>\n",
              "    <tr style=\"text-align: right;\">\n",
              "      <th></th>\n",
              "      <th>title</th>\n",
              "      <th>abstract</th>\n",
              "      <th>publish_time</th>\n",
              "      <th>authors</th>\n",
              "      <th>doi</th>\n",
              "    </tr>\n",
              "  </thead>\n",
              "  <tbody>\n",
              "    <tr>\n",
              "      <th>0</th>\n",
              "      <td>Estimate the incubation period of coronavirus ...</td>\n",
              "      <td>Motivation: Wuhan pneumonia is an acute infect...</td>\n",
              "      <td>2020-02-29</td>\n",
              "      <td>Henry Han</td>\n",
              "      <td>http://doi.org/10.1101/2020.02.24.20027474</td>\n",
              "    </tr>\n",
              "    <tr>\n",
              "      <th>1</th>\n",
              "      <td>A Chinese Case of COVID-19 Did Not Show Infect...</td>\n",
              "      <td>Controversy remains over whether the novel cor...</td>\n",
              "      <td>2020-03-02</td>\n",
              "      <td>Bae, Jong-Myon</td>\n",
              "      <td>http://doi.org/10.3961/jpmph.20.048</td>\n",
              "    </tr>\n",
              "    <tr>\n",
              "      <th>2</th>\n",
              "      <td>Transmission of COVID-19 in the terminal stage...</td>\n",
              "      <td>Abstract We report a familial cluster of 2019 ...</td>\n",
              "      <td>2020-03-16</td>\n",
              "      <td>Li, Peng; Fu, Ji-Bo; Li, Ke-Feng; Chen, Yan; W...</td>\n",
              "      <td>http://doi.org/10.1016/j.ijid.2020.03.027</td>\n",
              "    </tr>\n",
              "    <tr>\n",
              "      <th>3</th>\n",
              "      <td>The Incubation Period of Coronavirus Disease 2...</td>\n",
              "      <td>BACKGROUND: A novel human coronavirus, severe ...</td>\n",
              "      <td>2020-03-10</td>\n",
              "      <td>Lauer, Stephen A.; Grantz, Kyra H.; Bi, Qifang...</td>\n",
              "      <td>http://doi.org/10.7326/m20-0504</td>\n",
              "    </tr>\n",
              "    <tr>\n",
              "      <th>4</th>\n",
              "      <td>Estimating the distribution of the incubation ...</td>\n",
              "      <td>Objectives: Amid the continuing spread of the ...</td>\n",
              "      <td>2020-02-18</td>\n",
              "      <td>Char Leung</td>\n",
              "      <td>http://doi.org/10.1101/2020.02.13.20022822</td>\n",
              "    </tr>\n",
              "    <tr>\n",
              "      <th>5</th>\n",
              "      <td>Epidemiologic Characteristics of COVID-19 in G...</td>\n",
              "      <td>At the end of 2019, a coronavirus disease 2019...</td>\n",
              "      <td>2020-03-06</td>\n",
              "      <td>Kaike Ping</td>\n",
              "      <td>http://doi.org/10.1101/2020.03.01.20028944</td>\n",
              "    </tr>\n",
              "    <tr>\n",
              "      <th>6</th>\n",
              "      <td>Estimation of incubation period distribution o...</td>\n",
              "      <td>Background: The current outbreak of coronaviru...</td>\n",
              "      <td>2020-03-10</td>\n",
              "      <td>Qin Jing; Chong You; Qiushi Lin; Taojun Hu; Sh...</td>\n",
              "      <td>http://doi.org/10.1101/2020.03.06.20032417</td>\n",
              "    </tr>\n",
              "    <tr>\n",
              "      <th>7</th>\n",
              "      <td>[Epidemiological analysis on a family cluster ...</td>\n",
              "      <td>Objective: To understand the possible transmis...</td>\n",
              "      <td>2020</td>\n",
              "      <td>Qiu, Y. Y.; Wang, S. Q.; Wang, X. L.; Lu, W. X...</td>\n",
              "      <td>http://doi.org/10.3760/cma.j.cn112338-20200221...</td>\n",
              "    </tr>\n",
              "    <tr>\n",
              "      <th>8</th>\n",
              "      <td>Epidemiological analysis on a family cluster o...</td>\n",
              "      <td>Objective To understand the possible transmiss...</td>\n",
              "      <td>2020</td>\n",
              "      <td>QIU, Yuanying; WANG, Songqiang; WANG, Xiaoli; ...</td>\n",
              "      <td>nan</td>\n",
              "    </tr>\n",
              "    <tr>\n",
              "      <th>9</th>\n",
              "      <td>Epidemiological characteristics of 1212 COVID-...</td>\n",
              "      <td>Based on publicly released data for 1212 patie...</td>\n",
              "      <td>2020-02-23</td>\n",
              "      <td>Pei Wang; Junan Lu; Yanyu Jin; Mengfan Zhu; Li...</td>\n",
              "      <td>http://doi.org/10.1101/2020.02.21.20026112</td>\n",
              "    </tr>\n",
              "  </tbody>\n",
              "</table>\n",
              "</div>"
            ],
            "text/plain": [
              "                                               title  ...                                                doi\n",
              "0  Estimate the incubation period of coronavirus ...  ...         http://doi.org/10.1101/2020.02.24.20027474\n",
              "1  A Chinese Case of COVID-19 Did Not Show Infect...  ...                http://doi.org/10.3961/jpmph.20.048\n",
              "2  Transmission of COVID-19 in the terminal stage...  ...          http://doi.org/10.1016/j.ijid.2020.03.027\n",
              "3  The Incubation Period of Coronavirus Disease 2...  ...                    http://doi.org/10.7326/m20-0504\n",
              "4  Estimating the distribution of the incubation ...  ...         http://doi.org/10.1101/2020.02.13.20022822\n",
              "5  Epidemiologic Characteristics of COVID-19 in G...  ...         http://doi.org/10.1101/2020.03.01.20028944\n",
              "6  Estimation of incubation period distribution o...  ...         http://doi.org/10.1101/2020.03.06.20032417\n",
              "7  [Epidemiological analysis on a family cluster ...  ...  http://doi.org/10.3760/cma.j.cn112338-20200221...\n",
              "8  Epidemiological analysis on a family cluster o...  ...                                                nan\n",
              "9  Epidemiological characteristics of 1212 COVID-...  ...         http://doi.org/10.1101/2020.02.21.20026112\n",
              "\n",
              "[10 rows x 5 columns]"
            ]
          },
          "metadata": {
            "tags": []
          },
          "execution_count": 102
        }
      ]
    },
    {
      "cell_type": "code",
      "metadata": {
        "id": "E1G_7p1cVdn9",
        "colab_type": "code",
        "outputId": "bfd92558-fe2b-4e5a-8bc2-3076fb9721ce",
        "colab": {
          "base_uri": "https://localhost:8080/",
          "height": 105
        }
      },
      "source": [
        "# data = pd.concat([metadata['title'], metadata['abstract']], axis=1)\n",
        "# metadata = metadata.dropna(subset=['title', 'abstract'])\n",
        "# data = metadata['title'] + ' ' + metadata['abstract'] #space ensures title_last_word and abstract_first_word are stored as separate words\n",
        "\n",
        "# output = output.dropna(subset=['title', 'abstract'])\n",
        "print(output.shape)\n",
        "data = output['title'] + ' ' + output['abstract']\n",
        "\n",
        "print(type(data))\n",
        "print(len(data))\n",
        "data = data.tolist()\n",
        "print(data[0])"
      ],
      "execution_count": 90,
      "outputs": [
        {
          "output_type": "stream",
          "text": [
            "(10, 5)\n",
            "<class 'pandas.core.series.Series'>\n",
            "10\n",
            "Estimate the incubation period of coronavirus 2019 (COVID-19) Motivation: Wuhan pneumonia is an acute infectious disease caused by the 2019 novel coronavirus (COVID-19). It is being treated as a Class A infectious disease though it was classified as Class B according to the Infectious Disease Prevention Act of China. Accurate estimation of the incubation period of the coronavirus is essential to the prevention and control. However, it remains unclear about its exact incubation period though it is believed that symptoms of COVID-19 can appear in as few as 2 days or as long as 14 or even more after exposure. The accurate incubation period calculation requires original chain-of-infection data that may not be fully available in the Wuhan regions. In this study, we aim to accurately calculate the incubation period of COVID-19 by taking advantage of the chain-of-infection data, which is well-documented and epidemiologically informative, outside the Wuhan regions. Methods: We acquired and collected officially reported COVID-19 data from 10 regions in China except for Hubei province. To achieve the accurate calculation of the incubation period, we only involved the officially confirmed cases with a clear history of exposure and time of onset. We excluded those without relevant epidemiological descriptions, working or living in Wuhan for a long time, or hard to determine the possible exposure time. We proposed a Monte Caro simulation approach to estimate the incubation of COVID-19 as well as employed nonparametric ways. We also employed manifold learning and related statistical analysis to decipher the incubation relationships between different age/gender groups. Result: The incubation period of COVID-19 did not follow general incubation distributions such as lognormal, Weibull, and Gamma distributions. We estimated that the mean and median of its incubation were 5.84 and 5.0 days via bootstrap and proposed Monte Carlo simulations. We found that the incubation periods of the groups with age>=40 years and age<40 years demonstrated a statistically significant difference. The former group had a longer incubation period and a larger variance than the latter. It further suggested that different quarantine time should be applied to the groups for their different incubation periods. Our machine learning analysis also showed that the two groups were linearly separable. incubation of COVID-19 along with previous statistical analysis. Our results further indicated that the incubation difference between males and females did not demonstrate a statistical significance.\n"
          ],
          "name": "stdout"
        }
      ]
    },
    {
      "cell_type": "code",
      "metadata": {
        "id": "HaT5l-x0cjFe",
        "colab_type": "code",
        "colab": {}
      },
      "source": [
        "count_vectorizer = get_count_vectorizer()\n",
        "data_vectorized = count_vectorizer.fit_transform(data)"
      ],
      "execution_count": 0,
      "outputs": []
    },
    {
      "cell_type": "code",
      "metadata": {
        "id": "cmuDRvthgjA9",
        "colab_type": "code",
        "outputId": "20818040-3908-459b-9eb9-45168fc02912",
        "colab": {
          "base_uri": "https://localhost:8080/",
          "height": 88
        }
      },
      "source": [
        "print(count_vectorizer.get_feature_names())\n",
        "print(len(count_vectorizer.get_feature_names()))\n",
        "lda_model = get_lda_model(num_topics=10)\n",
        "lda_Z = lda_model.fit_transform(data_vectorized)\n",
        "print(lda_Z.shape)  # (NO_DOCUMENTS, NO_TOPICS)"
      ],
      "execution_count": 59,
      "outputs": [
        {
          "output_type": "stream",
          "text": [
            "['analysis', 'cases', 'china', 'collected', 'control', 'coronavirus', 'data', 'days', 'disease', 'epidemiological', 'estimated', 'infection', 'methods', 'novel', 'period', 'periods', 'possible', 'results', 'spread', 'wuhan']\n",
            "20\n",
            "(10, 10)\n"
          ],
          "name": "stdout"
        }
      ]
    },
    {
      "cell_type": "code",
      "metadata": {
        "id": "VqyU-YvNg4Ds",
        "colab_type": "code",
        "outputId": "d0994db8-7b2d-415e-f2cf-bb0857ebd3f4",
        "colab": {
          "base_uri": "https://localhost:8080/",
          "height": 748
        }
      },
      "source": [
        "print(lda_Z[0]) #we can see that this adds up to 1 since LDA is a summation of topic probabilities\n",
        "print(lda_model.components_) \n",
        "print(lda_model.components_.shape) # this is num_components/topics by num_features, num_features comes from feature names of count vectorizer"
      ],
      "execution_count": 60,
      "outputs": [
        {
          "output_type": "stream",
          "text": [
            "[0.00250066 0.00250058 0.00250008 0.00250111 0.00250063 0.0025007\n",
            " 0.97749526 0.00250008 0.00250082 0.00250008]\n",
            "[[ 0.30619458  2.2050618   1.86891172  1.13214257  0.36082922  3.48732519\n",
            "   1.07603373  0.28451145  1.07434196  0.42799543  1.05473556  1.90982817\n",
            "   1.11622731  2.68618903  6.79127235  1.06508479  0.36834202  1.1324525\n",
            "   1.15221187  0.3670752 ]\n",
            " [ 0.27596323  0.27505769  0.28621845  0.28986656  0.26242644  1.10398316\n",
            "   0.33081843  0.33290873  0.29322442  2.70700141  0.3423138   0.27866432\n",
            "   0.28329516  1.10430412  4.39946189  0.29476001  0.26843801  0.27977835\n",
            "   0.28876665  0.27017695]\n",
            " [ 0.29336851  0.31659914  0.2785367   0.2702323   0.26631201  0.24527498\n",
            "   0.28570375  0.30662175  0.27387818  0.24561147  0.28314497  0.28940707\n",
            "   0.28435678  0.2518657   0.2372315   0.26774431  0.2605265   0.28708527\n",
            "   0.28321949  0.30367904]\n",
            " [ 1.09576967  8.92353543  4.89341818  0.99755302  1.88327049  4.22396301\n",
            "   0.99741647  6.64673451  4.24647908  0.28061151  1.81991726  2.64320276\n",
            "   0.26358411  1.08947559  8.13431372  1.09032851  1.06818323  2.65476571\n",
            "   1.02605545  1.81969041]\n",
            " [ 1.90637074  1.05715992  1.89219391  0.27077666  1.07754662  0.25950954\n",
            "   1.08280723  1.87664711  0.28058233  1.89219988  1.0733622   0.28630879\n",
            "   0.23863733  0.27100056  0.27716678  1.87863321  1.07318308  0.27410805\n",
            "   0.29533083  1.09102652]\n",
            " [ 0.23679548  0.26879364  0.26338329  1.07620197  0.28478704  1.09474482\n",
            "   1.90448208  4.27133381  1.86153367  0.30255744  3.42720695  1.07502347\n",
            "   1.09341568  1.91103465  5.81903856  1.03926584  0.27039722  1.06448805\n",
            "   1.06377912  1.09051374]\n",
            " [ 2.65773054  1.0633557   1.88484473  1.08917119  1.08801128  2.67603244\n",
            "   2.69949761  1.87692904  2.69306398  1.07321243  1.06564638  0.23384195\n",
            "   1.07024151  1.07345792  6.73013444  1.89443197  1.10010555  1.10706614\n",
            "   0.28837741  3.51167724]\n",
            " [ 0.32368194  0.28550318  0.26587895  0.27526072  0.26170708  0.26782586\n",
            "   0.28736464  0.27710085  0.28242364  0.26475452  0.2402738   0.26550865\n",
            "   0.25886932  0.21187491  0.26158906  0.28690122  0.27556047  0.26475217\n",
            "   0.24623127  0.25760489]\n",
            " [ 1.83085391 11.47539665  0.539768    1.91874105  1.81107309  0.33108021\n",
            "   0.35387826  0.37410448  0.34992931  4.96968612  0.37820585  0.31981823\n",
            "   1.86908006  0.31808943  3.62434748  0.27727149  1.87426029  1.89976315\n",
            "   1.95245223  1.89863633]\n",
            " [ 0.27007042  0.27350393  0.28857297  0.25513483  0.27384409  0.24664992\n",
            "   0.26124216  0.26763699  0.2332744   0.29102549  0.28953291  0.25060115\n",
            "   0.30317011  0.26561092  0.26497903  0.2776325   0.24860667  0.28213923\n",
            "   0.25045233  0.26265122]]\n",
            "(10, 20)\n"
          ],
          "name": "stdout"
        }
      ]
    },
    {
      "cell_type": "code",
      "metadata": {
        "id": "f5r3dIC-DxJz",
        "colab_type": "code",
        "outputId": "3fe80129-e012-401a-ff9a-943de26c477d",
        "colab": {
          "base_uri": "https://localhost:8080/",
          "height": 68
        }
      },
      "source": [
        "avg_topic = lda_Z.mean(axis=0)\n",
        "print(avg_topic)\n",
        "print(avg_topic.shape)"
      ],
      "execution_count": 61,
      "outputs": [
        {
          "output_type": "stream",
          "text": [
            "[0.19043396 0.09610588 0.005197   0.19821268 0.09931433 0.1019717\n",
            " 0.1026975  0.005197   0.19567295 0.00519699]\n",
            "(10,)\n"
          ],
          "name": "stdout"
        }
      ]
    },
    {
      "cell_type": "code",
      "metadata": {
        "id": "x_ApFcDalY6z",
        "colab_type": "code",
        "outputId": "e7f1e8d5-00ed-40c2-d255-70fab0b40fbf",
        "colab": {
          "base_uri": "https://localhost:8080/",
          "height": 394
        }
      },
      "source": [
        "def print_topics(model, vectorizer, top_n=10):\n",
        "    for idx, topic in enumerate(model.components_):\n",
        "        print(\"Topic %d:\" % (idx))\n",
        "        print([(vectorizer.get_feature_names()[i], topic[i])\n",
        "                        for i in topic.argsort()[:-top_n - 1:-1]])\n",
        "        \n",
        "print(\"LDA Model:\")\n",
        "print_topics(lda_model, count_vectorizer)"
      ],
      "execution_count": 62,
      "outputs": [
        {
          "output_type": "stream",
          "text": [
            "LDA Model:\n",
            "Topic 0:\n",
            "[('period', 6.791272354537003), ('coronavirus', 3.4873251937034135), ('novel', 2.6861890259043384), ('cases', 2.205061798334391), ('infection', 1.9098281718237424), ('china', 1.8689117181024524), ('spread', 1.1522118694350119), ('results', 1.132452497862127), ('collected', 1.1321425721695293), ('methods', 1.1162273089333186)]\n",
            "Topic 1:\n",
            "[('period', 4.399461886746125), ('epidemiological', 2.707001409783347), ('novel', 1.1043041164305767), ('coronavirus', 1.1039831627268377), ('estimated', 0.34231380191856464), ('days', 0.33290872960567564), ('data', 0.33081842684784396), ('periods', 0.2947600067102226), ('disease', 0.2932244160969522), ('collected', 0.2898665555199142)]\n",
            "Topic 2:\n",
            "[('cases', 0.31659913679786805), ('days', 0.306621745525995), ('wuhan', 0.30367904453606404), ('analysis', 0.2933685062199552), ('infection', 0.28940707404778715), ('results', 0.28708527470358347), ('data', 0.28570375040867846), ('methods', 0.28435678371334033), ('spread', 0.2832194922769728), ('estimated', 0.28314497494426916)]\n",
            "Topic 3:\n",
            "[('cases', 8.923535425996958), ('period', 8.134313716338603), ('days', 6.646734512386425), ('china', 4.8934181753936405), ('disease', 4.24647907670132), ('coronavirus', 4.223963010946705), ('results', 2.654765708011136), ('infection', 2.643202764127283), ('control', 1.8832704921169232), ('estimated', 1.8199172553881637)]\n",
            "Topic 4:\n",
            "[('analysis', 1.9063707358211068), ('epidemiological', 1.8921998784367313), ('china', 1.8921939053269317), ('periods', 1.8786332138587065), ('days', 1.8766471124683142), ('wuhan', 1.0910265249549167), ('data', 1.0828072300478542), ('control', 1.077546615146086), ('estimated', 1.0733622011621455), ('possible', 1.0731830789064654)]\n",
            "Topic 5:\n",
            "[('period', 5.819038555217845), ('days', 4.271333813991751), ('estimated', 3.4272069478460003), ('novel', 1.9110346508689673), ('data', 1.904482076086006), ('disease', 1.8615336671013236), ('coronavirus', 1.0947448179599735), ('methods', 1.0934156770131886), ('wuhan', 1.0905137362904362), ('collected', 1.076201968980299)]\n",
            "Topic 6:\n",
            "[('period', 6.730134435883831), ('wuhan', 3.5116772382373393), ('data', 2.699497607281464), ('disease', 2.6930639829878005), ('coronavirus', 2.6760324356961367), ('analysis', 2.6577305413961527), ('periods', 1.8944319683065842), ('china', 1.8848447322218633), ('days', 1.8769290390055973), ('results', 1.1070661443642926)]\n",
            "Topic 7:\n",
            "[('analysis', 0.32368193948776197), ('data', 0.2873646410342197), ('periods', 0.28690122398941603), ('cases', 0.2855031825040971), ('disease', 0.2824236426320804), ('days', 0.2771008467079817), ('possible', 0.2755604696507221), ('collected', 0.2752607236640964), ('coronavirus', 0.26782586373820116), ('china', 0.26587895409699513)]\n",
            "Topic 8:\n",
            "[('cases', 11.475396653907923), ('epidemiological', 4.969686122616303), ('period', 3.6243474770168036), ('spread', 1.9524522264751654), ('collected', 1.9187410514278478), ('results', 1.8997631527308532), ('wuhan', 1.8986363324828677), ('possible', 1.8742602912852617), ('methods', 1.869080061673282), ('analysis', 1.8308539055853468)]\n",
            "Topic 9:\n",
            "[('methods', 0.30317010759663593), ('epidemiological', 0.2910254857710235), ('estimated', 0.28953290511702523), ('china', 0.2885729665856007), ('results', 0.282139234070453), ('periods', 0.27763250089819697), ('control', 0.2738440893225134), ('cases', 0.27350393213646607), ('analysis', 0.27007041574582213), ('days', 0.2676369889127277)]\n"
          ],
          "name": "stdout"
        }
      ]
    },
    {
      "cell_type": "code",
      "metadata": {
        "id": "LSnwE69l7L39",
        "colab_type": "code",
        "outputId": "d0c898e4-e7b3-498f-bede-c5202484f2b3",
        "colab": {
          "base_uri": "https://localhost:8080/",
          "height": 1000
        }
      },
      "source": [
        "!pip install --upgrade pandas\n",
        "\n",
        "pyLDAvis.enable_notebook()\n",
        "panel = pyLDAvis.sklearn.prepare(lda_model, data_vectorized, count_vectorizer, mds='tsne')\n",
        "panel"
      ],
      "execution_count": 64,
      "outputs": [
        {
          "output_type": "stream",
          "text": [
            "ERROR! Session/line number was not unique in database. History logging moved to new session 59\n",
            "Collecting pandas\n",
            "\u001b[?25l  Downloading https://files.pythonhosted.org/packages/bb/71/8f53bdbcbc67c912b888b40def255767e475402e9df64050019149b1a943/pandas-1.0.3-cp36-cp36m-manylinux1_x86_64.whl (10.0MB)\n",
            "\u001b[K     |████████████████████████████████| 10.0MB 3.3MB/s \n",
            "\u001b[?25hRequirement already satisfied, skipping upgrade: python-dateutil>=2.6.1 in /usr/local/lib/python3.6/dist-packages (from pandas) (2.8.1)\n",
            "Requirement already satisfied, skipping upgrade: pytz>=2017.2 in /usr/local/lib/python3.6/dist-packages (from pandas) (2018.9)\n",
            "Requirement already satisfied, skipping upgrade: numpy>=1.13.3 in /usr/local/lib/python3.6/dist-packages (from pandas) (1.18.2)\n",
            "Requirement already satisfied, skipping upgrade: six>=1.5 in /usr/local/lib/python3.6/dist-packages (from python-dateutil>=2.6.1->pandas) (1.12.0)\n",
            "\u001b[31mERROR: pyldavis 2.1.3 has requirement pandas<0.24.0a,>=0.17.0, but you'll have pandas 1.0.3 which is incompatible.\u001b[0m\n",
            "Installing collected packages: pandas\n",
            "  Found existing installation: pandas 0.23.4\n",
            "    Uninstalling pandas-0.23.4:\n",
            "      Successfully uninstalled pandas-0.23.4\n",
            "Successfully installed pandas-1.0.3\n"
          ],
          "name": "stdout"
        },
        {
          "output_type": "display_data",
          "data": {
            "application/vnd.colab-display-data+json": {
              "pip_warning": {
                "packages": [
                  "pandas"
                ]
              }
            }
          },
          "metadata": {
            "tags": []
          }
        },
        {
          "output_type": "execute_result",
          "data": {
            "text/html": [
              "\n",
              "<link rel=\"stylesheet\" type=\"text/css\" href=\"https://cdn.rawgit.com/bmabey/pyLDAvis/files/ldavis.v1.0.0.css\">\n",
              "\n",
              "\n",
              "<div id=\"ldavis_el1211396364419672569441108455\"></div>\n",
              "<script type=\"text/javascript\">\n",
              "\n",
              "var ldavis_el1211396364419672569441108455_data = {\"mdsDat\": {\"x\": [32.42095184326172, 0.648955225944519, 71.01968383789062, 3.7859814167022705, -42.666500091552734, -3.6216893196105957, -3.632401704788208, -36.58440017700195, 44.391380310058594, 40.235809326171875], \"y\": [8.115229606628418, 71.70709991455078, 9.971006393432617, 33.18513488769531, -9.22206974029541, -43.52651596069336, -4.171707630157471, 35.804412841796875, 50.61538314819336, -31.591665267944336], \"topics\": [1, 2, 3, 4, 5, 6, 7, 8, 9, 10], \"cluster\": [1, 1, 1, 1, 1, 1, 1, 1, 1, 1], \"Freq\": [27.63936773868421, 17.12423300325908, 17.093437634907474, 13.149278173607327, 12.322620985677075, 7.020554275523392, 4.40306944256379, 0.4158135441303771, 0.4158126823161335, 0.41581251933114055]}, \"tinfo\": {\"Category\": [\"Default\", \"Default\", \"Default\", \"Default\", \"Default\", \"Default\", \"Default\", \"Default\", \"Default\", \"Default\", \"Default\", \"Default\", \"Default\", \"Default\", \"Default\", \"Default\", \"Default\", \"Default\", \"Default\", \"Default\", \"Topic1\", \"Topic1\", \"Topic1\", \"Topic1\", \"Topic1\", \"Topic1\", \"Topic1\", \"Topic1\", \"Topic1\", \"Topic1\", \"Topic1\", \"Topic1\", \"Topic1\", \"Topic1\", \"Topic1\", \"Topic1\", \"Topic1\", \"Topic1\", \"Topic1\", \"Topic1\", \"Topic2\", \"Topic2\", \"Topic2\", \"Topic2\", \"Topic2\", \"Topic2\", \"Topic2\", \"Topic2\", \"Topic2\", \"Topic2\", \"Topic2\", \"Topic2\", \"Topic2\", \"Topic2\", \"Topic2\", \"Topic2\", \"Topic2\", \"Topic2\", \"Topic2\", \"Topic2\", \"Topic3\", \"Topic3\", \"Topic3\", \"Topic3\", \"Topic3\", \"Topic3\", \"Topic3\", \"Topic3\", \"Topic3\", \"Topic3\", \"Topic3\", \"Topic3\", \"Topic3\", \"Topic3\", \"Topic3\", \"Topic3\", \"Topic3\", \"Topic3\", \"Topic3\", \"Topic3\", \"Topic4\", \"Topic4\", \"Topic4\", \"Topic4\", \"Topic4\", \"Topic4\", \"Topic4\", \"Topic4\", \"Topic4\", \"Topic4\", \"Topic4\", \"Topic4\", \"Topic4\", \"Topic4\", \"Topic4\", \"Topic4\", \"Topic4\", \"Topic4\", \"Topic4\", \"Topic4\", \"Topic5\", \"Topic5\", \"Topic5\", \"Topic5\", \"Topic5\", \"Topic5\", \"Topic5\", \"Topic5\", \"Topic5\", \"Topic5\", \"Topic5\", \"Topic5\", \"Topic5\", \"Topic5\", \"Topic5\", \"Topic5\", \"Topic5\", \"Topic5\", \"Topic5\", \"Topic5\", \"Topic6\", \"Topic6\", \"Topic6\", \"Topic6\", \"Topic6\", \"Topic6\", \"Topic6\", \"Topic6\", \"Topic6\", \"Topic6\", \"Topic6\", \"Topic6\", \"Topic6\", \"Topic6\", \"Topic6\", \"Topic6\", \"Topic6\", \"Topic6\", \"Topic6\", \"Topic6\", \"Topic7\", \"Topic7\", \"Topic7\", \"Topic7\", \"Topic7\", \"Topic7\", \"Topic7\", \"Topic7\", \"Topic7\", \"Topic7\", \"Topic7\", \"Topic7\", \"Topic7\", \"Topic7\", \"Topic7\", \"Topic7\", \"Topic7\", \"Topic7\", \"Topic7\", \"Topic7\", \"Topic8\", \"Topic8\", \"Topic8\", \"Topic8\", \"Topic8\", \"Topic8\", \"Topic8\", \"Topic8\", \"Topic8\", \"Topic8\", \"Topic8\", \"Topic8\", \"Topic8\", \"Topic8\", \"Topic8\", \"Topic8\", \"Topic8\", \"Topic8\", \"Topic8\", \"Topic8\", \"Topic9\", \"Topic9\", \"Topic9\", \"Topic9\", \"Topic9\", \"Topic9\", \"Topic9\", \"Topic9\", \"Topic9\", \"Topic9\", \"Topic9\", \"Topic9\", \"Topic9\", \"Topic9\", \"Topic9\", \"Topic9\", \"Topic9\", \"Topic9\", \"Topic9\", \"Topic9\", \"Topic10\", \"Topic10\", \"Topic10\", \"Topic10\", \"Topic10\", \"Topic10\", \"Topic10\", \"Topic10\", \"Topic10\", \"Topic10\", \"Topic10\", \"Topic10\", \"Topic10\", \"Topic10\", \"Topic10\", \"Topic10\", \"Topic10\", \"Topic10\", \"Topic10\", \"Topic10\"], \"Freq\": [35.0, 26.0, 10.0, 16.0, 12.0, 13.0, 8.0, 11.0, 10.0, 9.0, 8.0, 7.0, 7.0, 8.0, 8.0, 7.0, 6.0, 6.0, 6.0, 6.0, 5.52655584002632, 7.506725998045066, 2.985195041354963, 4.795912161953211, 10.078112079243684, 4.770482842358923, 2.9982540632408385, 2.1269385046416502, 9.186776474508235, 2.0553882737236213, 2.055132077107187, 1.206390721056167, 1.158812215395144, 1.2314012805308003, 1.1266219833148456, 1.2304380078123303, 1.2375464466634492, 1.126467757421563, 0.2976880920974834, 0.3169185837045338, 5.057355491441835, 11.677832131088742, 1.9868950967357462, 1.9020521780702462, 1.9073237912121408, 1.9525892287106736, 1.8430219104789156, 1.8631516810090238, 1.9332765442023925, 1.9321298459143288, 3.688283960705072, 0.32546008835557, 0.5492899562459356, 0.3601209598430369, 0.38487771510201724, 0.3237007914563217, 0.28216279002826766, 0.3561023547323711, 0.3369207428872158, 0.3807039892108499, 3.7112932929986155, 2.8088052698806942, 2.8529465223285393, 2.002118127902736, 2.8461471882579827, 2.8281475080639487, 7.112698889551693, 1.162639413144871, 1.1310777902386577, 1.1510835016880943, 1.9919859196826322, 1.1498576605650697, 1.1344770307824583, 1.1699956680948678, 1.126221457865103, 1.983620270692149, 1.134217588752642, 0.304769790279313, 1.1238005683602845, 0.24713434845869142, 3.4926292189160266, 4.352869701045541, 1.947514568439145, 1.940836910948842, 1.114287990212347, 1.0840856960490148, 5.930118721522264, 1.897068655804479, 1.0967456881114055, 1.0955446963142306, 1.0591044849268132, 1.0848081575696606, 1.1113306540741783, 1.1156425032538533, 0.2755588560160501, 0.29022336111277736, 0.24131568653060625, 0.3083329893631056, 0.2684110334686723, 0.27392466214569233, 2.526889799242219, 1.7965695188044792, 3.2805161415037998, 6.388529128465874, 1.083882180801086, 1.0500316148189204, 1.0650030542582192, 1.758079535957987, 1.0019220029288227, 1.0652946004091401, 1.0122216361123826, 0.9921865113864111, 1.0106301972699367, 2.074294888102304, 0.34649821255340263, 0.3394309473944244, 0.40261399476773385, 0.28803630848673295, 0.3453065214057607, 0.26763905267409704, 1.6383416535357722, 1.6625313342364143, 0.9359147528488592, 1.6501730379240385, 1.6501678288206787, 0.9397201594206931, 0.9443079014307874, 0.9360709639976834, 1.6366095897076545, 0.9514758856384526, 0.2575557564540275, 0.24968770288878622, 0.9219410812250913, 0.2081137874956206, 0.23614225030245437, 0.2363375110670429, 0.23904753291064626, 0.24469370025673864, 0.2263162888393446, 0.2417150291925498, 1.945639749018208, 0.7937114388513455, 3.1620847666381446, 0.7934807554533494, 0.20361655986603824, 0.20754916368082668, 0.19293808569226492, 0.2083397113471307, 0.20028817374676852, 0.21185684772959992, 0.2377736039060105, 0.18861730611413835, 0.24603583036316523, 0.1983467851747678, 0.20108887629719752, 0.1941879324875475, 0.2107531519115629, 0.2057176618861946, 0.2392759954889706, 0.19769593339221214, 0.04874617824249718, 0.04855121679179122, 0.04466104520064989, 0.049611929885923715, 0.04632487242965992, 0.045652833117998094, 0.045898366566651534, 0.05029102280657911, 0.048977083507918434, 0.049213912848320836, 0.0431763576657613, 0.0485384425750671, 0.05205851831686666, 0.04694987267023632, 0.0477484636703204, 0.0421042201090028, 0.05256297411038188, 0.04204653666237778, 0.05427335951769524, 0.04066767392156037, 0.048733842082551646, 0.04578195279138237, 0.04354687027009223, 0.04868083094639117, 0.057244293943775004, 0.050739494532409384, 0.04695614184653554, 0.04628382080161409, 0.050821451473143486, 0.04682235603096253, 0.042493270627208556, 0.03747082682551165, 0.045558334337578846, 0.04994761845868678, 0.04682277144883855, 0.04702163187071271, 0.047365949715444916, 0.04900626320431568, 0.05049224595914071, 0.04626294851448852, 0.053660085267873386, 0.044002540202183575, 0.044329216204919954, 0.048469479064539085, 0.04914001512032809, 0.04515800408622949, 0.04435555670234492, 0.04780155158480288, 0.04993769167300645, 0.0470122351601889, 0.051246346480523085, 0.04623898080393447, 0.05151052821597732, 0.046488379243169564, 0.051076440602082426, 0.041288781555589994, 0.04365620366385981, 0.047370843252797036, 0.04840927239128729, 0.046900392799363026], \"Term\": [\"period\", \"cases\", \"epidemiological\", \"days\", \"china\", \"coronavirus\", \"analysis\", \"disease\", \"wuhan\", \"estimated\", \"data\", \"infection\", \"periods\", \"results\", \"novel\", \"control\", \"methods\", \"collected\", \"possible\", \"spread\", \"china\", \"days\", \"infection\", \"disease\", \"cases\", \"coronavirus\", \"results\", \"control\", \"period\", \"estimated\", \"wuhan\", \"possible\", \"spread\", \"periods\", \"collected\", \"novel\", \"analysis\", \"data\", \"methods\", \"epidemiological\", \"epidemiological\", \"cases\", \"spread\", \"methods\", \"possible\", \"collected\", \"control\", \"analysis\", \"results\", \"wuhan\", \"period\", \"infection\", \"china\", \"data\", \"estimated\", \"novel\", \"periods\", \"disease\", \"coronavirus\", \"days\", \"wuhan\", \"analysis\", \"data\", \"periods\", \"disease\", \"coronavirus\", \"period\", \"possible\", \"methods\", \"collected\", \"china\", \"control\", \"novel\", \"results\", \"estimated\", \"days\", \"epidemiological\", \"spread\", \"cases\", \"infection\", \"estimated\", \"days\", \"novel\", \"data\", \"methods\", \"spread\", \"period\", \"disease\", \"collected\", \"infection\", \"periods\", \"results\", \"wuhan\", \"coronavirus\", \"possible\", \"control\", \"analysis\", \"epidemiological\", \"china\", \"cases\", \"novel\", \"infection\", \"coronavirus\", \"period\", \"spread\", \"methods\", \"collected\", \"china\", \"periods\", \"results\", \"data\", \"estimated\", \"disease\", \"cases\", \"possible\", \"control\", \"epidemiological\", \"analysis\", \"wuhan\", \"days\", \"periods\", \"analysis\", \"possible\", \"epidemiological\", \"china\", \"control\", \"data\", \"estimated\", \"days\", \"wuhan\", \"spread\", \"infection\", \"cases\", \"methods\", \"collected\", \"novel\", \"results\", \"disease\", \"coronavirus\", \"period\", \"epidemiological\", \"novel\", \"period\", \"coronavirus\", \"methods\", \"spread\", \"possible\", \"collected\", \"infection\", \"periods\", \"data\", \"control\", \"estimated\", \"analysis\", \"results\", \"wuhan\", \"disease\", \"china\", \"days\", \"cases\", \"methods\", \"spread\", \"possible\", \"infection\", \"collected\", \"control\", \"periods\", \"analysis\", \"data\", \"results\", \"novel\", \"estimated\", \"wuhan\", \"disease\", \"china\", \"epidemiological\", \"days\", \"coronavirus\", \"cases\", \"period\", \"possible\", \"methods\", \"spread\", \"collected\", \"analysis\", \"periods\", \"infection\", \"control\", \"data\", \"results\", \"estimated\", \"novel\", \"wuhan\", \"disease\", \"epidemiological\", \"china\", \"coronavirus\", \"days\", \"cases\", \"period\", \"methods\", \"possible\", \"spread\", \"control\", \"periods\", \"collected\", \"infection\", \"analysis\", \"results\", \"novel\", \"estimated\", \"data\", \"epidemiological\", \"wuhan\", \"china\", \"disease\", \"coronavirus\", \"days\", \"cases\", \"period\"], \"Total\": [35.0, 26.0, 10.0, 16.0, 12.0, 13.0, 8.0, 11.0, 10.0, 9.0, 8.0, 7.0, 7.0, 8.0, 8.0, 7.0, 6.0, 6.0, 6.0, 6.0, 12.096054312231537, 16.516384677431823, 7.040803198358293, 11.499493682870796, 26.500776221426133, 13.484575472402117, 8.837739403277034, 7.01821598271182, 35.84403798581925, 9.375688031036827, 10.444961441523686, 6.16466126000914, 6.219977202661962, 7.5726850638022025, 6.976689125195104, 8.320728567302325, 8.455070380316846, 8.620712807776158, 6.0550562291010674, 10.955688954745915, 10.955688954745915, 26.500776221426133, 6.219977202661962, 6.0550562291010674, 6.16466126000914, 6.976689125195104, 7.01821598271182, 8.455070380316846, 8.837739403277034, 10.444961441523686, 35.84403798581925, 7.040803198358293, 12.096054312231537, 8.620712807776158, 9.375688031036827, 8.320728567302325, 7.5726850638022025, 11.499493682870796, 13.484575472402117, 16.516384677431823, 10.444961441523686, 8.455070380316846, 8.620712807776158, 7.5726850638022025, 11.499493682870796, 13.484575472402117, 35.84403798581925, 6.16466126000914, 6.0550562291010674, 6.976689125195104, 12.096054312231537, 7.01821598271182, 8.320728567302325, 8.837739403277034, 9.375688031036827, 16.516384677431823, 10.955688954745915, 6.219977202661962, 26.500776221426133, 7.040803198358293, 9.375688031036827, 16.516384677431823, 8.320728567302325, 8.620712807776158, 6.0550562291010674, 6.219977202661962, 35.84403798581925, 11.499493682870796, 6.976689125195104, 7.040803198358293, 7.5726850638022025, 8.837739403277034, 10.444961441523686, 13.484575472402117, 6.16466126000914, 7.01821598271182, 8.455070380316846, 10.955688954745915, 12.096054312231537, 26.500776221426133, 8.320728567302325, 7.040803198358293, 13.484575472402117, 35.84403798581925, 6.219977202661962, 6.0550562291010674, 6.976689125195104, 12.096054312231537, 7.5726850638022025, 8.837739403277034, 8.620712807776158, 9.375688031036827, 11.499493682870796, 26.500776221426133, 6.16466126000914, 7.01821598271182, 10.955688954745915, 8.455070380316846, 10.444961441523686, 16.516384677431823, 7.5726850638022025, 8.455070380316846, 6.16466126000914, 10.955688954745915, 12.096054312231537, 7.01821598271182, 8.620712807776158, 9.375688031036827, 16.516384677431823, 10.444961441523686, 6.219977202661962, 7.040803198358293, 26.500776221426133, 6.0550562291010674, 6.976689125195104, 8.320728567302325, 8.837739403277034, 11.499493682870796, 13.484575472402117, 35.84403798581925, 10.955688954745915, 8.320728567302325, 35.84403798581925, 13.484575472402117, 6.0550562291010674, 6.219977202661962, 6.16466126000914, 6.976689125195104, 7.040803198358293, 7.5726850638022025, 8.620712807776158, 7.01821598271182, 9.375688031036827, 8.455070380316846, 8.837739403277034, 10.444961441523686, 11.499493682870796, 12.096054312231537, 16.516384677431823, 26.500776221426133, 6.0550562291010674, 6.219977202661962, 6.16466126000914, 7.040803198358293, 6.976689125195104, 7.01821598271182, 7.5726850638022025, 8.455070380316846, 8.620712807776158, 8.837739403277034, 8.320728567302325, 9.375688031036827, 10.444961441523686, 11.499493682870796, 12.096054312231537, 10.955688954745915, 16.516384677431823, 13.484575472402117, 26.500776221426133, 35.84403798581925, 6.16466126000914, 6.0550562291010674, 6.219977202661962, 6.976689125195104, 8.455070380316846, 7.5726850638022025, 7.040803198358293, 7.01821598271182, 8.620712807776158, 8.837739403277034, 9.375688031036827, 8.320728567302325, 10.444961441523686, 11.499493682870796, 10.955688954745915, 12.096054312231537, 13.484575472402117, 16.516384677431823, 26.500776221426133, 35.84403798581925, 6.0550562291010674, 6.16466126000914, 6.219977202661962, 7.01821598271182, 7.5726850638022025, 6.976689125195104, 7.040803198358293, 8.455070380316846, 8.837739403277034, 8.320728567302325, 9.375688031036827, 8.620712807776158, 10.955688954745915, 10.444961441523686, 12.096054312231537, 11.499493682870796, 13.484575472402117, 16.516384677431823, 26.500776221426133, 35.84403798581925], \"loglift\": [20.0, 19.0, 18.0, 17.0, 16.0, 15.0, 14.0, 13.0, 12.0, 11.0, 10.0, 9.0, 8.0, 7.0, 6.0, 5.0, 4.0, 3.0, 2.0, 1.0, 0.5026, 0.4974, 0.4279, 0.4114, 0.3191, 0.2468, 0.2049, 0.0921, -0.0755, -0.2317, -0.3399, -0.3453, -0.3944, -0.5305, -0.5374, -0.6255, -0.6357, -0.7492, -1.7267, -2.257, 0.9917, 0.9452, 0.6235, 0.6067, 0.5915, 0.4913, 0.4276, 0.2522, 0.2449, 0.0772, -0.5093, -1.3096, -1.3273, -1.4108, -1.4283, -1.482, -1.5251, -1.7102, -1.9248, -2.0054, 0.7317, 0.6645, 0.6607, 0.4361, 0.3701, 0.2046, 0.1492, 0.0983, 0.0888, -0.0354, -0.0373, -0.0424, -0.2261, -0.2556, -0.3528, -0.353, -0.5014, -1.2495, -1.394, -1.5831, 1.0413, 0.6953, 0.5766, 0.5378, 0.3361, 0.2818, 0.2297, 0.2268, 0.1786, 0.1683, 0.0617, -0.0688, -0.2118, -0.4633, -1.079, -1.1568, -1.5276, -1.5416, -1.7793, -2.5433, 0.902, 0.7279, 0.6802, 0.3691, 0.3465, 0.3417, 0.2141, 0.1651, 0.0711, -0.022, -0.0483, -0.1522, -0.338, -0.4538, -0.785, -0.9353, -1.2099, -1.2857, -1.3157, -2.0287, 1.1255, 1.0299, 0.7713, 0.7633, 0.6643, 0.6456, 0.4449, 0.3521, 0.3446, 0.2605, -0.528, -0.6829, -0.7021, -0.7142, -0.7296, -0.9049, -0.9538, -1.1937, -1.431, -2.3428, 1.3946, 0.7731, 0.6949, 0.29, -0.2695, -0.2773, -0.3414, -0.3883, -0.4369, -0.4535, -0.4677, -0.4937, -0.5175, -0.6296, -0.6602, -0.8622, -0.8765, -0.9513, -1.1116, -1.7753, 0.6607, 0.6298, 0.5552, 0.5274, 0.468, 0.4475, 0.3768, 0.358, 0.3121, 0.2921, 0.2215, 0.2192, 0.1812, -0.0183, -0.052, -0.0788, -0.2674, -0.2878, -0.7082, -1.2988, 0.6425, 0.5979, 0.521, 0.5176, 0.4875, 0.4771, 0.4724, 0.4612, 0.3491, 0.2423, 0.0862, 0.0797, 0.0478, 0.0436, 0.0274, -0.0673, -0.1687, -0.3375, -0.7804, -1.1699, 0.7567, 0.5403, 0.5388, 0.5074, 0.4451, 0.4425, 0.4155, 0.3072, 0.3067, 0.3066, 0.2735, 0.2546, 0.1229, 0.068, 0.0154, -0.1468, -0.2503, -0.3714, -0.8225, -1.1562], \"logprob\": [20.0, 19.0, 18.0, 17.0, 16.0, 15.0, 14.0, 13.0, 12.0, 11.0, 10.0, 9.0, 8.0, 7.0, 6.0, 5.0, 4.0, 3.0, 2.0, 1.0, -2.4339, -2.1276, -3.0498, -2.5757, -1.8331, -2.581, -3.0454, -3.3887, -1.9257, -3.423, -3.4231, -3.9558, -3.996, -3.9353, -4.0242, -3.936, -3.9303, -4.0243, -5.3551, -5.2925, -2.0438, -1.207, -2.9781, -3.0217, -3.019, -2.9955, -3.0533, -3.0424, -3.0055, -3.006, -2.3595, -4.7872, -4.2638, -4.686, -4.6195, -4.7926, -4.9299, -4.6972, -4.7526, -4.6304, -2.3515, -2.6301, -2.6145, -2.9687, -2.6169, -2.6232, -1.701, -3.5122, -3.5397, -3.5222, -2.9737, -3.5232, -3.5367, -3.5059, -3.544, -2.9779, -3.5369, -4.8511, -3.5462, -5.0607, -2.1499, -1.9297, -2.734, -2.7374, -3.2923, -3.3198, -1.6205, -2.7602, -3.3082, -3.3093, -3.3431, -3.3191, -3.295, -3.2911, -4.6895, -4.6376, -4.8222, -4.5771, -4.7158, -4.6954, -2.4086, -2.7497, -2.1476, -1.4811, -3.2551, -3.2868, -3.2726, -2.7714, -3.3337, -3.2724, -3.3235, -3.3435, -3.325, -2.606, -4.3955, -4.4161, -4.2454, -4.5803, -4.3989, -4.6537, -2.2793, -2.2647, -2.8392, -2.2721, -2.2721, -2.8352, -2.8303, -2.8391, -2.2804, -2.8228, -4.1295, -4.1606, -2.8543, -4.3427, -4.2163, -4.2155, -4.2041, -4.1808, -4.2588, -4.193, -1.6409, -2.5375, -1.1552, -2.5378, -3.898, -3.8789, -3.9519, -3.8751, -3.9145, -3.8583, -3.7429, -3.9745, -3.7088, -3.9242, -3.9105, -3.9454, -3.8635, -3.8877, -3.7366, -3.9275, -2.9678, -2.9718, -3.0553, -2.9502, -3.0187, -3.0333, -3.028, -2.9366, -2.9631, -2.9582, -3.0891, -2.9721, -2.902, -3.0053, -2.9885, -3.1143, -2.8924, -3.1156, -2.8604, -3.149, -2.968, -3.0305, -3.0806, -2.9691, -2.8071, -2.9277, -3.0052, -3.0196, -2.9261, -3.008, -3.1051, -3.2308, -3.0354, -2.9434, -3.008, -3.0038, -2.9965, -2.9625, -2.9326, -3.0201, -2.8717, -3.0702, -3.0628, -2.9735, -2.9597, -3.0442, -3.0622, -2.9874, -2.9436, -3.004, -2.9178, -3.0206, -2.9126, -3.0152, -2.9211, -3.1338, -3.0781, -2.9964, -2.9747, -3.0064]}, \"token.table\": {\"Topic\": [1, 2, 3, 6, 1, 2, 3, 5, 6, 1, 2, 3, 5, 6, 1, 2, 3, 4, 5, 1, 2, 3, 6, 1, 3, 4, 5, 7, 1, 3, 4, 5, 6, 1, 3, 4, 6, 1, 3, 4, 5, 2, 3, 6, 7, 1, 3, 4, 5, 6, 1, 4, 5, 2, 3, 4, 5, 1, 3, 4, 5, 7, 1, 2, 3, 4, 5, 7, 1, 3, 4, 5, 6, 1, 2, 3, 6, 1, 2, 3, 4, 5, 1, 2, 4, 5, 1, 2, 3, 4, 6], \"Freq\": [0.1182722266071221, 0.2365444532142442, 0.3548166798213663, 0.2365444532142442, 0.3773474375409013, 0.45281692504908155, 0.03773474375409013, 0.07546948750818026, 0.03773474375409013, 0.49602951881034435, 0.08267158646839072, 0.16534317293678144, 0.16534317293678144, 0.16534317293678144, 0.14333446453686366, 0.2866689290737273, 0.14333446453686366, 0.14333446453686366, 0.14333446453686366, 0.28497270601626673, 0.28497270601626673, 0.14248635300813337, 0.14248635300813337, 0.37079402390035415, 0.22247641434021248, 0.07415880478007084, 0.22247641434021248, 0.07415880478007084, 0.11599968845940072, 0.3479990653782022, 0.23199937691880143, 0.11599968845940072, 0.11599968845940072, 0.48436750270967543, 0.12109187567741886, 0.24218375135483772, 0.12109187567741886, 0.43480175196302845, 0.26088105117781707, 0.17392070078521138, 0.08696035039260569, 0.4563838952213079, 0.09127677904426158, 0.18255355808852317, 0.18255355808852317, 0.21331767795379883, 0.10665883897689941, 0.31997651693069823, 0.10665883897689941, 0.10665883897689941, 0.4260877509968623, 0.14202925033228744, 0.2840585006645749, 0.33030246529963597, 0.16515123264981799, 0.16515123264981799, 0.16515123264981799, 0.12018178359160338, 0.12018178359160338, 0.24036356718320676, 0.3605453507748101, 0.12018178359160338, 0.2510877821176457, 0.11159456983006476, 0.19529049720261332, 0.16739185474509713, 0.16739185474509713, 0.08369592737254856, 0.1320535571695762, 0.2641071143391524, 0.1320535571695762, 0.1320535571695762, 0.2641071143391524, 0.16221491462752607, 0.32442982925505215, 0.16221491462752607, 0.16221491462752607, 0.3394533220664551, 0.2263022147109701, 0.11315110735548504, 0.11315110735548504, 0.11315110735548504, 0.16077229343735058, 0.32154458687470117, 0.16077229343735058, 0.16077229343735058, 0.19147988350144113, 0.19147988350144113, 0.38295976700288226, 0.09573994175072056, 0.09573994175072056], \"Term\": [\"analysis\", \"analysis\", \"analysis\", \"analysis\", \"cases\", \"cases\", \"cases\", \"cases\", \"cases\", \"china\", \"china\", \"china\", \"china\", \"china\", \"collected\", \"collected\", \"collected\", \"collected\", \"collected\", \"control\", \"control\", \"control\", \"control\", \"coronavirus\", \"coronavirus\", \"coronavirus\", \"coronavirus\", \"coronavirus\", \"data\", \"data\", \"data\", \"data\", \"data\", \"days\", \"days\", \"days\", \"days\", \"disease\", \"disease\", \"disease\", \"disease\", \"epidemiological\", \"epidemiological\", \"epidemiological\", \"epidemiological\", \"estimated\", \"estimated\", \"estimated\", \"estimated\", \"estimated\", \"infection\", \"infection\", \"infection\", \"methods\", \"methods\", \"methods\", \"methods\", \"novel\", \"novel\", \"novel\", \"novel\", \"novel\", \"period\", \"period\", \"period\", \"period\", \"period\", \"period\", \"periods\", \"periods\", \"periods\", \"periods\", \"periods\", \"possible\", \"possible\", \"possible\", \"possible\", \"results\", \"results\", \"results\", \"results\", \"results\", \"spread\", \"spread\", \"spread\", \"spread\", \"wuhan\", \"wuhan\", \"wuhan\", \"wuhan\", \"wuhan\"]}, \"R\": 20, \"lambda.step\": 0.01, \"plot.opts\": {\"xlab\": \"PC1\", \"ylab\": \"PC2\"}, \"topic.order\": [4, 9, 7, 6, 1, 5, 2, 3, 8, 10]};\n",
              "\n",
              "function LDAvis_load_lib(url, callback){\n",
              "  var s = document.createElement('script');\n",
              "  s.src = url;\n",
              "  s.async = true;\n",
              "  s.onreadystatechange = s.onload = callback;\n",
              "  s.onerror = function(){console.warn(\"failed to load library \" + url);};\n",
              "  document.getElementsByTagName(\"head\")[0].appendChild(s);\n",
              "}\n",
              "\n",
              "if(typeof(LDAvis) !== \"undefined\"){\n",
              "   // already loaded: just create the visualization\n",
              "   !function(LDAvis){\n",
              "       new LDAvis(\"#\" + \"ldavis_el1211396364419672569441108455\", ldavis_el1211396364419672569441108455_data);\n",
              "   }(LDAvis);\n",
              "}else if(typeof define === \"function\" && define.amd){\n",
              "   // require.js is available: use it to load d3/LDAvis\n",
              "   require.config({paths: {d3: \"https://cdnjs.cloudflare.com/ajax/libs/d3/3.5.5/d3.min\"}});\n",
              "   require([\"d3\"], function(d3){\n",
              "      window.d3 = d3;\n",
              "      LDAvis_load_lib(\"https://cdn.rawgit.com/bmabey/pyLDAvis/files/ldavis.v1.0.0.js\", function(){\n",
              "        new LDAvis(\"#\" + \"ldavis_el1211396364419672569441108455\", ldavis_el1211396364419672569441108455_data);\n",
              "      });\n",
              "    });\n",
              "}else{\n",
              "    // require.js not available: dynamically load d3 & LDAvis\n",
              "    LDAvis_load_lib(\"https://cdnjs.cloudflare.com/ajax/libs/d3/3.5.5/d3.min.js\", function(){\n",
              "         LDAvis_load_lib(\"https://cdn.rawgit.com/bmabey/pyLDAvis/files/ldavis.v1.0.0.js\", function(){\n",
              "                 new LDAvis(\"#\" + \"ldavis_el1211396364419672569441108455\", ldavis_el1211396364419672569441108455_data);\n",
              "            })\n",
              "         });\n",
              "}\n",
              "</script>"
            ],
            "text/plain": [
              "PreparedData(topic_coordinates=               x          y  topics  cluster       Freq\n",
              "topic                                                  \n",
              "3      32.420952   8.115230       1        1  27.639368\n",
              "8       0.648955  71.707100       2        1  17.124233\n",
              "6      71.019684   9.971006       3        1  17.093438\n",
              "5       3.785981  33.185135       4        1  13.149278\n",
              "0     -42.666500  -9.222070       5        1  12.322621\n",
              "4      -3.621689 -43.526516       6        1   7.020554\n",
              "1      -3.632402  -4.171708       7        1   4.403069\n",
              "2     -36.584400  35.804413       8        1   0.415814\n",
              "7      44.391380  50.615383       9        1   0.415813\n",
              "9      40.235809 -31.591665      10        1   0.415813, topic_info=   Category       Freq             Term      Total  loglift  logprob\n",
              "14  Default  35.000000           period  35.000000  20.0000  20.0000\n",
              "1   Default  26.000000            cases  26.000000  19.0000  19.0000\n",
              "9   Default  10.000000  epidemiological  10.000000  18.0000  18.0000\n",
              "7   Default  16.000000             days  16.000000  17.0000  17.0000\n",
              "2   Default  12.000000            china  12.000000  16.0000  16.0000\n",
              "..      ...        ...              ...        ...      ...      ...\n",
              "8   Topic10   0.041289          disease  11.499494  -0.1468  -3.1338\n",
              "5   Topic10   0.043656      coronavirus  13.484575  -0.2503  -3.0781\n",
              "7   Topic10   0.047371             days  16.516385  -0.3714  -2.9964\n",
              "1   Topic10   0.048409            cases  26.500776  -0.8225  -2.9747\n",
              "14  Topic10   0.046900           period  35.844038  -1.1562  -3.0064\n",
              "\n",
              "[220 rows x 6 columns], token_table=      Topic      Freq      Term\n",
              "term                           \n",
              "0         1  0.118272  analysis\n",
              "0         2  0.236544  analysis\n",
              "0         3  0.354817  analysis\n",
              "0         6  0.236544  analysis\n",
              "1         1  0.377347     cases\n",
              "...     ...       ...       ...\n",
              "19        1  0.191480     wuhan\n",
              "19        2  0.191480     wuhan\n",
              "19        3  0.382960     wuhan\n",
              "19        4  0.095740     wuhan\n",
              "19        6  0.095740     wuhan\n",
              "\n",
              "[91 rows x 3 columns], R=20, lambda_step=0.01, plot_opts={'xlab': 'PC1', 'ylab': 'PC2'}, topic_order=[4, 9, 7, 6, 1, 5, 2, 3, 8, 10])"
            ]
          },
          "metadata": {
            "tags": []
          },
          "execution_count": 64
        }
      ]
    },
    {
      "cell_type": "code",
      "metadata": {
        "id": "NgfK7BfbaZrx",
        "colab_type": "code",
        "colab": {}
      },
      "source": [
        "from scipy.spatial import distance"
      ],
      "execution_count": 0,
      "outputs": []
    },
    {
      "cell_type": "code",
      "metadata": {
        "id": "3hyVSyQ5foNa",
        "colab_type": "code",
        "outputId": "51c04faf-7d7c-4299-dfa7-71b33dcbd0ef",
        "colab": {
          "base_uri": "https://localhost:8080/",
          "height": 34
        }
      },
      "source": [
        "print(distance.cosine(avg_topic, lda_Z[0]))\n",
        "\n",
        "# For one d arrays below, it doesn't make sense to transpose as 2d since calc is always 0\n",
        "# Cosine score of 0 means 2 vectors are at 90degrees/orthagonal, have no match\n",
        "# avg_topic = np.array(avg_topic).reshape(-1,1)\n",
        "# print(avg_topic.shape)\n",
        "# distances = distance.cdist(avg_topic, avg_topic, metric='cosine')\n",
        "# print(distances)\n",
        "# print(avg_topic)\n",
        "# print(np.array(lda_Z[0]).reshape(-1, 1))\n",
        "# example = distance.cdist(avg_topic, np.array(lda_Z[0]).reshape(-1, 1), metric='cosine')\n",
        "# print(example)"
      ],
      "execution_count": 66,
      "outputs": [
        {
          "output_type": "stream",
          "text": [
            "0.7324319634802485\n"
          ],
          "name": "stdout"
        }
      ]
    },
    {
      "cell_type": "code",
      "metadata": {
        "id": "3jtf6ekrn6ez",
        "colab_type": "code",
        "colab": {
          "base_uri": "https://localhost:8080/",
          "height": 88
        },
        "outputId": "b431b489-ef63-42c5-8e6d-3ebcf1d9c9be"
      },
      "source": [
        "print(data_vectorized.shape)\n",
        "metadata = metadata.dropna(subset=['title', 'abstract'])\n",
        "metadata_condensed = metadata['title'] + ' ' + metadata['abstract'] #space ensures title_last_word and abstract_first_word are stored as separate words\n",
        "metadata_condensed = metadata_condensed.tolist()\n",
        "print(metadata_condensed[0])\n",
        "\n",
        "metadata_condensed_vectorized = count_vectorizer.transform(metadata_condensed)\n",
        "print(metadata_condensed_vectorized.shape)\n",
        "lda_corpus = lda_model.transform(metadata_condensed_vectorized)"
      ],
      "execution_count": 73,
      "outputs": [
        {
          "output_type": "stream",
          "text": [
            "(10, 20)\n",
            "SIANN: Strain Identification by Alignment to Near Neighbors Next-generation sequencing is increasingly being used to study samples composed of mixtures of organisms, such as in clinical applications where the presence of a pathogen at very low abundance may be highly important. We present an analytical method (SIANN: Strain Identification by Alignment to Near Neighbors) specifically designed to rapidly detect a set of target organisms in mixed samples that achieves a high degree of species- and strain-specificity by aligning short sequence reads to the genomes of near neighbor organisms, as well as that of the target. Empirical benchmarking alongside the current state-of-the-art methods shows an extremely high Positive Predictive Value, even at very low abundances of the target organism in a mixed sample. SIANN is available as an Illumina BaseSpace app, as well as through Signature Science, LLC. SIANN results are presented in a streamlined report designed to be comprehensible to the non-specialist user, providing a powerful tool for rapid species detection in a mixed sample. By focusing on a set of (customizable) target organisms and their near neighbors, SIANN can operate quickly and with low computational requirements while delivering highly accurate results.\n",
            "(45617, 20)\n"
          ],
          "name": "stdout"
        }
      ]
    },
    {
      "cell_type": "code",
      "metadata": {
        "id": "0TWgm5S4Z3Qy",
        "colab_type": "code",
        "colab": {
          "base_uri": "https://localhost:8080/",
          "height": 802
        },
        "outputId": "ecbe0ecc-d2a6-484c-d5e6-00678260048c"
      },
      "source": [
        "#for each entry in the corpus, add a column of cosine distance compared to the avg topic from search query\n",
        "print(lda_corpus.shape)\n",
        "for entry in lda_corpus[:5]:\n",
        "  print(entry)\n",
        "\n",
        "distances = []\n",
        "for entry in lda_corpus:\n",
        "  distances.append(distance.cosine(avg_topic, entry))\n",
        "print(distances[0])\n",
        "metadata['cosine_dist_from_topic'] = np.asarray(distances)\n",
        "metadata.head(5)"
      ],
      "execution_count": 82,
      "outputs": [
        {
          "output_type": "stream",
          "text": [
            "(45617, 10)\n",
            "[0.02500537 0.0250004  0.02500114 0.02500642 0.02500023 0.02500499\n",
            " 0.02500407 0.02500084 0.77497529 0.02500124]\n",
            "[0.03333719 0.0333337  0.03333409 0.69997358 0.03333357 0.03334198\n",
            " 0.03334436 0.03333422 0.03333358 0.03333373]\n",
            "[0.84998213 0.01666963 0.01666709 0.01666784 0.01666852 0.01667321\n",
            " 0.01667071 0.01666701 0.01666679 0.01666707]\n",
            "[0.02000122 0.02000026 0.02000057 0.02000119 0.02000651 0.0200027\n",
            " 0.81998433 0.02000073 0.02000205 0.02000042]\n",
            "[0.00769418 0.00769246 0.00769266 0.00769377 0.00769294 0.93076057\n",
            " 0.00769451 0.0076926  0.00769369 0.00769262]\n",
            "0.43781609758594153\n"
          ],
          "name": "stdout"
        },
        {
          "output_type": "execute_result",
          "data": {
            "text/html": [
              "<div>\n",
              "<style scoped>\n",
              "    .dataframe tbody tr th:only-of-type {\n",
              "        vertical-align: middle;\n",
              "    }\n",
              "\n",
              "    .dataframe tbody tr th {\n",
              "        vertical-align: top;\n",
              "    }\n",
              "\n",
              "    .dataframe thead th {\n",
              "        text-align: right;\n",
              "    }\n",
              "</style>\n",
              "<table border=\"1\" class=\"dataframe\">\n",
              "  <thead>\n",
              "    <tr style=\"text-align: right;\">\n",
              "      <th></th>\n",
              "      <th>cord_uid</th>\n",
              "      <th>sha</th>\n",
              "      <th>source_x</th>\n",
              "      <th>title</th>\n",
              "      <th>doi</th>\n",
              "      <th>pmcid</th>\n",
              "      <th>pubmed_id</th>\n",
              "      <th>license</th>\n",
              "      <th>abstract</th>\n",
              "      <th>publish_time</th>\n",
              "      <th>authors</th>\n",
              "      <th>journal</th>\n",
              "      <th>Microsoft Academic Paper ID</th>\n",
              "      <th>WHO #Covidence</th>\n",
              "      <th>has_full_text</th>\n",
              "      <th>full_text_file</th>\n",
              "      <th>url</th>\n",
              "      <th>cosine_dist_from_topic</th>\n",
              "    </tr>\n",
              "  </thead>\n",
              "  <tbody>\n",
              "    <tr>\n",
              "      <th>0</th>\n",
              "      <td>vho70jcx</td>\n",
              "      <td>f056da9c64fbf00a4645ae326e8a4339d015d155</td>\n",
              "      <td>biorxiv</td>\n",
              "      <td>SIANN: Strain Identification by Alignment to N...</td>\n",
              "      <td>10.1101/001727</td>\n",
              "      <td>NaN</td>\n",
              "      <td>NaN</td>\n",
              "      <td>biorxiv</td>\n",
              "      <td>Next-generation sequencing is increasingly bei...</td>\n",
              "      <td>2014-01-10</td>\n",
              "      <td>Samuel Minot; Stephen D Turner; Krista L Ternu...</td>\n",
              "      <td>NaN</td>\n",
              "      <td>NaN</td>\n",
              "      <td>NaN</td>\n",
              "      <td>True</td>\n",
              "      <td>biorxiv_medrxiv</td>\n",
              "      <td>https://doi.org/10.1101/001727</td>\n",
              "      <td>0.437816</td>\n",
              "    </tr>\n",
              "    <tr>\n",
              "      <th>1</th>\n",
              "      <td>i9tbix2v</td>\n",
              "      <td>daf32e013d325a6feb80e83d15aabc64a48fae33</td>\n",
              "      <td>biorxiv</td>\n",
              "      <td>Spatial epidemiology of networked metapopulati...</td>\n",
              "      <td>10.1101/003889</td>\n",
              "      <td>NaN</td>\n",
              "      <td>NaN</td>\n",
              "      <td>biorxiv</td>\n",
              "      <td>An emerging disease is one infectious epidemic...</td>\n",
              "      <td>2014-06-04</td>\n",
              "      <td>Lin WANG; Xiang Li</td>\n",
              "      <td>NaN</td>\n",
              "      <td>NaN</td>\n",
              "      <td>NaN</td>\n",
              "      <td>True</td>\n",
              "      <td>biorxiv_medrxiv</td>\n",
              "      <td>https://doi.org/10.1101/003889</td>\n",
              "      <td>0.403593</td>\n",
              "    </tr>\n",
              "    <tr>\n",
              "      <th>2</th>\n",
              "      <td>62gfisc6</td>\n",
              "      <td>f33c6d94b0efaa198f8f3f20e644625fa3fe10d2</td>\n",
              "      <td>biorxiv</td>\n",
              "      <td>Sequencing of the human IG light chain loci fr...</td>\n",
              "      <td>10.1101/006866</td>\n",
              "      <td>NaN</td>\n",
              "      <td>NaN</td>\n",
              "      <td>biorxiv</td>\n",
              "      <td>Germline variation at immunoglobulin gene (IG)...</td>\n",
              "      <td>2014-07-03</td>\n",
              "      <td>Corey T Watson; Karyn Meltz Steinberg; Tina A ...</td>\n",
              "      <td>NaN</td>\n",
              "      <td>NaN</td>\n",
              "      <td>NaN</td>\n",
              "      <td>True</td>\n",
              "      <td>biorxiv_medrxiv</td>\n",
              "      <td>https://doi.org/10.1101/006866</td>\n",
              "      <td>0.475124</td>\n",
              "    </tr>\n",
              "    <tr>\n",
              "      <th>3</th>\n",
              "      <td>058r9486</td>\n",
              "      <td>4da8a87e614373d56070ed272487451266dce919</td>\n",
              "      <td>biorxiv</td>\n",
              "      <td>Bayesian mixture analysis for metagenomic comm...</td>\n",
              "      <td>10.1101/007476</td>\n",
              "      <td>NaN</td>\n",
              "      <td>NaN</td>\n",
              "      <td>biorxiv</td>\n",
              "      <td>Deep sequencing of clinical samples is now an ...</td>\n",
              "      <td>2014-07-25</td>\n",
              "      <td>Sofia Morfopoulou; Vincent Plagnol</td>\n",
              "      <td>NaN</td>\n",
              "      <td>NaN</td>\n",
              "      <td>NaN</td>\n",
              "      <td>True</td>\n",
              "      <td>biorxiv_medrxiv</td>\n",
              "      <td>https://doi.org/10.1101/007476</td>\n",
              "      <td>0.683339</td>\n",
              "    </tr>\n",
              "    <tr>\n",
              "      <th>4</th>\n",
              "      <td>wich35l7</td>\n",
              "      <td>eccef80cfbe078235df22398f195d5db462d8000</td>\n",
              "      <td>biorxiv</td>\n",
              "      <td>Mapping a viral phylogeny onto outbreak trees ...</td>\n",
              "      <td>10.1101/010389</td>\n",
              "      <td>NaN</td>\n",
              "      <td>NaN</td>\n",
              "      <td>biorxiv</td>\n",
              "      <td>Developing methods to reconstruct transmission...</td>\n",
              "      <td>2014-11-11</td>\n",
              "      <td>Stephen P Velsko; Jonathan E Allen</td>\n",
              "      <td>NaN</td>\n",
              "      <td>NaN</td>\n",
              "      <td>NaN</td>\n",
              "      <td>True</td>\n",
              "      <td>biorxiv_medrxiv</td>\n",
              "      <td>https://doi.org/10.1101/010389</td>\n",
              "      <td>0.721292</td>\n",
              "    </tr>\n",
              "  </tbody>\n",
              "</table>\n",
              "</div>"
            ],
            "text/plain": [
              "   cord_uid  ... cosine_dist_from_topic\n",
              "0  vho70jcx  ...               0.437816\n",
              "1  i9tbix2v  ...               0.403593\n",
              "2  62gfisc6  ...               0.475124\n",
              "3  058r9486  ...               0.683339\n",
              "4  wich35l7  ...               0.721292\n",
              "\n",
              "[5 rows x 18 columns]"
            ]
          },
          "metadata": {
            "tags": []
          },
          "execution_count": 82
        }
      ]
    },
    {
      "cell_type": "code",
      "metadata": {
        "id": "9iYl3j-WcrwC",
        "colab_type": "code",
        "colab": {
          "base_uri": "https://localhost:8080/",
          "height": 374
        },
        "outputId": "45051485-0aa9-4bda-f29b-13cf887524e3"
      },
      "source": [
        "#then display top results from overall corpus\n",
        "metadata_sorted = metadata.sort_values('cosine_dist_from_topic', ascending=False)\n",
        "# metadata_sorted.head(5)\n",
        "metadata_sorted[:20]['title']"
      ],
      "execution_count": 86,
      "outputs": [
        {
          "output_type": "execute_result",
          "data": {
            "text/plain": [
              "344      Epidemiological characteristics of 1212 COVID-...\n",
              "572      Estimation of incubation period distribution o...\n",
              "385      Estimate the incubation period of coronavirus ...\n",
              "2038     A Chinese Case of COVID-19 Did Not Show Infect...\n",
              "7350     A comparison of smartphones to paper-based que...\n",
              "9050     Utilizing Nontraditional Data Sources for Near...\n",
              "34603    Spatial and temporal epidemiological analysis ...\n",
              "23502    SOURCES OF DATA FOR IMPROVED SURVEILLANCE OF H...\n",
              "10172    De novo assembly of highly polymorphic metagen...\n",
              "12324    Evaluation of Data Exchange Process for Intero...\n",
              "39950    Health-Care Data Collecting, Sharing, and Usin...\n",
              "7371     Exploration of diarrhoea seasonality and its d...\n",
              "13759    The use and reporting of airline passenger dat...\n",
              "6858     Outcomes of Influenza A(H1N1)pdm09 Virus Infec...\n",
              "1279     Analysis of factors associated with disease ou...\n",
              "13887    Patterns of seasonal and pandemic influenza-as...\n",
              "13140    Bayesian inference of transmission chains usin...\n",
              "1754     Time Course of Lung Changes On Chest CT During...\n",
              "14135    Using Non-Invasive Monitoring Technologies to ...\n",
              "20096    Quality Control Analysis in Real-time (QC-ART)...\n",
              "Name: title, dtype: object"
            ]
          },
          "metadata": {
            "tags": []
          },
          "execution_count": 86
        }
      ]
    },
    {
      "cell_type": "markdown",
      "metadata": {
        "id": "RvHKpN-vm1G3",
        "colab_type": "text"
      },
      "source": [
        "TODO:\n",
        "* Get average topic of subset of corpus (start with arbitary random count, use search queries later.\n",
        "* Try this on the full corpus of text\n",
        "* Experiment with different count vecotorizer parameters like ngrams and lda parameters like learning_method\n",
        "* Integrate pyldavis library for better visuation of topics with LDA\n",
        "* Use LDA2vec"
      ]
    },
    {
      "cell_type": "markdown",
      "metadata": {
        "id": "emjRx_d9lL6j",
        "colab_type": "text"
      },
      "source": [
        "# References"
      ]
    },
    {
      "cell_type": "markdown",
      "metadata": {
        "id": "cw9qGMkBlObW",
        "colab_type": "text"
      },
      "source": [
        "* https://nlpforhackers.io/topic-modeling/"
      ]
    }
  ]
}