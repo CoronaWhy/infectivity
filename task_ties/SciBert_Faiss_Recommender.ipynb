{
  "nbformat": 4,
  "nbformat_minor": 0,
  "metadata": {
    "colab": {
      "name": "ScirBert+FaissRecommender.ipynb",
      "provenance": [],
      "collapsed_sections": [
        "DsiRWa9UhGe3"
      ],
      "include_colab_link": true
    },
    "kernelspec": {
      "name": "python3",
      "display_name": "Python 3"
    }
  },
  "cells": [
    {
      "cell_type": "markdown",
      "metadata": {
        "id": "view-in-github",
        "colab_type": "text"
      },
      "source": [
        "<a href=\"https://colab.research.google.com/github/antonpolishko/task-ties/blob/master/SciBert_Faiss_Recommender.ipynb\" target=\"_parent\"><img src=\"https://colab.research.google.com/assets/colab-badge.svg\" alt=\"Open In Colab\"/></a>"
      ]
    },
    {
      "cell_type": "code",
      "metadata": {
        "id": "C0oiz6YxGuKk",
        "colab_type": "code",
        "outputId": "b1db029b-28f3-46ad-995a-d44366a8fd46",
        "colab": {
          "base_uri": "https://localhost:8080/",
          "height": 323
        }
      },
      "source": [
        "!pip install faiss-cpu --no-cache -q\n",
        "!pip install --upgrade git+https://github.com/zalandoresearch/flair.git -q\n",
        "!pip install transformers -q "
      ],
      "execution_count": 0,
      "outputs": [
        {
          "output_type": "stream",
          "text": [
            "\u001b[K     |████████████████████████████████| 7.2MB 1.4MB/s \n",
            "\u001b[?25h  Installing build dependencies ... \u001b[?25l\u001b[?25hdone\n",
            "  Getting requirements to build wheel ... \u001b[?25l\u001b[?25hdone\n",
            "    Preparing wheel metadata ... \u001b[?25l\u001b[?25hdone\n",
            "\u001b[K     |████████████████████████████████| 983kB 1.4MB/s \n",
            "\u001b[K     |████████████████████████████████| 798kB 7.6MB/s \n",
            "\u001b[K     |████████████████████████████████| 573kB 8.7MB/s \n",
            "\u001b[K     |████████████████████████████████| 256kB 11.0MB/s \n",
            "\u001b[K     |████████████████████████████████| 1.0MB 10.7MB/s \n",
            "\u001b[K     |████████████████████████████████| 870kB 14.6MB/s \n",
            "\u001b[K     |████████████████████████████████| 3.7MB 16.6MB/s \n",
            "\u001b[?25h  Building wheel for flair (PEP 517) ... \u001b[?25l\u001b[?25hdone\n",
            "  Building wheel for langdetect (setup.py) ... \u001b[?25l\u001b[?25hdone\n",
            "  Building wheel for segtok (setup.py) ... \u001b[?25l\u001b[?25hdone\n",
            "  Building wheel for mpld3 (setup.py) ... \u001b[?25l\u001b[?25hdone\n",
            "  Building wheel for sqlitedict (setup.py) ... \u001b[?25l\u001b[?25hdone\n",
            "  Building wheel for sacremoses (setup.py) ... \u001b[?25l\u001b[?25hdone\n",
            "\u001b[31mERROR: datascience 0.10.6 has requirement folium==0.2.1, but you'll have folium 0.8.3 which is incompatible.\u001b[0m\n"
          ],
          "name": "stdout"
        }
      ]
    },
    {
      "cell_type": "code",
      "metadata": {
        "id": "TLJ5zrsNG1z7",
        "colab_type": "code",
        "colab": {}
      },
      "source": [
        "import pandas as pd\n",
        "import numpy as np\n",
        "from pathlib import Path, PurePath\n",
        "import faiss\n",
        "from flair.data import Sentence\n",
        "from flair.embeddings import BertEmbeddings,DocumentPoolEmbeddings\n",
        "from transformers import *"
      ],
      "execution_count": 0,
      "outputs": []
    },
    {
      "cell_type": "markdown",
      "metadata": {
        "id": "MoYQERlthPQ-",
        "colab_type": "text"
      },
      "source": [
        "## Similarity Search"
      ]
    },
    {
      "cell_type": "code",
      "metadata": {
        "id": "hBieVEW0HCDz",
        "colab_type": "code",
        "colab": {}
      },
      "source": [
        "# set data paths, this requires local drive to have a folder calld \"COVID-19\" with the metadata.csv file\n",
        "# returns a string to the local path setup\n",
        "def setup_local_data():\n",
        "  from google.colab import drive\n",
        "  drive.mount('/content/drive')\n",
        "  drive_path=PurePath('/content/drive/My Drive')\n",
        "  input_dir = drive_path/'COVID-19'\n",
        "  print(list(Path(input_dir).glob('*')))\n",
        "  return input_dir"
      ],
      "execution_count": 0,
      "outputs": []
    },
    {
      "cell_type": "code",
      "metadata": {
        "id": "agYoVvRhLRxY",
        "colab_type": "code",
        "colab": {}
      },
      "source": [
        "#read the metadata file into df\n",
        "def read_metadata_csv(input_dir):\n",
        "    metadata_path = input_dir/ 'clean_metadata.csv'\n",
        "    metadata = pd.read_csv(metadata_path, \n",
        "                         dtype={'title':str,\n",
        "                                'abstract':str})\n",
        "    #set the abstract to the paper title if it is null\n",
        "    metadata['abstract'] = metadata['abstract'].fillna(metadata['title'])\n",
        "    #remove if abstract is empty or contains only one word\n",
        "    metadata = metadata.dropna(subset=['abstract'], axis = 0)\n",
        "    metadata['number_tokens'] = metadata['abstract'].apply(lambda x: len(x.split()))\n",
        "    metadata = metadata[metadata['number_tokens']>1].reset_index(drop=True)\n",
        "    metadata = metadata.drop('Unnamed: 0', axis=1)\n",
        "    return metadata"
      ],
      "execution_count": 0,
      "outputs": []
    },
    {
      "cell_type": "code",
      "metadata": {
        "id": "a3k_KBB5HJWp",
        "colab_type": "code",
        "colab": {}
      },
      "source": [
        "# read preprocessed SciBERT embeddings\n",
        "def read_summary_data(input_dir):\n",
        "  summary_path = input_dir/'AbstractSummaries' \n",
        "  summaries = pd.concat([pd.read_json(f) for f in Path(summary_path).glob('*')]).reset_index(drop=True)\n",
        "  return summaries\n",
        "\n",
        "def read_embeddings(input_dir):\n",
        "  vector_path = input_dir/'AbstractEmbeddings' \n",
        "  embeddings = pd.concat([pd.read_json(f) for f in Path(vector_path).glob('*')]).reset_index(drop=True)\n",
        "  return embeddings"
      ],
      "execution_count": 0,
      "outputs": []
    },
    {
      "cell_type": "code",
      "metadata": {
        "id": "IaEVOLi0N3YX",
        "colab_type": "code",
        "colab": {}
      },
      "source": [
        "def get_embeddings(text, model):\n",
        "  sentence = Sentence(text)\n",
        "  document_embedding = DocumentPoolEmbeddings([model],\n",
        "                                             pooling= 'mean')\n",
        "  document_embedding.embed(sentence)\n",
        "  # now check out the embedded sentence.\n",
        "  return sentence.get_embedding().data.numpy()"
      ],
      "execution_count": 0,
      "outputs": []
    },
    {
      "cell_type": "code",
      "metadata": {
        "id": "ASeEJfeCI6Bb",
        "colab_type": "code",
        "outputId": "4d43cf0b-35bd-4dbd-e5f5-5e61c4d70100",
        "colab": {
          "base_uri": "https://localhost:8080/",
          "height": 71
        }
      },
      "source": [
        "# read database to be indexed\n",
        "local_dir = setup_local_data()\n",
        "# metadata = read_metadata_csv(local_dir)\n",
        "# summaries = read_summary_data(local_dir)\n",
        "# embeddings = read_embeddings(local_dir)\n",
        "# print(metadata.info())\n",
        "# print(summaries.info())\n",
        "# print(embeddings.info())"
      ],
      "execution_count": 0,
      "outputs": [
        {
          "output_type": "stream",
          "text": [
            "Drive already mounted at /content/drive; to attempt to forcibly remount, call drive.mount(\"/content/drive\", force_remount=True).\n",
            "[PosixPath('/content/drive/My Drive/COVID-19/TestSearchResults_Incubation.csv'), PosixPath('/content/drive/My Drive/COVID-19/TestSearchResults_Incubation.gsheet'), PosixPath('/content/drive/My Drive/COVID-19/TestSearchResults_Incubation_v5.csv'), PosixPath('/content/drive/My Drive/COVID-19/TestSearchResults_Incubation_v5_target.csv'), PosixPath('/content/drive/My Drive/COVID-19/CORD-19-research-challenge-v5.zip'), PosixPath('/content/drive/My Drive/COVID-19/data'), PosixPath('/content/drive/My Drive/COVID-19/covid_vectors_part_0.json'), PosixPath('/content/drive/My Drive/COVID-19/covid_vectors_part_1.json'), PosixPath('/content/drive/My Drive/COVID-19/covid_vectors_part_2.json'), PosixPath('/content/drive/My Drive/COVID-19/covid_vectors_part_3.json'), PosixPath('/content/drive/My Drive/COVID-19/covid_vectors_part_4.json'), PosixPath('/content/drive/My Drive/COVID-19/covid_vectors_part_5.json'), PosixPath('/content/drive/My Drive/COVID-19/covid_vectors_part_6.json'), PosixPath('/content/drive/My Drive/COVID-19/covid_vectors_part_7.json'), PosixPath('/content/drive/My Drive/COVID-19/covid_vectors_part_8.json'), PosixPath('/content/drive/My Drive/COVID-19/covid_vectors_part_9.json'), PosixPath('/content/drive/My Drive/COVID-19/covid_abstract_vectors.json'), PosixPath('/content/drive/My Drive/COVID-19/pickall_top20.csv'), PosixPath('/content/drive/My Drive/COVID-19/target_vecs_5.json'), PosixPath('/content/drive/My Drive/COVID-19/target_vecs_10.json'), PosixPath('/content/drive/My Drive/COVID-19/target_vecs_20.json'), PosixPath('/content/drive/My Drive/COVID-19/target_vecs_71.json'), PosixPath('/content/drive/My Drive/COVID-19/pick71_top20.csv'), PosixPath('/content/drive/My Drive/COVID-19/covid_w2v_searchable_71.json'), PosixPath('/content/drive/My Drive/COVID-19/covid_w2v_searchable_5.json'), PosixPath('/content/drive/My Drive/COVID-19/covid_w2v_searchable_10.json'), PosixPath('/content/drive/My Drive/COVID-19/covid_w2v_searchable_20.json'), PosixPath('/content/drive/My Drive/COVID-19/target_vecs.json'), PosixPath('/content/drive/My Drive/COVID-19/covid_w2v_searchable_test.json'), PosixPath('/content/drive/My Drive/COVID-19/pick20_top20.csv'), PosixPath('/content/drive/My Drive/COVID-19/pick10_top20.csv'), PosixPath('/content/drive/My Drive/COVID-19/pick5_top20.csv'), PosixPath('/content/drive/My Drive/COVID-19/TestSearchResults_Incubation_v5_target.gsheet'), PosixPath('/content/drive/My Drive/COVID-19/pick10_hits.csv'), PosixPath('/content/drive/My Drive/COVID-19/pick10_hits.gsheet'), PosixPath('/content/drive/My Drive/COVID-19/covid_data_full_v5.json'), PosixPath('/content/drive/My Drive/COVID-19/metadata_v5.csv'), PosixPath('/content/drive/My Drive/COVID-19/indexdir'), PosixPath('/content/drive/My Drive/COVID-19/SearchResults'), PosixPath('/content/drive/My Drive/COVID-19/indexdir_test'), PosixPath('/content/drive/My Drive/COVID-19/CLQ_covid_comorbid.csv'), PosixPath('/content/drive/My Drive/COVID-19/CLQ_covid_safety.csv'), PosixPath('/content/drive/My Drive/COVID-19/CLQ_covid.csv'), PosixPath('/content/drive/My Drive/COVID-19/AllSearchResults.csv'), PosixPath('/content/drive/My Drive/COVID-19/AllSearchResults.gsheet'), PosixPath('/content/drive/My Drive/COVID-19/AllSearchResults_forViz.csv'), PosixPath('/content/drive/My Drive/COVID-19/AllSearchResults_forViz.gsheet'), PosixPath('/content/drive/My Drive/COVID-19/AnnotationSample_2020_04_02.csv'), PosixPath('/content/drive/My Drive/COVID-19/metadata_v5_summaries.csv'), PosixPath('/content/drive/My Drive/COVID-19/testSummaries.csv'), PosixPath('/content/drive/My Drive/COVID-19/testSummaries.gsheet'), PosixPath('/content/drive/My Drive/COVID-19/SearchResultsSummaries'), PosixPath('/content/drive/My Drive/COVID-19/AnnotationSample_2020_04_02.gsheet'), PosixPath('/content/drive/My Drive/COVID-19/SearchResults_summaries.json'), PosixPath('/content/drive/My Drive/COVID-19/AllSearchResultsSummaries.csv'), PosixPath('/content/drive/My Drive/COVID-19/AllSearchResultsSummaries.gsheet'), PosixPath('/content/drive/My Drive/COVID-19/AllSectionsSample.complete'), PosixPath('/content/drive/My Drive/COVID-19/clean_metadata.csv'), PosixPath('/content/drive/My Drive/COVID-19/AnnotationSample_2020_04_04.csv'), PosixPath('/content/drive/My Drive/COVID-19/abstract_summaries.json'), PosixPath('/content/drive/My Drive/COVID-19/scibert_scivocab_uncased'), PosixPath('/content/drive/My Drive/COVID-19/v6_text'), PosixPath('/content/drive/My Drive/COVID-19/AllSectionText.json'), PosixPath('/content/drive/My Drive/COVID-19/AllSectionText_Processed.json'), PosixPath('/content/drive/My Drive/COVID-19/AbstractSummaries'), PosixPath('/content/drive/My Drive/COVID-19/AbstractEmbeddings'), PosixPath('/content/drive/My Drive/COVID-19/query_dictionary.json'), PosixPath('/content/drive/My Drive/COVID-19/metadata_scibert.json'), PosixPath('/content/drive/My Drive/COVID-19/task-ties-UzairSearchLDAPOC'), PosixPath('/content/drive/My Drive/COVID-19/TopicModelOutput'), PosixPath('/content/drive/My Drive/COVID-19/SearchEngineOutput'), PosixPath('/content/drive/My Drive/COVID-19/TIES_Git'), PosixPath('/content/drive/My Drive/COVID-19/methods_lemma.json'), PosixPath('/content/drive/My Drive/COVID-19/methods_sentences.json'), PosixPath('/content/drive/My Drive/COVID-19/methods_results_demographics.json'), PosixPath('/content/drive/My Drive/COVID-19/PrelimResults'), PosixPath('/content/drive/My Drive/COVID-19/methods_results_demographics.csv'), PosixPath('/content/drive/My Drive/COVID-19/methods_results_demographics.gsheet'), PosixPath('/content/drive/My Drive/COVID-19/covid19_query_dictionary.json'), PosixPath('/content/drive/My Drive/COVID-19/covid_query_dictionary.json'), PosixPath('/content/drive/My Drive/COVID-19/mers_query_dictionary.json'), PosixPath('/content/drive/My Drive/COVID-19/sars_query_dictionary.json'), PosixPath('/content/drive/My Drive/COVID-19/AnnotationSample_2020_04_04.gsheet')]\n"
          ],
          "name": "stdout"
        }
      ]
    },
    {
      "cell_type": "code",
      "metadata": {
        "id": "dnBD5_LKKvcX",
        "colab_type": "code",
        "outputId": "965852fb-fbad-4485-f424-8ba7180095da",
        "colab": {
          "base_uri": "https://localhost:8080/",
          "height": 476
        }
      },
      "source": [
        "merged = metadata.merge(summaries, on=['cord_uid','sha']).merge(embeddings, on=['cord_uid','sha'])\n",
        "merged.info()"
      ],
      "execution_count": 0,
      "outputs": [
        {
          "output_type": "stream",
          "text": [
            "<class 'pandas.core.frame.DataFrame'>\n",
            "Int64Index: 31647 entries, 0 to 31646\n",
            "Data columns (total 20 columns):\n",
            " #   Column                       Non-Null Count  Dtype  \n",
            "---  ------                       --------------  -----  \n",
            " 0   cord_uid                     31647 non-null  object \n",
            " 1   sha                          31646 non-null  object \n",
            " 2   source_x                     31647 non-null  object \n",
            " 3   title                        31647 non-null  object \n",
            " 4   doi                          31647 non-null  object \n",
            " 5   pmcid                        16634 non-null  object \n",
            " 6   pubmed_id                    24729 non-null  float64\n",
            " 7   license                      31647 non-null  object \n",
            " 8   abstract                     31647 non-null  object \n",
            " 9   publish_time                 31647 non-null  object \n",
            " 10  authors                      31149 non-null  object \n",
            " 11  journal                      30525 non-null  object \n",
            " 12  Microsoft Academic Paper ID  357 non-null    float64\n",
            " 13  WHO #Covidence               490 non-null    object \n",
            " 14  has_full_text                31647 non-null  bool   \n",
            " 15  full_text_file               31647 non-null  object \n",
            " 16  url                          31465 non-null  object \n",
            " 17  number_tokens                31647 non-null  int64  \n",
            " 18  summary                      31647 non-null  object \n",
            " 19  scibert_emb                  30493 non-null  object \n",
            "dtypes: bool(1), float64(2), int64(1), object(16)\n",
            "memory usage: 4.9+ MB\n"
          ],
          "name": "stdout"
        }
      ]
    },
    {
      "cell_type": "code",
      "metadata": {
        "id": "J1OUg_MoOBn8",
        "colab_type": "code",
        "outputId": "b2d28fdd-fbaa-4c2f-c292-47affde53c37",
        "colab": {
          "base_uri": "https://localhost:8080/",
          "height": 221
        }
      },
      "source": [
        "merged[pd.isnull(merged['scibert_emb'])]['summary']"
      ],
      "execution_count": 0,
      "outputs": [
        {
          "output_type": "execute_result",
          "data": {
            "text/plain": [
              "1079      \n",
              "1120      \n",
              "1228      \n",
              "1235      \n",
              "1258      \n",
              "        ..\n",
              "30994     \n",
              "31008     \n",
              "31194     \n",
              "31274     \n",
              "31557     \n",
              "Name: summary, Length: 1154, dtype: object"
            ]
          },
          "metadata": {
            "tags": []
          },
          "execution_count": 105
        }
      ]
    },
    {
      "cell_type": "code",
      "metadata": {
        "id": "RPodzOq_LF5G",
        "colab_type": "code",
        "outputId": "84c7f6e8-16d3-4486-c73f-a373989ac2a4",
        "colab": {
          "base_uri": "https://localhost:8080/",
          "height": 221
        }
      },
      "source": [
        "merged[pd.isnull(merged['scibert_emb'])]['abstract']"
      ],
      "execution_count": 0,
      "outputs": [
        {
          "output_type": "execute_result",
          "data": {
            "text/plain": [
              "1079                Fear of the novel coronavirus\n",
              "1120                Gene Chip for Viral Discovery\n",
              "1228     Emerging diseases threaten conservation.\n",
              "1235                              The Big Picture\n",
              "1258              Ecological Change: Life Lessons\n",
              "                           ...                   \n",
              "30994      The danger of stories in global health\n",
              "31008                      Travel-related illness\n",
              "31194                          [Figure: see text]\n",
              "31274            Washing our hands of the problem\n",
              "31557                 A Disease Around the Corner\n",
              "Name: abstract, Length: 1154, dtype: object"
            ]
          },
          "metadata": {
            "tags": []
          },
          "execution_count": 106
        }
      ]
    },
    {
      "cell_type": "code",
      "metadata": {
        "id": "sSAZFDh2Qb8P",
        "colab_type": "code",
        "colab": {}
      },
      "source": [
        "for row in merged.loc[merged['scibert_emb'].isnull(), 'scibert_emb'].index:\n",
        "  try:\n",
        "    merged.at[row, 'scibert_emb'] = get_embeddings(merged.iloc[row]['abstract'], emb_model)\n",
        "  except RuntimeError:\n",
        "    #two articles have very long abstracts that exceeds bert's sequence length limit\n",
        "    merged.at[row, 'scibert_emb'] = get_embeddings(merged.iloc[row]['abstract'][:512], emb_model) "
      ],
      "execution_count": 0,
      "outputs": []
    },
    {
      "cell_type": "code",
      "metadata": {
        "id": "uGORB1uNPyur",
        "colab_type": "code",
        "outputId": "850a7f39-2d84-4b18-c090-2940e34dd3e2",
        "colab": {
          "base_uri": "https://localhost:8080/",
          "height": 476
        }
      },
      "source": [
        "merged.info()"
      ],
      "execution_count": 0,
      "outputs": [
        {
          "output_type": "stream",
          "text": [
            "<class 'pandas.core.frame.DataFrame'>\n",
            "Int64Index: 31647 entries, 0 to 31646\n",
            "Data columns (total 20 columns):\n",
            " #   Column                       Non-Null Count  Dtype  \n",
            "---  ------                       --------------  -----  \n",
            " 0   cord_uid                     31647 non-null  object \n",
            " 1   sha                          31646 non-null  object \n",
            " 2   source_x                     31647 non-null  object \n",
            " 3   title                        31647 non-null  object \n",
            " 4   doi                          31647 non-null  object \n",
            " 5   pmcid                        16634 non-null  object \n",
            " 6   pubmed_id                    24729 non-null  float64\n",
            " 7   license                      31647 non-null  object \n",
            " 8   abstract                     31647 non-null  object \n",
            " 9   publish_time                 31647 non-null  object \n",
            " 10  authors                      31149 non-null  object \n",
            " 11  journal                      30525 non-null  object \n",
            " 12  Microsoft Academic Paper ID  357 non-null    float64\n",
            " 13  WHO #Covidence               490 non-null    object \n",
            " 14  has_full_text                31647 non-null  bool   \n",
            " 15  full_text_file               31647 non-null  object \n",
            " 16  url                          31465 non-null  object \n",
            " 17  number_tokens                31647 non-null  int64  \n",
            " 18  summary                      31647 non-null  object \n",
            " 19  scibert_emb                  31647 non-null  object \n",
            "dtypes: bool(1), float64(2), int64(1), object(16)\n",
            "memory usage: 6.1+ MB\n"
          ],
          "name": "stdout"
        }
      ]
    },
    {
      "cell_type": "code",
      "metadata": {
        "id": "znCORwqDLtpF",
        "colab_type": "code",
        "outputId": "ad12c3fe-4dcd-4421-e8a7-e4ac73c0780e",
        "colab": {
          "base_uri": "https://localhost:8080/",
          "height": 34
        }
      },
      "source": [
        "check_lens = [len(lst) for lst in merged['scibert_emb']]\n",
        "print(set(check_lens))"
      ],
      "execution_count": 0,
      "outputs": [
        {
          "output_type": "stream",
          "text": [
            "{768}\n"
          ],
          "name": "stdout"
        }
      ]
    },
    {
      "cell_type": "code",
      "metadata": {
        "id": "Tp6GFurwNgjG",
        "colab_type": "code",
        "colab": {}
      },
      "source": [
        "# merged.to_json(local_dir/'metadata_scibert.json')"
      ],
      "execution_count": 0,
      "outputs": []
    },
    {
      "cell_type": "code",
      "metadata": {
        "id": "cp-UYdILS_CW",
        "colab_type": "code",
        "colab": {}
      },
      "source": [
        "del merged"
      ],
      "execution_count": 0,
      "outputs": []
    },
    {
      "cell_type": "code",
      "metadata": {
        "id": "mkyE-pd2Sy8u",
        "colab_type": "code",
        "outputId": "99a76234-a5f0-4039-afbc-05aae7fc52af",
        "colab": {
          "base_uri": "https://localhost:8080/",
          "height": 476
        }
      },
      "source": [
        "summary_embeddings = pd.read_json(local_dir/'metadata_scibert.json') \n",
        "summary_embeddings.info()"
      ],
      "execution_count": 0,
      "outputs": [
        {
          "output_type": "stream",
          "text": [
            "<class 'pandas.core.frame.DataFrame'>\n",
            "Int64Index: 31647 entries, 0 to 31646\n",
            "Data columns (total 20 columns):\n",
            " #   Column                       Non-Null Count  Dtype         \n",
            "---  ------                       --------------  -----         \n",
            " 0   cord_uid                     31647 non-null  object        \n",
            " 1   sha                          31646 non-null  object        \n",
            " 2   source_x                     31647 non-null  object        \n",
            " 3   title                        31647 non-null  object        \n",
            " 4   doi                          31647 non-null  object        \n",
            " 5   pmcid                        16634 non-null  object        \n",
            " 6   pubmed_id                    24729 non-null  float64       \n",
            " 7   license                      31647 non-null  object        \n",
            " 8   abstract                     31647 non-null  object        \n",
            " 9   publish_time                 31647 non-null  datetime64[ns]\n",
            " 10  authors                      31149 non-null  object        \n",
            " 11  journal                      30525 non-null  object        \n",
            " 12  Microsoft Academic Paper ID  357 non-null    float64       \n",
            " 13  WHO #Covidence               490 non-null    object        \n",
            " 14  has_full_text                31647 non-null  bool          \n",
            " 15  full_text_file               31647 non-null  object        \n",
            " 16  url                          31465 non-null  object        \n",
            " 17  number_tokens                31647 non-null  int64         \n",
            " 18  summary                      31647 non-null  object        \n",
            " 19  scibert_emb                  31647 non-null  object        \n",
            "dtypes: bool(1), datetime64[ns](1), float64(2), int64(1), object(15)\n",
            "memory usage: 4.9+ MB\n"
          ],
          "name": "stdout"
        }
      ]
    },
    {
      "cell_type": "markdown",
      "metadata": {
        "id": "GUx7OnkYfu-M",
        "colab_type": "text"
      },
      "source": [
        "##Faiss similarity search"
      ]
    },
    {
      "cell_type": "code",
      "metadata": {
        "id": "iSJMJEDFJpxe",
        "colab_type": "code",
        "outputId": "1bb4bab7-8a7f-487d-8bf1-f3c30f9be5bc",
        "colab": {
          "base_uri": "https://localhost:8080/",
          "height": 34
        }
      },
      "source": [
        "# create a matrix to store abstarct vectors \n",
        "xb = np.array([np.array(lst) for lst in summary_embeddings['scibert_emb']]).astype('float32')\n",
        "print(xb.shape)\n",
        "# assign dimension for the vector space\n",
        "d = xb.shape[1] "
      ],
      "execution_count": 0,
      "outputs": [
        {
          "output_type": "stream",
          "text": [
            "(31647, 768)\n"
          ],
          "name": "stdout"
        }
      ]
    },
    {
      "cell_type": "code",
      "metadata": {
        "id": "TniwEL24OMiq",
        "colab_type": "code",
        "colab": {}
      },
      "source": [
        "# create a matrix to store queries \n",
        "# (basically the same matrix since we will use a selected article to find similar)\n",
        "xq = xb.copy()"
      ],
      "execution_count": 0,
      "outputs": []
    },
    {
      "cell_type": "code",
      "metadata": {
        "id": "j3g4bFKgH0Wa",
        "colab_type": "code",
        "outputId": "7d90913e-6957-4beb-d387-4899c0772703",
        "colab": {
          "base_uri": "https://localhost:8080/",
          "height": 51
        }
      },
      "source": [
        "# build the index\n",
        "index = faiss.IndexFlatL2(d) #brute-force L2 index \n",
        "print(index.is_trained)\n",
        "# add vectors to the index\n",
        "index.add(xb)                  \n",
        "print(index.ntotal)"
      ],
      "execution_count": 0,
      "outputs": [
        {
          "output_type": "stream",
          "text": [
            "True\n",
            "31647\n"
          ],
          "name": "stdout"
        }
      ]
    },
    {
      "cell_type": "code",
      "metadata": {
        "id": "4X7UwemTYv1x",
        "colab_type": "code",
        "outputId": "5c31e5ba-65cd-4197-930f-e63bd2878659",
        "colab": {
          "base_uri": "https://localhost:8080/",
          "height": 1000
        }
      },
      "source": [
        "summary_embeddings.iloc[20:30]"
      ],
      "execution_count": 0,
      "outputs": [
        {
          "output_type": "execute_result",
          "data": {
            "text/html": [
              "<div>\n",
              "<style scoped>\n",
              "    .dataframe tbody tr th:only-of-type {\n",
              "        vertical-align: middle;\n",
              "    }\n",
              "\n",
              "    .dataframe tbody tr th {\n",
              "        vertical-align: top;\n",
              "    }\n",
              "\n",
              "    .dataframe thead th {\n",
              "        text-align: right;\n",
              "    }\n",
              "</style>\n",
              "<table border=\"1\" class=\"dataframe\">\n",
              "  <thead>\n",
              "    <tr style=\"text-align: right;\">\n",
              "      <th></th>\n",
              "      <th>cord_uid</th>\n",
              "      <th>sha</th>\n",
              "      <th>source_x</th>\n",
              "      <th>title</th>\n",
              "      <th>doi</th>\n",
              "      <th>pmcid</th>\n",
              "      <th>pubmed_id</th>\n",
              "      <th>license</th>\n",
              "      <th>abstract</th>\n",
              "      <th>publish_time</th>\n",
              "      <th>authors</th>\n",
              "      <th>journal</th>\n",
              "      <th>Microsoft Academic Paper ID</th>\n",
              "      <th>WHO #Covidence</th>\n",
              "      <th>has_full_text</th>\n",
              "      <th>full_text_file</th>\n",
              "      <th>url</th>\n",
              "      <th>number_tokens</th>\n",
              "      <th>summary</th>\n",
              "      <th>scibert_emb</th>\n",
              "    </tr>\n",
              "  </thead>\n",
              "  <tbody>\n",
              "    <tr>\n",
              "      <th>20</th>\n",
              "      <td>2cerplno</td>\n",
              "      <td>53442eacc3f233078507fa37b78267399e8c1e3b</td>\n",
              "      <td>biorxiv</td>\n",
              "      <td>Dysregulation of Long Non-coding RNA (lncRNA) ...</td>\n",
              "      <td>http://doi.org/10.1101/061788</td>\n",
              "      <td>None</td>\n",
              "      <td>NaN</td>\n",
              "      <td>biorxiv</td>\n",
              "      <td>ABSTRACTZika Virus (ZIKV) is a causative agent...</td>\n",
              "      <td>2016-07-01</td>\n",
              "      <td>Arunachalam Ramaiah; Deisy Contreras; Vineela ...</td>\n",
              "      <td>None</td>\n",
              "      <td>NaN</td>\n",
              "      <td>None</td>\n",
              "      <td>True</td>\n",
              "      <td>biorxiv_medrxiv</td>\n",
              "      <td>https://doi.org/10.1101/061788</td>\n",
              "      <td>286</td>\n",
              "      <td>ABSTRACTZika Virus (ZIKV) is a causative agent...</td>\n",
              "      <td>[0.0098563898, -0.25841644410000003, -0.283691...</td>\n",
              "    </tr>\n",
              "    <tr>\n",
              "      <th>21</th>\n",
              "      <td>t3tm6f9p</td>\n",
              "      <td>c04e10858012bdd666d50c0d69c3d1e7224ccbea</td>\n",
              "      <td>biorxiv</td>\n",
              "      <td>Design: An assay based on single-polypeptide-c...</td>\n",
              "      <td>http://doi.org/10.1101/065250</td>\n",
              "      <td>None</td>\n",
              "      <td>NaN</td>\n",
              "      <td>biorxiv</td>\n",
              "      <td>AbstractBackgroundThe adenosine A2A receptor (...</td>\n",
              "      <td>2016-07-26</td>\n",
              "      <td>Toshio Kamiya; Takashi Masuko; Dasiel Oscar Bo...</td>\n",
              "      <td>None</td>\n",
              "      <td>NaN</td>\n",
              "      <td>None</td>\n",
              "      <td>True</td>\n",
              "      <td>biorxiv_medrxiv</td>\n",
              "      <td>https://doi.org/10.1101/065250</td>\n",
              "      <td>273</td>\n",
              "      <td>AbstractBackgroundThe adenosine A2A receptor (...</td>\n",
              "      <td>[0.4562368691, 0.10551598670000001, -0.0793895...</td>\n",
              "    </tr>\n",
              "    <tr>\n",
              "      <th>22</th>\n",
              "      <td>57sp9d9l</td>\n",
              "      <td>5570cb9ff2905fda60cfd6e94f3c32774b765265</td>\n",
              "      <td>biorxiv</td>\n",
              "      <td>The genome of the crustacean Parhyale hawaiens...</td>\n",
              "      <td>http://doi.org/10.1101/065789</td>\n",
              "      <td>None</td>\n",
              "      <td>NaN</td>\n",
              "      <td>biorxiv</td>\n",
              "      <td>ABSTRACTThe amphipod crustacean Parhyale hawai...</td>\n",
              "      <td>2016-07-25</td>\n",
              "      <td>Damian Kao; Alvina G. Lai; Evangelia Stamataki...</td>\n",
              "      <td>None</td>\n",
              "      <td>NaN</td>\n",
              "      <td>None</td>\n",
              "      <td>True</td>\n",
              "      <td>biorxiv_medrxiv</td>\n",
              "      <td>https://doi.org/10.1101/065789</td>\n",
              "      <td>150</td>\n",
              "      <td>ABSTRACTThe amphipod crustacean Parhyale hawai...</td>\n",
              "      <td>[0.057457856800000005, -0.0752342641, -0.06209...</td>\n",
              "    </tr>\n",
              "    <tr>\n",
              "      <th>23</th>\n",
              "      <td>tiyjmih7</td>\n",
              "      <td>45f184e736c4a857bc0e3df0d55962f743c1493a</td>\n",
              "      <td>biorxiv</td>\n",
              "      <td>Similar ratios of introns to intergenic sequen...</td>\n",
              "      <td>http://doi.org/10.1101/068627</td>\n",
              "      <td>None</td>\n",
              "      <td>NaN</td>\n",
              "      <td>biorxiv</td>\n",
              "      <td>AbstractOne central goal of genome biology is ...</td>\n",
              "      <td>2016-08-09</td>\n",
              "      <td>Warren R. Francis; Gert Wörheide</td>\n",
              "      <td>None</td>\n",
              "      <td>NaN</td>\n",
              "      <td>None</td>\n",
              "      <td>True</td>\n",
              "      <td>biorxiv_medrxiv</td>\n",
              "      <td>https://doi.org/10.1101/068627</td>\n",
              "      <td>184</td>\n",
              "      <td>AbstractOne central goal of genome biology is ...</td>\n",
              "      <td>[0.09885469820000001, -0.1979083121, -0.022167...</td>\n",
              "    </tr>\n",
              "    <tr>\n",
              "      <th>24</th>\n",
              "      <td>30kwl4rj</td>\n",
              "      <td>ffbf8ea9948d73572fd052a74afa01b19e6758a3</td>\n",
              "      <td>biorxiv</td>\n",
              "      <td>Planning horizon affects prophylactic decision...</td>\n",
              "      <td>http://doi.org/10.1101/069013</td>\n",
              "      <td>None</td>\n",
              "      <td>NaN</td>\n",
              "      <td>biorxiv</td>\n",
              "      <td>AbstractHuman behavior can change the spread o...</td>\n",
              "      <td>2016-08-12</td>\n",
              "      <td>Luis G. Nardin; Craig R. Miller; Benjamin J. R...</td>\n",
              "      <td>None</td>\n",
              "      <td>NaN</td>\n",
              "      <td>None</td>\n",
              "      <td>True</td>\n",
              "      <td>biorxiv_medrxiv</td>\n",
              "      <td>https://doi.org/10.1101/069013</td>\n",
              "      <td>161</td>\n",
              "      <td>AbstractHuman behavior can change the spread o...</td>\n",
              "      <td>[-0.0726864636, -0.062798582, -0.1507194936, -...</td>\n",
              "    </tr>\n",
              "    <tr>\n",
              "      <th>25</th>\n",
              "      <td>1znuxoj5</td>\n",
              "      <td>fd3fc2c49f5cc27e4262261d0c9045911d65cb6e</td>\n",
              "      <td>biorxiv</td>\n",
              "      <td>XRN1 is a Species-Specific Virus Restriction F...</td>\n",
              "      <td>http://doi.org/10.1101/069799</td>\n",
              "      <td>None</td>\n",
              "      <td>NaN</td>\n",
              "      <td>biorxiv</td>\n",
              "      <td>AbstractIn eukaryotes, the degradation of cell...</td>\n",
              "      <td>2016-08-16</td>\n",
              "      <td>Paul A. Rowley; Brandon Ho; Sarah Bushong; Arl...</td>\n",
              "      <td>None</td>\n",
              "      <td>NaN</td>\n",
              "      <td>None</td>\n",
              "      <td>True</td>\n",
              "      <td>biorxiv_medrxiv</td>\n",
              "      <td>https://doi.org/10.1101/069799</td>\n",
              "      <td>278</td>\n",
              "      <td>AbstractIn eukaryotes, the degradation of cell...</td>\n",
              "      <td>[0.3114904463, -0.07228434090000001, -0.057984...</td>\n",
              "    </tr>\n",
              "    <tr>\n",
              "      <th>26</th>\n",
              "      <td>pxpujrhx</td>\n",
              "      <td>44a440cc1c135c938d2216ea672f8ef4f9c01296</td>\n",
              "      <td>biorxiv</td>\n",
              "      <td>Genome-wide Prediction of microRNAs in Zika vi...</td>\n",
              "      <td>http://doi.org/10.1101/070656</td>\n",
              "      <td>None</td>\n",
              "      <td>NaN</td>\n",
              "      <td>biorxiv</td>\n",
              "      <td>AbstractZika virus (ZIKV) is a member of the f...</td>\n",
              "      <td>2016-08-21</td>\n",
              "      <td>Juan Cristina; Natalia Echeverría; Fabiana Gam...</td>\n",
              "      <td>None</td>\n",
              "      <td>NaN</td>\n",
              "      <td>None</td>\n",
              "      <td>True</td>\n",
              "      <td>biorxiv_medrxiv</td>\n",
              "      <td>https://doi.org/10.1101/070656</td>\n",
              "      <td>209</td>\n",
              "      <td>AbstractZika virus (ZIKV) is a member of the f...</td>\n",
              "      <td>[0.37312006950000004, 0.240855068, 0.258061826...</td>\n",
              "    </tr>\n",
              "    <tr>\n",
              "      <th>27</th>\n",
              "      <td>2j4z5rp8</td>\n",
              "      <td>9b5f5119bbfbded3245acc37859cefde967458e7</td>\n",
              "      <td>biorxiv</td>\n",
              "      <td>Containing Emerging Epidemics: a Quantitative ...</td>\n",
              "      <td>http://doi.org/10.1101/072652</td>\n",
              "      <td>None</td>\n",
              "      <td>NaN</td>\n",
              "      <td>biorxiv</td>\n",
              "      <td>ABSTRACTStrategies for containing an emerging ...</td>\n",
              "      <td>2016-08-31</td>\n",
              "      <td>Corey M Peak; Lauren M Childs; Yonatan H Grad;...</td>\n",
              "      <td>None</td>\n",
              "      <td>NaN</td>\n",
              "      <td>None</td>\n",
              "      <td>True</td>\n",
              "      <td>biorxiv_medrxiv</td>\n",
              "      <td>https://doi.org/10.1101/072652</td>\n",
              "      <td>334</td>\n",
              "      <td>ABSTRACTStrategies for containing an emerging ...</td>\n",
              "      <td>[0.3610961735, -0.395444721, -0.3517359197, 0....</td>\n",
              "    </tr>\n",
              "    <tr>\n",
              "      <th>28</th>\n",
              "      <td>8elmjre9</td>\n",
              "      <td>8f4b98da50277e6c9516aef0227f5cca9af6b5e8</td>\n",
              "      <td>biorxiv</td>\n",
              "      <td>Identification of quercetin from fruits to imm...</td>\n",
              "      <td>http://doi.org/10.1101/074559</td>\n",
              "      <td>None</td>\n",
              "      <td>NaN</td>\n",
              "      <td>biorxiv</td>\n",
              "      <td>Zika virus is spread mainly by the bite of an ...</td>\n",
              "      <td>2016-09-11</td>\n",
              "      <td>Amrita Roy; Liangzhong Lim; Jianxing Song</td>\n",
              "      <td>None</td>\n",
              "      <td>NaN</td>\n",
              "      <td>None</td>\n",
              "      <td>True</td>\n",
              "      <td>biorxiv_medrxiv</td>\n",
              "      <td>https://doi.org/10.1101/074559</td>\n",
              "      <td>206</td>\n",
              "      <td>Zika virus is spread mainly by the bite of an ...</td>\n",
              "      <td>[0.1410364658, -0.132661432, -0.1461878717, 0....</td>\n",
              "    </tr>\n",
              "    <tr>\n",
              "      <th>29</th>\n",
              "      <td>l82aakrk</td>\n",
              "      <td>f9b108c052ded463773a9838a8157ac7d5ba6d1a</td>\n",
              "      <td>biorxiv</td>\n",
              "      <td>Unique properties of Zika NS2B-NS3pro complexe...</td>\n",
              "      <td>http://doi.org/10.1101/078113</td>\n",
              "      <td>None</td>\n",
              "      <td>NaN</td>\n",
              "      <td>biorxiv</td>\n",
              "      <td>ABSTRACTZika virus can be passed from a pregna...</td>\n",
              "      <td>2016-09-28</td>\n",
              "      <td>Amrita Roy; Liangzhong Lim; Shagun Srivastava;...</td>\n",
              "      <td>None</td>\n",
              "      <td>NaN</td>\n",
              "      <td>None</td>\n",
              "      <td>True</td>\n",
              "      <td>biorxiv_medrxiv</td>\n",
              "      <td>https://doi.org/10.1101/078113</td>\n",
              "      <td>240</td>\n",
              "      <td>ABSTRACTZika virus can be passed from a pregna...</td>\n",
              "      <td>[-0.0201610141, 0.0819289982, -0.2859653831, 0...</td>\n",
              "    </tr>\n",
              "  </tbody>\n",
              "</table>\n",
              "</div>"
            ],
            "text/plain": [
              "    cord_uid  ...                                        scibert_emb\n",
              "20  2cerplno  ...  [0.0098563898, -0.25841644410000003, -0.283691...\n",
              "21  t3tm6f9p  ...  [0.4562368691, 0.10551598670000001, -0.0793895...\n",
              "22  57sp9d9l  ...  [0.057457856800000005, -0.0752342641, -0.06209...\n",
              "23  tiyjmih7  ...  [0.09885469820000001, -0.1979083121, -0.022167...\n",
              "24  30kwl4rj  ...  [-0.0726864636, -0.062798582, -0.1507194936, -...\n",
              "25  1znuxoj5  ...  [0.3114904463, -0.07228434090000001, -0.057984...\n",
              "26  pxpujrhx  ...  [0.37312006950000004, 0.240855068, 0.258061826...\n",
              "27  2j4z5rp8  ...  [0.3610961735, -0.395444721, -0.3517359197, 0....\n",
              "28  8elmjre9  ...  [0.1410364658, -0.132661432, -0.1461878717, 0....\n",
              "29  l82aakrk  ...  [-0.0201610141, 0.0819289982, -0.2859653831, 0...\n",
              "\n",
              "[10 rows x 20 columns]"
            ]
          },
          "metadata": {
            "tags": []
          },
          "execution_count": 146
        }
      ]
    },
    {
      "cell_type": "code",
      "metadata": {
        "id": "WcC8HT8yOJyF",
        "colab_type": "code",
        "colab": {}
      },
      "source": [
        "# get selected article's index from df (not sure how selected article will be saved)\n",
        "# Title: The Incubation Period of Coronavirus Disease 2019 (COVID-19) From Publicly Reported Confirmed Cases: Estimation and Application\n",
        "# ce8609a60724d457d5b5916d57a31dea0ffb831b\n",
        "# Title: Duration of viral detection in throat and rectum of a patient with COVID-19\n",
        "# 598d3eb737dfa7701ce8c29c86bc9f6589d8a581\n",
        "# Title: Asymptomatic carrier state, acute respiratory disease, and pneumonia due to severe acute respiratory syndrome coronavirus 2 (SARSCoV-2): Facts and myths\n",
        "# 89a8918f7e3044b89642aaa74defc7381abef482; 1f5c1597a84ed1d4f84c488cd19098a091a3d513\n",
        "# Title: Stability and inactivation of SARS coronavirus\n",
        "# 8a6f8fe47a3aa58e61e1eee0cba5af0037f38ee4\n",
        "# Title: Feasibility of controlling COVID-19 outbreaks by isolation of cases and contacts\n",
        "# a14b5655cb13ed64cb8cff7c806a7b58c858b8b7; 43064e9a5b81ad1ac0743c818cda48383c246c95\n",
        "# Title:The use of masks and respirators to prevent transmission of influenza: a systematic review of the scientific evidence\n",
        "# 963dfcc10563ef66cf366f73640ab9b3e84a9a55\n",
        "# Title: Dispersal of Respiratory Droplets With Open vs Closed Oxygen Delivery Masks Implications for the Transmission of Severe Acute Respiratory Syndrome\n",
        "# 80ce66bae70e5eb76387b05c25dd486e29c0087c\n",
        "selected_index = summary_embeddings[summary_embeddings['sha'] == '80ce66bae70e5eb76387b05c25dd486e29c0087c'].index.astype(int)\n",
        "# set number of most similar articles to return\n",
        "k = 10\n",
        "# retrieve selected article's embedding\n",
        "xq = xb[selected_index]\n",
        "# search top k similar articles and return a distance array (D) and an index array (I)\n",
        "# D is L2 distance, to get cosine similarity, normalize xb and xq with faiss.normalize_L2\n",
        "D, I = index.search(xq, k+1)   # actually search k+1 to get k articles additional to self"
      ],
      "execution_count": 0,
      "outputs": []
    },
    {
      "cell_type": "code",
      "metadata": {
        "id": "B__XP1NHX0qD",
        "colab_type": "code",
        "outputId": "d2b06bdb-e354-4b12-8702-ad626711aa15",
        "colab": {
          "base_uri": "https://localhost:8080/",
          "height": 68
        }
      },
      "source": [
        "print(I) #the first item (not always first) is the selected article itself\n",
        "print(D) #thus, distance is zero"
      ],
      "execution_count": 0,
      "outputs": [
        {
          "output_type": "stream",
          "text": [
            "[[  482 30953 27837 13343  6769 25668  5476 15654 28328  9650   206]]\n",
            "[[ 0.       33.59949  33.73192  34.171967 34.337788 34.98459  35.34081\n",
            "  35.434464 35.59046  35.65731  35.932854]]\n"
          ],
          "name": "stdout"
        }
      ]
    },
    {
      "cell_type": "code",
      "metadata": {
        "id": "tPia_oyYRwqt",
        "colab_type": "code",
        "outputId": "455321a1-28b7-400a-f474-24578d5a5fe9",
        "colab": {
          "base_uri": "https://localhost:8080/",
          "height": 88
        }
      },
      "source": [
        "# convert index array to a list\n",
        "I_new = I[:][0].tolist()\n",
        "# locate selected article from the list\n",
        "query_ix = I_new.index(selected_index) # it's not always the first item so safer to save index separately\n",
        "print(query_ix)\n",
        "# remove selected article from the list\n",
        "I_new.remove(selected_index)\n",
        "print(I_new)\n",
        "# use the index to remove selected article's distance to itself\n",
        "D_new = D[:][0].tolist()\n",
        "del D_new[query_ix]\n",
        "print(D_new)"
      ],
      "execution_count": 0,
      "outputs": [
        {
          "output_type": "stream",
          "text": [
            "0\n",
            "[2269, 21914, 30494, 12835, 5332, 6339, 5338, 1382, 9015, 21831]\n",
            "[26.65274429321289, 31.02811050415039, 31.389015197753906, 31.467775344848633, 31.872941970825195, 32.15396499633789, 32.2318115234375, 32.47484588623047, 32.608551025390625, 32.835540771484375]\n"
          ],
          "name": "stdout"
        }
      ]
    },
    {
      "cell_type": "code",
      "metadata": {
        "id": "zElybmXXxM4y",
        "colab_type": "code",
        "outputId": "d77797a0-eea9-47f5-c15a-e0a6056bc0ca",
        "colab": {
          "base_uri": "https://localhost:8080/",
          "height": 51
        }
      },
      "source": [
        "I[0]"
      ],
      "execution_count": 0,
      "outputs": [
        {
          "output_type": "execute_result",
          "data": {
            "text/plain": [
              "array([  482, 30953, 27837, 13343,  6769, 25668,  5476, 15654, 28328,\n",
              "        9650,   206])"
            ]
          },
          "metadata": {
            "tags": []
          },
          "execution_count": 31
        }
      ]
    },
    {
      "cell_type": "code",
      "metadata": {
        "id": "Kvq-MXcbRjTZ",
        "colab_type": "code",
        "outputId": "1ae020fd-cf51-42a1-aa59-d02c9c088b08",
        "colab": {
          "base_uri": "https://localhost:8080/",
          "height": 1000
        }
      },
      "source": [
        "# retrieve info for the top 10 simialr articles\n",
        "top10_similar = summary_embeddings.iloc[I[0]].reset_index(drop=True) #I_new\n",
        "# attach similarity scores\n",
        "top10_similar['distance'] = D[0] #D_new\n",
        "# view results\n",
        "top10_similar"
      ],
      "execution_count": 0,
      "outputs": [
        {
          "output_type": "execute_result",
          "data": {
            "text/html": [
              "<div>\n",
              "<style scoped>\n",
              "    .dataframe tbody tr th:only-of-type {\n",
              "        vertical-align: middle;\n",
              "    }\n",
              "\n",
              "    .dataframe tbody tr th {\n",
              "        vertical-align: top;\n",
              "    }\n",
              "\n",
              "    .dataframe thead th {\n",
              "        text-align: right;\n",
              "    }\n",
              "</style>\n",
              "<table border=\"1\" class=\"dataframe\">\n",
              "  <thead>\n",
              "    <tr style=\"text-align: right;\">\n",
              "      <th></th>\n",
              "      <th>cord_uid</th>\n",
              "      <th>sha</th>\n",
              "      <th>source_x</th>\n",
              "      <th>title</th>\n",
              "      <th>doi</th>\n",
              "      <th>pmcid</th>\n",
              "      <th>pubmed_id</th>\n",
              "      <th>license</th>\n",
              "      <th>abstract</th>\n",
              "      <th>publish_time</th>\n",
              "      <th>authors</th>\n",
              "      <th>journal</th>\n",
              "      <th>Microsoft Academic Paper ID</th>\n",
              "      <th>WHO #Covidence</th>\n",
              "      <th>has_full_text</th>\n",
              "      <th>full_text_file</th>\n",
              "      <th>url</th>\n",
              "      <th>number_tokens</th>\n",
              "      <th>summary</th>\n",
              "      <th>scibert_emb</th>\n",
              "      <th>distance</th>\n",
              "    </tr>\n",
              "  </thead>\n",
              "  <tbody>\n",
              "    <tr>\n",
              "      <th>0</th>\n",
              "      <td>53e1dyuz</td>\n",
              "      <td>80ce66bae70e5eb76387b05c25dd486e29c0087c</td>\n",
              "      <td>Elsevier</td>\n",
              "      <td>Dispersal of Respiratory Droplets With Open vs...</td>\n",
              "      <td>http://doi.org/10.1378/chest.125.3.1155</td>\n",
              "      <td>PMC7094599</td>\n",
              "      <td>15006983.0</td>\n",
              "      <td>els-covid</td>\n",
              "      <td>Nosocomial transmission of droplet-borne respi...</td>\n",
              "      <td>2004-03-31</td>\n",
              "      <td>Somogyi, Ron; Vesely, Alex E.; Azami, Takafumi...</td>\n",
              "      <td>Chest</td>\n",
              "      <td>NaN</td>\n",
              "      <td>None</td>\n",
              "      <td>True</td>\n",
              "      <td>custom_license</td>\n",
              "      <td>https://doi.org/10.1378/chest.125.3.1155</td>\n",
              "      <td>99</td>\n",
              "      <td>Nosocomial transmission of droplet-borne respi...</td>\n",
              "      <td>[0.1170018911, -0.4216496348, 0.0843923464, 0....</td>\n",
              "      <td>0.000000</td>\n",
              "    </tr>\n",
              "    <tr>\n",
              "      <th>1</th>\n",
              "      <td>sl6gsjz4</td>\n",
              "      <td>b19a21295cdc5bb0be8ddc6688268147a0a6d510</td>\n",
              "      <td>PMC</td>\n",
              "      <td>Transmission of communicable respiratory infec...</td>\n",
              "      <td>http://doi.org/</td>\n",
              "      <td>PMC3004550</td>\n",
              "      <td>21197329.0</td>\n",
              "      <td>no-cc</td>\n",
              "      <td>BACKGROUND: Respiratory protection efficiency ...</td>\n",
              "      <td>2008-05-01</td>\n",
              "      <td>Li, Yi; Guo, Yue Ping; Wong, Kwok Ching Thomas...</td>\n",
              "      <td>J Multidiscip Healthc</td>\n",
              "      <td>NaN</td>\n",
              "      <td>None</td>\n",
              "      <td>True</td>\n",
              "      <td>custom_license</td>\n",
              "      <td>https://www.ncbi.nlm.nih.gov/pmc/articles/PMC3...</td>\n",
              "      <td>254</td>\n",
              "      <td>BACKGROUND: Respiratory protection efficiency ...</td>\n",
              "      <td>[-0.2126090676, -0.2862428725, 0.0409490578, 0...</td>\n",
              "      <td>32.038342</td>\n",
              "    </tr>\n",
              "    <tr>\n",
              "      <th>2</th>\n",
              "      <td>cpaucz01</td>\n",
              "      <td>fadc39822e87cd5cafea86e56c173016a274d6cd</td>\n",
              "      <td>PMC</td>\n",
              "      <td>Infection control for SARS in a tertiary neona...</td>\n",
              "      <td>http://doi.org/10.1136/fn.88.5.f405</td>\n",
              "      <td>PMC1721604</td>\n",
              "      <td>12937045.0</td>\n",
              "      <td>unk</td>\n",
              "      <td>The Severe Acute Respiratory Syndrome (SARS) i...</td>\n",
              "      <td>2003-09-01</td>\n",
              "      <td>Ng, P; So, K; Leung, T; Cheng, F; Lyon, D; Won...</td>\n",
              "      <td>Archives of Disease in Childhood - Fetal and N...</td>\n",
              "      <td>NaN</td>\n",
              "      <td>None</td>\n",
              "      <td>True</td>\n",
              "      <td>custom_license</td>\n",
              "      <td>http://europepmc.org/articles/pmc1721604?pdf=r...</td>\n",
              "      <td>148</td>\n",
              "      <td>The Severe Acute Respiratory Syndrome (SARS) i...</td>\n",
              "      <td>[0.2468307167, -0.2908338308, 0.2803712189, 0....</td>\n",
              "      <td>36.113152</td>\n",
              "    </tr>\n",
              "    <tr>\n",
              "      <th>3</th>\n",
              "      <td>eqq7k4pz</td>\n",
              "      <td>bbb727ab78e299a712b0be35b84f6448fc9fea8f</td>\n",
              "      <td>Elsevier</td>\n",
              "      <td>Respiratory Hygiene in the Emergency Department</td>\n",
              "      <td>http://doi.org/10.1016/j.jen.2007.01.013</td>\n",
              "      <td>None</td>\n",
              "      <td>NaN</td>\n",
              "      <td>els-covid</td>\n",
              "      <td>The emergency department (ED) is an essential ...</td>\n",
              "      <td>2007-04-30</td>\n",
              "      <td>Rothman, Richard E.; Irvin, Charlene B.; Moran...</td>\n",
              "      <td>Journal of Emergency Nursing</td>\n",
              "      <td>NaN</td>\n",
              "      <td>None</td>\n",
              "      <td>True</td>\n",
              "      <td>custom_license</td>\n",
              "      <td>https://doi.org/10.1016/j.jen.2007.01.013</td>\n",
              "      <td>268</td>\n",
              "      <td>The emergency department (ED) is an essential ...</td>\n",
              "      <td>[0.1255655736, -0.0718322024, -0.2435592711, 0...</td>\n",
              "      <td>41.528198</td>\n",
              "    </tr>\n",
              "    <tr>\n",
              "      <th>4</th>\n",
              "      <td>qrnsmhws</td>\n",
              "      <td>c57bac4f38795dc13c7f91af3b758a0199ef3d2d</td>\n",
              "      <td>Elsevier</td>\n",
              "      <td>Respiratory Hygiene in the Emergency Department</td>\n",
              "      <td>http://doi.org/10.1016/j.annemergmed.2006.05.018</td>\n",
              "      <td>None</td>\n",
              "      <td>17052558.0</td>\n",
              "      <td>els-covid</td>\n",
              "      <td>The emergency department (ED) is an essential ...</td>\n",
              "      <td>2006-11-30</td>\n",
              "      <td>Rothman, Richard E.; Irvin, Charlene B.; Moran...</td>\n",
              "      <td>Annals of Emergency Medicine</td>\n",
              "      <td>NaN</td>\n",
              "      <td>None</td>\n",
              "      <td>True</td>\n",
              "      <td>custom_license</td>\n",
              "      <td>https://doi.org/10.1016/j.annemergmed.2006.05.018</td>\n",
              "      <td>268</td>\n",
              "      <td>The emergency department (ED) is an essential ...</td>\n",
              "      <td>[0.1255655736, -0.0718322024, -0.2435592711, 0...</td>\n",
              "      <td>41.528198</td>\n",
              "    </tr>\n",
              "    <tr>\n",
              "      <th>5</th>\n",
              "      <td>scmta88m</td>\n",
              "      <td>709e51c08788944db48106970f38cebe2b5bd596</td>\n",
              "      <td>Elsevier</td>\n",
              "      <td>Role of viral bioaerosols in nosocomial infect...</td>\n",
              "      <td>http://doi.org/10.1016/j.jaerosci.2017.11.011</td>\n",
              "      <td>PMC7094610</td>\n",
              "      <td>NaN</td>\n",
              "      <td>els-covid</td>\n",
              "      <td>Abstract The presence of patients with diverse...</td>\n",
              "      <td>2018-03-31</td>\n",
              "      <td>Bing-Yuan, ; Zhang, Yun-Hui; Leung, Nancy H.L....</td>\n",
              "      <td>Journal of Aerosol Science</td>\n",
              "      <td>NaN</td>\n",
              "      <td>None</td>\n",
              "      <td>True</td>\n",
              "      <td>custom_license</td>\n",
              "      <td>https://doi.org/10.1016/j.jaerosci.2017.11.011</td>\n",
              "      <td>284</td>\n",
              "      <td>Abstract The presence of patients with diverse...</td>\n",
              "      <td>[0.3153162003, -0.597124517, -0.1293283701, 0....</td>\n",
              "      <td>41.528847</td>\n",
              "    </tr>\n",
              "    <tr>\n",
              "      <th>6</th>\n",
              "      <td>jtu59u99</td>\n",
              "      <td>b1735d2bf2120775db46e1803d1c92023d22e60d</td>\n",
              "      <td>Elsevier</td>\n",
              "      <td>Neutrophils in respiratory syncytial virus inf...</td>\n",
              "      <td>http://doi.org/10.1016/j.jaci.2015.06.034</td>\n",
              "      <td>None</td>\n",
              "      <td>26277597.0</td>\n",
              "      <td>els-covid</td>\n",
              "      <td>Lower respiratory tract infections by respirat...</td>\n",
              "      <td>2015-10-31</td>\n",
              "      <td>Geerdink, Ruben J.; Pillay, Janesh; Meyaard, L...</td>\n",
              "      <td>Journal of Allergy and Clinical Immunology</td>\n",
              "      <td>NaN</td>\n",
              "      <td>None</td>\n",
              "      <td>True</td>\n",
              "      <td>custom_license</td>\n",
              "      <td>https://doi.org/10.1016/j.jaci.2015.06.034</td>\n",
              "      <td>193</td>\n",
              "      <td>Lower respiratory tract infections by respirat...</td>\n",
              "      <td>[0.2818259895, -0.2612119913, -0.0667543039, 0...</td>\n",
              "      <td>41.627838</td>\n",
              "    </tr>\n",
              "    <tr>\n",
              "      <th>7</th>\n",
              "      <td>qqje5s04</td>\n",
              "      <td>a5153b2d372dcbb97abc94b5bfccc309fa01c7b7</td>\n",
              "      <td>Elsevier</td>\n",
              "      <td>The role of epidermal growth factor receptor (...</td>\n",
              "      <td>http://doi.org/10.1016/j.antiviral.2017.03.022</td>\n",
              "      <td>PMC5507769</td>\n",
              "      <td>28390872.0</td>\n",
              "      <td>els-covid</td>\n",
              "      <td>Abstract Many survivors of the 2003 outbreak o...</td>\n",
              "      <td>2017-07-31</td>\n",
              "      <td>Venkataraman, Thiagarajan; Frieman, Matthew B.</td>\n",
              "      <td>Antiviral Research</td>\n",
              "      <td>NaN</td>\n",
              "      <td>None</td>\n",
              "      <td>True</td>\n",
              "      <td>custom_license</td>\n",
              "      <td>https://doi.org/10.1016/j.antiviral.2017.03.022</td>\n",
              "      <td>194</td>\n",
              "      <td>Abstract Many survivors of the 2003 outbreak o...</td>\n",
              "      <td>[0.31591942910000004, -0.341525048, 0.09793578...</td>\n",
              "      <td>41.719566</td>\n",
              "    </tr>\n",
              "    <tr>\n",
              "      <th>8</th>\n",
              "      <td>x0im3m7v</td>\n",
              "      <td>fd51530ed73c17ccd16690c0bfa046be2f360f7f</td>\n",
              "      <td>Elsevier</td>\n",
              "      <td>A systematic risk-based strategy to select per...</td>\n",
              "      <td>http://doi.org/10.1016/j.ajic.2019.06.023</td>\n",
              "      <td>None</td>\n",
              "      <td>31358421.0</td>\n",
              "      <td>els-covid</td>\n",
              "      <td>Background Personal protective equipment (PPE)...</td>\n",
              "      <td>2020-01-31</td>\n",
              "      <td>Jones, Rachael M.; Bleasdale, Susan C.; Maita,...</td>\n",
              "      <td>American Journal of Infection Control</td>\n",
              "      <td>2.964663e+09</td>\n",
              "      <td>#3682</td>\n",
              "      <td>True</td>\n",
              "      <td>custom_license</td>\n",
              "      <td>https://doi.org/10.1016/j.ajic.2019.06.023</td>\n",
              "      <td>232</td>\n",
              "      <td>Background Personal protective equipment (PPE)...</td>\n",
              "      <td>[0.4809063375, -0.20011262600000002, -0.067928...</td>\n",
              "      <td>42.360649</td>\n",
              "    </tr>\n",
              "    <tr>\n",
              "      <th>9</th>\n",
              "      <td>6l87y6jg</td>\n",
              "      <td>24874af5c599f668e87df044bd03bb2743839af2</td>\n",
              "      <td>Elsevier</td>\n",
              "      <td>Enhancement of the infectivity of SARS-CoV in ...</td>\n",
              "      <td>http://doi.org/10.1016/j.antiviral.2006.03.001</td>\n",
              "      <td>None</td>\n",
              "      <td>16621037.0</td>\n",
              "      <td>els-covid</td>\n",
              "      <td>Abstract Because of the conflicting data conce...</td>\n",
              "      <td>2006-08-31</td>\n",
              "      <td>Barnard, Dale L.; Day, Craig W.; Bailey, Kevin...</td>\n",
              "      <td>Antiviral Research</td>\n",
              "      <td>NaN</td>\n",
              "      <td>None</td>\n",
              "      <td>True</td>\n",
              "      <td>custom_license</td>\n",
              "      <td>https://doi.org/10.1016/j.antiviral.2006.03.001</td>\n",
              "      <td>307</td>\n",
              "      <td>Prior infection and passive transfer of neutra...</td>\n",
              "      <td>[0.2694769502, -0.6094094515, -0.0471549928000...</td>\n",
              "      <td>42.802670</td>\n",
              "    </tr>\n",
              "    <tr>\n",
              "      <th>10</th>\n",
              "      <td>nlq364ua</td>\n",
              "      <td>646b1368cd3353e7f6f7984eaf365ef6340753f2</td>\n",
              "      <td>Elsevier</td>\n",
              "      <td>Study of Particle Dispersion on One Bed Hospit...</td>\n",
              "      <td>http://doi.org/10.1016/j.matpr.2017.06.323</td>\n",
              "      <td>None</td>\n",
              "      <td>NaN</td>\n",
              "      <td>els-covid</td>\n",
              "      <td>Abstract Increasing concerns about the spread ...</td>\n",
              "      <td>2017-12-31</td>\n",
              "      <td>Verma, Tikendra Nath; Sahu, Arvind Kumar; Sinh...</td>\n",
              "      <td>Materials Today: Proceedings</td>\n",
              "      <td>NaN</td>\n",
              "      <td>None</td>\n",
              "      <td>True</td>\n",
              "      <td>custom_license</td>\n",
              "      <td>https://doi.org/10.1016/j.matpr.2017.06.323</td>\n",
              "      <td>133</td>\n",
              "      <td>Abstract Increasing concerns about the spread ...</td>\n",
              "      <td>[-0.1354781538, -0.06838670370000001, -0.09128...</td>\n",
              "      <td>43.405960</td>\n",
              "    </tr>\n",
              "  </tbody>\n",
              "</table>\n",
              "</div>"
            ],
            "text/plain": [
              "    cord_uid  ...   distance\n",
              "0   53e1dyuz  ...   0.000000\n",
              "1   sl6gsjz4  ...  32.038342\n",
              "2   cpaucz01  ...  36.113152\n",
              "3   eqq7k4pz  ...  41.528198\n",
              "4   qrnsmhws  ...  41.528198\n",
              "5   scmta88m  ...  41.528847\n",
              "6   jtu59u99  ...  41.627838\n",
              "7   qqje5s04  ...  41.719566\n",
              "8   x0im3m7v  ...  42.360649\n",
              "9   6l87y6jg  ...  42.802670\n",
              "10  nlq364ua  ...  43.405960\n",
              "\n",
              "[11 rows x 21 columns]"
            ]
          },
          "metadata": {
            "tags": []
          },
          "execution_count": 65
        }
      ]
    },
    {
      "cell_type": "code",
      "metadata": {
        "id": "ipO1u_WGQJL4",
        "colab_type": "code",
        "outputId": "bcb5def0-0a5f-43eb-ae7a-bd9873ae5ae7",
        "colab": {
          "base_uri": "https://localhost:8080/",
          "height": 204
        }
      },
      "source": [
        "top10_similar['title'].tolist()"
      ],
      "execution_count": 0,
      "outputs": [
        {
          "output_type": "execute_result",
          "data": {
            "text/plain": [
              "['Dispersal of Respiratory Droplets With Open vs Closed Oxygen Delivery Masks Implications for the Transmission of Severe Acute Respiratory Syndrome',\n",
              " 'Transmission of communicable respiratory infections and facemasks',\n",
              " 'Infection control for SARS in a tertiary neonatal centre',\n",
              " 'Respiratory Hygiene in the Emergency Department',\n",
              " 'Respiratory Hygiene in the Emergency Department',\n",
              " 'Role of viral bioaerosols in nosocomial infections and measures for prevention and control',\n",
              " 'Neutrophils in respiratory syncytial virus infection: A target for asthma prevention',\n",
              " 'The role of epidermal growth factor receptor (EGFR) signaling in SARS coronavirus-induced pulmonary fibrosis',\n",
              " 'A systematic risk-based strategy to select personal protective equipment for infectious diseases',\n",
              " 'Enhancement of the infectivity of SARS-CoV in BALB/c mice by IMP dehydrogenase inhibitors, including ribavirin',\n",
              " 'Study of Particle Dispersion on One Bed Hospital using Computational Fluid Dynamics']"
            ]
          },
          "metadata": {
            "tags": []
          },
          "execution_count": 66
        }
      ]
    },
    {
      "cell_type": "code",
      "metadata": {
        "id": "vPRB51p3tds3",
        "colab_type": "code",
        "colab": {}
      },
      "source": [
        "top10_similar.to_csv(local_dir/'FaissOutputs'/'ppe.csv', index=False)"
      ],
      "execution_count": 0,
      "outputs": []
    },
    {
      "cell_type": "markdown",
      "metadata": {
        "id": "DsiRWa9UhGe3",
        "colab_type": "text"
      },
      "source": [
        "## K-means clustering"
      ]
    },
    {
      "cell_type": "code",
      "metadata": {
        "id": "0WWd1ijGa5G4",
        "colab_type": "code",
        "outputId": "b6647647-a8fc-41e0-8605-35430508a38c",
        "colab": {
          "base_uri": "https://localhost:8080/",
          "height": 34
        }
      },
      "source": [
        "# train kmeans to locate centroids in vector space\n",
        "ncentroids = 10 #assuming there're 10 clusters \n",
        "niter = 20\n",
        "verbose = True\n",
        "d = xb.shape[1]\n",
        "kmeans = faiss.Kmeans(d, ncentroids, niter=niter, verbose=verbose)\n",
        "kmeans.train(xb)"
      ],
      "execution_count": 0,
      "outputs": [
        {
          "output_type": "execute_result",
          "data": {
            "text/plain": [
              "539.678955078125"
            ]
          },
          "metadata": {
            "tags": []
          },
          "execution_count": 136
        }
      ]
    },
    {
      "cell_type": "code",
      "metadata": {
        "id": "3glGZFevhzr8",
        "colab_type": "code",
        "outputId": "9d9b0f97-f911-41be-88cb-b0517e3174bf",
        "colab": {
          "base_uri": "https://localhost:8080/",
          "height": 34
        }
      },
      "source": [
        "kmeans.centroids.shape #(ncentroids, d)"
      ],
      "execution_count": 0,
      "outputs": [
        {
          "output_type": "execute_result",
          "data": {
            "text/plain": [
              "(10, 200)"
            ]
          },
          "metadata": {
            "tags": []
          },
          "execution_count": 137
        }
      ]
    },
    {
      "cell_type": "code",
      "metadata": {
        "id": "WxY3G6bbhgBx",
        "colab_type": "code",
        "colab": {}
      },
      "source": [
        "# locate the nearest centroid to each vector (abstract)\n",
        "Dk, Ik = kmeans.index.search(xb, 1)"
      ],
      "execution_count": 0,
      "outputs": []
    },
    {
      "cell_type": "code",
      "metadata": {
        "id": "7SRMAb86io1Y",
        "colab_type": "code",
        "colab": {}
      },
      "source": [
        "# reverse operation to find 20 nearest articles to the centroids (n=10)\n",
        "index = faiss.IndexFlatL2(d)\n",
        "index.add (xb)\n",
        "D, I = index.search(kmeans.centroids, 20)"
      ],
      "execution_count": 0,
      "outputs": []
    },
    {
      "cell_type": "code",
      "metadata": {
        "id": "OtuVNy-BjPMz",
        "colab_type": "code",
        "outputId": "c279ef0c-dcef-43ca-be6e-e663c673d76c",
        "colab": {
          "base_uri": "https://localhost:8080/",
          "height": 34
        }
      },
      "source": [
        "I.shape"
      ],
      "execution_count": 0,
      "outputs": [
        {
          "output_type": "execute_result",
          "data": {
            "text/plain": [
              "(10, 20)"
            ]
          },
          "metadata": {
            "tags": []
          },
          "execution_count": 140
        }
      ]
    },
    {
      "cell_type": "code",
      "metadata": {
        "id": "-rEwfZPdjt8H",
        "colab_type": "code",
        "outputId": "feaf5997-b961-4a51-84a0-6d3a2b43cda3",
        "colab": {
          "base_uri": "https://localhost:8080/",
          "height": 1000
        }
      },
      "source": [
        "for i in range(I.shape[0]):\n",
        "  print('Cluster {}:'.format(i+1))\n",
        "  for j, title in enumerate(full_text.loc[I[i],'title']):\n",
        "    print(j+1, title)\n",
        "  print()\n"
      ],
      "execution_count": 0,
      "outputs": [
        {
          "output_type": "stream",
          "text": [
            "Cluster 1:\n",
            "1 Inflammatory Lung Disease O.12.1 From SARS and avian flu to swine flu\n",
            "2 Middle East Respiratory Syndrome\n",
            "3 Host susceptibility to severe COVID-19 and establishment of a host risk score: findings of 487 cases outside Wuhan\n",
            "4 Commentary Middle East respiratory syndrome coronavirus infection control: The missing piece?\n",
            "5 TITLE PAGE Clinical features and laboratory inspection of novel coronavirus pneumonia (COVID-19) in Xiangyang, Hubei\n",
            "6 \n",
            "7 Clinical considerations for patients with diabetes in times of COVID-19 epidemic\n",
            "8 Combining Clinical and Epidemiologic Features for Early Recognition of SARS PERSPECTIVE CLINICAL STUDIES\n",
            "9 Deep learning Enables Accurate Diagnosis of Novel Coronavirus (COVID-19) with CT images\n",
            "10 Estimation Of Direct Medical Costs Of Middle East Respiratory Syndrome Coronavirus Infection: A Single-Center Retrospective Chart Review Study\n",
            "11 viruses Perspective Potential Maternal and Infant Outcomes from Coronavirus 2019-nCoV (SARS-CoV-2) Infecting Pregnant Women: Lessons from SARS, MERS, and Other Human Coronavirus Infections\n",
            "12 causes of fever in Gabonese children: a cross-sectional hospital- based study\n",
            "13 Resource impact of managing suspected Middle East respiratory syndrome patients in a UK teaching hospital\n",
            "14 COVID-19 R0: Magic number or conundrum?\n",
            "15 \n",
            "16 Modelling the epidemic 2019-nCoV event in Italy: a preliminary note\n",
            "17 \n",
            "18 Conflicts of interest\n",
            "19 Journal Pre-proof Effects of progressive muscle relaxation on anxiety and sleep quality in patients with COVID-19 Effects of progressive muscle relaxation on anxiety and sleep quality in patients with COVID-19\n",
            "20 Coronavirus (COVID-19) outbreak: what the department of endoscopy should know\n",
            "\n",
            "Cluster 2:\n",
            "1 \n",
            "2 N-Methylation as a Strategy for Enhancing the Affinity and Selectivity of RNA-binding Peptides: Application to the HIV-1 Frameshift-Stimulating RNA\n",
            "3 PTB Binds to the 3' Untranslated Region of the Human Astrovirus Type 8: A Possible Role in Viral Replication\n",
            "4 Identification of two mutation sites in spike and envelope proteins mediating optimal cellular infection of porcine epidemic diarrhea virus from different pathways\n",
            "5 Function of the RNA Coliphage Qβ Proteins in Medical In Vitro Evolution\n",
            "6 Structural Optimization and De Novo Design of Dengue Virus Entry Inhibitory Peptides\n",
            "7 The Disulfide Bonds in Glycoprotein E2 of Hepatitis C Virus Reveal the Tertiary Organization of the Molecule\n",
            "8 Characterization of the African Swine Fever Virus Decapping Enzyme during Infection\n",
            "9 Biochemical and Structural Insights into the Preference of Nairoviral DeISGylases for Interferon-Stimulated Gene Product 15 Originating from Certain Species\n",
            "10 In Situ Tagged nsp15 Reveals Interactions with Coronavirus Replication/Transcription Complex- Associated Proteins\n",
            "11 Amino Terminal Region of Dengue Virus NS4A Cytosolic Domain Binds to Highly Curved Liposomes\n",
            "12 Analysis of multimerization of the SARS coronavirus nucleocapsid protein\n",
            "13 Characterisation of the transcriptome and proteome of SARS-CoV-2 using direct RNA sequencing and tandem mass spectrometry reveals evidence for a cell passage induced in-frame deletion in the spike glycoprotein that removes the furin-like cleavage site\n",
            "14 The SARS-Unique Domain (SUD) of SARS Coronavirus Contains Two Macrodomains That Bind G-Quadruplexes\n",
            "15 Yeast-based assays for the high-throughput screening of inhibitors of coronavirus RNA cap guanine-N7-methyltransferase\n",
            "16 Production of Recombinant EAV with Tagged Structural Protein Gp3 to Study Artervirus Minor Protein Localization in Infected Cells\n",
            "17 UBXN1 interacts with the S1 protein of transmissible gastroenteritis coronavirus and plays a role in viral replication\n",
            "18 The SARS-CoV Fusion Peptide Forms an Extended Bipartite Fusion Platform that Perturbs Membrane Order in a Calcium- Dependent Manner\n",
            "19 OASes and STING: Adaptive Evolution in Concert\n",
            "20 Protein Synthesis Chemical Synthesis of the Highly Hydrophobic Antiviral Membrane- Associated Protein IFITM3 and Modified Variants Communications\n",
            "\n",
            "Cluster 3:\n",
            "1 A Mouse Model for Betacoronavirus Subgroup 2c Using a Bat Coronavirus Strain HKU5 Variant\n",
            "2 Phylogenetic analysis of avian infectious bronchitis virus strains isolated in Japan Brief Report\n",
            "3 REVIEW RUMINANT PESTIVIRUSES\n",
            "4 Review Molecular Diagnosis of Severe Acute Respiratory Syndrome The State of the Art\n",
            "5 Memory T cell responses targeting the SARS coronavirus persist up to 11 years post-infection\n",
            "6 Evidence of transmission and risk factors for influenza A virus in household dogs and their owners\n",
            "7 Discovery of a novel swine enteric alphacoronavirus (SeACoV) in southern China\n",
            "8 Comment\n",
            "9 Comment\n",
            "10 MERS-coronavirus replication induces severe in vitro cytopathology and is strongly inhibited by cyclosporin A or interferon-a treatment\n",
            "11 Porcine deltacoronavirus infection: Etiology, cell culture for virus isolation and propagation, molecular epidemiology and pathogenesis\n",
            "12 Distribution of antibodies against influenza virus in pigs from farrow-to-finish farms in Minas Gerais state, Brazil\n",
            "13 \n",
            "14 MOLECULAR BIOLOGY OF BOVINE VIRAL DIARRHEA VIRUS AND ITS INTERACTIONS WITH THE HOST\n",
            "15 A Reverse Genetics Platform That Spans the Zika Virus Family Tree\n",
            "16 A Novel Antiviral Strategy against MERS-CoV and HCoV-229E Using Binase to Target Viral Genome Replication\n",
            "17 Identification and molecular characterization of a novel serotype infectious bronchitis virus (GI-28) in China\n",
            "18 \n",
            "19 Identification of a novel recombinant virulent avian infectious bronchitis virus\n",
            "20 a section of the journal Frontiers in Microbiology Isolation and Identification of Porcine Epidemic Diarrhea Virus and Its Effect on Host Natural Immune Response\n",
            "\n",
            "Cluster 4:\n",
            "1 interferon Lambda: Modulating immunity in infectious Diseases\n",
            "2 Blockade of the C5a-C5aR axis alleviates lung damage in hDPP4-transgenic mice infected with MERS-CoV\n",
            "3 Comparative proteomic analysis reveals different responses in porcine lymph nodes to virulent and attenuated homologous African swine fever virus strains\n",
            "4 Ability of Recombinant Human Catalase to Suppress Inflammation of the Murine Lung Induced by Influenza A\n",
            "5 Dynamic Innate Immune Responses of Human Bronchial Epithelial Cells to Severe Acute Respiratory Syndrome- Associated Coronavirus Infection\n",
            "6 Establishment of Myotis myotis Cell Lines -Model for Investigation of Host-Pathogen Interaction in a Natural Host for Emerging Viruses\n",
            "7 RNA sequencing demonstrates large-scale temporal dysregulation of gene expression in stimulated macrophages derived from MHC- defined chicken haplotypes\n",
            "8 The impact of the interferon-lambda family on the innate and adaptive immune response to viral infections\n",
            "9 Review Interferon-l: Immune Functions at Barrier Surfaces and Beyond\n",
            "10 Interferon-l: Immune Functions at Barrier Surfaces and Beyond\n",
            "11 Lack of LTβR Increases Susceptibility of IPEC-J2 Cells to Porcine Epidemic Diarrhea Virus\n",
            "12 Key Role of Splenic Myeloid DCs in the IFN-ab Response to Adenoviruses In Vivo\n",
            "13 Citation: Clara Cell 10 kDa Protein Alleviates Murine Hepatitis Virus Strain 3-Induced Fulminant Hepatitis by Inhibiting Fibrinogen-Like Protein 2 Expression\n",
            "14 Elevation of Intact and Proteolytic Fragments of Acute Phase Proteins Constitutes the Earliest Systemic Antiviral Response in HIV-1 Infection\n",
            "15 Pathogenic mechanisms implicated in the intravascular coagulation in the lungs of BVDV-infected calves challenged with BHV-1\n",
            "16 Prohibitin plays a critical role in Enterovirus 71 neuropathogenesis Author summary\n",
            "17 The role of microglia in viral encephalitis: a review\n",
            "18 Functional Genomics Highlights Differential Induction of Antiviral Pathways in the Lungs of SARS-CoV-Infected Macaques\n",
            "19 Differential expression and regulation of major histocompatibility complex (MHC) products in neural and glial cells of the human fetal brain\n",
            "20 Complement Activation Contributes to Severe Acute Respiratory Syndrome Coronavirus Pathogenesis\n",
            "\n",
            "Cluster 5:\n",
            "1 \n",
            "2 ScienceDirect Compte rendu de congrès\n",
            "3 Caractéristiques des infections respiratoires basses chez les sujets âgés Characteristics of lower respiratory tract infections in the elderly\n",
            "4 Syndrome respiratoire aigu sévère: une épidémie singulière de pneumonie virale Severe acute respiratory syndrome: a singular epidemic of viral pneumonia\n",
            "5 \n",
            "6 \n",
            "7 \n",
            "8 \n",
            "9 Syndrome respiratoire aigu sévère Severe acute respiratory syndrome\n",
            "10 COMPARAISON ENTRE LE NOMBRE ET LA NATURE DES CLOSTRIDIUM FI~CAUX ET D'AUTRES FACTEURS DE RISQUE COMPARISON OF THE NUMBER AND NATURE OF FAECAL CLOSTRIDIA WITH OTHER RISK FACTORS INVOLVED IN THE INTESTINAL PATHOLOGY OF HUMAN NEWBORNS\n",
            "11 Mission ATS 2016 Actualités Maladies Respiratoires Revue des Organe Officiel de la Société de Pneumologie de Langue Française Pneumonies aiguës communautaires (PAC) de l'adulte : focus sur les PAC virales Community-acquired pneumonia: Focus on viral CAP\n",
            "12 \n",
            "13 \n",
            "14 Aspects spécifiques de la production dans le domaine des vaccins ଝ Specific aspects of vaccine manufacturing MOTS CLÉS\n",
            "15 ScienceDirect Pathologies respiratoires infectieuses : des concepts à la pratique ! Infectious respiratory diseases: From concepts to practical issues!\n",
            "16 La grippe saisonniè re Seasonal flu\n",
            "17 \n",
            "18 \n",
            "19 Affections de la rétine Retinal deseases G. Chaudieu (Docteur vétérinaire) a, *, S. Molon-Noblot (Maître de recherche) b\n",
            "20 \n",
            "\n",
            "Cluster 6:\n",
            "1 Experiences and challenges in the health protection of medical teams in the Chinese Ebola treatment center, Liberia: a qualitative study\n",
            "2 The 2014-2015 Ebola outbreak in West Africa: Hands On\n",
            "3 \n",
            "4 Ebola viral disease in West Africa: a threat to global health, economy and political stability\n",
            "5 Building Qatar severe respiratory failure ECMO program\n",
            "6 Diagnostic issues and capabilities in 48 isolation facilities in 16 European countries: data from EuroNHID surveys\n",
            "7 medicina intensiva Intensive medicine in Europe: A need\n",
            "8 Predicting support for non-pharmaceutical interventions during infectious outbreaks: a four region analysis\n",
            "9 \n",
            "10 \n",
            "11 The 2017 Oslo conference report on neglected tropical diseases and emerging/ re-emerging infectious diseases -focus on populations underserved\n",
            "12 New regulatory strategies to manage medicines shortages in Europe\n",
            "13 \n",
            "14 Mapping infectious disease hospital surge threats to lessons learnt in Singapore: a systems analysis and development of a framework to inform how to DECIDE on planning and response strategies\n",
            "15 A. Visser I Patient Education and Counseling\n",
            "16 \n",
            "17 Contrasting academic and lay press print coverage of the 2013-2016 Ebola Virus Disease outbreak\n",
            "18 Lessons learned from the 2019-nCoV epidemic on prevention of future infectious diseases\n",
            "19 Ecohealth research in Southeast Asia: past, present and the way forward\n",
            "20 Understanding nurses' dual practice: a scoping review of what we know and what we still need to ask on nurses holding multiple jobs\n",
            "\n",
            "Cluster 7:\n",
            "1 Secondary Syphilis in Cali, Colombia: New Concepts in Disease Pathogenesis\n",
            "2 Rapid detection of a highly virulent Chinese-type isolate of Porcine Reproductive and Respiratory Syndrome virus by real-time reverse transcriptase PCR\n",
            "3 Epidemiological analysis of bovine torovirus in Japan\n",
            "4 Clinical implications of rapid ePlex® Respiratory Pathogen Panel testing compared to laboratory-developed real-time PCR\n",
            "5 Prospective comparison of R-mix TM shell vial system with direct antigen tests and conventional cell culture for respiratory virus detection\n",
            "6 \n",
            "7 Molecular detection and characterisation of feline morbillivirus in domestic cats in Malaysia\n",
            "8 Epidemiology, pathological aspects and genome heterogeneity of feline morbillivirus in Italy\n",
            "9 Prevalence of porcine circovirus type 3 in pigs in the southeastern Chinese province of Zhejiang\n",
            "10 \n",
            "11 ABSTRACTS: CONCURRENT SESSIONS\n",
            "12 Comparative Serological Study for the Prevalence of Anti-MERS Coronavirus Antibodies in High-and Low-Risk Groups in Qatar\n",
            "13 Comparative Serological Study for the Prevalence of Anti-MERS Coronavirus Antibodies in High-and Low-Risk Groups in Qatar\n",
            "14 Title Page: 1 Reverse transcription loop-mediated isothermal amplification combined with 2 nanoparticles-based biosensor for diagnosis of COVID-19 3 4 Laboratory of Pediatric Respiratory Infection Disease, National Clinical Research\n",
            "15 Development of indirect enzyme-linked immunosorbent assay for detection of porcine epidemic diarrhea virus specific antibodies (IgG) in serum of naturally infected pigs\n",
            "16 Untargeted analysis of the airway proteomes of children with respiratory infections using mass spectrometry based proteomics OPEN\n",
            "17 Solvent/Detergent Virally Inactivated Serum Eye Drops Restore Healthy Ocular Epithelium in a Rabbit Model of Dry-Eye Syndrome\n",
            "18 Evaluation of inflammation and immunity in cats with spontaneous parvovirus infection: Consequences of recombinant feline interferon-v administration\n",
            "19 Equine rhinitis B viruses in horse fecal samples from the Middle East\n",
            "20 Lyophilized Matrix Containing Ready-to-Use Primers and Probe Solution for Standardization of Real-Time PCR and RT-qPCR Diagnostics in Virology\n",
            "\n",
            "Cluster 8:\n",
            "1 Evaluating performance of metagenomic characterization algorithms using in silico datasets generated with FASTQSim\n",
            "2 Title: Intrinsic growth rules of patients infected, dead and cured with 2019 novel 1 coronavirus in mainland China 2\n",
            "3 Transmission and epidemiological characteristics of Severe Acute Respiratory Syndrome Coronavirus 2 (SARS-CoV-2) infected Pneumonia (COVID-19): preliminary evidence obtained in comparison with 2003-SARS\n",
            "4 Estimating number of global importations of COVID-19 from Wuhan, risk of transmission outside mainland China and COVID-19 introduction index between countries outside mainland China\n",
            "5 Epidemiological and clinical features of 2019-nCoV acute respiratory disease cases in Chongqing municipality, China: a retrospective, descriptive, multiple-center study\n",
            "6 Thrombocytopenia is associated with severe coronavirus disease 2019 (COVID-19) infections: a meta-analysis\n",
            "7 Exposure Patterns Driving Ebola Transmission in West Africa: A Retrospective Observational Study International Ebola Response Team\n",
            "8 Spatial and Temporal Algorithm Evaluation for Detecting Over-The-Counter Thermometer Sale Increasing during 2009 H1N1 Pandemic Spatial and Temporal Algorithm Evaluation for Detecting Over-The-Counter Thermometer Sale Increases during 2009 H1N1 Pandemic\n",
            "9 \n",
            "10 \n",
            "11 \n",
            "12 Conceptualising the technical relationship of animal disease surveillance to intervention and mitigation as a basis for economic analysis\n",
            "13 The Dual Complexity of PTX3 in Health and Disease: A Balancing Act?\n",
            "14 Pulmonary Infections\n",
            "15 \n",
            "16 PATHOGEN INACTIVATION AND EMERGING PATHOGENS\n",
            "17 Journal Pre-proof Society of Cardiovascular Computed Tomography Guidance for Use of Cardiac Computed Tomography Amidst the COVID-19 Pandemic Society of Cardiovascular Computed Tomography Guidance for Use of Cardiac Computed Tomography Amidst the COVID-19 Pandemic\n",
            "18 Infectious Diseases and Agriculture\n",
            "19 \n",
            "20 \n",
            "\n",
            "Cluster 9:\n",
            "1 \n",
            "2 Origin, Genetic Diversity, and Evolutionary Dynamics of Novel Porcine Circovirus 3\n",
            "3 Metagenomic analysis of a sample from a patient with respiratory tract infection reveals the presence of a γ-papillomavirus\n",
            "4 Applications of gold nanoparticles in virus detection\n",
            "5 Genetic resistance -an alternative for controlling PRRS?\n",
            "6 iNR-Drug: Predicting the Interaction of Drugs with Nuclear Receptors in Cellular Networking\n",
            "7 Deconvoluting Virome-Wide Antiviral Antibody Profiling Data\n",
            "8 Bioaffinity detection of pathogens on surfaces\n",
            "9 pharmaceuticals Alternative Experimental Models for Studying Influenza Proteins, Host-Virus Interactions and Anti-Influenza Drugs\n",
            "10 Some remarks on protein attribute prediction and pseudo amino acid composition\n",
            "11 Evaluation of the potential incidence of COVID-19 and effectiveness of contention measures in Spain: a data-driven approach\n",
            "12 Molecular Sciences Viral Metagenomics on Blood-Feeding Arthropods as a Tool for Human Disease Surveillance\n",
            "13 Recent and future developments in the epidemiology of the infectious diseases Didier Raoult\n",
            "14 Prediction of the COVID-19 outbreak based on a realistic stochastic model\n",
            "15 The Influence Of Social Behavior On Competition Between Virulent Pathogen Strains 2\n",
            "16 Viral Genomics and Bioinformatics\n",
            "17 Contact tracing and disease control\n",
            "18 Autonomous Targeting of Infectious Superspreaders Using Engineered Transmissible Therapies\n",
            "19 Understanding Viral Transmission Behavior via Protein Intrinsic Disorder Prediction: Coronaviruses\n",
            "20 MERS coronavirus: Data gaps for laboratory preparedness\n",
            "\n",
            "Cluster 10:\n",
            "1 Antimicrobial dosing considerations in obese adult patients\n",
            "2 Yersinia enterocolitica Infection Hyperthermia Overnourishing of Adolescent Ewes Locoweed Toxicity Lambing Management and Neonatal Care PRELAMBING MANAGEMENT OF PREGNANT EWES Midgestation\n",
            "3 \n",
            "4 \n",
            "5 Studies on Calf Diarrhoea in Mozambique: Prevalence of Bacterial Pathogens\n",
            "6 \n",
            "7 Autoantibodies in salivary hypofunction in the NOD mouse\n",
            "8 35 PROPAGATION OF BOVINE ROTAVIRUS BY YOUNG DOGS\n",
            "9 \n",
            "10 Travelers' Actual and Subjective Knowledge about Risk for Ebola Virus Disease\n",
            "11 \n",
            "12 CHARACTERIZATION OF ROTAVIRUSES ISOLATED FROM PIGS WITH DIARRHOEA IN VENEZUELA\n",
            "13 Winter Dysentery of Adult Cattle Virus\n",
            "14 Studies on Bovine Breda Virus\n",
            "15 \n",
            "16 \n",
            "17 An early report from newly established laboratory- based influenza surveillance in Lao PDR\n",
            "18 Prevalence of enteropathogens and their antibiotic sensitivity pattern in puppies with hemorrhagic gastroenteritis\n",
            "19 \n",
            "20 Comment 106 www\n",
            "\n"
          ],
          "name": "stdout"
        }
      ]
    },
    {
      "cell_type": "code",
      "metadata": {
        "id": "hErnhmV1kFyR",
        "colab_type": "code",
        "colab": {}
      },
      "source": [
        ""
      ],
      "execution_count": 0,
      "outputs": []
    }
  ]
}